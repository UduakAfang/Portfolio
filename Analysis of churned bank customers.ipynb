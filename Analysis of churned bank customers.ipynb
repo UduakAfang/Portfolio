{
    "metadata": {
        "kernelspec": {
            "name": "SQL",
            "display_name": "SQL",
            "language": "sql"
        },
        "language_info": {
            "name": "sql",
            "version": ""
        }
    },
    "nbformat_minor": 2,
    "nbformat": 4,
    "cells": [
        {
            "cell_type": "code",
            "source": [
                "-- A brief look at the data\r\n",
                "SELECT TOP 20 *\r\n",
                "FROM BankChurners"
            ],
            "metadata": {
                "azdata_cell_guid": "aaba930e-f072-411b-8209-073a36a9f1b5",
                "language": "sql",
                "tags": []
            },
            "outputs": [
                {
                    "output_type": "display_data",
                    "data": {
                        "text/html": "(20 rows affected)"
                    },
                    "metadata": {}
                },
                {
                    "output_type": "display_data",
                    "data": {
                        "text/html": "Total execution time: 00:00:00.122"
                    },
                    "metadata": {}
                },
                {
                    "output_type": "execute_result",
                    "metadata": {},
                    "execution_count": 17,
                    "data": {
                        "application/vnd.dataresource+json": {
                            "schema": {
                                "fields": [
                                    {
                                        "name": "CLIENTNUM"
                                    },
                                    {
                                        "name": "Attrition_Flag"
                                    },
                                    {
                                        "name": "Customer_Age"
                                    },
                                    {
                                        "name": "Gender"
                                    },
                                    {
                                        "name": "Dependent_count"
                                    },
                                    {
                                        "name": "Education_Level"
                                    },
                                    {
                                        "name": "Marital_Status"
                                    },
                                    {
                                        "name": "Income_Category"
                                    },
                                    {
                                        "name": "Card_Category"
                                    },
                                    {
                                        "name": "Months_on_book"
                                    },
                                    {
                                        "name": "Total_Relationship_Count"
                                    },
                                    {
                                        "name": "Months_Inactive_12_mon"
                                    },
                                    {
                                        "name": "Contacts_Count_12_mon"
                                    },
                                    {
                                        "name": "Credit_Limit"
                                    },
                                    {
                                        "name": "Total_Revolving_Bal"
                                    },
                                    {
                                        "name": "Avg_Open_To_Buy"
                                    },
                                    {
                                        "name": "Total_Amt_Chng_Q4_Q1"
                                    },
                                    {
                                        "name": "Total_Trans_Amt"
                                    },
                                    {
                                        "name": "Total_Trans_Ct"
                                    },
                                    {
                                        "name": "Total_Ct_Chng_Q4_Q1"
                                    },
                                    {
                                        "name": "Avg_Utilization_Ratio"
                                    }
                                ]
                            },
                            "data": [
                                {
                                    "CLIENTNUM": "768805383",
                                    "Attrition_Flag": "Existing Customer",
                                    "Customer_Age": "45",
                                    "Gender": "M",
                                    "Dependent_count": "3",
                                    "Education_Level": "High School",
                                    "Marital_Status": "Married",
                                    "Income_Category": "$60K - $80K",
                                    "Card_Category": "Blue",
                                    "Months_on_book": "39",
                                    "Total_Relationship_Count": "5",
                                    "Months_Inactive_12_mon": "1",
                                    "Contacts_Count_12_mon": "3",
                                    "Credit_Limit": "12691",
                                    "Total_Revolving_Bal": "777",
                                    "Avg_Open_To_Buy": "11914",
                                    "Total_Amt_Chng_Q4_Q1": "1.335",
                                    "Total_Trans_Amt": "1144",
                                    "Total_Trans_Ct": "42",
                                    "Total_Ct_Chng_Q4_Q1": "1.625",
                                    "Avg_Utilization_Ratio": "0.061"
                                },
                                {
                                    "CLIENTNUM": "818770008",
                                    "Attrition_Flag": "Existing Customer",
                                    "Customer_Age": "49",
                                    "Gender": "F",
                                    "Dependent_count": "5",
                                    "Education_Level": "Graduate",
                                    "Marital_Status": "Single",
                                    "Income_Category": "Less than $40K",
                                    "Card_Category": "Blue",
                                    "Months_on_book": "44",
                                    "Total_Relationship_Count": "6",
                                    "Months_Inactive_12_mon": "1",
                                    "Contacts_Count_12_mon": "2",
                                    "Credit_Limit": "8256",
                                    "Total_Revolving_Bal": "864",
                                    "Avg_Open_To_Buy": "7392",
                                    "Total_Amt_Chng_Q4_Q1": "1.541",
                                    "Total_Trans_Amt": "1291",
                                    "Total_Trans_Ct": "33",
                                    "Total_Ct_Chng_Q4_Q1": "3.714",
                                    "Avg_Utilization_Ratio": "0.105"
                                },
                                {
                                    "CLIENTNUM": "713982108",
                                    "Attrition_Flag": "Existing Customer",
                                    "Customer_Age": "51",
                                    "Gender": "M",
                                    "Dependent_count": "3",
                                    "Education_Level": "Graduate",
                                    "Marital_Status": "Married",
                                    "Income_Category": "$80K - $120K",
                                    "Card_Category": "Blue",
                                    "Months_on_book": "36",
                                    "Total_Relationship_Count": "4",
                                    "Months_Inactive_12_mon": "1",
                                    "Contacts_Count_12_mon": "0",
                                    "Credit_Limit": "3418",
                                    "Total_Revolving_Bal": "0",
                                    "Avg_Open_To_Buy": "3418",
                                    "Total_Amt_Chng_Q4_Q1": "2.594",
                                    "Total_Trans_Amt": "1887",
                                    "Total_Trans_Ct": "20",
                                    "Total_Ct_Chng_Q4_Q1": "2.333",
                                    "Avg_Utilization_Ratio": "0"
                                },
                                {
                                    "CLIENTNUM": "769911858",
                                    "Attrition_Flag": "Existing Customer",
                                    "Customer_Age": "40",
                                    "Gender": "F",
                                    "Dependent_count": "4",
                                    "Education_Level": "High School",
                                    "Marital_Status": "Unknown",
                                    "Income_Category": "Less than $40K",
                                    "Card_Category": "Blue",
                                    "Months_on_book": "34",
                                    "Total_Relationship_Count": "3",
                                    "Months_Inactive_12_mon": "4",
                                    "Contacts_Count_12_mon": "1",
                                    "Credit_Limit": "3313",
                                    "Total_Revolving_Bal": "2517",
                                    "Avg_Open_To_Buy": "796",
                                    "Total_Amt_Chng_Q4_Q1": "1.405",
                                    "Total_Trans_Amt": "1171",
                                    "Total_Trans_Ct": "20",
                                    "Total_Ct_Chng_Q4_Q1": "2.333",
                                    "Avg_Utilization_Ratio": "0.76"
                                },
                                {
                                    "CLIENTNUM": "709106358",
                                    "Attrition_Flag": "Existing Customer",
                                    "Customer_Age": "40",
                                    "Gender": "M",
                                    "Dependent_count": "3",
                                    "Education_Level": "Uneducated",
                                    "Marital_Status": "Married",
                                    "Income_Category": "$60K - $80K",
                                    "Card_Category": "Blue",
                                    "Months_on_book": "21",
                                    "Total_Relationship_Count": "5",
                                    "Months_Inactive_12_mon": "1",
                                    "Contacts_Count_12_mon": "0",
                                    "Credit_Limit": "4716",
                                    "Total_Revolving_Bal": "0",
                                    "Avg_Open_To_Buy": "4716",
                                    "Total_Amt_Chng_Q4_Q1": "2.175",
                                    "Total_Trans_Amt": "816",
                                    "Total_Trans_Ct": "28",
                                    "Total_Ct_Chng_Q4_Q1": "2.5",
                                    "Avg_Utilization_Ratio": "0"
                                },
                                {
                                    "CLIENTNUM": "713061558",
                                    "Attrition_Flag": "Existing Customer",
                                    "Customer_Age": "44",
                                    "Gender": "M",
                                    "Dependent_count": "2",
                                    "Education_Level": "Graduate",
                                    "Marital_Status": "Married",
                                    "Income_Category": "$40K - $60K",
                                    "Card_Category": "Blue",
                                    "Months_on_book": "36",
                                    "Total_Relationship_Count": "3",
                                    "Months_Inactive_12_mon": "1",
                                    "Contacts_Count_12_mon": "2",
                                    "Credit_Limit": "4010",
                                    "Total_Revolving_Bal": "1247",
                                    "Avg_Open_To_Buy": "2763",
                                    "Total_Amt_Chng_Q4_Q1": "1.376",
                                    "Total_Trans_Amt": "1088",
                                    "Total_Trans_Ct": "24",
                                    "Total_Ct_Chng_Q4_Q1": "0.846",
                                    "Avg_Utilization_Ratio": "0.311"
                                },
                                {
                                    "CLIENTNUM": "810347208",
                                    "Attrition_Flag": "Existing Customer",
                                    "Customer_Age": "51",
                                    "Gender": "M",
                                    "Dependent_count": "4",
                                    "Education_Level": "Unknown",
                                    "Marital_Status": "Married",
                                    "Income_Category": "$120K +",
                                    "Card_Category": "Gold",
                                    "Months_on_book": "46",
                                    "Total_Relationship_Count": "6",
                                    "Months_Inactive_12_mon": "1",
                                    "Contacts_Count_12_mon": "3",
                                    "Credit_Limit": "34516",
                                    "Total_Revolving_Bal": "2264",
                                    "Avg_Open_To_Buy": "32252",
                                    "Total_Amt_Chng_Q4_Q1": "1.975",
                                    "Total_Trans_Amt": "1330",
                                    "Total_Trans_Ct": "31",
                                    "Total_Ct_Chng_Q4_Q1": "0.722",
                                    "Avg_Utilization_Ratio": "0.066"
                                },
                                {
                                    "CLIENTNUM": "818906208",
                                    "Attrition_Flag": "Existing Customer",
                                    "Customer_Age": "32",
                                    "Gender": "M",
                                    "Dependent_count": "0",
                                    "Education_Level": "High School",
                                    "Marital_Status": "Unknown",
                                    "Income_Category": "$60K - $80K",
                                    "Card_Category": "Silver",
                                    "Months_on_book": "27",
                                    "Total_Relationship_Count": "2",
                                    "Months_Inactive_12_mon": "2",
                                    "Contacts_Count_12_mon": "2",
                                    "Credit_Limit": "29081",
                                    "Total_Revolving_Bal": "1396",
                                    "Avg_Open_To_Buy": "27685",
                                    "Total_Amt_Chng_Q4_Q1": "2.204",
                                    "Total_Trans_Amt": "1538",
                                    "Total_Trans_Ct": "36",
                                    "Total_Ct_Chng_Q4_Q1": "0.714",
                                    "Avg_Utilization_Ratio": "0.048"
                                },
                                {
                                    "CLIENTNUM": "710930508",
                                    "Attrition_Flag": "Existing Customer",
                                    "Customer_Age": "37",
                                    "Gender": "M",
                                    "Dependent_count": "3",
                                    "Education_Level": "Uneducated",
                                    "Marital_Status": "Single",
                                    "Income_Category": "$60K - $80K",
                                    "Card_Category": "Blue",
                                    "Months_on_book": "36",
                                    "Total_Relationship_Count": "5",
                                    "Months_Inactive_12_mon": "2",
                                    "Contacts_Count_12_mon": "0",
                                    "Credit_Limit": "22352",
                                    "Total_Revolving_Bal": "2517",
                                    "Avg_Open_To_Buy": "19835",
                                    "Total_Amt_Chng_Q4_Q1": "3.355",
                                    "Total_Trans_Amt": "1350",
                                    "Total_Trans_Ct": "24",
                                    "Total_Ct_Chng_Q4_Q1": "1.182",
                                    "Avg_Utilization_Ratio": "0.113"
                                },
                                {
                                    "CLIENTNUM": "719661558",
                                    "Attrition_Flag": "Existing Customer",
                                    "Customer_Age": "48",
                                    "Gender": "M",
                                    "Dependent_count": "2",
                                    "Education_Level": "Graduate",
                                    "Marital_Status": "Single",
                                    "Income_Category": "$80K - $120K",
                                    "Card_Category": "Blue",
                                    "Months_on_book": "36",
                                    "Total_Relationship_Count": "6",
                                    "Months_Inactive_12_mon": "3",
                                    "Contacts_Count_12_mon": "3",
                                    "Credit_Limit": "11656",
                                    "Total_Revolving_Bal": "1677",
                                    "Avg_Open_To_Buy": "9979",
                                    "Total_Amt_Chng_Q4_Q1": "1.524",
                                    "Total_Trans_Amt": "1441",
                                    "Total_Trans_Ct": "32",
                                    "Total_Ct_Chng_Q4_Q1": "0.882",
                                    "Avg_Utilization_Ratio": "0.144"
                                },
                                {
                                    "CLIENTNUM": "708790833",
                                    "Attrition_Flag": "Existing Customer",
                                    "Customer_Age": "42",
                                    "Gender": "M",
                                    "Dependent_count": "5",
                                    "Education_Level": "Uneducated",
                                    "Marital_Status": "Unknown",
                                    "Income_Category": "$120K +",
                                    "Card_Category": "Blue",
                                    "Months_on_book": "31",
                                    "Total_Relationship_Count": "5",
                                    "Months_Inactive_12_mon": "3",
                                    "Contacts_Count_12_mon": "2",
                                    "Credit_Limit": "6748",
                                    "Total_Revolving_Bal": "1467",
                                    "Avg_Open_To_Buy": "5281",
                                    "Total_Amt_Chng_Q4_Q1": "0.831",
                                    "Total_Trans_Amt": "1201",
                                    "Total_Trans_Ct": "42",
                                    "Total_Ct_Chng_Q4_Q1": "0.68",
                                    "Avg_Utilization_Ratio": "0.217"
                                },
                                {
                                    "CLIENTNUM": "710821833",
                                    "Attrition_Flag": "Existing Customer",
                                    "Customer_Age": "65",
                                    "Gender": "M",
                                    "Dependent_count": "1",
                                    "Education_Level": "Unknown",
                                    "Marital_Status": "Married",
                                    "Income_Category": "$40K - $60K",
                                    "Card_Category": "Blue",
                                    "Months_on_book": "54",
                                    "Total_Relationship_Count": "6",
                                    "Months_Inactive_12_mon": "2",
                                    "Contacts_Count_12_mon": "3",
                                    "Credit_Limit": "9095",
                                    "Total_Revolving_Bal": "1587",
                                    "Avg_Open_To_Buy": "7508",
                                    "Total_Amt_Chng_Q4_Q1": "1.433",
                                    "Total_Trans_Amt": "1314",
                                    "Total_Trans_Ct": "26",
                                    "Total_Ct_Chng_Q4_Q1": "1.364",
                                    "Avg_Utilization_Ratio": "0.174"
                                },
                                {
                                    "CLIENTNUM": "710599683",
                                    "Attrition_Flag": "Existing Customer",
                                    "Customer_Age": "56",
                                    "Gender": "M",
                                    "Dependent_count": "1",
                                    "Education_Level": "College",
                                    "Marital_Status": "Single",
                                    "Income_Category": "$80K - $120K",
                                    "Card_Category": "Blue",
                                    "Months_on_book": "36",
                                    "Total_Relationship_Count": "3",
                                    "Months_Inactive_12_mon": "6",
                                    "Contacts_Count_12_mon": "0",
                                    "Credit_Limit": "11751",
                                    "Total_Revolving_Bal": "0",
                                    "Avg_Open_To_Buy": "11751",
                                    "Total_Amt_Chng_Q4_Q1": "3.397",
                                    "Total_Trans_Amt": "1539",
                                    "Total_Trans_Ct": "17",
                                    "Total_Ct_Chng_Q4_Q1": "3.25",
                                    "Avg_Utilization_Ratio": "0"
                                },
                                {
                                    "CLIENTNUM": "816082233",
                                    "Attrition_Flag": "Existing Customer",
                                    "Customer_Age": "35",
                                    "Gender": "M",
                                    "Dependent_count": "3",
                                    "Education_Level": "Graduate",
                                    "Marital_Status": "Unknown",
                                    "Income_Category": "$60K - $80K",
                                    "Card_Category": "Blue",
                                    "Months_on_book": "30",
                                    "Total_Relationship_Count": "5",
                                    "Months_Inactive_12_mon": "1",
                                    "Contacts_Count_12_mon": "3",
                                    "Credit_Limit": "8547",
                                    "Total_Revolving_Bal": "1666",
                                    "Avg_Open_To_Buy": "6881",
                                    "Total_Amt_Chng_Q4_Q1": "1.163",
                                    "Total_Trans_Amt": "1311",
                                    "Total_Trans_Ct": "33",
                                    "Total_Ct_Chng_Q4_Q1": "2",
                                    "Avg_Utilization_Ratio": "0.195"
                                },
                                {
                                    "CLIENTNUM": "712396908",
                                    "Attrition_Flag": "Existing Customer",
                                    "Customer_Age": "57",
                                    "Gender": "F",
                                    "Dependent_count": "2",
                                    "Education_Level": "Graduate",
                                    "Marital_Status": "Married",
                                    "Income_Category": "Less than $40K",
                                    "Card_Category": "Blue",
                                    "Months_on_book": "48",
                                    "Total_Relationship_Count": "5",
                                    "Months_Inactive_12_mon": "2",
                                    "Contacts_Count_12_mon": "2",
                                    "Credit_Limit": "2436",
                                    "Total_Revolving_Bal": "680",
                                    "Avg_Open_To_Buy": "1756",
                                    "Total_Amt_Chng_Q4_Q1": "1.19",
                                    "Total_Trans_Amt": "1570",
                                    "Total_Trans_Ct": "29",
                                    "Total_Ct_Chng_Q4_Q1": "0.611",
                                    "Avg_Utilization_Ratio": "0.279"
                                },
                                {
                                    "CLIENTNUM": "714885258",
                                    "Attrition_Flag": "Existing Customer",
                                    "Customer_Age": "44",
                                    "Gender": "M",
                                    "Dependent_count": "4",
                                    "Education_Level": "Unknown",
                                    "Marital_Status": "Unknown",
                                    "Income_Category": "$80K - $120K",
                                    "Card_Category": "Blue",
                                    "Months_on_book": "37",
                                    "Total_Relationship_Count": "5",
                                    "Months_Inactive_12_mon": "1",
                                    "Contacts_Count_12_mon": "2",
                                    "Credit_Limit": "4234",
                                    "Total_Revolving_Bal": "972",
                                    "Avg_Open_To_Buy": "3262",
                                    "Total_Amt_Chng_Q4_Q1": "1.707",
                                    "Total_Trans_Amt": "1348",
                                    "Total_Trans_Ct": "27",
                                    "Total_Ct_Chng_Q4_Q1": "1.7",
                                    "Avg_Utilization_Ratio": "0.23"
                                },
                                {
                                    "CLIENTNUM": "709967358",
                                    "Attrition_Flag": "Existing Customer",
                                    "Customer_Age": "48",
                                    "Gender": "M",
                                    "Dependent_count": "4",
                                    "Education_Level": "Post-Graduate",
                                    "Marital_Status": "Single",
                                    "Income_Category": "$80K - $120K",
                                    "Card_Category": "Blue",
                                    "Months_on_book": "36",
                                    "Total_Relationship_Count": "6",
                                    "Months_Inactive_12_mon": "2",
                                    "Contacts_Count_12_mon": "3",
                                    "Credit_Limit": "30367",
                                    "Total_Revolving_Bal": "2362",
                                    "Avg_Open_To_Buy": "28005",
                                    "Total_Amt_Chng_Q4_Q1": "1.708",
                                    "Total_Trans_Amt": "1671",
                                    "Total_Trans_Ct": "27",
                                    "Total_Ct_Chng_Q4_Q1": "0.929",
                                    "Avg_Utilization_Ratio": "0.078"
                                },
                                {
                                    "CLIENTNUM": "753327333",
                                    "Attrition_Flag": "Existing Customer",
                                    "Customer_Age": "41",
                                    "Gender": "M",
                                    "Dependent_count": "3",
                                    "Education_Level": "Unknown",
                                    "Marital_Status": "Married",
                                    "Income_Category": "$80K - $120K",
                                    "Card_Category": "Blue",
                                    "Months_on_book": "34",
                                    "Total_Relationship_Count": "4",
                                    "Months_Inactive_12_mon": "4",
                                    "Contacts_Count_12_mon": "1",
                                    "Credit_Limit": "13535",
                                    "Total_Revolving_Bal": "1291",
                                    "Avg_Open_To_Buy": "12244",
                                    "Total_Amt_Chng_Q4_Q1": "0.653",
                                    "Total_Trans_Amt": "1028",
                                    "Total_Trans_Ct": "21",
                                    "Total_Ct_Chng_Q4_Q1": "1.625",
                                    "Avg_Utilization_Ratio": "0.095"
                                },
                                {
                                    "CLIENTNUM": "806160108",
                                    "Attrition_Flag": "Existing Customer",
                                    "Customer_Age": "61",
                                    "Gender": "M",
                                    "Dependent_count": "1",
                                    "Education_Level": "High School",
                                    "Marital_Status": "Married",
                                    "Income_Category": "$40K - $60K",
                                    "Card_Category": "Blue",
                                    "Months_on_book": "56",
                                    "Total_Relationship_Count": "2",
                                    "Months_Inactive_12_mon": "2",
                                    "Contacts_Count_12_mon": "3",
                                    "Credit_Limit": "3193",
                                    "Total_Revolving_Bal": "2517",
                                    "Avg_Open_To_Buy": "676",
                                    "Total_Amt_Chng_Q4_Q1": "1.831",
                                    "Total_Trans_Amt": "1336",
                                    "Total_Trans_Ct": "30",
                                    "Total_Ct_Chng_Q4_Q1": "1.143",
                                    "Avg_Utilization_Ratio": "0.788"
                                },
                                {
                                    "CLIENTNUM": "709327383",
                                    "Attrition_Flag": "Existing Customer",
                                    "Customer_Age": "45",
                                    "Gender": "F",
                                    "Dependent_count": "2",
                                    "Education_Level": "Graduate",
                                    "Marital_Status": "Married",
                                    "Income_Category": "Unknown",
                                    "Card_Category": "Blue",
                                    "Months_on_book": "37",
                                    "Total_Relationship_Count": "6",
                                    "Months_Inactive_12_mon": "1",
                                    "Contacts_Count_12_mon": "2",
                                    "Credit_Limit": "14470",
                                    "Total_Revolving_Bal": "1157",
                                    "Avg_Open_To_Buy": "13313",
                                    "Total_Amt_Chng_Q4_Q1": "0.966",
                                    "Total_Trans_Amt": "1207",
                                    "Total_Trans_Ct": "21",
                                    "Total_Ct_Chng_Q4_Q1": "0.909",
                                    "Avg_Utilization_Ratio": "0.08"
                                }
                            ]
                        },
                        "text/html": [
                            "<table>",
                            "<tr><th>CLIENTNUM</th><th>Attrition_Flag</th><th>Customer_Age</th><th>Gender</th><th>Dependent_count</th><th>Education_Level</th><th>Marital_Status</th><th>Income_Category</th><th>Card_Category</th><th>Months_on_book</th><th>Total_Relationship_Count</th><th>Months_Inactive_12_mon</th><th>Contacts_Count_12_mon</th><th>Credit_Limit</th><th>Total_Revolving_Bal</th><th>Avg_Open_To_Buy</th><th>Total_Amt_Chng_Q4_Q1</th><th>Total_Trans_Amt</th><th>Total_Trans_Ct</th><th>Total_Ct_Chng_Q4_Q1</th><th>Avg_Utilization_Ratio</th></tr>",
                            "<tr><td>768805383</td><td>Existing Customer</td><td>45</td><td>M</td><td>3</td><td>High School</td><td>Married</td><td>$60K - $80K</td><td>Blue</td><td>39</td><td>5</td><td>1</td><td>3</td><td>12691</td><td>777</td><td>11914</td><td>1.335</td><td>1144</td><td>42</td><td>1.625</td><td>0.061</td></tr>",
                            "<tr><td>818770008</td><td>Existing Customer</td><td>49</td><td>F</td><td>5</td><td>Graduate</td><td>Single</td><td>Less than $40K</td><td>Blue</td><td>44</td><td>6</td><td>1</td><td>2</td><td>8256</td><td>864</td><td>7392</td><td>1.541</td><td>1291</td><td>33</td><td>3.714</td><td>0.105</td></tr>",
                            "<tr><td>713982108</td><td>Existing Customer</td><td>51</td><td>M</td><td>3</td><td>Graduate</td><td>Married</td><td>$80K - $120K</td><td>Blue</td><td>36</td><td>4</td><td>1</td><td>0</td><td>3418</td><td>0</td><td>3418</td><td>2.594</td><td>1887</td><td>20</td><td>2.333</td><td>0</td></tr>",
                            "<tr><td>769911858</td><td>Existing Customer</td><td>40</td><td>F</td><td>4</td><td>High School</td><td>Unknown</td><td>Less than $40K</td><td>Blue</td><td>34</td><td>3</td><td>4</td><td>1</td><td>3313</td><td>2517</td><td>796</td><td>1.405</td><td>1171</td><td>20</td><td>2.333</td><td>0.76</td></tr>",
                            "<tr><td>709106358</td><td>Existing Customer</td><td>40</td><td>M</td><td>3</td><td>Uneducated</td><td>Married</td><td>$60K - $80K</td><td>Blue</td><td>21</td><td>5</td><td>1</td><td>0</td><td>4716</td><td>0</td><td>4716</td><td>2.175</td><td>816</td><td>28</td><td>2.5</td><td>0</td></tr>",
                            "<tr><td>713061558</td><td>Existing Customer</td><td>44</td><td>M</td><td>2</td><td>Graduate</td><td>Married</td><td>$40K - $60K</td><td>Blue</td><td>36</td><td>3</td><td>1</td><td>2</td><td>4010</td><td>1247</td><td>2763</td><td>1.376</td><td>1088</td><td>24</td><td>0.846</td><td>0.311</td></tr>",
                            "<tr><td>810347208</td><td>Existing Customer</td><td>51</td><td>M</td><td>4</td><td>Unknown</td><td>Married</td><td>$120K +</td><td>Gold</td><td>46</td><td>6</td><td>1</td><td>3</td><td>34516</td><td>2264</td><td>32252</td><td>1.975</td><td>1330</td><td>31</td><td>0.722</td><td>0.066</td></tr>",
                            "<tr><td>818906208</td><td>Existing Customer</td><td>32</td><td>M</td><td>0</td><td>High School</td><td>Unknown</td><td>$60K - $80K</td><td>Silver</td><td>27</td><td>2</td><td>2</td><td>2</td><td>29081</td><td>1396</td><td>27685</td><td>2.204</td><td>1538</td><td>36</td><td>0.714</td><td>0.048</td></tr>",
                            "<tr><td>710930508</td><td>Existing Customer</td><td>37</td><td>M</td><td>3</td><td>Uneducated</td><td>Single</td><td>$60K - $80K</td><td>Blue</td><td>36</td><td>5</td><td>2</td><td>0</td><td>22352</td><td>2517</td><td>19835</td><td>3.355</td><td>1350</td><td>24</td><td>1.182</td><td>0.113</td></tr>",
                            "<tr><td>719661558</td><td>Existing Customer</td><td>48</td><td>M</td><td>2</td><td>Graduate</td><td>Single</td><td>$80K - $120K</td><td>Blue</td><td>36</td><td>6</td><td>3</td><td>3</td><td>11656</td><td>1677</td><td>9979</td><td>1.524</td><td>1441</td><td>32</td><td>0.882</td><td>0.144</td></tr>",
                            "<tr><td>708790833</td><td>Existing Customer</td><td>42</td><td>M</td><td>5</td><td>Uneducated</td><td>Unknown</td><td>$120K +</td><td>Blue</td><td>31</td><td>5</td><td>3</td><td>2</td><td>6748</td><td>1467</td><td>5281</td><td>0.831</td><td>1201</td><td>42</td><td>0.68</td><td>0.217</td></tr>",
                            "<tr><td>710821833</td><td>Existing Customer</td><td>65</td><td>M</td><td>1</td><td>Unknown</td><td>Married</td><td>$40K - $60K</td><td>Blue</td><td>54</td><td>6</td><td>2</td><td>3</td><td>9095</td><td>1587</td><td>7508</td><td>1.433</td><td>1314</td><td>26</td><td>1.364</td><td>0.174</td></tr>",
                            "<tr><td>710599683</td><td>Existing Customer</td><td>56</td><td>M</td><td>1</td><td>College</td><td>Single</td><td>$80K - $120K</td><td>Blue</td><td>36</td><td>3</td><td>6</td><td>0</td><td>11751</td><td>0</td><td>11751</td><td>3.397</td><td>1539</td><td>17</td><td>3.25</td><td>0</td></tr>",
                            "<tr><td>816082233</td><td>Existing Customer</td><td>35</td><td>M</td><td>3</td><td>Graduate</td><td>Unknown</td><td>$60K - $80K</td><td>Blue</td><td>30</td><td>5</td><td>1</td><td>3</td><td>8547</td><td>1666</td><td>6881</td><td>1.163</td><td>1311</td><td>33</td><td>2</td><td>0.195</td></tr>",
                            "<tr><td>712396908</td><td>Existing Customer</td><td>57</td><td>F</td><td>2</td><td>Graduate</td><td>Married</td><td>Less than $40K</td><td>Blue</td><td>48</td><td>5</td><td>2</td><td>2</td><td>2436</td><td>680</td><td>1756</td><td>1.19</td><td>1570</td><td>29</td><td>0.611</td><td>0.279</td></tr>",
                            "<tr><td>714885258</td><td>Existing Customer</td><td>44</td><td>M</td><td>4</td><td>Unknown</td><td>Unknown</td><td>$80K - $120K</td><td>Blue</td><td>37</td><td>5</td><td>1</td><td>2</td><td>4234</td><td>972</td><td>3262</td><td>1.707</td><td>1348</td><td>27</td><td>1.7</td><td>0.23</td></tr>",
                            "<tr><td>709967358</td><td>Existing Customer</td><td>48</td><td>M</td><td>4</td><td>Post-Graduate</td><td>Single</td><td>$80K - $120K</td><td>Blue</td><td>36</td><td>6</td><td>2</td><td>3</td><td>30367</td><td>2362</td><td>28005</td><td>1.708</td><td>1671</td><td>27</td><td>0.929</td><td>0.078</td></tr>",
                            "<tr><td>753327333</td><td>Existing Customer</td><td>41</td><td>M</td><td>3</td><td>Unknown</td><td>Married</td><td>$80K - $120K</td><td>Blue</td><td>34</td><td>4</td><td>4</td><td>1</td><td>13535</td><td>1291</td><td>12244</td><td>0.653</td><td>1028</td><td>21</td><td>1.625</td><td>0.095</td></tr>",
                            "<tr><td>806160108</td><td>Existing Customer</td><td>61</td><td>M</td><td>1</td><td>High School</td><td>Married</td><td>$40K - $60K</td><td>Blue</td><td>56</td><td>2</td><td>2</td><td>3</td><td>3193</td><td>2517</td><td>676</td><td>1.831</td><td>1336</td><td>30</td><td>1.143</td><td>0.788</td></tr>",
                            "<tr><td>709327383</td><td>Existing Customer</td><td>45</td><td>F</td><td>2</td><td>Graduate</td><td>Married</td><td>Unknown</td><td>Blue</td><td>37</td><td>6</td><td>1</td><td>2</td><td>14470</td><td>1157</td><td>13313</td><td>0.966</td><td>1207</td><td>21</td><td>0.909</td><td>0.08</td></tr>",
                            "</table>"
                        ]
                    }
                }
            ],
            "execution_count": 17
        },
        {
            "cell_type": "code",
            "source": [
                "-- Count of customers by attrition category.\r\n",
                "SELECT Attrition_Flag, COUNT(*) count\r\n",
                "FROM BankChurners\r\n",
                "GROUP BY Attrition_Flag"
            ],
            "metadata": {
                "azdata_cell_guid": "ec3e596c-97ce-4d9a-9d23-9fe2d6dba61d",
                "language": "sql"
            },
            "outputs": [
                {
                    "output_type": "display_data",
                    "data": {
                        "text/html": "(2 rows affected)"
                    },
                    "metadata": {}
                },
                {
                    "output_type": "display_data",
                    "data": {
                        "text/html": "Total execution time: 00:00:00.079"
                    },
                    "metadata": {}
                },
                {
                    "output_type": "execute_result",
                    "metadata": {},
                    "execution_count": 18,
                    "data": {
                        "application/vnd.dataresource+json": {
                            "schema": {
                                "fields": [
                                    {
                                        "name": "Attrition_Flag"
                                    },
                                    {
                                        "name": "count"
                                    }
                                ]
                            },
                            "data": [
                                {
                                    "Attrition_Flag": "Attrited Customer",
                                    "count": "1627"
                                },
                                {
                                    "Attrition_Flag": "Existing Customer",
                                    "count": "8500"
                                }
                            ]
                        },
                        "text/html": [
                            "<table>",
                            "<tr><th>Attrition_Flag</th><th>count</th></tr>",
                            "<tr><td>Attrited Customer</td><td>1627</td></tr>",
                            "<tr><td>Existing Customer</td><td>8500</td></tr>",
                            "</table>"
                        ]
                    }
                }
            ],
            "execution_count": 18
        },
        {
            "cell_type": "markdown",
            "source": [
                "## Create Temp Tables for Attrited and Existing Customers each\n",
                "\n",
                "There are different options to choose from in order to seperate the 2 categories like Using a View or CTE or using the original Table with a Where Clause to filter but i chose to go with a TempTable."
            ],
            "metadata": {
                "azdata_cell_guid": "787dcd4f-b44d-4d11-9b16-07c9cd0d80ce"
            },
            "attachments": {}
        },
        {
            "cell_type": "code",
            "source": [
                "-- Drop a temporary table called '#AttritedCustomers'\r\n",
                "-- Drop the table if it already exists\r\n",
                "IF OBJECT_ID('tempDB..#AttritedCustomers', 'U') IS NOT NULL\r\n",
                "DROP TABLE #AttritedCustomers\r\n",
                "GO\r\n",
                "-- Create the temporary table\r\n",
                "SELECT *\r\n",
                "INTO #AttritedCustomers\r\n",
                "FROM BankChurners\r\n",
                "WHERE Attrition_Flag = 'Attrited Customer'"
            ],
            "metadata": {
                "azdata_cell_guid": "130a0f3a-c11f-4694-aee9-00f0590aedaf",
                "language": "sql"
            },
            "outputs": [
                {
                    "output_type": "display_data",
                    "data": {
                        "text/html": "Commands completed successfully."
                    },
                    "metadata": {}
                },
                {
                    "output_type": "display_data",
                    "data": {
                        "text/html": "(1627 rows affected)"
                    },
                    "metadata": {}
                },
                {
                    "output_type": "display_data",
                    "data": {
                        "text/html": "Total execution time: 00:00:00.055"
                    },
                    "metadata": {}
                }
            ],
            "execution_count": 19
        },
        {
            "cell_type": "code",
            "source": [
                "-- Drop a temporary table called '#ExistingCustomers'\r\n",
                "-- Drop the table if it already exists\r\n",
                "IF OBJECT_ID('tempDB..#ExistingCustomers', 'U') IS NOT NULL\r\n",
                "DROP TABLE #ExistingCustomers\r\n",
                "GO\r\n",
                "-- Create the temporary table\r\n",
                "SELECT *\r\n",
                "INTO #ExistingCustomers\r\n",
                "FROM BankChurners\r\n",
                "WHERE Attrition_Flag = 'Existing Customer'"
            ],
            "metadata": {
                "language": "sql",
                "azdata_cell_guid": "1c164bb2-db99-4bb7-9edf-322413366b72"
            },
            "outputs": [
                {
                    "output_type": "display_data",
                    "data": {
                        "text/html": "Commands completed successfully."
                    },
                    "metadata": {}
                },
                {
                    "output_type": "display_data",
                    "data": {
                        "text/html": "(8500 rows affected)"
                    },
                    "metadata": {}
                },
                {
                    "output_type": "display_data",
                    "data": {
                        "text/html": "Total execution time: 00:00:00.042"
                    },
                    "metadata": {}
                }
            ],
            "execution_count": 20
        },
        {
            "cell_type": "markdown",
            "source": [
                "# Examine Trends for Attrited Customers\n",
                "\n",
                "- ```\n",
                "        Recency\n",
                "        \n",
                "      \n",
                "    \n",
                "    ```\n",
                "    \n",
                "- ```\n",
                "        Frequency\n",
                "        \n",
                "      \n",
                "    \n",
                "    ```\n",
                "    \n",
                "    and\n",
                "    \n",
                "- ```\n",
                "        Monetary\n",
                "    \n",
                "    ```\n",
                "    \n",
                "\n",
                "<span style=\"color: var(--vscode-editor-foreground); font-family: Menlo, Monaco, Consolas, &quot;Droid Sans Mono&quot;, &quot;Courier New&quot;, monospace, &quot;Droid Sans Fallback&quot;; font-size: 12px; background-color: rgba(220, 220, 220, 0.4); white-space: pre-wrap;\">Other Factors will be considered</span>"
            ],
            "metadata": {
                "language": "sql",
                "azdata_cell_guid": "46629080-a356-4746-b896-8d7e367ae08c"
            },
            "attachments": {}
        },
        {
            "cell_type": "markdown",
            "source": [
                "## Recency"
            ],
            "metadata": {
                "azdata_cell_guid": "a2239c24-ee41-4b43-8eb2-fd203f1d5aeb"
            },
            "attachments": {}
        },
        {
            "cell_type": "markdown",
            "source": [
                "How long customer has been on the books"
            ],
            "metadata": {
                "azdata_cell_guid": "c239bf0d-400b-4c36-beb9-7212d2ff34bd"
            },
            "attachments": {}
        },
        {
            "cell_type": "code",
            "source": [
                "SELECT\r\n",
                "        Max(Months_on_book) Max_month\r\n",
                "        ,MIN(Months_on_book) Min_month\r\n",
                "FROM #AttritedCustomers"
            ],
            "metadata": {
                "azdata_cell_guid": "84a6e605-6d12-448c-bbe5-5e6e7d2a3372",
                "language": "sql"
            },
            "outputs": [
                {
                    "output_type": "display_data",
                    "data": {
                        "text/html": "(1 row affected)"
                    },
                    "metadata": {}
                },
                {
                    "output_type": "display_data",
                    "data": {
                        "text/html": "Total execution time: 00:00:00.009"
                    },
                    "metadata": {}
                },
                {
                    "output_type": "execute_result",
                    "metadata": {},
                    "execution_count": 21,
                    "data": {
                        "application/vnd.dataresource+json": {
                            "schema": {
                                "fields": [
                                    {
                                        "name": "Max_month"
                                    },
                                    {
                                        "name": "Min_month"
                                    }
                                ]
                            },
                            "data": [
                                {
                                    "Max_month": "56",
                                    "Min_month": "13"
                                }
                            ]
                        },
                        "text/html": [
                            "<table>",
                            "<tr><th>Max_month</th><th>Min_month</th></tr>",
                            "<tr><td>56</td><td>13</td></tr>",
                            "</table>"
                        ]
                    }
                }
            ],
            "execution_count": 21
        },
        {
            "cell_type": "code",
            "source": [
                "-- How many Months on book did customers have before attrition?\r\n",
                "\r\n",
                "with att_months as \r\n",
                "\r\n",
                "(\r\n",
                "    SELECT *, count(Years_on_book)count\r\n",
                "    FROM\r\n",
                "(\r\n",
                "        SELECT\r\n",
                "     (\r\n",
                "                CASE  \r\n",
                "                    WHEN Months_on_book >= 48 THEN '4 years +'\r\n",
                "                    WHEN Months_on_book >= 36 THEN '3 years +'\r\n",
                "                    WHEN Months_on_book >= 24 THEN '2 years +'\r\n",
                "                    WHEN Months_on_book >= 12 THEN 'Less than 2'\r\n",
                "                    WHEN Months_on_book <12 THEN 'Less than 1 year'\r\n",
                "                END\r\n",
                "            ) AS 'Years_on_book'\r\n",
                "\r\n",
                "        FROM #AttritedCustomers\r\n",
                "    )SUB\r\n",
                "    GROUP BY Years_on_book\r\n",
                ")\r\n",
                "\r\n",
                "\r\n",
                "SELECT Years_on_book, count, round(cast([count]*100 as decimal)/ (SELECT SUM(count) FROM att_months),2)as Percentage\r\n",
                "FROM att_months\r\n",
                "GROUP BY Years_on_book,[count]\r\n",
                ""
            ],
            "metadata": {
                "azdata_cell_guid": "4e04dbdf-e032-4cfe-81ca-734a6631bfb1",
                "language": "sql",
                "tags": []
            },
            "outputs": [
                {
                    "output_type": "display_data",
                    "data": {
                        "text/html": "(4 rows affected)"
                    },
                    "metadata": {}
                },
                {
                    "output_type": "display_data",
                    "data": {
                        "text/html": "Total execution time: 00:00:00.063"
                    },
                    "metadata": {}
                },
                {
                    "output_type": "execute_result",
                    "metadata": {},
                    "execution_count": 22,
                    "data": {
                        "application/vnd.dataresource+json": {
                            "schema": {
                                "fields": [
                                    {
                                        "name": "Years_on_book"
                                    },
                                    {
                                        "name": "count"
                                    },
                                    {
                                        "name": "Percentage"
                                    }
                                ]
                            },
                            "data": [
                                {
                                    "Years_on_book": "3 years +",
                                    "count": "922",
                                    "Percentage": "56.67000000000"
                                },
                                {
                                    "Years_on_book": "2 years +",
                                    "count": "469",
                                    "Percentage": "28.83000000000"
                                },
                                {
                                    "Years_on_book": "4 years +",
                                    "count": "138",
                                    "Percentage": "8.48000000000"
                                },
                                {
                                    "Years_on_book": "Less than 2",
                                    "count": "98",
                                    "Percentage": "6.02000000000"
                                }
                            ]
                        },
                        "text/html": [
                            "<table>",
                            "<tr><th>Years_on_book</th><th>count</th><th>Percentage</th></tr>",
                            "<tr><td>3 years +</td><td>922</td><td>56.67000000000</td></tr>",
                            "<tr><td>2 years +</td><td>469</td><td>28.83000000000</td></tr>",
                            "<tr><td>4 years +</td><td>138</td><td>8.48000000000</td></tr>",
                            "<tr><td>Less than 2</td><td>98</td><td>6.02000000000</td></tr>",
                            "</table>"
                        ]
                    }
                }
            ],
            "execution_count": 22
        },
        {
            "cell_type": "code",
            "source": [
                "-- Same Query but with Gender as a Secondary Dimension\r\n",
                "\r\n",
                "with att_months as \r\n",
                "\r\n",
                "(\r\n",
                "    SELECT *,\r\n",
                "     (\r\n",
                "        CASE  \r\n",
                "            WHEN Months_on_book >= 48 THEN '4 years +'\r\n",
                "            WHEN Months_on_book >= 36 THEN '3 years +'\r\n",
                "            WHEN Months_on_book >= 24 THEN '2 years +'\r\n",
                "            WHEN Months_on_book >= 12 THEN '1year +'\r\n",
                "            WHEN Months_on_book <12 THEN 'Less than 1 year'\r\n",
                "        END\r\n",
                "    ) AS 'Years on book'\r\n",
                "\r\n",
                "FROM #AttritedCustomers\r\n",
                ")\r\n",
                "SELECT [Years on book], gender, COUNT(gender) Num_of_attr_customers\r\n",
                "FROM att_months\r\n",
                "GROUP BY [Years on book], gender\r\n",
                "ORDER BY 1, 2, 3 DESC"
            ],
            "metadata": {
                "azdata_cell_guid": "d272ac84-1df1-4999-b0e5-75b5a8a74ba2",
                "language": "sql"
            },
            "outputs": [
                {
                    "output_type": "display_data",
                    "data": {
                        "text/html": "(8 rows affected)"
                    },
                    "metadata": {}
                },
                {
                    "output_type": "display_data",
                    "data": {
                        "text/html": "Total execution time: 00:00:00.043"
                    },
                    "metadata": {}
                },
                {
                    "output_type": "execute_result",
                    "metadata": {},
                    "execution_count": 23,
                    "data": {
                        "application/vnd.dataresource+json": {
                            "schema": {
                                "fields": [
                                    {
                                        "name": "Years on book"
                                    },
                                    {
                                        "name": "gender"
                                    },
                                    {
                                        "name": "Num_of_attr_customers"
                                    }
                                ]
                            },
                            "data": [
                                {
                                    "Years on book": "1year +",
                                    "gender": "F",
                                    "Num_of_attr_customers": "51"
                                },
                                {
                                    "Years on book": "1year +",
                                    "gender": "M",
                                    "Num_of_attr_customers": "47"
                                },
                                {
                                    "Years on book": "2 years +",
                                    "gender": "F",
                                    "Num_of_attr_customers": "267"
                                },
                                {
                                    "Years on book": "2 years +",
                                    "gender": "M",
                                    "Num_of_attr_customers": "202"
                                },
                                {
                                    "Years on book": "3 years +",
                                    "gender": "F",
                                    "Num_of_attr_customers": "535"
                                },
                                {
                                    "Years on book": "3 years +",
                                    "gender": "M",
                                    "Num_of_attr_customers": "387"
                                },
                                {
                                    "Years on book": "4 years +",
                                    "gender": "F",
                                    "Num_of_attr_customers": "77"
                                },
                                {
                                    "Years on book": "4 years +",
                                    "gender": "M",
                                    "Num_of_attr_customers": "61"
                                }
                            ]
                        },
                        "text/html": [
                            "<table>",
                            "<tr><th>Years on book</th><th>gender</th><th>Num_of_attr_customers</th></tr>",
                            "<tr><td>1year +</td><td>F</td><td>51</td></tr>",
                            "<tr><td>1year +</td><td>M</td><td>47</td></tr>",
                            "<tr><td>2 years +</td><td>F</td><td>267</td></tr>",
                            "<tr><td>2 years +</td><td>M</td><td>202</td></tr>",
                            "<tr><td>3 years +</td><td>F</td><td>535</td></tr>",
                            "<tr><td>3 years +</td><td>M</td><td>387</td></tr>",
                            "<tr><td>4 years +</td><td>F</td><td>77</td></tr>",
                            "<tr><td>4 years +</td><td>M</td><td>61</td></tr>",
                            "</table>"
                        ]
                    }
                }
            ],
            "execution_count": 23
        },
        {
            "cell_type": "markdown",
            "source": [
                "Months Inactive"
            ],
            "metadata": {
                "azdata_cell_guid": "0bbdf857-8f2a-439c-91d2-77e01c66c626"
            },
            "attachments": {}
        },
        {
            "cell_type": "code",
            "source": [
                "SELECT Months_Inactive_12_mon, COUNT(*) COUNT\r\n",
                "FROM #AttritedCustomers\r\n",
                "GROUP BY Months_Inactive_12_mon\r\n",
                "ORDER BY 2 DESC"
            ],
            "metadata": {
                "azdata_cell_guid": "de8776f9-00ea-4a49-b409-6deb997f71b0",
                "language": "sql"
            },
            "outputs": [
                {
                    "output_type": "display_data",
                    "data": {
                        "text/html": "(7 rows affected)"
                    },
                    "metadata": {}
                },
                {
                    "output_type": "display_data",
                    "data": {
                        "text/html": "Total execution time: 00:00:00.052"
                    },
                    "metadata": {}
                },
                {
                    "output_type": "execute_result",
                    "metadata": {},
                    "execution_count": 24,
                    "data": {
                        "application/vnd.dataresource+json": {
                            "schema": {
                                "fields": [
                                    {
                                        "name": "Months_Inactive_12_mon"
                                    },
                                    {
                                        "name": "COUNT"
                                    }
                                ]
                            },
                            "data": [
                                {
                                    "Months_Inactive_12_mon": "3",
                                    "COUNT": "826"
                                },
                                {
                                    "Months_Inactive_12_mon": "2",
                                    "COUNT": "505"
                                },
                                {
                                    "Months_Inactive_12_mon": "4",
                                    "COUNT": "130"
                                },
                                {
                                    "Months_Inactive_12_mon": "1",
                                    "COUNT": "100"
                                },
                                {
                                    "Months_Inactive_12_mon": "5",
                                    "COUNT": "32"
                                },
                                {
                                    "Months_Inactive_12_mon": "6",
                                    "COUNT": "19"
                                },
                                {
                                    "Months_Inactive_12_mon": "0",
                                    "COUNT": "15"
                                }
                            ]
                        },
                        "text/html": [
                            "<table>",
                            "<tr><th>Months_Inactive_12_mon</th><th>COUNT</th></tr>",
                            "<tr><td>3</td><td>826</td></tr>",
                            "<tr><td>2</td><td>505</td></tr>",
                            "<tr><td>4</td><td>130</td></tr>",
                            "<tr><td>1</td><td>100</td></tr>",
                            "<tr><td>5</td><td>32</td></tr>",
                            "<tr><td>6</td><td>19</td></tr>",
                            "<tr><td>0</td><td>15</td></tr>",
                            "</table>"
                        ]
                    }
                }
            ],
            "execution_count": 24
        },
        {
            "cell_type": "markdown",
            "source": [
                "## Frequency"
            ],
            "metadata": {
                "azdata_cell_guid": "5de17b14-08f4-4d1e-9ff7-05537cae1c38"
            },
            "attachments": {}
        },
        {
            "cell_type": "markdown",
            "source": [
                "Count of **Total Transactions** customer has made"
            ],
            "metadata": {
                "azdata_cell_guid": "92b2ac24-0aa2-4178-9bfc-1f875c5f82f9"
            },
            "attachments": {}
        },
        {
            "cell_type": "code",
            "source": [
                "\r\n",
                "SELECT FrequencyCat\r\n",
                "    ,COUNT(*) No_of_Attr_customers -- Count of Customers in each assigned group\r\n",
                "FROM\r\n",
                "    (\r\n",
                "        SELECT \r\n",
                "\r\n",
                "        -- First, Assign Customers to different groups based on Number of transactions\r\n",
                "                CASE \r\n",
                "                     WHEN Total_Trans_Ct Between 50 and 99 THEN '50-99'\r\n",
                "                     WHEN Total_Trans_Ct >= 20 THEN '20-49'\r\n",
                "                     WHEN Total_Trans_Ct < 20 THEN '0-19'\r\n",
                "                 END as FrequencyCat\r\n",
                "        FROM #AttritedCustomers\r\n",
                "    ) sub \r\n",
                "\r\n",
                "GROUP BY FrequencyCat\r\n",
                "ORDER BY 2 DESC  -- View data in descending order of the 2nd Column (that is, the Count)"
            ],
            "metadata": {
                "language": "sql",
                "azdata_cell_guid": "ebec6365-0e77-40fc-8664-94955cebfe49"
            },
            "outputs": [
                {
                    "output_type": "display_data",
                    "data": {
                        "text/html": "(3 rows affected)"
                    },
                    "metadata": {}
                },
                {
                    "output_type": "display_data",
                    "data": {
                        "text/html": "Total execution time: 00:00:00.026"
                    },
                    "metadata": {}
                },
                {
                    "output_type": "execute_result",
                    "metadata": {},
                    "execution_count": 25,
                    "data": {
                        "application/vnd.dataresource+json": {
                            "schema": {
                                "fields": [
                                    {
                                        "name": "FrequencyCat"
                                    },
                                    {
                                        "name": "No_of_Attr_customers"
                                    }
                                ]
                            },
                            "data": [
                                {
                                    "FrequencyCat": "20-49",
                                    "No_of_Attr_customers": "1082"
                                },
                                {
                                    "FrequencyCat": "50-99",
                                    "No_of_Attr_customers": "473"
                                },
                                {
                                    "FrequencyCat": "0-19",
                                    "No_of_Attr_customers": "72"
                                }
                            ]
                        },
                        "text/html": [
                            "<table>",
                            "<tr><th>FrequencyCat</th><th>No_of_Attr_customers</th></tr>",
                            "<tr><td>20-49</td><td>1082</td></tr>",
                            "<tr><td>50-99</td><td>473</td></tr>",
                            "<tr><td>0-19</td><td>72</td></tr>",
                            "</table>"
                        ]
                    }
                }
            ],
            "execution_count": 25
        },
        {
            "cell_type": "markdown",
            "source": [
                "## Monetary"
            ],
            "metadata": {
                "azdata_cell_guid": "7c4b3b37-7c84-465a-8420-d9d3b8690a5f"
            },
            "attachments": {}
        },
        {
            "cell_type": "markdown",
            "source": [
                "Total **Transaction Amount** of Attrited Customer"
            ],
            "metadata": {
                "azdata_cell_guid": "714d145c-6d49-4cd4-8a95-8b33e98593c4"
            },
            "attachments": {}
        },
        {
            "cell_type": "code",
            "source": [
                "-- First Lets take a look at the maximum and minimum amounts to get an idea of the values\r\n",
                "\r\n",
                "SELECT\r\n",
                "        Max(Total_Trans_Amt) Max_amount\r\n",
                "        ,MIN(Total_Trans_Amt) Min_amount\r\n",
                "        -- Min(Total_Trans_Amt) Min_amount\r\n",
                "FROM #AttritedCustomers"
            ],
            "metadata": {
                "azdata_cell_guid": "38ab8bb9-6bfa-4f89-aed4-51f32387f8ae",
                "language": "sql",
                "tags": []
            },
            "outputs": [
                {
                    "output_type": "display_data",
                    "data": {
                        "text/html": "(1 row affected)"
                    },
                    "metadata": {}
                },
                {
                    "output_type": "display_data",
                    "data": {
                        "text/html": "Total execution time: 00:00:00.027"
                    },
                    "metadata": {}
                },
                {
                    "output_type": "execute_result",
                    "metadata": {},
                    "execution_count": 26,
                    "data": {
                        "application/vnd.dataresource+json": {
                            "schema": {
                                "fields": [
                                    {
                                        "name": "Max_amount"
                                    },
                                    {
                                        "name": "Min_amount"
                                    }
                                ]
                            },
                            "data": [
                                {
                                    "Max_amount": "10583",
                                    "Min_amount": "510"
                                }
                            ]
                        },
                        "text/html": [
                            "<table>",
                            "<tr><th>Max_amount</th><th>Min_amount</th></tr>",
                            "<tr><td>10583</td><td>510</td></tr>",
                            "</table>"
                        ]
                    }
                }
            ],
            "execution_count": 26
        },
        {
            "cell_type": "code",
            "source": [
                "-- Now lets create categories based on the values\r\n",
                "\r\n",
                "SELECT Transaction_Amount_Group, COUNT(*) count\r\n",
                "FROM\r\n",
                "    (\r\n",
                "        SELECT \r\n",
                "            Total_Trans_Amt\r\n",
                "            ,(CASE WHEN Total_Trans_Amt >= 10000 THEN 'Above 10k'\r\n",
                "                WHEN Total_Trans_Amt >= 5000 THEN '5k -9.9k'\r\n",
                "                WHEN Total_Trans_Amt >= 2000 THEN '2k -4.9k'\r\n",
                "                WHEN Total_Trans_Amt < 2000 THEN 'Below 2k'\r\n",
                "            END) as 'Transaction_Amount_Group'\r\n",
                "        FROM #AttritedCustomers\r\n",
                "        )sub\r\n",
                "GROUP BY Transaction_Amount_Group\r\n",
                "ORDER BY 2 DESC"
            ],
            "metadata": {
                "azdata_cell_guid": "ba66b744-bd35-4ed2-8ee9-eede7e26e59f",
                "language": "sql"
            },
            "outputs": [
                {
                    "output_type": "display_data",
                    "data": {
                        "text/html": "(4 rows affected)"
                    },
                    "metadata": {}
                },
                {
                    "output_type": "display_data",
                    "data": {
                        "text/html": "Total execution time: 00:00:00.051"
                    },
                    "metadata": {}
                },
                {
                    "output_type": "execute_result",
                    "metadata": {
                        "azdata_chartOptions": {
                            "type": "horizontalBar",
                            "dataDirection": "vertical",
                            "columnsAsLabels": true,
                            "labelFirstColumn": false,
                            "legendPosition": "top"
                        }
                    },
                    "execution_count": 27,
                    "data": {
                        "application/vnd.dataresource+json": {
                            "schema": {
                                "fields": [
                                    {
                                        "name": "Transaction_Amount_Group"
                                    },
                                    {
                                        "name": "count"
                                    }
                                ]
                            },
                            "data": [
                                {
                                    "Transaction_Amount_Group": "2k -4.9k",
                                    "count": "900"
                                },
                                {
                                    "Transaction_Amount_Group": "Below 2k",
                                    "count": "471"
                                },
                                {
                                    "Transaction_Amount_Group": "5k -9.9k",
                                    "count": "246"
                                },
                                {
                                    "Transaction_Amount_Group": "Above 10k",
                                    "count": "10"
                                }
                            ]
                        },
                        "text/html": [
                            "<table>",
                            "<tr><th>Transaction_Amount_Group</th><th>count</th></tr>",
                            "<tr><td>2k -4.9k</td><td>900</td></tr>",
                            "<tr><td>Below 2k</td><td>471</td></tr>",
                            "<tr><td>5k -9.9k</td><td>246</td></tr>",
                            "<tr><td>Above 10k</td><td>10</td></tr>",
                            "</table>"
                        ]
                    }
                }
            ],
            "execution_count": 27
        },
        {
            "cell_type": "markdown",
            "source": [
                "What is the **Credit Limit** of the Attrited customer?"
            ],
            "metadata": {
                "azdata_cell_guid": "622b566f-5a43-44db-acf3-00c27eb310e6"
            },
            "attachments": {}
        },
        {
            "cell_type": "code",
            "source": [
                "SELECT MAX(Credit_limit) max\r\n",
                "        ,MIN(Credit_limit) min\r\n",
                "FROM #AttritedCustomers"
            ],
            "metadata": {
                "azdata_cell_guid": "5baf7e97-469c-4191-9480-bba0abecabd2",
                "language": "sql"
            },
            "outputs": [
                {
                    "output_type": "display_data",
                    "data": {
                        "text/html": "(1 row affected)"
                    },
                    "metadata": {}
                },
                {
                    "output_type": "display_data",
                    "data": {
                        "text/html": "Total execution time: 00:00:00.015"
                    },
                    "metadata": {}
                },
                {
                    "output_type": "execute_result",
                    "metadata": {},
                    "execution_count": 28,
                    "data": {
                        "application/vnd.dataresource+json": {
                            "schema": {
                                "fields": [
                                    {
                                        "name": "max"
                                    },
                                    {
                                        "name": "min"
                                    }
                                ]
                            },
                            "data": [
                                {
                                    "max": "34516",
                                    "min": "1438.3"
                                }
                            ]
                        },
                        "text/html": [
                            "<table>",
                            "<tr><th>max</th><th>min</th></tr>",
                            "<tr><td>34516</td><td>1438.3</td></tr>",
                            "</table>"
                        ]
                    }
                }
            ],
            "execution_count": 28
        },
        {
            "cell_type": "code",
            "source": [
                "-- Credit Limit\r\n",
                "\r\n",
                "SELECT Credit_Category, COUNT(*) count\r\n",
                "FROM \r\n",
                "    ( -- Using a Subquery to group by credit limit\r\n",
                "        SELECT \r\n",
                "            CASE WHEN Credit_limit >= 30000 THEN '30k and above'\r\n",
                "                 WHEN Credit_limit >= 20000 THEN '20k - 29k'\r\n",
                "                 WHEN Credit_limit >= 10000 THEN '10k - 19k'\r\n",
                "                 WHEN Credit_limit >= 5000 THEN '5k - 9k'\r\n",
                "                 WHEN Credit_limit < 5000 THEN 'Below 5k'\r\n",
                "            END AS Credit_Category\r\n",
                "\r\n",
                "        FROM #AttritedCustomers\r\n",
                "    )sub\r\n",
                "\r\n",
                "GROUP BY Credit_Category\r\n",
                "ORDER BY 2 DESC\r\n",
                ""
            ],
            "metadata": {
                "azdata_cell_guid": "239ecd40-038d-47c3-ace0-9ae4b6f08b59",
                "language": "sql"
            },
            "outputs": [
                {
                    "output_type": "display_data",
                    "data": {
                        "text/html": "(5 rows affected)"
                    },
                    "metadata": {}
                },
                {
                    "output_type": "display_data",
                    "data": {
                        "text/html": "Total execution time: 00:00:00.070"
                    },
                    "metadata": {}
                },
                {
                    "output_type": "execute_result",
                    "metadata": {},
                    "execution_count": 29,
                    "data": {
                        "application/vnd.dataresource+json": {
                            "schema": {
                                "fields": [
                                    {
                                        "name": "Credit_Category"
                                    },
                                    {
                                        "name": "count"
                                    }
                                ]
                            },
                            "data": [
                                {
                                    "Credit_Category": "Below 5k",
                                    "count": "926"
                                },
                                {
                                    "Credit_Category": "5k - 9k",
                                    "count": "302"
                                },
                                {
                                    "Credit_Category": "10k - 19k",
                                    "count": "215"
                                },
                                {
                                    "Credit_Category": "30k and above",
                                    "count": "108"
                                },
                                {
                                    "Credit_Category": "20k - 29k",
                                    "count": "76"
                                }
                            ]
                        },
                        "text/html": [
                            "<table>",
                            "<tr><th>Credit_Category</th><th>count</th></tr>",
                            "<tr><td>Below 5k</td><td>926</td></tr>",
                            "<tr><td>5k - 9k</td><td>302</td></tr>",
                            "<tr><td>10k - 19k</td><td>215</td></tr>",
                            "<tr><td>30k and above</td><td>108</td></tr>",
                            "<tr><td>20k - 29k</td><td>76</td></tr>",
                            "</table>"
                        ]
                    }
                }
            ],
            "execution_count": 29
        },
        {
            "cell_type": "markdown",
            "source": [
                "**Card category** Of Attrited Customer"
            ],
            "metadata": {
                "azdata_cell_guid": "2d290a1e-4836-40b8-8050-b7e639863257"
            },
            "attachments": {}
        },
        {
            "cell_type": "code",
            "source": [
                "SELECT Card_Category, COUNT(*) Count\r\n",
                "FROM #AttritedCustomers\r\n",
                "GROUP BY Card_Category\r\n",
                "ORDER BY 2 DESC"
            ],
            "metadata": {
                "azdata_cell_guid": "72724723-f061-4a3d-904c-5d3f7e7fc106",
                "language": "sql"
            },
            "outputs": [
                {
                    "output_type": "display_data",
                    "data": {
                        "text/html": "(4 rows affected)"
                    },
                    "metadata": {}
                },
                {
                    "output_type": "display_data",
                    "data": {
                        "text/html": "Total execution time: 00:00:00.035"
                    },
                    "metadata": {}
                },
                {
                    "output_type": "execute_result",
                    "metadata": {},
                    "execution_count": 30,
                    "data": {
                        "application/vnd.dataresource+json": {
                            "schema": {
                                "fields": [
                                    {
                                        "name": "Card_Category"
                                    },
                                    {
                                        "name": "Count"
                                    }
                                ]
                            },
                            "data": [
                                {
                                    "Card_Category": "Blue",
                                    "Count": "1519"
                                },
                                {
                                    "Card_Category": "Silver",
                                    "Count": "82"
                                },
                                {
                                    "Card_Category": "Gold",
                                    "Count": "21"
                                },
                                {
                                    "Card_Category": "Platinum",
                                    "Count": "5"
                                }
                            ]
                        },
                        "text/html": [
                            "<table>",
                            "<tr><th>Card_Category</th><th>Count</th></tr>",
                            "<tr><td>Blue</td><td>1519</td></tr>",
                            "<tr><td>Silver</td><td>82</td></tr>",
                            "<tr><td>Gold</td><td>21</td></tr>",
                            "<tr><td>Platinum</td><td>5</td></tr>",
                            "</table>"
                        ]
                    }
                }
            ],
            "execution_count": 30
        },
        {
            "cell_type": "markdown",
            "source": [
                "**Income Category** of Attrited Customer"
            ],
            "metadata": {
                "azdata_cell_guid": "b582e861-414d-4afd-ad4b-e9d66b3715b8"
            },
            "attachments": {}
        },
        {
            "cell_type": "code",
            "source": [
                "-- Income Category\r\n",
                "\r\n",
                "SELECT Income_category, COUNT(*) Count\r\n",
                "FROM #attritedcustomers\r\n",
                "GROUP BY Income_category\r\n",
                "ORDER BY 2 DESC"
            ],
            "metadata": {
                "azdata_cell_guid": "959601ec-f4e1-4c3a-995a-078be3aa5dd6",
                "language": "sql"
            },
            "outputs": [
                {
                    "output_type": "display_data",
                    "data": {
                        "text/html": "(6 rows affected)"
                    },
                    "metadata": {}
                },
                {
                    "output_type": "display_data",
                    "data": {
                        "text/html": "Total execution time: 00:00:00.022"
                    },
                    "metadata": {}
                },
                {
                    "output_type": "execute_result",
                    "metadata": {},
                    "execution_count": 36,
                    "data": {
                        "application/vnd.dataresource+json": {
                            "schema": {
                                "fields": [
                                    {
                                        "name": "Income_category"
                                    },
                                    {
                                        "name": "Count"
                                    }
                                ]
                            },
                            "data": [
                                {
                                    "Income_category": "Less than $40K",
                                    "Count": "612"
                                },
                                {
                                    "Income_category": "$40K - $60K",
                                    "Count": "271"
                                },
                                {
                                    "Income_category": "$80K - $120K",
                                    "Count": "242"
                                },
                                {
                                    "Income_category": "$60K - $80K",
                                    "Count": "189"
                                },
                                {
                                    "Income_category": "Unknown",
                                    "Count": "187"
                                },
                                {
                                    "Income_category": "$120K +",
                                    "Count": "126"
                                }
                            ]
                        },
                        "text/html": [
                            "<table>",
                            "<tr><th>Income_category</th><th>Count</th></tr>",
                            "<tr><td>Less than $40K</td><td>612</td></tr>",
                            "<tr><td>$40K - $60K</td><td>271</td></tr>",
                            "<tr><td>$80K - $120K</td><td>242</td></tr>",
                            "<tr><td>$60K - $80K</td><td>189</td></tr>",
                            "<tr><td>Unknown</td><td>187</td></tr>",
                            "<tr><td>$120K +</td><td>126</td></tr>",
                            "</table>"
                        ]
                    }
                }
            ],
            "execution_count": 36
        },
        {
            "cell_type": "markdown",
            "source": [
                "## Other Possible Factors"
            ],
            "metadata": {
                "azdata_cell_guid": "c28d7a69-871c-4f62-b0b9-a768b383d40c",
                "language": ""
            },
            "attachments": {}
        },
        {
            "cell_type": "code",
            "source": [
                "SELECT age_category, COUNT(*) count\r\n",
                "FROM\r\n",
                "    (\r\n",
                "        SELECT Customer_Age\r\n",
                "            ,(CASE WHEN Customer_Age >= 50 THEN '50 and Above'\r\n",
                "                WHEN Customer_Age >= 35 THEN '35 - 49'\r\n",
                "                WHEN Customer_Age < 35 THEN 'Under 35'\r\n",
                "                END ) age_category\r\n",
                "    FROM #AttritedCustomers\r\n",
                "    ) sub\r\n",
                "GROUP BY sub.age_category"
            ],
            "metadata": {
                "azdata_cell_guid": "9cc8995c-5011-42d7-979d-851883d4cc92",
                "language": "sql"
            },
            "outputs": [
                {
                    "output_type": "display_data",
                    "data": {
                        "text/html": "(3 rows affected)"
                    },
                    "metadata": {}
                },
                {
                    "output_type": "display_data",
                    "data": {
                        "text/html": "Total execution time: 00:00:00.029"
                    },
                    "metadata": {}
                },
                {
                    "output_type": "execute_result",
                    "metadata": {},
                    "execution_count": 45,
                    "data": {
                        "application/vnd.dataresource+json": {
                            "schema": {
                                "fields": [
                                    {
                                        "name": "age_category"
                                    },
                                    {
                                        "name": "count"
                                    }
                                ]
                            },
                            "data": [
                                {
                                    "age_category": "35 - 49",
                                    "count": "949"
                                },
                                {
                                    "age_category": "50 and Above",
                                    "count": "577"
                                },
                                {
                                    "age_category": "Under 35",
                                    "count": "101"
                                }
                            ]
                        },
                        "text/html": [
                            "<table>",
                            "<tr><th>age_category</th><th>count</th></tr>",
                            "<tr><td>35 - 49</td><td>949</td></tr>",
                            "<tr><td>50 and Above</td><td>577</td></tr>",
                            "<tr><td>Under 35</td><td>101</td></tr>",
                            "</table>"
                        ]
                    }
                }
            ],
            "execution_count": 45
        },
        {
            "cell_type": "code",
            "source": [
                "  SELECT Customer_Age\r\n",
                "            ,(CASE WHEN Customer_Age\t>= 50 THEN 'Vet'\r\n",
                "                WHEN Customer_Age\t>= 35 THEN 'Mid'\r\n",
                "                WHEN Customer_Age\t< 35 THEN 'Young Adults'\r\n",
                "                END ) age_category\r\n",
                "    FROM #AttritedCustomers"
            ],
            "metadata": {
                "azdata_cell_guid": "430718ff-d494-44b3-9e13-837f4e7ed7f8",
                "language": "sql",
                "tags": []
            },
            "outputs": [],
            "execution_count": null
        },
        {
            "cell_type": "markdown",
            "source": [
                "Number of Dependents"
            ],
            "metadata": {
                "azdata_cell_guid": "739b7e19-69de-4808-8224-428f5a5145fc"
            },
            "attachments": {}
        },
        {
            "cell_type": "code",
            "source": [
                "SELECT Dependent_Count, COUNT(*) count_of_each_dependent\r\n",
                "FROM #AttritedCustomers\r\n",
                "GROUP BY Dependent_count\r\n",
                "ORDER BY 2 DESC"
            ],
            "metadata": {
                "azdata_cell_guid": "2997c76b-07af-4b0d-9c0b-a56596d0fdb0",
                "language": "sql"
            },
            "outputs": [
                {
                    "output_type": "display_data",
                    "data": {
                        "text/html": "(6 rows affected)"
                    },
                    "metadata": {}
                },
                {
                    "output_type": "display_data",
                    "data": {
                        "text/html": "Total execution time: 00:00:00.057"
                    },
                    "metadata": {}
                },
                {
                    "output_type": "execute_result",
                    "metadata": {},
                    "execution_count": 33,
                    "data": {
                        "application/vnd.dataresource+json": {
                            "schema": {
                                "fields": [
                                    {
                                        "name": "Dependent_Count"
                                    },
                                    {
                                        "name": "count_of_each_dependent"
                                    }
                                ]
                            },
                            "data": [
                                {
                                    "Dependent_Count": "3",
                                    "count_of_each_dependent": "482"
                                },
                                {
                                    "Dependent_Count": "2",
                                    "count_of_each_dependent": "417"
                                },
                                {
                                    "Dependent_Count": "1",
                                    "count_of_each_dependent": "269"
                                },
                                {
                                    "Dependent_Count": "4",
                                    "count_of_each_dependent": "260"
                                },
                                {
                                    "Dependent_Count": "0",
                                    "count_of_each_dependent": "135"
                                },
                                {
                                    "Dependent_Count": "5",
                                    "count_of_each_dependent": "64"
                                }
                            ]
                        },
                        "text/html": [
                            "<table>",
                            "<tr><th>Dependent_Count</th><th>count_of_each_dependent</th></tr>",
                            "<tr><td>3</td><td>482</td></tr>",
                            "<tr><td>2</td><td>417</td></tr>",
                            "<tr><td>1</td><td>269</td></tr>",
                            "<tr><td>4</td><td>260</td></tr>",
                            "<tr><td>0</td><td>135</td></tr>",
                            "<tr><td>5</td><td>64</td></tr>",
                            "</table>"
                        ]
                    }
                }
            ],
            "execution_count": 33
        },
        {
            "cell_type": "markdown",
            "source": [
                "Education Level"
            ],
            "metadata": {
                "azdata_cell_guid": "4ccee64c-7e45-4f98-bdd5-2519923ea8b6"
            },
            "attachments": {}
        },
        {
            "cell_type": "code",
            "source": [
                "SELECT Education_level, \r\n",
                "        COUNT(*) count\r\n",
                "\r\n",
                "FROM #AttritedCustomers\r\n",
                "\r\n",
                "GROUP BY Education_level\r\n",
                "ORDER BY 2 DESC"
            ],
            "metadata": {
                "azdata_cell_guid": "68de2e18-1edf-4d19-98a5-c037e0c7aae1",
                "language": "sql"
            },
            "outputs": [
                {
                    "output_type": "display_data",
                    "data": {
                        "text/html": "(7 rows affected)"
                    },
                    "metadata": {}
                },
                {
                    "output_type": "display_data",
                    "data": {
                        "text/html": "Total execution time: 00:00:00.020"
                    },
                    "metadata": {}
                },
                {
                    "output_type": "execute_result",
                    "execution_count": 69,
                    "data": {
                        "application/vnd.dataresource+json": {
                            "schema": {
                                "fields": [
                                    {
                                        "name": "Education_level"
                                    },
                                    {
                                        "name": "count"
                                    }
                                ]
                            },
                            "data": [
                                {
                                    "Education_level": "Graduate",
                                    "count": "487"
                                },
                                {
                                    "Education_level": "High School",
                                    "count": "306"
                                },
                                {
                                    "Education_level": "Unknown",
                                    "count": "256"
                                },
                                {
                                    "Education_level": "Uneducated",
                                    "count": "237"
                                },
                                {
                                    "Education_level": "College",
                                    "count": "154"
                                },
                                {
                                    "Education_level": "Doctorate",
                                    "count": "95"
                                },
                                {
                                    "Education_level": "Post-Graduate",
                                    "count": "92"
                                }
                            ]
                        },
                        "text/html": "<table><tr><th>Education_level</th><th>count</th></tr><tr><td>Graduate</td><td>487</td></tr><tr><td>High School</td><td>306</td></tr><tr><td>Unknown</td><td>256</td></tr><tr><td>Uneducated</td><td>237</td></tr><tr><td>College</td><td>154</td></tr><tr><td>Doctorate</td><td>95</td></tr><tr><td>Post-Graduate</td><td>92</td></tr></table>"
                    },
                    "metadata": {}
                }
            ],
            "execution_count": 69
        },
        {
            "cell_type": "code",
            "source": [
                "SELECT Total_Relationship_Count, COUNT(*) count\r\n",
                "FROM #AttritedCustomers\r\n",
                "GROUP BY Total_Relationship_Count \r\n",
                "ORDER BY 2 DESC"
            ],
            "metadata": {
                "language": "sql",
                "azdata_cell_guid": "a03170c9-667b-4049-afd6-cd6e9e81a1d9"
            },
            "outputs": [
                {
                    "output_type": "display_data",
                    "data": {
                        "text/html": "(6 rows affected)"
                    },
                    "metadata": {}
                },
                {
                    "output_type": "display_data",
                    "data": {
                        "text/html": "Total execution time: 00:00:00.009"
                    },
                    "metadata": {}
                },
                {
                    "output_type": "execute_result",
                    "execution_count": 16,
                    "data": {
                        "application/vnd.dataresource+json": {
                            "schema": {
                                "fields": [
                                    {
                                        "name": "Total_Relationship_Count"
                                    },
                                    {
                                        "name": "count"
                                    }
                                ]
                            },
                            "data": [
                                {
                                    "Total_Relationship_Count": "3",
                                    "count": "400"
                                },
                                {
                                    "Total_Relationship_Count": "2",
                                    "count": "346"
                                },
                                {
                                    "Total_Relationship_Count": "1",
                                    "count": "233"
                                },
                                {
                                    "Total_Relationship_Count": "5",
                                    "count": "227"
                                },
                                {
                                    "Total_Relationship_Count": "4",
                                    "count": "225"
                                },
                                {
                                    "Total_Relationship_Count": "6",
                                    "count": "196"
                                }
                            ]
                        },
                        "text/html": "<table><tr><th>Total_Relationship_Count</th><th>count</th></tr><tr><td>3</td><td>400</td></tr><tr><td>2</td><td>346</td></tr><tr><td>1</td><td>233</td></tr><tr><td>5</td><td>227</td></tr><tr><td>4</td><td>225</td></tr><tr><td>6</td><td>196</td></tr></table>"
                    },
                    "metadata": {}
                }
            ],
            "execution_count": 16
        },
        {
            "cell_type": "markdown",
            "source": [
                "Marital Status"
            ],
            "metadata": {
                "language": "sql",
                "azdata_cell_guid": "22ad22e1-3fbb-42f2-8efe-5e2c7b36c7d9"
            },
            "attachments": {}
        },
        {
            "cell_type": "code",
            "source": [
                "SELECT Marital_Status,  COUNT(*) COUNT\r\n",
                "FROM #AttritedCustomers\r\n",
                "GROUP BY Marital_Status\r\n",
                "ORDER BY 2 DESC"
            ],
            "metadata": {
                "language": "sql",
                "azdata_cell_guid": "273d35e1-1e60-4d6a-a840-82849c97c095"
            },
            "outputs": [
                {
                    "output_type": "display_data",
                    "data": {
                        "text/html": "(4 rows affected)"
                    },
                    "metadata": {}
                },
                {
                    "output_type": "display_data",
                    "data": {
                        "text/html": "Total execution time: 00:00:00.039"
                    },
                    "metadata": {}
                },
                {
                    "output_type": "execute_result",
                    "execution_count": 92,
                    "data": {
                        "application/vnd.dataresource+json": {
                            "schema": {
                                "fields": [
                                    {
                                        "name": "Marital_Status"
                                    },
                                    {
                                        "name": "COUNT"
                                    }
                                ]
                            },
                            "data": [
                                {
                                    "Marital_Status": "Married",
                                    "COUNT": "709"
                                },
                                {
                                    "Marital_Status": "Single",
                                    "COUNT": "668"
                                },
                                {
                                    "Marital_Status": "Unknown",
                                    "COUNT": "129"
                                },
                                {
                                    "Marital_Status": "Divorced",
                                    "COUNT": "121"
                                }
                            ]
                        },
                        "text/html": "<table><tr><th>Marital_Status</th><th>COUNT</th></tr><tr><td>Married</td><td>709</td></tr><tr><td>Single</td><td>668</td></tr><tr><td>Unknown</td><td>129</td></tr><tr><td>Divorced</td><td>121</td></tr></table>"
                    },
                    "metadata": {}
                }
            ],
            "execution_count": 92
        },
        {
            "cell_type": "code",
            "source": [
                "SELECT Gender,  COUNT(*) COUNT\r\n",
                "FROM #AttritedCustomers\r\n",
                "GROUP BY Gender\r\n",
                "ORDER BY 2 DESC"
            ],
            "metadata": {
                "azdata_cell_guid": "e0d1613c-6a1a-46df-8fd0-39c9cc7a3644",
                "language": "sql"
            },
            "outputs": [
                {
                    "output_type": "display_data",
                    "data": {
                        "text/html": "(2 rows affected)"
                    },
                    "metadata": {}
                },
                {
                    "output_type": "display_data",
                    "data": {
                        "text/html": "Total execution time: 00:00:00.014"
                    },
                    "metadata": {}
                },
                {
                    "output_type": "execute_result",
                    "execution_count": 93,
                    "data": {
                        "application/vnd.dataresource+json": {
                            "schema": {
                                "fields": [
                                    {
                                        "name": "Gender"
                                    },
                                    {
                                        "name": "COUNT"
                                    }
                                ]
                            },
                            "data": [
                                {
                                    "Gender": "F",
                                    "COUNT": "930"
                                },
                                {
                                    "Gender": "M",
                                    "COUNT": "697"
                                }
                            ]
                        },
                        "text/html": "<table><tr><th>Gender</th><th>COUNT</th></tr><tr><td>F</td><td>930</td></tr><tr><td>M</td><td>697</td></tr></table>"
                    },
                    "metadata": {}
                }
            ],
            "execution_count": 93
        },
        {
            "cell_type": "markdown",
            "source": [
                "Number of contacts customer has had in the last twelve months"
            ],
            "metadata": {
                "azdata_cell_guid": "5d3c8fcc-8ade-4f7b-867a-90caca346663"
            },
            "attachments": {}
        },
        {
            "cell_type": "code",
            "source": [
                "SELECT Contacts_Count_12_mon, COUNT(*) count\r\n",
                "FROM #AttritedCustomers\r\n",
                "GROUP BY Contacts_Count_12_mon\r\n",
                "ORDER BY 2 DESC"
            ],
            "metadata": {
                "azdata_cell_guid": "89254e11-d4db-460d-9594-6ad42c5b9666",
                "language": "sql"
            },
            "outputs": [
                {
                    "output_type": "display_data",
                    "data": {
                        "text/html": "(7 rows affected)"
                    },
                    "metadata": {}
                },
                {
                    "output_type": "display_data",
                    "data": {
                        "text/html": "Total execution time: 00:00:00.028"
                    },
                    "metadata": {}
                },
                {
                    "output_type": "execute_result",
                    "execution_count": 101,
                    "data": {
                        "application/vnd.dataresource+json": {
                            "schema": {
                                "fields": [
                                    {
                                        "name": "Contacts_Count_12_mon"
                                    },
                                    {
                                        "name": "count"
                                    }
                                ]
                            },
                            "data": [
                                {
                                    "Contacts_Count_12_mon": "3",
                                    "count": "681"
                                },
                                {
                                    "Contacts_Count_12_mon": "2",
                                    "count": "403"
                                },
                                {
                                    "Contacts_Count_12_mon": "4",
                                    "count": "315"
                                },
                                {
                                    "Contacts_Count_12_mon": "1",
                                    "count": "108"
                                },
                                {
                                    "Contacts_Count_12_mon": "5",
                                    "count": "59"
                                },
                                {
                                    "Contacts_Count_12_mon": "6",
                                    "count": "54"
                                },
                                {
                                    "Contacts_Count_12_mon": "0",
                                    "count": "7"
                                }
                            ]
                        },
                        "text/html": "<table><tr><th>Contacts_Count_12_mon</th><th>count</th></tr><tr><td>3</td><td>681</td></tr><tr><td>2</td><td>403</td></tr><tr><td>4</td><td>315</td></tr><tr><td>1</td><td>108</td></tr><tr><td>5</td><td>59</td></tr><tr><td>6</td><td>54</td></tr><tr><td>0</td><td>7</td></tr></table>"
                    },
                    "metadata": {}
                }
            ],
            "execution_count": 101
        },
        {
            "cell_type": "markdown",
            "source": [
                "## Assigning Points/Scores based on 7 Categories\n",
                "\n",
                "Every existing customer is likely chance to churn.\n",
                "\n",
                "However, they'll be scored on 7 categories based on similarities Attrited Customers\n",
                "\n",
                "**Because there's a chance to churn, the default score of every customer is 1.**\n",
                "\n",
                "> **<span style=\"color: var(--vscode-foreground);\">Months on Book</span><span style=\"color: var(--vscode-foreground);\">--&gt;</span>**\n",
                "\n",
                "- <span style=\"color: var(--vscode-foreground);\">2 - 3 years+ = 3 points</span>\n",
                "- <span style=\"color: var(--vscode-foreground);\">4 years+ = 2points</span>\n",
                "\n",
                "> <span style=\"color: var(--vscode-foreground);\"><b>Transaction Count --&gt;&nbsp;</b></span>                 \n",
                "\n",
                "- <span style=\"color: var(--vscode-foreground);\">Between 20 - 49 = 3 points&nbsp;</span>                  \n",
                "- <span style=\"color: var(--vscode-foreground);\">50 - 99 = 2 points</span>\n",
                "\n",
                "> <span style=\"color: var(--vscode-foreground);\"><b>Transaction Amount --&gt;</b></span>\n",
                "\n",
                "- <span style=\"color: var(--vscode-foreground);\">Below 5k = 3 points</span>\n",
                "- <span style=\"color: var(--vscode-foreground);\">Between 5-10k = 2 points</span>\n",
                "\n",
                "> <span style=\"color: var(--vscode-foreground);\"><b>Credit Limit --&gt;&nbsp;</b></span>                 \n",
                "\n",
                "- <span style=\"color: var(--vscode-foreground);\">Below 5k = 3points&nbsp;</span>                  \n",
                "- <span style=\"color: var(--vscode-foreground);\">Between 5k - 20k = 2 points</span>\n",
                "\n",
                "> <span style=\"color: var(--vscode-foreground);\"><b>Card Category --&gt;</b></span>\n",
                "\n",
                "- <span style=\"color: var(--vscode-foreground);\">Blue Card = 3 points</span>\n",
                "- <span style=\"color: var(--vscode-foreground);\">Silver = 2points</span>\n",
                "\n",
                "> <span style=\"color: var(--vscode-foreground);\"><b>Income --&gt;</b></span>\n",
                "\n",
                "- <span style=\"color: var(--vscode-foreground);\">Less than 40k = 3points&nbsp;</span>                  \n",
                "-  <span style=\"color: var(--vscode-foreground);\">Between 40 - 120k = 2 points</span>\n",
                "\n",
                "> **AGE--\\>**\n",
                "\n",
                "- Between 35 - 49 = 3 points\n",
                "- Above 50 = 2 points"
            ],
            "metadata": {
                "azdata_cell_guid": "62238729-bfb6-45d7-8017-6679e96ceaea"
            },
            "attachments": {}
        },
        {
            "cell_type": "code",
            "source": [
                "-- Testing the scoring system to see if it is accurate on Churned customers\r\n",
                "with scores as\r\n",
                "(\r\n",
                "\r\n",
                "  SELECT Clientnum, Attrition_Flag\r\n",
                "\r\n",
                "      --Months on Book\r\n",
                "      ,(CASE WHEN Months_on_book >= 48 THEN 2 --More than 4 years\r\n",
                "            WHEN Months_on_book BETWEEN 24 and 47 THEN 3 --Between 2 and 3 years\r\n",
                "          ELSE 1\r\n",
                "      END) Months_score\r\n",
                "\r\n",
                "      -- Transaction Count\r\n",
                "      ,(CASE WHEN Total_Trans_Ct Between 20 and 49 THEN 3 \r\n",
                "            WHEN Total_Trans_Ct Between 50 and 99 THEN 2 \r\n",
                "          ELSE 1 \r\n",
                "          /* In here, Less than 10 (maybe not tenured long enough to make a transaction)\r\n",
                "              and Greater than 100 are given scores of 1 as they are unlikely to churn */\r\n",
                "\r\n",
                "      END ) Transaction_count_score\r\n",
                "\r\n",
                "      -- Transaction Amount\r\n",
                "      ,(CASE WHEN Total_Trans_Amt < 5000 THEN 3\r\n",
                "            WHEN Total_Trans_Amt < 10000 THEN 2 \r\n",
                "          ELSE 1\r\n",
                "      END) Transaction_amount_score\r\n",
                "      \r\n",
                "      -- Credit Limit\r\n",
                "      ,(CASE WHEN Credit_Limit < 5000 THEN 3\r\n",
                "            WHEN Credit_Limit < 20000 THEN 2 \r\n",
                "          ELSE 1\r\n",
                "      END) Credit_score\r\n",
                "\r\n",
                "      -- Card Category\r\n",
                "      ,(CASE WHEN Card_Category = 'Blue' THEN 3\r\n",
                "              WHEN Card_Category = 'Silver' THEN 2\r\n",
                "          ELSE 1\r\n",
                "      END) Card_Score\r\n",
                "\r\n",
                "      -- Income Category\r\n",
                "      ,(CASE WHEN Income_Category = 'Less than $40K' THEN 3\r\n",
                "              WHEN Income_Category IN ('$40K - $60K', '$80K - $120K', '$60K - $80K') THEN 2\r\n",
                "          ELSE 1\r\n",
                "      END) Income_Score\r\n",
                "\r\n",
                "        -- AGE\r\n",
                "      ,(CASE WHEN Customer_Age\t>= 50 THEN 2\r\n",
                "            WHEN Customer_Age\t>= 35 THEN 3\r\n",
                "            ELSE 1\r\n",
                "            END ) age_category\r\n",
                "\r\n",
                "  FROM BankChurners\r\n",
                ")\r\n",
                "\r\n",
                "SELECT total_score, count(total_score) Count\r\n",
                "FROM\r\n",
                "    (SELECT *,\r\n",
                "      (Months_score + Transaction_amount_score + Transaction_count_score + Credit_score\r\n",
                "        + Card_Score + Income_Score + age_category) as total_score\r\n",
                "    \r\n",
                "  FROM scores) sub\r\n",
                "WHERE Attrition_Flag = 'Attrited Customer'\r\n",
                "GROUP BY total_score\r\n",
                "ORDER BY 2 DESC"
            ],
            "metadata": {
                "azdata_cell_guid": "9f363c67-d257-48b6-a84d-3d90247791b3",
                "language": "sql"
            },
            "outputs": [
                {
                    "output_type": "display_data",
                    "data": {
                        "text/html": "(12 rows affected)"
                    },
                    "metadata": {}
                },
                {
                    "output_type": "display_data",
                    "data": {
                        "text/html": "Total execution time: 00:00:00.106"
                    },
                    "metadata": {}
                },
                {
                    "output_type": "execute_result",
                    "metadata": {},
                    "execution_count": 64,
                    "data": {
                        "application/vnd.dataresource+json": {
                            "schema": {
                                "fields": [
                                    {
                                        "name": "total_score"
                                    },
                                    {
                                        "name": "Count"
                                    }
                                ]
                            },
                            "data": [
                                {
                                    "total_score": "19",
                                    "Count": "318"
                                },
                                {
                                    "total_score": "20",
                                    "Count": "318"
                                },
                                {
                                    "total_score": "18",
                                    "Count": "274"
                                },
                                {
                                    "total_score": "21",
                                    "Count": "221"
                                },
                                {
                                    "total_score": "17",
                                    "Count": "194"
                                },
                                {
                                    "total_score": "16",
                                    "Count": "134"
                                },
                                {
                                    "total_score": "15",
                                    "Count": "102"
                                },
                                {
                                    "total_score": "14",
                                    "Count": "40"
                                },
                                {
                                    "total_score": "13",
                                    "Count": "13"
                                },
                                {
                                    "total_score": "12",
                                    "Count": "9"
                                },
                                {
                                    "total_score": "9",
                                    "Count": "2"
                                },
                                {
                                    "total_score": "11",
                                    "Count": "2"
                                }
                            ]
                        },
                        "text/html": [
                            "<table>",
                            "<tr><th>total_score</th><th>Count</th></tr>",
                            "<tr><td>19</td><td>318</td></tr>",
                            "<tr><td>20</td><td>318</td></tr>",
                            "<tr><td>18</td><td>274</td></tr>",
                            "<tr><td>21</td><td>221</td></tr>",
                            "<tr><td>17</td><td>194</td></tr>",
                            "<tr><td>16</td><td>134</td></tr>",
                            "<tr><td>15</td><td>102</td></tr>",
                            "<tr><td>14</td><td>40</td></tr>",
                            "<tr><td>13</td><td>13</td></tr>",
                            "<tr><td>12</td><td>9</td></tr>",
                            "<tr><td>9</td><td>2</td></tr>",
                            "<tr><td>11</td><td>2</td></tr>",
                            "</table>"
                        ]
                    }
                }
            ],
            "execution_count": 64
        },
        {
            "cell_type": "code",
            "source": [
                "-- Scoring Existing Customers\r\n",
                "\r\n",
                "with scores as\r\n",
                "(\r\n",
                "\r\n",
                "  SELECT Clientnum\r\n",
                "\r\n",
                "      --Months on Book\r\n",
                "      ,(CASE WHEN Months_on_book >= 48 THEN 2 --More than 4 years\r\n",
                "            WHEN Months_on_book BETWEEN 24 and 47 THEN 3 --Between 2 and 3 years\r\n",
                "          ELSE 1\r\n",
                "      END) Months_score\r\n",
                "\r\n",
                "      -- Transaction Count\r\n",
                "      ,(CASE WHEN Total_Trans_Ct Between 20 and 49 THEN 3 \r\n",
                "            WHEN Total_Trans_Ct Between 50 and 99 THEN 2 \r\n",
                "          ELSE 1 \r\n",
                "          /* In here, Less than 10 (maybe not tenured long enough to make a transaction)\r\n",
                "              and Greater than 100 are given scores of 1 as they are unlikely to churn */\r\n",
                "\r\n",
                "      END ) Transaction_count_score\r\n",
                "\r\n",
                "      -- Transaction Amount\r\n",
                "      ,(CASE WHEN Total_Trans_Amt < 5000 THEN 3\r\n",
                "            WHEN Total_Trans_Amt < 10000 THEN 2 \r\n",
                "          ELSE 1\r\n",
                "      END) Transaction_amount_score\r\n",
                "      \r\n",
                "      -- Credit Limit\r\n",
                "      ,(CASE WHEN Credit_Limit < 5000 THEN 3\r\n",
                "            WHEN Credit_Limit < 20000 THEN 2 \r\n",
                "          ELSE 1\r\n",
                "      END) Credit_score\r\n",
                "\r\n",
                "      -- Card Category\r\n",
                "      ,(CASE WHEN Card_Category = 'Blue' THEN 3\r\n",
                "              WHEN Card_Category = 'Silver' THEN 2\r\n",
                "          ELSE 1\r\n",
                "      END) Card_Score\r\n",
                "\r\n",
                "      -- Income Category\r\n",
                "      ,(CASE WHEN Income_Category = 'Less than $40K' THEN 3\r\n",
                "              WHEN Income_Category IN ('$40K - $60K', '$80K - $120K', '$60K - $80K') THEN 2\r\n",
                "          ELSE 1\r\n",
                "      END) Income_Score\r\n",
                "\r\n",
                "        -- AGE\r\n",
                "      ,(CASE WHEN Customer_Age\t>= 50 THEN 2\r\n",
                "            WHEN Customer_Age\t>= 35 THEN 3\r\n",
                "            ELSE 1\r\n",
                "            END ) age_category\r\n",
                "\r\n",
                "  FROM #ExistingCustomers\r\n",
                ")\r\n",
                "\r\n",
                "SELECT TOP 15 clientnum, total_score --first 15\r\n",
                "FROM\r\n",
                "    (SELECT *,\r\n",
                "      (Months_score + Transaction_amount_score + Transaction_count_score + Credit_score\r\n",
                "        + Card_Score + Income_Score + age_category) as total_score\r\n",
                "    \r\n",
                "  FROM scores) sub\r\n",
                "WHERE total_score >= 18 ---High Risk "
            ],
            "metadata": {
                "azdata_cell_guid": "7a359723-73bb-49d9-b347-97230f4dc2f6",
                "language": "sql",
                "tags": []
            },
            "outputs": [
                {
                    "output_type": "display_data",
                    "data": {
                        "text/html": "(15 rows affected)"
                    },
                    "metadata": {}
                },
                {
                    "output_type": "display_data",
                    "data": {
                        "text/html": "Total execution time: 00:00:00.038"
                    },
                    "metadata": {}
                },
                {
                    "output_type": "execute_result",
                    "metadata": {},
                    "execution_count": 73,
                    "data": {
                        "application/vnd.dataresource+json": {
                            "schema": {
                                "fields": [
                                    {
                                        "name": "clientnum"
                                    },
                                    {
                                        "name": "total_score"
                                    }
                                ]
                            },
                            "data": [
                                {
                                    "clientnum": "768805383",
                                    "total_score": "19"
                                },
                                {
                                    "clientnum": "818770008",
                                    "total_score": "20"
                                },
                                {
                                    "clientnum": "713982108",
                                    "total_score": "19"
                                },
                                {
                                    "clientnum": "769911858",
                                    "total_score": "21"
                                },
                                {
                                    "clientnum": "709106358",
                                    "total_score": "18"
                                },
                                {
                                    "clientnum": "713061558",
                                    "total_score": "20"
                                },
                                {
                                    "clientnum": "710930508",
                                    "total_score": "18"
                                },
                                {
                                    "clientnum": "719661558",
                                    "total_score": "19"
                                },
                                {
                                    "clientnum": "708790833",
                                    "total_score": "18"
                                },
                                {
                                    "clientnum": "816082233",
                                    "total_score": "19"
                                },
                                {
                                    "clientnum": "712396908",
                                    "total_score": "19"
                                },
                                {
                                    "clientnum": "714885258",
                                    "total_score": "20"
                                },
                                {
                                    "clientnum": "709967358",
                                    "total_score": "18"
                                },
                                {
                                    "clientnum": "753327333",
                                    "total_score": "19"
                                },
                                {
                                    "clientnum": "806160108",
                                    "total_score": "18"
                                }
                            ]
                        },
                        "text/html": [
                            "<table>",
                            "<tr><th>clientnum</th><th>total_score</th></tr>",
                            "<tr><td>768805383</td><td>19</td></tr>",
                            "<tr><td>818770008</td><td>20</td></tr>",
                            "<tr><td>713982108</td><td>19</td></tr>",
                            "<tr><td>769911858</td><td>21</td></tr>",
                            "<tr><td>709106358</td><td>18</td></tr>",
                            "<tr><td>713061558</td><td>20</td></tr>",
                            "<tr><td>710930508</td><td>18</td></tr>",
                            "<tr><td>719661558</td><td>19</td></tr>",
                            "<tr><td>708790833</td><td>18</td></tr>",
                            "<tr><td>816082233</td><td>19</td></tr>",
                            "<tr><td>712396908</td><td>19</td></tr>",
                            "<tr><td>714885258</td><td>20</td></tr>",
                            "<tr><td>709967358</td><td>18</td></tr>",
                            "<tr><td>753327333</td><td>19</td></tr>",
                            "<tr><td>806160108</td><td>18</td></tr>",
                            "</table>"
                        ]
                    }
                }
            ],
            "execution_count": 73
        }
    ]
}