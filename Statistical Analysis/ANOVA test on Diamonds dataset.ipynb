{
 "cells": [
  {
   "cell_type": "code",
   "execution_count": 1,
   "id": "d8dfe513",
   "metadata": {},
   "outputs": [],
   "source": [
    "import pandas as pd\n",
    "import seaborn as sns\n",
    "import numpy as np\n",
    "import math"
   ]
  },
  {
   "cell_type": "code",
   "execution_count": 2,
   "id": "51a92f88",
   "metadata": {},
   "outputs": [],
   "source": [
    "diamonds = sns.load_dataset(\"diamonds\")"
   ]
  },
  {
   "cell_type": "code",
   "execution_count": 3,
   "id": "2537b534",
   "metadata": {},
   "outputs": [],
   "source": [
    "#log of price \n",
    "\n",
    "diamonds['log_price'] = [np.log(x) for x in diamonds['price']]"
   ]
  },
  {
   "cell_type": "code",
   "execution_count": 4,
   "id": "1400768d",
   "metadata": {},
   "outputs": [],
   "source": [
    "diamonds_sub = diamonds[['color', 'price', 'log_price']]"
   ]
  },
  {
   "cell_type": "code",
   "execution_count": 5,
   "id": "41fd5f6e",
   "metadata": {},
   "outputs": [
    {
     "name": "stdout",
     "output_type": "stream",
     "text": [
      "<class 'pandas.core.frame.DataFrame'>\n",
      "RangeIndex: 53940 entries, 0 to 53939\n",
      "Data columns (total 3 columns):\n",
      " #   Column     Non-Null Count  Dtype   \n",
      "---  ------     --------------  -----   \n",
      " 0   color      53940 non-null  category\n",
      " 1   price      53940 non-null  int64   \n",
      " 2   log_price  53940 non-null  float64 \n",
      "dtypes: category(1), float64(1), int64(1)\n",
      "memory usage: 896.0 KB\n"
     ]
    }
   ],
   "source": [
    "diamonds_sub.info()"
   ]
  },
  {
   "cell_type": "code",
   "execution_count": 6,
   "id": "e1120d21",
   "metadata": {
    "scrolled": true
   },
   "outputs": [
    {
     "data": {
      "text/plain": [
       "['E', 'I', 'J', 'H', 'F', 'G', 'D']\n",
       "Categories (7, object): ['D', 'E', 'F', 'G', 'H', 'I', 'J']"
      ]
     },
     "execution_count": 6,
     "metadata": {},
     "output_type": "execute_result"
    }
   ],
   "source": [
    "diamonds_sub.color.unique()"
   ]
  },
  {
   "cell_type": "code",
   "execution_count": null,
   "id": "02a887b1",
   "metadata": {
    "scrolled": false
   },
   "outputs": [],
   "source": [
    "#Change datatype to object\n",
    "\n",
    "diamonds_sub.loc[:, 'color'] = diamonds_sub[\"color\"].astype('object')"
   ]
  },
  {
   "cell_type": "code",
   "execution_count": 8,
   "id": "42480268",
   "metadata": {},
   "outputs": [],
   "source": [
    "# Excluding Color grade G and J\n",
    "\n",
    "condition = (diamonds_sub['color'] != 'G') & (diamonds_sub['color'] != 'J')\n",
    "diamonds_sub = diamonds_sub[condition]"
   ]
  },
  {
   "cell_type": "code",
   "execution_count": 9,
   "id": "a99d02e9",
   "metadata": {},
   "outputs": [],
   "source": [
    "diamonds_sub.reset_index(drop=True, inplace=True)"
   ]
  },
  {
   "cell_type": "code",
   "execution_count": 10,
   "id": "c3aa858b",
   "metadata": {},
   "outputs": [
    {
     "data": {
      "text/html": [
       "<div>\n",
       "<style scoped>\n",
       "    .dataframe tbody tr th:only-of-type {\n",
       "        vertical-align: middle;\n",
       "    }\n",
       "\n",
       "    .dataframe tbody tr th {\n",
       "        vertical-align: top;\n",
       "    }\n",
       "\n",
       "    .dataframe thead th {\n",
       "        text-align: right;\n",
       "    }\n",
       "</style>\n",
       "<table border=\"1\" class=\"dataframe\">\n",
       "  <thead>\n",
       "    <tr style=\"text-align: right;\">\n",
       "      <th></th>\n",
       "      <th>color</th>\n",
       "      <th>price</th>\n",
       "      <th>log_price</th>\n",
       "    </tr>\n",
       "  </thead>\n",
       "  <tbody>\n",
       "    <tr>\n",
       "      <th>0</th>\n",
       "      <td>E</td>\n",
       "      <td>326</td>\n",
       "      <td>5.786897</td>\n",
       "    </tr>\n",
       "    <tr>\n",
       "      <th>1</th>\n",
       "      <td>E</td>\n",
       "      <td>326</td>\n",
       "      <td>5.786897</td>\n",
       "    </tr>\n",
       "    <tr>\n",
       "      <th>2</th>\n",
       "      <td>E</td>\n",
       "      <td>327</td>\n",
       "      <td>5.789960</td>\n",
       "    </tr>\n",
       "    <tr>\n",
       "      <th>3</th>\n",
       "      <td>I</td>\n",
       "      <td>334</td>\n",
       "      <td>5.811141</td>\n",
       "    </tr>\n",
       "    <tr>\n",
       "      <th>4</th>\n",
       "      <td>I</td>\n",
       "      <td>336</td>\n",
       "      <td>5.817111</td>\n",
       "    </tr>\n",
       "  </tbody>\n",
       "</table>\n",
       "</div>"
      ],
      "text/plain": [
       "  color  price  log_price\n",
       "0     E    326   5.786897\n",
       "1     E    326   5.786897\n",
       "2     E    327   5.789960\n",
       "3     I    334   5.811141\n",
       "4     I    336   5.817111"
      ]
     },
     "execution_count": 10,
     "metadata": {},
     "output_type": "execute_result"
    }
   ],
   "source": [
    "diamonds_sub.head()"
   ]
  },
  {
   "cell_type": "code",
   "execution_count": 11,
   "id": "7831fcbd",
   "metadata": {
    "scrolled": false
   },
   "outputs": [
    {
     "data": {
      "text/plain": [
       "<Axes: xlabel='color', ylabel='log_price'>"
      ]
     },
     "execution_count": 11,
     "metadata": {},
     "output_type": "execute_result"
    },
    {
     "data": {
      "image/png": "[encoded data removed]",
      "text/plain": [
       "<Figure size 640x480 with 1 Axes>"
      ]
     },
     "metadata": {},
     "output_type": "display_data"
    }
   ],
   "source": [
    "# Checking if there's a variation in price based on color grade\n",
    "sns.boxplot(data= diamonds_sub, x= 'color', y = 'log_price')"
   ]
  },
  {
   "cell_type": "code",
   "execution_count": null,
   "id": "9a543f29",
   "metadata": {},
   "outputs": [],
   "source": []
  },
  {
   "cell_type": "markdown",
   "id": "eee7360d",
   "metadata": {},
   "source": [
    "#### Testing to see if the price varies based on color grade"
   ]
  },
  {
   "cell_type": "markdown",
   "id": "e4119fa8",
   "metadata": {},
   "source": [
    "   #### First, Let's the Multiple Regression model to see if there's a correlation between Price and Color"
   ]
  },
  {
   "cell_type": "code",
   "execution_count": 14,
   "id": "3adc7a82",
   "metadata": {},
   "outputs": [],
   "source": [
    "import statsmodels.api as sm\n",
    "from statsmodels.formula.api import ols"
   ]
  },
  {
   "cell_type": "code",
   "execution_count": 16,
   "id": "36306af7",
   "metadata": {},
   "outputs": [],
   "source": [
    "formula = \"log_price ~ C(color)\" #y ~ x\n",
    "\n",
    "OLS = ols(formula=formula, data= diamonds_sub)\n",
    "\n",
    "model = OLS.fit()"
   ]
  },
  {
   "cell_type": "code",
   "execution_count": 17,
   "id": "5ad2ab43",
   "metadata": {},
   "outputs": [
    {
     "data": {
      "text/html": [
       "<table class=\"simpletable\">\n",
       "<caption>OLS Regression Results</caption>\n",
       "<tr>\n",
       "  <th>Dep. Variable:</th>        <td>log_price</td>    <th>  R-squared:         </th> <td>   0.026</td> \n",
       "</tr>\n",
       "<tr>\n",
       "  <th>Model:</th>                   <td>OLS</td>       <th>  Adj. R-squared:    </th> <td>   0.026</td> \n",
       "</tr>\n",
       "<tr>\n",
       "  <th>Method:</th>             <td>Least Squares</td>  <th>  F-statistic:       </th> <td>   265.0</td> \n",
       "</tr>\n",
       "<tr>\n",
       "  <th>Date:</th>             <td>Thu, 28 Sep 2023</td> <th>  Prob (F-statistic):</th> <td>3.61e-225</td>\n",
       "</tr>\n",
       "<tr>\n",
       "  <th>Time:</th>                 <td>01:00:05</td>     <th>  Log-Likelihood:    </th> <td> -56182.</td> \n",
       "</tr>\n",
       "<tr>\n",
       "  <th>No. Observations:</th>      <td> 39840</td>      <th>  AIC:               </th> <td>1.124e+05</td>\n",
       "</tr>\n",
       "<tr>\n",
       "  <th>Df Residuals:</th>          <td> 39835</td>      <th>  BIC:               </th> <td>1.124e+05</td>\n",
       "</tr>\n",
       "<tr>\n",
       "  <th>Df Model:</th>              <td>     4</td>      <th>                     </th>     <td> </td>    \n",
       "</tr>\n",
       "<tr>\n",
       "  <th>Covariance Type:</th>      <td>nonrobust</td>    <th>                     </th>     <td> </td>    \n",
       "</tr>\n",
       "</table>\n",
       "<table class=\"simpletable\">\n",
       "<tr>\n",
       "        <td></td>           <th>coef</th>     <th>std err</th>      <th>t</th>      <th>P>|t|</th>  <th>[0.025</th>    <th>0.975]</th>  \n",
       "</tr>\n",
       "<tr>\n",
       "  <th>Intercept</th>     <td>    7.6169</td> <td>    0.012</td> <td>  632.421</td> <td> 0.000</td> <td>    7.593</td> <td>    7.641</td>\n",
       "</tr>\n",
       "<tr>\n",
       "  <th>C(color)[T.E]</th> <td>   -0.0375</td> <td>    0.016</td> <td>   -2.394</td> <td> 0.017</td> <td>   -0.068</td> <td>   -0.007</td>\n",
       "</tr>\n",
       "<tr>\n",
       "  <th>C(color)[T.F]</th> <td>    0.1455</td> <td>    0.016</td> <td>    9.240</td> <td> 0.000</td> <td>    0.115</td> <td>    0.176</td>\n",
       "</tr>\n",
       "<tr>\n",
       "  <th>C(color)[T.H]</th> <td>    0.3015</td> <td>    0.016</td> <td>   18.579</td> <td> 0.000</td> <td>    0.270</td> <td>    0.333</td>\n",
       "</tr>\n",
       "<tr>\n",
       "  <th>C(color)[T.I]</th> <td>    0.4061</td> <td>    0.018</td> <td>   22.479</td> <td> 0.000</td> <td>    0.371</td> <td>    0.441</td>\n",
       "</tr>\n",
       "</table>\n",
       "<table class=\"simpletable\">\n",
       "<tr>\n",
       "  <th>Omnibus:</th>       <td>7112.992</td> <th>  Durbin-Watson:     </th> <td>   0.065</td>\n",
       "</tr>\n",
       "<tr>\n",
       "  <th>Prob(Omnibus):</th>  <td> 0.000</td>  <th>  Jarque-Bera (JB):  </th> <td>1542.881</td>\n",
       "</tr>\n",
       "<tr>\n",
       "  <th>Skew:</th>           <td> 0.079</td>  <th>  Prob(JB):          </th> <td>    0.00</td>\n",
       "</tr>\n",
       "<tr>\n",
       "  <th>Kurtosis:</th>       <td> 2.049</td>  <th>  Cond. No.          </th> <td>    6.32</td>\n",
       "</tr>\n",
       "</table><br/><br/>Notes:<br/>[1] Standard Errors assume that the covariance matrix of the errors is correctly specified."
      ],
      "text/plain": [
       "<class 'statsmodels.iolib.summary.Summary'>\n",
       "\"\"\"\n",
       "                            OLS Regression Results                            \n",
       "==============================================================================\n",
       "Dep. Variable:              log_price   R-squared:                       0.026\n",
       "Model:                            OLS   Adj. R-squared:                  0.026\n",
       "Method:                 Least Squares   F-statistic:                     265.0\n",
       "Date:                Thu, 28 Sep 2023   Prob (F-statistic):          3.61e-225\n",
       "Time:                        01:00:05   Log-Likelihood:                -56182.\n",
       "No. Observations:               39840   AIC:                         1.124e+05\n",
       "Df Residuals:                   39835   BIC:                         1.124e+05\n",
       "Df Model:                           4                                         \n",
       "Covariance Type:            nonrobust                                         \n",
       "=================================================================================\n",
       "                    coef    std err          t      P>|t|      [0.025      0.975]\n",
       "---------------------------------------------------------------------------------\n",
       "Intercept         7.6169      0.012    632.421      0.000       7.593       7.641\n",
       "C(color)[T.E]    -0.0375      0.016     -2.394      0.017      -0.068      -0.007\n",
       "C(color)[T.F]     0.1455      0.016      9.240      0.000       0.115       0.176\n",
       "C(color)[T.H]     0.3015      0.016     18.579      0.000       0.270       0.333\n",
       "C(color)[T.I]     0.4061      0.018     22.479      0.000       0.371       0.441\n",
       "==============================================================================\n",
       "Omnibus:                     7112.992   Durbin-Watson:                   0.065\n",
       "Prob(Omnibus):                  0.000   Jarque-Bera (JB):             1542.881\n",
       "Skew:                           0.079   Prob(JB):                         0.00\n",
       "Kurtosis:                       2.049   Cond. No.                         6.32\n",
       "==============================================================================\n",
       "\n",
       "Notes:\n",
       "[1] Standard Errors assume that the covariance matrix of the errors is correctly specified.\n",
       "\"\"\""
      ]
     },
     "execution_count": 17,
     "metadata": {},
     "output_type": "execute_result"
    }
   ],
   "source": [
    "model.summary()"
   ]
  },
  {
   "cell_type": "markdown",
   "id": "647fc405",
   "metadata": {},
   "source": [
    "## One - way ANOVA test\n",
    "### Does the price differ between various colours?\n",
    " \n",
    "#### H0 - There's no difference in the price of the diamonds based on colour grade\n",
    "\n",
    "#### H1 - A difference in the price of the diamonds based on colour grade exists"
   ]
  },
  {
   "cell_type": "code",
   "execution_count": 18,
   "id": "1f02b449",
   "metadata": {},
   "outputs": [
    {
     "data": {
      "text/html": [
       "<div>\n",
       "<style scoped>\n",
       "    .dataframe tbody tr th:only-of-type {\n",
       "        vertical-align: middle;\n",
       "    }\n",
       "\n",
       "    .dataframe tbody tr th {\n",
       "        vertical-align: top;\n",
       "    }\n",
       "\n",
       "    .dataframe thead th {\n",
       "        text-align: right;\n",
       "    }\n",
       "</style>\n",
       "<table border=\"1\" class=\"dataframe\">\n",
       "  <thead>\n",
       "    <tr style=\"text-align: right;\">\n",
       "      <th></th>\n",
       "      <th>sum_sq</th>\n",
       "      <th>df</th>\n",
       "      <th>F</th>\n",
       "      <th>PR(&gt;F)</th>\n",
       "    </tr>\n",
       "  </thead>\n",
       "  <tbody>\n",
       "    <tr>\n",
       "      <th>C(color)</th>\n",
       "      <td>1041.690290</td>\n",
       "      <td>4.0</td>\n",
       "      <td>264.987395</td>\n",
       "      <td>3.609774e-225</td>\n",
       "    </tr>\n",
       "    <tr>\n",
       "      <th>Residual</th>\n",
       "      <td>39148.779822</td>\n",
       "      <td>39835.0</td>\n",
       "      <td>NaN</td>\n",
       "      <td>NaN</td>\n",
       "    </tr>\n",
       "  </tbody>\n",
       "</table>\n",
       "</div>"
      ],
      "text/plain": [
       "                sum_sq       df           F         PR(>F)\n",
       "C(color)   1041.690290      4.0  264.987395  3.609774e-225\n",
       "Residual  39148.779822  39835.0         NaN            NaN"
      ]
     },
     "execution_count": 18,
     "metadata": {},
     "output_type": "execute_result"
    }
   ],
   "source": [
    "sm.stats.anova_lm(model, typ = 2) #Using Typ 2 because its just 1 category there is no hierarchy or particular order in the colours"
   ]
  },
  {
   "cell_type": "markdown",
   "id": "e46299da",
   "metadata": {},
   "source": [
    "#### p value is very small. So H0 is rejected. There is a statistical significance in the difference in price based on colour grade\n",
    "#### ANOVA test only tells us that at least 1 of the colours have different prices. \n",
    "### Going indept with a Post Hoc Pairwise test \n"
   ]
  },
  {
   "cell_type": "code",
   "execution_count": 30,
   "id": "382a1682",
   "metadata": {},
   "outputs": [],
   "source": [
    "from statsmodels.stats.multicomp import pairwise_tukeyhsd"
   ]
  },
  {
   "cell_type": "code",
   "execution_count": 31,
   "id": "75af3d2d",
   "metadata": {},
   "outputs": [],
   "source": [
    "tukey_1way = pairwise_tukeyhsd(endog= diamonds_sub['log_price'], groups= diamonds_sub['color'], alpha=0.05)"
   ]
  },
  {
   "cell_type": "code",
   "execution_count": 32,
   "id": "ebf3303e",
   "metadata": {},
   "outputs": [
    {
     "data": {
      "text/html": [
       "<table class=\"simpletable\">\n",
       "<caption>Multiple Comparison of Means - Tukey HSD, FWER=0.05</caption>\n",
       "<tr>\n",
       "  <th>group1</th> <th>group2</th> <th>meandiff</th>  <th>p-adj</th>  <th>lower</th>   <th>upper</th> <th>reject</th>\n",
       "</tr>\n",
       "<tr>\n",
       "     <td>D</td>      <td>E</td>    <td>-0.0375</td> <td>0.1169</td> <td>-0.0802</td> <td>0.0052</td>  <td>False</td>\n",
       "</tr>\n",
       "<tr>\n",
       "     <td>D</td>      <td>F</td>    <td>0.1455</td>    <td>0.0</td>  <td>0.1026</td>  <td>0.1885</td>  <td>True</td> \n",
       "</tr>\n",
       "<tr>\n",
       "     <td>D</td>      <td>H</td>    <td>0.3015</td>    <td>0.0</td>  <td>0.2573</td>  <td>0.3458</td>  <td>True</td> \n",
       "</tr>\n",
       "<tr>\n",
       "     <td>D</td>      <td>I</td>    <td>0.4061</td>    <td>0.0</td>  <td>0.3568</td>  <td>0.4553</td>  <td>True</td> \n",
       "</tr>\n",
       "<tr>\n",
       "     <td>E</td>      <td>F</td>     <td>0.183</td>    <td>0.0</td>  <td>0.1441</td>  <td>0.2219</td>  <td>True</td> \n",
       "</tr>\n",
       "<tr>\n",
       "     <td>E</td>      <td>H</td>     <td>0.339</td>    <td>0.0</td>  <td>0.2987</td>  <td>0.3794</td>  <td>True</td> \n",
       "</tr>\n",
       "<tr>\n",
       "     <td>E</td>      <td>I</td>    <td>0.4436</td>    <td>0.0</td>  <td>0.3978</td>  <td>0.4893</td>  <td>True</td> \n",
       "</tr>\n",
       "<tr>\n",
       "     <td>F</td>      <td>H</td>     <td>0.156</td>    <td>0.0</td>  <td>0.1154</td>  <td>0.1966</td>  <td>True</td> \n",
       "</tr>\n",
       "<tr>\n",
       "     <td>F</td>      <td>I</td>    <td>0.2605</td>    <td>0.0</td>  <td>0.2145</td>  <td>0.3065</td>  <td>True</td> \n",
       "</tr>\n",
       "<tr>\n",
       "     <td>H</td>      <td>I</td>    <td>0.1045</td>    <td>0.0</td>  <td>0.0573</td>  <td>0.1517</td>  <td>True</td> \n",
       "</tr>\n",
       "</table>"
      ],
      "text/plain": [
       "<class 'statsmodels.iolib.table.SimpleTable'>"
      ]
     },
     "execution_count": 32,
     "metadata": {},
     "output_type": "execute_result"
    }
   ],
   "source": [
    "tukey_1way.summary()"
   ]
  },
  {
   "cell_type": "markdown",
   "id": "7b07b643",
   "metadata": {},
   "source": [
    "### We can reject the null hypothesis for all except colour D and E as there is NO statistical difference in price between both colours"
   ]
  },
  {
   "cell_type": "markdown",
   "id": "1222631b",
   "metadata": {},
   "source": [
    "## Lets add another variable -  Cut of the diamond. To ascertain if this has an effect on price "
   ]
  },
  {
   "cell_type": "code",
   "execution_count": 20,
   "id": "9e030637",
   "metadata": {},
   "outputs": [
    {
     "data": {
      "text/plain": [
       "['Ideal', 'Premium', 'Good', 'Very Good', 'Fair']\n",
       "Categories (5, object): ['Ideal', 'Premium', 'Very Good', 'Good', 'Fair']"
      ]
     },
     "execution_count": 20,
     "metadata": {},
     "output_type": "execute_result"
    }
   ],
   "source": [
    "diamonds.cut.unique()"
   ]
  },
  {
   "cell_type": "code",
   "execution_count": null,
   "id": "38cd08c4",
   "metadata": {},
   "outputs": [],
   "source": [
    "diamonds_sub2 = diamonds[['color', 'cut', 'price', 'log_price']]\n",
    "diamonds_sub2.loc[:, 'color'] = diamonds_sub2[\"color\"].astype('object') #to object\n",
    "diamonds_sub2.loc[:, 'cut'] = diamonds_sub2[\"cut\"].astype('object') #to object\n",
    "\n",
    "condition = (diamonds_sub2['color'] != 'G') & (diamonds_sub2['color'] != 'J')\n",
    "diamonds_sub2 = diamonds_sub2[condition]\n",
    "\n",
    "condition2 = (diamonds_sub2['cut'] != 'Good') & (diamonds_sub2['cut'] != 'Fair')\n",
    "diamonds_sub2 = diamonds_sub2[condition2]\n",
    "\n",
    "diamonds_sub2.reset_index(drop=True, inplace=True)"
   ]
  },
  {
   "cell_type": "code",
   "execution_count": 23,
   "id": "0a05193d",
   "metadata": {},
   "outputs": [
    {
     "data": {
      "text/html": [
       "<div>\n",
       "<style scoped>\n",
       "    .dataframe tbody tr th:only-of-type {\n",
       "        vertical-align: middle;\n",
       "    }\n",
       "\n",
       "    .dataframe tbody tr th {\n",
       "        vertical-align: top;\n",
       "    }\n",
       "\n",
       "    .dataframe thead th {\n",
       "        text-align: right;\n",
       "    }\n",
       "</style>\n",
       "<table border=\"1\" class=\"dataframe\">\n",
       "  <thead>\n",
       "    <tr style=\"text-align: right;\">\n",
       "      <th></th>\n",
       "      <th>color</th>\n",
       "      <th>cut</th>\n",
       "      <th>price</th>\n",
       "      <th>log_price</th>\n",
       "    </tr>\n",
       "  </thead>\n",
       "  <tbody>\n",
       "    <tr>\n",
       "      <th>0</th>\n",
       "      <td>E</td>\n",
       "      <td>Ideal</td>\n",
       "      <td>326</td>\n",
       "      <td>5.786897</td>\n",
       "    </tr>\n",
       "    <tr>\n",
       "      <th>1</th>\n",
       "      <td>E</td>\n",
       "      <td>Premium</td>\n",
       "      <td>326</td>\n",
       "      <td>5.786897</td>\n",
       "    </tr>\n",
       "    <tr>\n",
       "      <th>2</th>\n",
       "      <td>I</td>\n",
       "      <td>Premium</td>\n",
       "      <td>334</td>\n",
       "      <td>5.811141</td>\n",
       "    </tr>\n",
       "    <tr>\n",
       "      <th>3</th>\n",
       "      <td>I</td>\n",
       "      <td>Very Good</td>\n",
       "      <td>336</td>\n",
       "      <td>5.817111</td>\n",
       "    </tr>\n",
       "    <tr>\n",
       "      <th>4</th>\n",
       "      <td>H</td>\n",
       "      <td>Very Good</td>\n",
       "      <td>337</td>\n",
       "      <td>5.820083</td>\n",
       "    </tr>\n",
       "  </tbody>\n",
       "</table>\n",
       "</div>"
      ],
      "text/plain": [
       "  color        cut  price  log_price\n",
       "0     E      Ideal    326   5.786897\n",
       "1     E    Premium    326   5.786897\n",
       "2     I    Premium    334   5.811141\n",
       "3     I  Very Good    336   5.817111\n",
       "4     H  Very Good    337   5.820083"
      ]
     },
     "execution_count": 23,
     "metadata": {},
     "output_type": "execute_result"
    }
   ],
   "source": [
    "diamonds_sub2.head()"
   ]
  },
  {
   "cell_type": "code",
   "execution_count": 26,
   "id": "23ad933b",
   "metadata": {},
   "outputs": [],
   "source": [
    "formula2 = \"log_price ~ C(color) + C(cut) + C(color):C(cut)\" #y ~ x (:) for model the effect of interaction of color & cut\n",
    "\n",
    "OLS2 = ols(formula=formula2, data= diamonds_sub2)\n",
    "\n",
    "model2 = OLS2.fit()\n"
   ]
  },
  {
   "cell_type": "markdown",
   "id": "2ac03ca7",
   "metadata": {},
   "source": [
    "## Null Hypothesis\n",
    "Colour: No difference in price based on Colour \n",
    "Cut: No difference in price based on Cut\n",
    "Colour and Cut effect: Effect of color on price is independent of the cut and vice versa\n",
    "\n",
    "## Alternative Hypothesis\n",
    "Colour: There is a difference in price based on Colour \n",
    "Cut:  There is a  difference in price based on Cut\n",
    "Colour and Cut effect:  There is an interaction effect between colour and cut on price"
   ]
  },
  {
   "cell_type": "code",
   "execution_count": 28,
   "id": "2b6e2002",
   "metadata": {},
   "outputs": [
    {
     "data": {
      "text/html": [
       "<div>\n",
       "<style scoped>\n",
       "    .dataframe tbody tr th:only-of-type {\n",
       "        vertical-align: middle;\n",
       "    }\n",
       "\n",
       "    .dataframe tbody tr th {\n",
       "        vertical-align: top;\n",
       "    }\n",
       "\n",
       "    .dataframe thead th {\n",
       "        text-align: right;\n",
       "    }\n",
       "</style>\n",
       "<table border=\"1\" class=\"dataframe\">\n",
       "  <thead>\n",
       "    <tr style=\"text-align: right;\">\n",
       "      <th></th>\n",
       "      <th>sum_sq</th>\n",
       "      <th>df</th>\n",
       "      <th>F</th>\n",
       "      <th>PR(&gt;F)</th>\n",
       "    </tr>\n",
       "  </thead>\n",
       "  <tbody>\n",
       "    <tr>\n",
       "      <th>C(color)</th>\n",
       "      <td>926.361461</td>\n",
       "      <td>4.0</td>\n",
       "      <td>237.014783</td>\n",
       "      <td>3.481145e-201</td>\n",
       "    </tr>\n",
       "    <tr>\n",
       "      <th>C(cut)</th>\n",
       "      <td>630.641441</td>\n",
       "      <td>2.0</td>\n",
       "      <td>322.706309</td>\n",
       "      <td>1.348511e-139</td>\n",
       "    </tr>\n",
       "    <tr>\n",
       "      <th>C(color):C(cut)</th>\n",
       "      <td>27.478611</td>\n",
       "      <td>8.0</td>\n",
       "      <td>3.515279</td>\n",
       "      <td>4.531734e-04</td>\n",
       "    </tr>\n",
       "    <tr>\n",
       "      <th>Residual</th>\n",
       "      <td>34120.806577</td>\n",
       "      <td>34920.0</td>\n",
       "      <td>NaN</td>\n",
       "      <td>NaN</td>\n",
       "    </tr>\n",
       "  </tbody>\n",
       "</table>\n",
       "</div>"
      ],
      "text/plain": [
       "                       sum_sq       df           F         PR(>F)\n",
       "C(color)           926.361461      4.0  237.014783  3.481145e-201\n",
       "C(cut)             630.641441      2.0  322.706309  1.348511e-139\n",
       "C(color):C(cut)     27.478611      8.0    3.515279   4.531734e-04\n",
       "Residual         34120.806577  34920.0         NaN            NaN"
      ]
     },
     "execution_count": 28,
     "metadata": {},
     "output_type": "execute_result"
    }
   ],
   "source": [
    "sm.stats.anova_lm(model2, typ = 2)"
   ]
  },
  {
   "cell_type": "markdown",
   "id": "14df3c50",
   "metadata": {},
   "source": [
    "#### Based on the small p-values, we reject all 3 Null Hypothesis\n",
    "\n",
    "### Log of the Price is NOT the same for different colours\n",
    "### Log of the Price is NOT the same for different cuts\n",
    "### There is an interaction effect between colour and cut on price"
   ]
  }
 ],
 "metadata": {
  "kernelspec": {
   "display_name": "Python 3 (ipykernel)",
   "language": "python",
   "name": "python3"
  },
  "language_info": {
   "codemirror_mode": {
    "name": "ipython",
    "version": 3
   },
   "file_extension": ".py",
   "mimetype": "text/x-python",
   "name": "python",
   "nbconvert_exporter": "python",
   "pygments_lexer": "ipython3",
   "version": "3.10.9"
  }
 },
 "nbformat": 4,
 "nbformat_minor": 5
}
