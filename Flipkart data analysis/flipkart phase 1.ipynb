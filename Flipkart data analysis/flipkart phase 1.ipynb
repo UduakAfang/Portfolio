{
    "metadata": {
        "kernelspec": {
            "name": "SQL",
            "display_name": "SQL",
            "language": "sql"
        },
        "language_info": {
            "name": "sql",
            "version": ""
        }
    },
    "nbformat_minor": 2,
    "nbformat": 4,
    "cells": [
        {
            "cell_type": "markdown",
            "source": [
                "## Making Use of the **PACE** MODEL\n",
                "\n",
                "## Plan\n",
                "\n",
                "## Analyze: Statistical Analysis with Python\n",
                "\n",
                "## Construct: Detailed report with Tableau\n",
                "\n",
                "## Execute: Presenting the report online"
            ],
            "metadata": {
                "azdata_cell_guid": "bc741430-a379-42b2-a03a-4ea75d1843da"
            },
            "attachments": {}
        },
        {
            "cell_type": "markdown",
            "source": [
                "## **PLAN** phase\n",
                "\n",
                "- The ELT process will be executed\n",
                "- Data will be cleaned for the Analyze phase"
            ],
            "metadata": {
                "azdata_cell_guid": "8cc42081-d280-4984-a12b-cd08062c7495"
            },
            "attachments": {}
        },
        {
            "cell_type": "markdown",
            "source": [
                "E - Data extracted from Kaggle"
            ],
            "metadata": {
                "azdata_cell_guid": "e233960b-49ce-419e-9d12-0b51a94b257c"
            }
        },
        {
            "cell_type": "markdown",
            "source": [
                "L - Data to be loaded to a sqlserver Database"
            ],
            "metadata": {
                "azdata_cell_guid": "f223982c-ff07-4a12-9fdb-0235942b9026"
            }
        },
        {
            "cell_type": "markdown",
            "source": [
                "T - Data will be transformed. From JSON to table format and cleaned"
            ],
            "metadata": {
                "azdata_cell_guid": "fb5afc9a-ea6c-4b25-aca1-587a43d729f9"
            }
        },
        {
            "cell_type": "markdown",
            "source": [
                "ELT PROCESS"
            ],
            "metadata": {
                "azdata_cell_guid": "a54135fe-8e66-4207-a0dd-43be6eda3c04"
            }
        },
        {
            "cell_type": "markdown",
            "source": [
                "L -- Loading JSON data"
            ],
            "metadata": {
                "azdata_cell_guid": "01417d00-189d-4d35-937c-0e44f822bfbc"
            }
        },
        {
            "cell_type": "code",
            "source": [
                "Declare @JSON varchar(max)\n",
                "SELECT @JSON=BulkColumn\n",
                "FROM OPENROWSET (BULK 'G:\\My Drive\\PortfolioProjects\\flipkart_fashion_products_dataset.json\\flipkart_fashion_products_dataset.json', SINGLE_CLOB) import\n",
                "SELECT * \n",
                "INTO Flipkart_data\n",
                "FROM OPENJSON (@JSON)\n",
                "WITH\n",
                "( \n",
                "    _id NVARCHAR(MAX),\n",
                "    actual_price VARCHAR(50),\n",
                "    average_rating VARCHAR(10),\n",
                "    brand VARCHAR(50),\n",
                "    category VARCHAR(100),\n",
                "    crawled_at VARCHAR(100),\n",
                "    description VARCHAR(MAX),\n",
                "    discount VARCHAR(20),\n",
                "    -- images VARCHAR(MAX),\n",
                "    out_of_stock VARCHAR(10),\n",
                "    pid VARCHAR(50),\n",
                "    product_details nvarchar(max) as JSON,\n",
                "    seller VARCHAR(100),\n",
                "    selling_price VARCHAR(50),\n",
                "    sub_category VARCHAR(100),\n",
                "    title VARCHAR(200)\n",
                ");"
            ],
            "metadata": {
                "azdata_cell_guid": "fc77653e-3b93-446b-a8b9-e5117a6c5a6a",
                "language": "sql",
                "vscode": {
                    "languageId": "sql"
                }
            },
            "outputs": [
                {
                    "output_type": "display_data",
                    "data": {
                        "text/html": "(30000 rows affected)"
                    },
                    "metadata": {}
                },
                {
                    "output_type": "display_data",
                    "data": {
                        "text/html": "Total execution time: 00:00:54.423"
                    },
                    "metadata": {}
                }
            ],
            "execution_count": 28
        },
        {
            "cell_type": "code",
            "source": [
                "SELECT TOP 5 *\n",
                "FROM Flipkart_data;"
            ],
            "metadata": {
                "azdata_cell_guid": "4d71873b-614e-4ccd-9142-e6778c8995ca",
                "language": "sql",
                "vscode": {
                    "languageId": "sql"
                }
            },
            "outputs": [
                {
                    "output_type": "display_data",
                    "data": {
                        "text/html": "(5 rows affected)"
                    },
                    "metadata": {}
                },
                {
                    "output_type": "display_data",
                    "data": {
                        "text/html": "Total execution time: 00:00:00.060"
                    },
                    "metadata": {}
                },
                {
                    "output_type": "execute_result",
                    "execution_count": 17,
                    "data": {
                        "application/vnd.dataresource+json": {
                            "data": [
                                {
                                    "_id": "a549a2af-504f-59bd-ae23-7acb21ec5d11",
                                    "actual_price": "1,539",
                                    "average_rating": "2.7",
                                    "brand": "",
                                    "category": "Clothing and Accessories",
                                    "crawled_at": "02/10/2021, 20:12:40",
                                    "description": "We NextEdgeRetails are a professional tie manufacturer. We focus on ties for many years and In our store, we have many other styles (neckties,bow ties,tie sets,etc.) for sell which are bound to meet your needs, you can click our brand name nu-Lite to choose. Our products are famous for their comfort, durability and design because of the reliable quality, our products have been highly favored of the majority of customers. Besides they also would be perfect gifts or excellent additions to your wardrobe as well as for all fashion forward men, this tie is going to be a perfect pick. Make your Monday meetings more fun with this tie and show the world your style. Wearing an elegant man tie is an effective way to make you look charming and energetic. Be stylish and make a new style statement with nu-Lite that includes a great range of formal/casual slim neckties with pocket square for men. These ties looks good with most shirts, winning you compliments wherever you go and it. Comes with elegant primary packing of wooden box, it's a great choice for gifting purpose. Material: Wrinkle-resistant with ultra-fine POLYESTER microfiber, looks and feels like silk and even more durable OCCASIONS: nu-Lite ties collection are great choices for formal, casual and less formal occasions, such as office events, dinner dates, and simple day to day activities and also for Wedding, Engagement, Prom Ball Party, Business, Office, Meeting, Birthday Gifts, Holiday Presents, Thanks Giving, Christmas, Events Dressing. HOW TO CARE: Dry Cleaning Recommended and Before the first use please use Low Temperature Ironing to smooth the wrinkles. NOTE: In case you don't like the ties simply send them back, our team is here for any question.",
                                    "discount": "54% off",
                                    "out_of_stock": "false",
                                    "pid": "CTPFVZHVZVU4VQW9",
                                    "product_details": "[\n            {\n                \"Model Name\": \"Men's Micro Polyester Checkered Necktie Set with Pocket Square and Lapel Pin\"\n            }, \n            {\n                \"Style Code\": \"NL-Check-15\"\n            }, \n            {\n                \"Other Features\": \"AMAZING GIFT IDEA: Comes inside a wooden box, These nu-Lite stylish ties for men can make the perfect gift for every man and for every occasion, so get this stunning necktie for your husband for your anniversary, your dad for Father\\u2019s Day, your brother for his birthday, your son for Christmas, or your boyfriend for Valentine\\u2019s Day and on many more occasion like Daily Dress, Birthday, Wedding, Engagement, Party, Business, Office, Meeting etc. CARE: Dry clean only. Never place ties in washer or dryer as this will ruin the fabric and damage the sewing of the tie. High density fabric,No fade,wrinkle resistance and easy to take care of.\"\n            }, \n            {\n                \"Sales Package\": \"1 Tie with other accessories.\"\n            }\n        ]",
                                    "seller": "NextEdgeRetails",
                                    "selling_price": "699",
                                    "sub_category": "Clothing Accessories",
                                    "title": "nu-Lite Satin Tie & Cufflink  (Grey)"
                                },
                                {
                                    "_id": "8d92559c-6538-5f0c-bc6a-a880207b789d",
                                    "actual_price": "3,299",
                                    "average_rating": "2.7",
                                    "brand": "",
                                    "category": "Clothing and Accessories",
                                    "crawled_at": "02/10/2021, 20:12:40",
                                    "description": "Wearing an elegant man tie is an effective way to make you look charming and energetic. nu-Lite includes an amazing range of formal/casual slim neckties with pocket square for men. Further the classy & stylish appeal of these ties will certainly appeal to all & is bound to turn all heads. Adding complementing pocket square will enhance overall attire. It looks great with any dress or button up shirt. We have an enormous selection of ties to choose from, you can find the most elegant necktie designs and colors for each season of the year. These ties looks good with most shirts, winning you compliments wherever you go. Comes with elegant primary packing, great choice for gifting purpose. Each set comes with:",
                                    "discount": "81% off",
                                    "out_of_stock": "false",
                                    "pid": "CTPFVZT6GAFZ7BJX",
                                    "product_details": "[\n            {\n                \"Model Name\": \"Formal/Casual Printed Polyester Necktie Set with Pocket Square, Lapel Pin and Cufflinks for Men\"\n            }, \n            {\n                \"Style Code\": \"nu-Lite_Tie_09\"\n            }, \n            {\n                \"Other Features\": \"Slim tie having length 60 inches and width 3 inches. Made of polyester fabric, this men's tie is high on quality and light in weight too. It can be the best gift for yourself and friends. Care Instructions: Gentle Hand Wash. Great to wear for formal events, weddings bells, parties so you can stand out in the crowd\"\n            }, \n            {\n                \"Sales Package\": \"1 Tie with pocket square,Tie pin and cufflinks\"\n            }\n        ]",
                                    "seller": "NextEdgeRetails",
                                    "selling_price": "599",
                                    "sub_category": "Clothing Accessories",
                                    "title": "nu-Lite Satin Tie & Cufflink  (Blue)"
                                },
                                {
                                    "_id": "2c1d532e-7f8e-5b94-a629-b4c95fd9ddb7",
                                    "actual_price": "3,299",
                                    "average_rating": "2.7",
                                    "brand": "",
                                    "category": "Clothing and Accessories",
                                    "crawled_at": "02/10/2021, 20:12:41",
                                    "description": "Wearing an elegant man tie is an effective way to make you look charming and energetic. nu-Lite includes an amazing range of formal/casual slim neckties with pocket square for men. Further the classy & stylish appeal of these ties will certainly appeal to all & is bound to turn all heads. Adding complementing pocket square will enhance overall attire. It looks great with any dress or button up shirt. We have an enormous selection of ties to choose from, you can find the most elegant necktie designs and colors for each season of the year. These ties looks good with most shirts, winning you compliments wherever you go. Comes with elegant primary packing, great choice for gifting purpose. Each set comes with:",
                                    "discount": "72% off",
                                    "out_of_stock": "false",
                                    "pid": "CTPFVZT2F5UPM4YT",
                                    "product_details": "[\n            {\n                \"Model Name\": \"Formal/Casual Printed Polyester Necktie Set with Pocket Square, Lapel Pin and Cufflinks for Men\"\n            }, \n            {\n                \"Style Code\": \"nu-Lite_Tie_15\"\n            }, \n            {\n                \"Other Features\": \"Slim tie having length 60 inches and width 3 inches. Made of polyester fabric, this men's tie is high on quality and light in weight too. It can be the best gift for yourself and friends. Care Instructions: Gentle Hand Wash. Great to wear for formal events, weddings bells, parties so you can stand out in the crowd\"\n            }, \n            {\n                \"Sales Package\": \"1 Tie with pocket square,Tie pin and cufflinks\"\n            }\n        ]",
                                    "seller": "NextEdgeRetails",
                                    "selling_price": "899",
                                    "sub_category": "Clothing Accessories",
                                    "title": "nu-Lite Satin Tie & Cufflink  (Pink)"
                                },
                                {
                                    "_id": "3277ec81-728b-5dd0-9e11-6932305c79f6",
                                    "actual_price": "1,539",
                                    "average_rating": "2.7",
                                    "brand": "",
                                    "category": "Clothing and Accessories",
                                    "crawled_at": "02/10/2021, 20:12:41",
                                    "description": "",
                                    "discount": "77% off",
                                    "out_of_stock": "false",
                                    "pid": "CTPFVZGFGH6J9PUU",
                                    "product_details": "[\n            {\n                \"Model Name\": \"Men's Micro Polyester Checkered Necktie Set with Pocket Square and Lapel Pin\"\n            }, \n            {\n                \"Style Code\": \"NL-Check-3\"\n            }, \n            {\n                \"Sales Package\": \"1 Tie with other accessories.\"\n            }\n        ]",
                                    "seller": "NextEdgeRetails",
                                    "selling_price": "349",
                                    "sub_category": "Clothing Accessories",
                                    "title": "nu-Lite Satin Tie & Cufflink  (Multicolor)"
                                },
                                {
                                    "_id": "3c881c48-c6a0-54e8-bea5-728755ce6fd5",
                                    "actual_price": "1,539",
                                    "average_rating": "2.7",
                                    "brand": "",
                                    "category": "Clothing and Accessories",
                                    "crawled_at": "02/10/2021, 20:12:41",
                                    "description": "We NextEdgeRetails are a professional tie manufacturer. We focus on ties for many years and In our store, we have many other styles (neckties,bow ties,tie sets,etc.) for sell which are bound to meet your needs, you can click our brand name nu-Lite to choose. Our products are famous for their comfort, durability and design because of the reliable quality, our products have been highly favored of the majority of customers. Besides they also would be perfect gifts or excellent additions to your wardrobe as well as for all fashion forward men, this tie is going to be a perfect pick. Make your Monday meetings more fun with this tie and show the world your style. Wearing an elegant man tie is an effective way to make you look charming and energetic. Be stylish and make a new style statement with nu-Lite that includes a great range of formal/casual slim neckties with pocket square for men. These ties looks good with most shirts, winning you compliments wherever you go and it. Comes with elegant primary packing of wooden box, it's a great choice for gifting purpose. Material: Wrinkle-resistant with ultra-fine POLYESTER microfiber, looks and feels like silk and even more durable OCCASIONS: nu-Lite ties collection are great choices for formal, casual and less formal occasions, such as office events, dinner dates, and simple day to day activities and also for Wedding, Engagement, Prom Ball Party, Business, Office, Meeting, Birthday Gifts, Holiday Presents, Thanks Giving, Christmas, Events Dressing. HOW TO CARE: Dry Cleaning Recommended and Before the first use please use Low Temperature Ironing to smooth the wrinkles. NOTE: In case you don't like the ties simply send them back, our team is here for any question.",
                                    "discount": "77% off",
                                    "out_of_stock": "false",
                                    "pid": "CTPFVPFPUWYQC9M5",
                                    "product_details": "[\n            {\n                \"Model Name\": \"Men's Micro Polyester Floral Necktie Set with Pocket Square and Lapel Pin\"\n            }, \n            {\n                \"Style Code\": \"NL-Floral-39\"\n            }, \n            {\n                \"Sales Package\": \"1 Tie with other accessories.\"\n            }\n        ]",
                                    "seller": "NextEdgeRetails",
                                    "selling_price": "349",
                                    "sub_category": "Clothing Accessories",
                                    "title": "nu-Lite Satin Tie Pin Set  (Black)"
                                }
                            ],
                            "schema": {
                                "fields": [
                                    {
                                        "name": "_id"
                                    },
                                    {
                                        "name": "actual_price"
                                    },
                                    {
                                        "name": "average_rating"
                                    },
                                    {
                                        "name": "brand"
                                    },
                                    {
                                        "name": "category"
                                    },
                                    {
                                        "name": "crawled_at"
                                    },
                                    {
                                        "name": "description"
                                    },
                                    {
                                        "name": "discount"
                                    },
                                    {
                                        "name": "out_of_stock"
                                    },
                                    {
                                        "name": "pid"
                                    },
                                    {
                                        "name": "product_details"
                                    },
                                    {
                                        "name": "seller"
                                    },
                                    {
                                        "name": "selling_price"
                                    },
                                    {
                                        "name": "sub_category"
                                    },
                                    {
                                        "name": "title"
                                    }
                                ]
                            }
                        },
                        "text/html": "<table><tr><th>_id</th><th>actual_price</th><th>average_rating</th><th>brand</th><th>category</th><th>crawled_at</th><th>description</th><th>discount</th><th>out_of_stock</th><th>pid</th><th>product_details</th><th>seller</th><th>selling_price</th><th>sub_category</th><th>title</th></tr><tr><td>a549a2af-504f-59bd-ae23-7acb21ec5d11</td><td>1,539</td><td>2.7</td><td></td><td>Clothing and Accessories</td><td>02/10/2021, 20:12:40</td><td>We NextEdgeRetails are a professional tie manufacturer. We focus on ties for many years and In our store, we have many other styles (neckties,bow ties,tie sets,etc.) for sell which are bound to meet your needs, you can click our brand name nu-Lite to choose. Our products are famous for their comfort, durability and design because of the reliable quality, our products have been highly favored of the majority of customers. Besides they also would be perfect gifts or excellent additions to your wardrobe as well as for all fashion forward men, this tie is going to be a perfect pick. Make your Monday meetings more fun with this tie and show the world your style. Wearing an elegant man tie is an effective way to make you look charming and energetic. Be stylish and make a new style statement with nu-Lite that includes a great range of formal/casual slim neckties with pocket square for men. These ties looks good with most shirts, winning you compliments wherever you go and it. Comes with elegant primary packing of wooden box, it&#39;s a great choice for gifting purpose. Material: Wrinkle-resistant with ultra-fine POLYESTER microfiber, looks and feels like silk and even more durable OCCASIONS: nu-Lite ties collection are great choices for formal, casual and less formal occasions, such as office events, dinner dates, and simple day to day activities and also for Wedding, Engagement, Prom Ball Party, Business, Office, Meeting, Birthday Gifts, Holiday Presents, Thanks Giving, Christmas, Events Dressing. HOW TO CARE: Dry Cleaning Recommended and Before the first use please use Low Temperature Ironing to smooth the wrinkles. NOTE: In case you don&#39;t like the ties simply send them back, our team is here for any question.</td><td>54% off</td><td>false</td><td>CTPFVZHVZVU4VQW9</td><td>[\n            {\n                &quot;Model Name&quot;: &quot;Men&#39;s Micro Polyester Checkered Necktie Set with Pocket Square and Lapel Pin&quot;\n            }, \n            {\n                &quot;Style Code&quot;: &quot;NL-Check-15&quot;\n            }, \n            {\n                &quot;Other Features&quot;: &quot;AMAZING GIFT IDEA: Comes inside a wooden box, These nu-Lite stylish ties for men can make the perfect gift for every man and for every occasion, so get this stunning necktie for your husband for your anniversary, your dad for Father\\u2019s Day, your brother for his birthday, your son for Christmas, or your boyfriend for Valentine\\u2019s Day and on many more occasion like Daily Dress, Birthday, Wedding, Engagement, Party, Business, Office, Meeting etc. CARE: Dry clean only. Never place ties in washer or dryer as this will ruin the fabric and damage the sewing of the tie. High density fabric,No fade,wrinkle resistance and easy to take care of.&quot;\n            }, \n            {\n                &quot;Sales Package&quot;: &quot;1 Tie with other accessories.&quot;\n            }\n        ]</td><td>NextEdgeRetails</td><td>699</td><td>Clothing Accessories</td><td>nu-Lite Satin Tie &amp; Cufflink  (Grey)</td></tr><tr><td>8d92559c-6538-5f0c-bc6a-a880207b789d</td><td>3,299</td><td>2.7</td><td></td><td>Clothing and Accessories</td><td>02/10/2021, 20:12:40</td><td>Wearing an elegant man tie is an effective way to make you look charming and energetic. nu-Lite includes an amazing range of formal/casual slim neckties with pocket square for men. Further the classy &amp; stylish appeal of these ties will certainly appeal to all &amp; is bound to turn all heads. Adding complementing pocket square will enhance overall attire. It looks great with any dress or button up shirt. We have an enormous selection of ties to choose from, you can find the most elegant necktie designs and colors for each season of the year. These ties looks good with most shirts, winning you compliments wherever you go. Comes with elegant primary packing, great choice for gifting purpose. Each set comes with:</td><td>81% off</td><td>false</td><td>CTPFVZT6GAFZ7BJX</td><td>[\n            {\n                &quot;Model Name&quot;: &quot;Formal/Casual Printed Polyester Necktie Set with Pocket Square, Lapel Pin and Cufflinks for Men&quot;\n            }, \n            {\n                &quot;Style Code&quot;: &quot;nu-Lite_Tie_09&quot;\n            }, \n            {\n                &quot;Other Features&quot;: &quot;Slim tie having length 60 inches and width 3 inches. Made of polyester fabric, this men&#39;s tie is high on quality and light in weight too. It can be the best gift for yourself and friends. Care Instructions: Gentle Hand Wash. Great to wear for formal events, weddings bells, parties so you can stand out in the crowd&quot;\n            }, \n            {\n                &quot;Sales Package&quot;: &quot;1 Tie with pocket square,Tie pin and cufflinks&quot;\n            }\n        ]</td><td>NextEdgeRetails</td><td>599</td><td>Clothing Accessories</td><td>nu-Lite Satin Tie &amp; Cufflink  (Blue)</td></tr><tr><td>2c1d532e-7f8e-5b94-a629-b4c95fd9ddb7</td><td>3,299</td><td>2.7</td><td></td><td>Clothing and Accessories</td><td>02/10/2021, 20:12:41</td><td>Wearing an elegant man tie is an effective way to make you look charming and energetic. nu-Lite includes an amazing range of formal/casual slim neckties with pocket square for men. Further the classy &amp; stylish appeal of these ties will certainly appeal to all &amp; is bound to turn all heads. Adding complementing pocket square will enhance overall attire. It looks great with any dress or button up shirt. We have an enormous selection of ties to choose from, you can find the most elegant necktie designs and colors for each season of the year. These ties looks good with most shirts, winning you compliments wherever you go. Comes with elegant primary packing, great choice for gifting purpose. Each set comes with:</td><td>72% off</td><td>false</td><td>CTPFVZT2F5UPM4YT</td><td>[\n            {\n                &quot;Model Name&quot;: &quot;Formal/Casual Printed Polyester Necktie Set with Pocket Square, Lapel Pin and Cufflinks for Men&quot;\n            }, \n            {\n                &quot;Style Code&quot;: &quot;nu-Lite_Tie_15&quot;\n            }, \n            {\n                &quot;Other Features&quot;: &quot;Slim tie having length 60 inches and width 3 inches. Made of polyester fabric, this men&#39;s tie is high on quality and light in weight too. It can be the best gift for yourself and friends. Care Instructions: Gentle Hand Wash. Great to wear for formal events, weddings bells, parties so you can stand out in the crowd&quot;\n            }, \n            {\n                &quot;Sales Package&quot;: &quot;1 Tie with pocket square,Tie pin and cufflinks&quot;\n            }\n        ]</td><td>NextEdgeRetails</td><td>899</td><td>Clothing Accessories</td><td>nu-Lite Satin Tie &amp; Cufflink  (Pink)</td></tr><tr><td>3277ec81-728b-5dd0-9e11-6932305c79f6</td><td>1,539</td><td>2.7</td><td></td><td>Clothing and Accessories</td><td>02/10/2021, 20:12:41</td><td></td><td>77% off</td><td>false</td><td>CTPFVZGFGH6J9PUU</td><td>[\n            {\n                &quot;Model Name&quot;: &quot;Men&#39;s Micro Polyester Checkered Necktie Set with Pocket Square and Lapel Pin&quot;\n            }, \n            {\n                &quot;Style Code&quot;: &quot;NL-Check-3&quot;\n            }, \n            {\n                &quot;Sales Package&quot;: &quot;1 Tie with other accessories.&quot;\n            }\n        ]</td><td>NextEdgeRetails</td><td>349</td><td>Clothing Accessories</td><td>nu-Lite Satin Tie &amp; Cufflink  (Multicolor)</td></tr><tr><td>3c881c48-c6a0-54e8-bea5-728755ce6fd5</td><td>1,539</td><td>2.7</td><td></td><td>Clothing and Accessories</td><td>02/10/2021, 20:12:41</td><td>We NextEdgeRetails are a professional tie manufacturer. We focus on ties for many years and In our store, we have many other styles (neckties,bow ties,tie sets,etc.) for sell which are bound to meet your needs, you can click our brand name nu-Lite to choose. Our products are famous for their comfort, durability and design because of the reliable quality, our products have been highly favored of the majority of customers. Besides they also would be perfect gifts or excellent additions to your wardrobe as well as for all fashion forward men, this tie is going to be a perfect pick. Make your Monday meetings more fun with this tie and show the world your style. Wearing an elegant man tie is an effective way to make you look charming and energetic. Be stylish and make a new style statement with nu-Lite that includes a great range of formal/casual slim neckties with pocket square for men. These ties looks good with most shirts, winning you compliments wherever you go and it. Comes with elegant primary packing of wooden box, it&#39;s a great choice for gifting purpose. Material: Wrinkle-resistant with ultra-fine POLYESTER microfiber, looks and feels like silk and even more durable OCCASIONS: nu-Lite ties collection are great choices for formal, casual and less formal occasions, such as office events, dinner dates, and simple day to day activities and also for Wedding, Engagement, Prom Ball Party, Business, Office, Meeting, Birthday Gifts, Holiday Presents, Thanks Giving, Christmas, Events Dressing. HOW TO CARE: Dry Cleaning Recommended and Before the first use please use Low Temperature Ironing to smooth the wrinkles. NOTE: In case you don&#39;t like the ties simply send them back, our team is here for any question.</td><td>77% off</td><td>false</td><td>CTPFVPFPUWYQC9M5</td><td>[\n            {\n                &quot;Model Name&quot;: &quot;Men&#39;s Micro Polyester Floral Necktie Set with Pocket Square and Lapel Pin&quot;\n            }, \n            {\n                &quot;Style Code&quot;: &quot;NL-Floral-39&quot;\n            }, \n            {\n                &quot;Sales Package&quot;: &quot;1 Tie with other accessories.&quot;\n            }\n        ]</td><td>NextEdgeRetails</td><td>349</td><td>Clothing Accessories</td><td>nu-Lite Satin Tie Pin Set  (Black)</td></tr></table>"
                    },
                    "metadata": {}
                }
            ],
            "execution_count": 17
        },
        {
            "cell_type": "code",
            "source": [
                "-- HAVING A LOOK AT PRODUCT DETAILS\n",
                "SELECT top 5 _id,\n",
                "    JSON_VALUE(detail.value, '$.\"Style Code\"') AS StyleCode,\n",
                "    JSON_VALUE(detail.value, '$.\"Closure\"') AS Closure,\n",
                "    JSON_VALUE(detail.value, '$.\"Pockets\"') AS Pockets,\n",
                "    JSON_VALUE(detail.value, '$.\"Fabric\"') AS Fabric,\n",
                "    JSON_VALUE(detail.value, '$.\"Pattern\"') AS Pattern,\n",
                "    JSON_VALUE(detail.value, '$.\"Color\"') AS Color\n",
                "FROM Flipkart_data\n",
                "CROSS APPLY OPENJSON(PRODUCT_DETAILS) AS detail;"
            ],
            "metadata": {
                "azdata_cell_guid": "5b147bfa-a7fe-4ce5-813b-4b2a9ee08e1e",
                "language": "sql",
                "vscode": {
                    "languageId": "sql"
                }
            },
            "outputs": [
                {
                    "output_type": "display_data",
                    "data": {
                        "text/html": "(5 rows affected)"
                    },
                    "metadata": {}
                },
                {
                    "output_type": "display_data",
                    "data": {
                        "text/html": "Total execution time: 00:00:00.034"
                    },
                    "metadata": {}
                },
                {
                    "output_type": "execute_result",
                    "execution_count": 19,
                    "data": {
                        "application/vnd.dataresource+json": {
                            "data": [
                                {
                                    "Closure": "NULL",
                                    "Color": "NULL",
                                    "Fabric": "NULL",
                                    "Pattern": "NULL",
                                    "Pockets": "NULL",
                                    "StyleCode": "NULL",
                                    "_id": "a549a2af-504f-59bd-ae23-7acb21ec5d11"
                                },
                                {
                                    "Closure": "NULL",
                                    "Color": "NULL",
                                    "Fabric": "NULL",
                                    "Pattern": "NULL",
                                    "Pockets": "NULL",
                                    "StyleCode": "NL-Check-15",
                                    "_id": "a549a2af-504f-59bd-ae23-7acb21ec5d11"
                                },
                                {
                                    "Closure": "NULL",
                                    "Color": "NULL",
                                    "Fabric": "NULL",
                                    "Pattern": "NULL",
                                    "Pockets": "NULL",
                                    "StyleCode": "NULL",
                                    "_id": "a549a2af-504f-59bd-ae23-7acb21ec5d11"
                                },
                                {
                                    "Closure": "NULL",
                                    "Color": "NULL",
                                    "Fabric": "NULL",
                                    "Pattern": "NULL",
                                    "Pockets": "NULL",
                                    "StyleCode": "NULL",
                                    "_id": "a549a2af-504f-59bd-ae23-7acb21ec5d11"
                                },
                                {
                                    "Closure": "NULL",
                                    "Color": "NULL",
                                    "Fabric": "NULL",
                                    "Pattern": "NULL",
                                    "Pockets": "NULL",
                                    "StyleCode": "NULL",
                                    "_id": "8d92559c-6538-5f0c-bc6a-a880207b789d"
                                }
                            ],
                            "schema": {
                                "fields": [
                                    {
                                        "name": "_id"
                                    },
                                    {
                                        "name": "StyleCode"
                                    },
                                    {
                                        "name": "Closure"
                                    },
                                    {
                                        "name": "Pockets"
                                    },
                                    {
                                        "name": "Fabric"
                                    },
                                    {
                                        "name": "Pattern"
                                    },
                                    {
                                        "name": "Color"
                                    }
                                ]
                            }
                        },
                        "text/html": "<table><tr><th>_id</th><th>StyleCode</th><th>Closure</th><th>Pockets</th><th>Fabric</th><th>Pattern</th><th>Color</th></tr><tr><td>a549a2af-504f-59bd-ae23-7acb21ec5d11</td><td>NULL</td><td>NULL</td><td>NULL</td><td>NULL</td><td>NULL</td><td>NULL</td></tr><tr><td>a549a2af-504f-59bd-ae23-7acb21ec5d11</td><td>NL-Check-15</td><td>NULL</td><td>NULL</td><td>NULL</td><td>NULL</td><td>NULL</td></tr><tr><td>a549a2af-504f-59bd-ae23-7acb21ec5d11</td><td>NULL</td><td>NULL</td><td>NULL</td><td>NULL</td><td>NULL</td><td>NULL</td></tr><tr><td>a549a2af-504f-59bd-ae23-7acb21ec5d11</td><td>NULL</td><td>NULL</td><td>NULL</td><td>NULL</td><td>NULL</td><td>NULL</td></tr><tr><td>8d92559c-6538-5f0c-bc6a-a880207b789d</td><td>NULL</td><td>NULL</td><td>NULL</td><td>NULL</td><td>NULL</td><td>NULL</td></tr></table>"
                    },
                    "metadata": {}
                }
            ],
            "execution_count": 19
        },
        {
            "cell_type": "markdown",
            "source": [
                "Unnesting the Product\\_details into a seperate table"
            ],
            "metadata": {
                "azdata_cell_guid": "d5522f55-da1d-4a3a-9c83-95973f4015d6",
                "language": ""
            },
            "attachments": {}
        },
        {
            "cell_type": "code",
            "source": [
                "\n",
                "-- FOR each Subset of Product details, we will reiterate the same query and store in a table\n",
                "-- This query will produce two columns for for id and the other for the subset\n",
                "-- Null values will be removed\n",
                "\n",
                "SELECT \n",
                "    _id as id,\n",
                "    JSON_VALUE(detail.value, '$.\"Style Code\"') AS StyleCode\n",
                "INTO Stylecode\n",
                "FROM Flipkart_data\n",
                "CROSS APPLY OPENJSON(PRODUCT_DETAILS) AS detail\n",
                "WHERE JSON_VALUE(detail.value, '$.\"Style Code\"') IS NOT NULL;\n",
                "\n",
                "SELECT \n",
                "    _id as id,\n",
                "    JSON_VALUE(detail.value, '$.\"Closure\"') AS Closure\n",
                "INTO Closure\n",
                "FROM Flipkart_data\n",
                "CROSS APPLY OPENJSON(PRODUCT_DETAILS) AS detail\n",
                "WHERE JSON_VALUE(detail.value, '$.\"Closure\"') IS NOT NULL;\n",
                "\n",
                "SELECT \n",
                "    _id as id,\n",
                "    JSON_VALUE(detail.value, '$.\"Pockets\"') AS Pockets\n",
                "INTO Pockets\n",
                "FROM Flipkart_data\n",
                "CROSS APPLY OPENJSON(PRODUCT_DETAILS) AS detail\n",
                "WHERE JSON_VALUE(detail.value, '$.\"Pockets\"') IS NOT NULL;\n",
                "\n",
                "SELECT \n",
                "    _id as id,\n",
                "    JSON_VALUE(detail.value, '$.\"Fabric\"') AS Fabric\n",
                "INTO Fabric\n",
                "FROM Flipkart_data\n",
                "CROSS APPLY OPENJSON(PRODUCT_DETAILS) AS detail\n",
                "WHERE JSON_VALUE(detail.value, '$.\"Fabric\"') IS NOT NULL;\n",
                "\n",
                "SELECT \n",
                "    _id as id,\n",
                "    JSON_VALUE(detail.value, '$.\"Pattern\"') AS Pattern\n",
                "INTO Pattern\n",
                "FROM Flipkart_data\n",
                "CROSS APPLY OPENJSON(PRODUCT_DETAILS) AS detail\n",
                "WHERE JSON_VALUE(detail.value, '$.\"Pattern\"') IS NOT NULL;\n",
                "\n",
                "SELECT \n",
                "    _id as id,\n",
                "    JSON_VALUE(detail.value, '$.\"Color\"') AS Color\n",
                "INTO Color\n",
                "FROM Flipkart_data\n",
                "CROSS APPLY OPENJSON(PRODUCT_DETAILS) AS detail\n",
                "WHERE JSON_VALUE(detail.value, '$.\"Color\"') IS NOT NULL;\n",
                "\n",
                "SELECT \n",
                "    _id as id,\n",
                "    JSON_VALUE(detail.value, '$.\"Sales Package\"') AS [Sales Package]\n",
                "INTO Sales_package\n",
                "FROM Flipkart_data\n",
                "CROSS APPLY OPENJSON(PRODUCT_DETAILS) AS detail\n",
                "WHERE JSON_VALUE(detail.value, '$.\"Sales Package\"') IS NOT NULL;\n",
                "\n",
                "SELECT \n",
                "    _id as id,\n",
                "    JSON_VALUE(detail.value, '$.\"Fabric Care\"') AS [Fabric Care]\n",
                "INTO Fabric_care\n",
                "FROM Flipkart_data\n",
                "CROSS APPLY OPENJSON(PRODUCT_DETAILS) AS detail\n",
                "WHERE JSON_VALUE(detail.value, '$.\"Fabric Care\"') IS NOT NULL;\n",
                "\n",
                "SELECT \n",
                "    _id as id,\n",
                "    JSON_VALUE(detail.value, '$.\"Type\"') AS [Type]\n",
                "INTO Type\n",
                "FROM Flipkart_data\n",
                "CROSS APPLY OPENJSON(PRODUCT_DETAILS) AS detail\n",
                "WHERE JSON_VALUE(detail.value, '$.\"Type\"') IS NOT NULL;\n",
                "\n",
                "SELECT \n",
                "    _id as id,\n",
                "    JSON_VALUE(detail.value, '$.\"Sleeve\"') AS [Sleeve]\n",
                "INTO Sleeve\n",
                "FROM Flipkart_data\n",
                "CROSS APPLY OPENJSON(PRODUCT_DETAILS) AS detail\n",
                "WHERE JSON_VALUE(detail.value, '$.\"Sleeve\"') IS NOT NULL;\n",
                "\n",
                "SELECT \n",
                "    _id as id,\n",
                "    JSON_VALUE(detail.value, '$.\"Size\"') AS [Size]\n",
                "INTO Size\n",
                "FROM Flipkart_data\n",
                "CROSS APPLY OPENJSON(PRODUCT_DETAILS) AS detail\n",
                "WHERE JSON_VALUE(detail.value, '$.\"Size\"') IS NOT NULL;\n",
                "\n",
                "SELECT \n",
                "    _id as id,\n",
                "    JSON_VALUE(detail.value, '$.\"Brand Color\"') AS [Brand Color]\n",
                "INTO Brand_Color\n",
                "FROM Flipkart_data\n",
                "CROSS APPLY OPENJSON(PRODUCT_DETAILS) AS detail\n",
                "WHERE JSON_VALUE(detail.value, '$.\"Brand Color\"') IS NOT NULL;\n",
                "\n",
                "SELECT \n",
                "    _id as id,\n",
                "    JSON_VALUE(detail.value, '$.\"Pack of\"') AS [Pack of]\n",
                "INTO Pack_of\n",
                "FROM Flipkart_data\n",
                "CROSS APPLY OPENJSON(PRODUCT_DETAILS) AS detail\n",
                "WHERE JSON_VALUE(detail.value, '$.\"Pack of\"') IS NOT NULL;\n",
                "\n"
            ],
            "metadata": {
                "azdata_cell_guid": "e20f2a40-5151-4e68-a218-ef27971130fb",
                "language": "sql",
                "tags": [],
                "vscode": {
                    "languageId": "sql"
                }
            },
            "outputs": [
                {
                    "output_type": "display_data",
                    "data": {
                        "text/html": "(27568 rows affected)"
                    },
                    "metadata": {}
                },
                {
                    "output_type": "display_data",
                    "data": {
                        "text/html": "(4550 rows affected)"
                    },
                    "metadata": {}
                },
                {
                    "output_type": "display_data",
                    "data": {
                        "text/html": "(1778 rows affected)"
                    },
                    "metadata": {}
                },
                {
                    "output_type": "display_data",
                    "data": {
                        "text/html": "(27804 rows affected)"
                    },
                    "metadata": {}
                },
                {
                    "output_type": "display_data",
                    "data": {
                        "text/html": "(27507 rows affected)"
                    },
                    "metadata": {}
                },
                {
                    "output_type": "display_data",
                    "data": {
                        "text/html": "(14889 rows affected)"
                    },
                    "metadata": {}
                },
                {
                    "output_type": "display_data",
                    "data": {
                        "text/html": "(13663 rows affected)"
                    },
                    "metadata": {}
                },
                {
                    "output_type": "display_data",
                    "data": {
                        "text/html": "(23500 rows affected)"
                    },
                    "metadata": {}
                },
                {
                    "output_type": "display_data",
                    "data": {
                        "text/html": "(18826 rows affected)"
                    },
                    "metadata": {}
                },
                {
                    "output_type": "display_data",
                    "data": {
                        "text/html": "(20411 rows affected)"
                    },
                    "metadata": {}
                },
                {
                    "output_type": "display_data",
                    "data": {
                        "text/html": "(13420 rows affected)"
                    },
                    "metadata": {}
                },
                {
                    "output_type": "display_data",
                    "data": {
                        "text/html": "(14029 rows affected)"
                    },
                    "metadata": {}
                },
                {
                    "output_type": "display_data",
                    "data": {
                        "text/html": "(19417 rows affected)"
                    },
                    "metadata": {}
                },
                {
                    "output_type": "display_data",
                    "data": {
                        "text/html": "Total execution time: 00:00:53.620"
                    },
                    "metadata": {}
                }
            ],
            "execution_count": 22
        },
        {
            "cell_type": "code",
            "source": [
                "/*\n",
                "Using Coalesce to replace null ids with other ids.\n",
                "Using MAX to aggregate the values for each column while grouping by the Id column. \n",
                "This will combine all the records with the same ID into a single row, \n",
                "and each column will contain the maximum non-null value from the individual rows with the same ID.\n",
                "If this is not done, there will be duplicate product_ids, with each id showing only 1 detail\n",
                "*/\n",
                "\n",
                "SELECT\n",
                "    COALESCE(st.id, cl.id, p.id, f.id, pa.id,\n",
                "                co.id, sp.id, fc.id, t.id, sv.id, sz.id, bc.id, po.id) AS Id,\n",
                "    MAX(StyleCode) AS StyleCode,\n",
                "    MAX(Closure) AS Closure,\n",
                "    MAX(Pockets) AS Pockets,\n",
                "    MAX(Fabric) AS Fabric,\n",
                "    MAX(Pattern) AS Pattern,\n",
                "    MAX(Color) AS Color,\n",
                "    MAX([Type]) AS [Type],\n",
                "    MAX([Sales Package]) AS [Sales Package],\n",
                "    MAX([Fabric Care]) AS [Fabric Care],\n",
                "    MAX([Size]) AS [Size],\n",
                "    MAX(Sleeve) AS Sleeve,\n",
                "    MAX([Brand Color]) AS [Brand Color],\n",
                "    MAX([Pack of]) AS [Pack of]\n",
                "INTO flipkart_products\n",
                "FROM\n",
                "    Stylecode st\n",
                "FULL OUTER JOIN Closure cl ON st.id = cl.id\n",
                "FULL OUTER JOIN Pockets p ON p.id = COALESCE(st.id, cl.id)\n",
                "FULL OUTER JOIN Fabric f ON f.id = COALESCE(st.id, cl.id, p.id)\n",
                "FULL OUTER JOIN Pattern pa ON pa.id = COALESCE(st.id, cl.id, p.id, f.id)\n",
                "FULL OUTER JOIN Color co ON co.id = COALESCE(st.id, cl.id, p.id, f.id, pa.id)\n",
                "FULL OUTER JOIN Sales_package sp ON sp.id = COALESCE(st.id, cl.id, p.id, f.id, pa.id, co.id)\n",
                "FULL OUTER JOIN Fabric_care fc ON fc.id = COALESCE(st.id, cl.id, p.id, f.id, pa.id, co.id, sp.id)\n",
                "FULL OUTER JOIN [Type] t ON t.id = COALESCE(st.id, cl.id, p.id, f.id, pa.id, co.id, sp.id, fc.id)\n",
                "FULL OUTER JOIN Sleeve sv ON sv.id = COALESCE(st.id, cl.id, p.id, f.id, pa.id, co.id, sp.id, fc.id, t.id)\n",
                "FULL OUTER JOIN [Size] sz ON sz.id = COALESCE(st.id, cl.id, p.id, f.id, pa.id, co.id, sp.id, fc.id, t.id, sv.id)\n",
                "FULL OUTER JOIN [Brand_Color] bc ON bc.id = COALESCE(st.id, cl.id, p.id, f.id, pa.id, co.id, sp.id, fc.id, t.id, sv.id, sz.id)\n",
                "FULL OUTER JOIN [Pack_of] po ON po.id = COALESCE(st.id, cl.id, p.id, f.id, pa.id, co.id, sp.id, fc.id, t.id, sv.id, sz.id, bc.id)\n",
                "GROUP BY\n",
                "    COALESCE(st.id, cl.id, p.id, f.id, pa.id,\n",
                "                co.id, sp.id, fc.id, t.id, sv.id, sz.id, bc.id, po.id)\n",
                "-- ORDER BY 1\n",
                ";\n"
            ],
            "metadata": {
                "azdata_cell_guid": "8e521c3f-d0b0-45de-8c12-0aec5c2a609c",
                "language": "sql",
                "tags": [],
                "vscode": {
                    "languageId": "sql"
                }
            },
            "outputs": [
                {
                    "output_type": "display_data",
                    "data": {
                        "text/html": "Warning: Null value is eliminated by an aggregate or other SET operation."
                    },
                    "metadata": {}
                },
                {
                    "output_type": "display_data",
                    "data": {
                        "text/html": "(29985 rows affected)"
                    },
                    "metadata": {}
                },
                {
                    "output_type": "display_data",
                    "data": {
                        "text/html": "Total execution time: 00:00:11.144"
                    },
                    "metadata": {}
                }
            ],
            "execution_count": 29
        },
        {
            "cell_type": "markdown",
            "source": [
                "## CLEANING\n",
                "\n",
                "In this stage, we will clean the flipkart\\_data table"
            ],
            "metadata": {
                "azdata_cell_guid": "22680405-d6a7-4ec1-a029-34ea192d8ea5"
            },
            "attachments": {}
        },
        {
            "cell_type": "code",
            "source": [
                "-- UPDATE\n",
                "UPDATE Flipkart_data\n",
                "SET actual_price = TRIM(REPLACE(actual_price, ',', ''));\n",
                "\n",
                "SELECT TOP 10 actual_price\n",
                "FROM Flipkart_data"
            ],
            "metadata": {
                "azdata_cell_guid": "28c20af9-5b11-401a-be57-eb31a89de063",
                "language": "sql",
                "tags": [],
                "vscode": {
                    "languageId": "sql"
                }
            },
            "outputs": [
                {
                    "output_type": "display_data",
                    "data": {
                        "text/html": "(30000 rows affected)"
                    },
                    "metadata": {}
                },
                {
                    "output_type": "display_data",
                    "data": {
                        "text/html": "(10 rows affected)"
                    },
                    "metadata": {}
                },
                {
                    "output_type": "display_data",
                    "data": {
                        "text/html": "Total execution time: 00:00:00.600"
                    },
                    "metadata": {}
                },
                {
                    "output_type": "execute_result",
                    "execution_count": 31,
                    "data": {
                        "application/vnd.dataresource+json": {
                            "data": [
                                {
                                    "actual_price": "1539"
                                },
                                {
                                    "actual_price": "3299"
                                },
                                {
                                    "actual_price": "3299"
                                },
                                {
                                    "actual_price": "1539"
                                },
                                {
                                    "actual_price": "1539"
                                },
                                {
                                    "actual_price": "1539"
                                },
                                {
                                    "actual_price": "2999"
                                },
                                {
                                    "actual_price": "1539"
                                },
                                {
                                    "actual_price": "1539"
                                },
                                {
                                    "actual_price": "1539"
                                }
                            ],
                            "schema": {
                                "fields": [
                                    {
                                        "name": "actual_price"
                                    }
                                ]
                            }
                        },
                        "text/html": "<table><tr><th>actual_price</th></tr><tr><td>1539</td></tr><tr><td>3299</td></tr><tr><td>3299</td></tr><tr><td>1539</td></tr><tr><td>1539</td></tr><tr><td>1539</td></tr><tr><td>2999</td></tr><tr><td>1539</td></tr><tr><td>1539</td></tr><tr><td>1539</td></tr></table>"
                    },
                    "metadata": {}
                }
            ],
            "execution_count": 31
        },
        {
            "cell_type": "code",
            "source": [
                "-- UPDATE\n",
                "UPDATE Flipkart_data\n",
                "SET selling_price = TRIM(REPLACE(selling_price, ',', ''));\n",
                "\n",
                "SELECT TOP 5 selling_price\n",
                "FROM Flipkart_data"
            ],
            "metadata": {
                "azdata_cell_guid": "b427ebba-0ca7-4100-b58c-ea0f6c1935b8",
                "language": "sql",
                "vscode": {
                    "languageId": "sql"
                }
            },
            "outputs": [
                {
                    "output_type": "display_data",
                    "data": {
                        "text/html": "(30000 rows affected)"
                    },
                    "metadata": {}
                },
                {
                    "output_type": "display_data",
                    "data": {
                        "text/html": "(5 rows affected)"
                    },
                    "metadata": {}
                },
                {
                    "output_type": "display_data",
                    "data": {
                        "text/html": "Total execution time: 00:00:00.543"
                    },
                    "metadata": {}
                },
                {
                    "output_type": "execute_result",
                    "execution_count": 32,
                    "data": {
                        "application/vnd.dataresource+json": {
                            "data": [
                                {
                                    "selling_price": "699"
                                },
                                {
                                    "selling_price": "599"
                                },
                                {
                                    "selling_price": "899"
                                },
                                {
                                    "selling_price": "349"
                                },
                                {
                                    "selling_price": "349"
                                }
                            ],
                            "schema": {
                                "fields": [
                                    {
                                        "name": "selling_price"
                                    }
                                ]
                            }
                        },
                        "text/html": "<table><tr><th>selling_price</th></tr><tr><td>699</td></tr><tr><td>599</td></tr><tr><td>899</td></tr><tr><td>349</td></tr><tr><td>349</td></tr></table>"
                    },
                    "metadata": {}
                }
            ],
            "execution_count": 32
        },
        {
            "cell_type": "code",
            "source": [
                "-- Changing the datatypes to int\n",
                "ALTER TABLE flipkart_data\n",
                "ALTER COLUMN actual_price int;\n",
                "\n",
                "ALTER TABLE flipkart_data\n",
                "ALTER COLUMN selling_price int;"
            ],
            "metadata": {
                "azdata_cell_guid": "ac32f4d4-fc97-4012-be79-7a1b05ed06ca",
                "language": "sql",
                "vscode": {
                    "languageId": "sql"
                }
            },
            "outputs": [
                {
                    "output_type": "display_data",
                    "data": {
                        "text/html": "Commands completed successfully."
                    },
                    "metadata": {}
                },
                {
                    "output_type": "display_data",
                    "data": {
                        "text/html": "Total execution time: 00:00:01.664"
                    },
                    "metadata": {}
                }
            ],
            "execution_count": 55
        },
        {
            "cell_type": "markdown",
            "source": [
                "### There are a lot of rows with empty strings in the **Average\\_rating** column.  \n",
                "Those cells need to be filled.  \n",
                "Checking the MODE, MEAN AND MEDIAN to determine what to fill it with"
            ],
            "metadata": {
                "azdata_cell_guid": "2dc61943-2d21-446b-9cf5-d9914aae0696"
            },
            "attachments": {}
        },
        {
            "cell_type": "code",
            "source": [
                "-- MEAN\n",
                "SELECT round(avg(CAST(average_rating as decimal(5,2))),1) as average\n",
                "FROM Flipkart_data\n",
                "WHERE --Excluding the empty string cells \n",
                "    (average_rating IS NOT NULL) \n",
                "    AND (average_rating <> '' OR average_rating <> LTRIM(RTRIM(average_rating)));"
            ],
            "metadata": {
                "azdata_cell_guid": "af55fdac-2aec-4d9c-80cb-3934e2772765",
                "language": "sql",
                "vscode": {
                    "languageId": "sql"
                }
            },
            "outputs": [
                {
                    "output_type": "display_data",
                    "data": {
                        "text/html": "(1 row affected)"
                    },
                    "metadata": {}
                },
                {
                    "output_type": "display_data",
                    "data": {
                        "text/html": "Total execution time: 00:00:00.180"
                    },
                    "metadata": {}
                },
                {
                    "output_type": "execute_result",
                    "execution_count": 33,
                    "data": {
                        "application/vnd.dataresource+json": {
                            "data": [
                                {
                                    "average": "3.600000"
                                }
                            ],
                            "schema": {
                                "fields": [
                                    {
                                        "name": "average"
                                    }
                                ]
                            }
                        },
                        "text/html": "<table><tr><th>average</th></tr><tr><td>3.600000</td></tr></table>"
                    },
                    "metadata": {}
                }
            ],
            "execution_count": 33
        },
        {
            "cell_type": "code",
            "source": [
                "-- MODE\n",
                "SELECT average_rating,COUNT(1) frequency\n",
                "FROM Flipkart_data\n",
                "WHERE (average_rating IS NOT NULL) \n",
                "    AND (average_rating <> '' OR average_rating <> LTRIM(RTRIM(average_rating)))\n",
                "GROUP BY average_rating\n",
                "ORDER BY 2 DESC"
            ],
            "metadata": {
                "azdata_cell_guid": "c3581930-7ed6-4e98-98bf-4516c7b4f457",
                "language": "sql",
                "vscode": {
                    "languageId": "sql"
                }
            },
            "outputs": [
                {
                    "output_type": "display_data",
                    "data": {
                        "text/html": "(38 rows affected)"
                    },
                    "metadata": {}
                },
                {
                    "output_type": "display_data",
                    "data": {
                        "text/html": "Total execution time: 00:00:00.091"
                    },
                    "metadata": {}
                },
                {
                    "output_type": "execute_result",
                    "execution_count": 71,
                    "data": {
                        "application/vnd.dataresource+json": {
                            "data": [
                                {
                                    "average_rating": "3.9",
                                    "frequency": "2690"
                                },
                                {
                                    "average_rating": "3.8",
                                    "frequency": "2532"
                                },
                                {
                                    "average_rating": "3.6",
                                    "frequency": "1957"
                                },
                                {
                                    "average_rating": "4.2",
                                    "frequency": "1838"
                                },
                                {
                                    "average_rating": "4",
                                    "frequency": "1749"
                                },
                                {
                                    "average_rating": "3.7",
                                    "frequency": "1562"
                                },
                                {
                                    "average_rating": "3.4",
                                    "frequency": "1506"
                                },
                                {
                                    "average_rating": "4.1",
                                    "frequency": "1459"
                                },
                                {
                                    "average_rating": "3.2",
                                    "frequency": "1430"
                                },
                                {
                                    "average_rating": "4.5",
                                    "frequency": "1383"
                                },
                                {
                                    "average_rating": "4.3",
                                    "frequency": "953"
                                },
                                {
                                    "average_rating": "2.5",
                                    "frequency": "901"
                                },
                                {
                                    "average_rating": "3.3",
                                    "frequency": "753"
                                },
                                {
                                    "average_rating": "2.8",
                                    "frequency": "705"
                                },
                                {
                                    "average_rating": "3",
                                    "frequency": "693"
                                },
                                {
                                    "average_rating": "3.5",
                                    "frequency": "602"
                                },
                                {
                                    "average_rating": "4.7",
                                    "frequency": "586"
                                },
                                {
                                    "average_rating": "2.7",
                                    "frequency": "534"
                                },
                                {
                                    "average_rating": "2.6",
                                    "frequency": "522"
                                },
                                {
                                    "average_rating": "2.9",
                                    "frequency": "448"
                                },
                                {
                                    "average_rating": "4.4",
                                    "frequency": "437"
                                },
                                {
                                    "average_rating": "2.3",
                                    "frequency": "399"
                                },
                                {
                                    "average_rating": "5",
                                    "frequency": "348"
                                },
                                {
                                    "average_rating": "2.2",
                                    "frequency": "255"
                                },
                                {
                                    "average_rating": "4.6",
                                    "frequency": "219"
                                },
                                {
                                    "average_rating": "1.7",
                                    "frequency": "199"
                                },
                                {
                                    "average_rating": "3.1",
                                    "frequency": "172"
                                },
                                {
                                    "average_rating": "4.8",
                                    "frequency": "162"
                                },
                                {
                                    "average_rating": "2.4",
                                    "frequency": "160"
                                },
                                {
                                    "average_rating": "2.1",
                                    "frequency": "142"
                                },
                                {
                                    "average_rating": "2",
                                    "frequency": "76"
                                },
                                {
                                    "average_rating": "1",
                                    "frequency": "69"
                                },
                                {
                                    "average_rating": "1.9",
                                    "frequency": "47"
                                },
                                {
                                    "average_rating": "1.8",
                                    "frequency": "32"
                                },
                                {
                                    "average_rating": "4.9",
                                    "frequency": "15"
                                },
                                {
                                    "average_rating": "1.5",
                                    "frequency": "10"
                                },
                                {
                                    "average_rating": "1.3",
                                    "frequency": "8"
                                },
                                {
                                    "average_rating": "1.6",
                                    "frequency": "1"
                                }
                            ],
                            "schema": {
                                "fields": [
                                    {
                                        "name": "average_rating"
                                    },
                                    {
                                        "name": "frequency"
                                    }
                                ]
                            }
                        },
                        "text/html": "<table><tr><th>average_rating</th><th>frequency</th></tr><tr><td>3.9</td><td>2690</td></tr><tr><td>3.8</td><td>2532</td></tr><tr><td>3.6</td><td>1957</td></tr><tr><td>4.2</td><td>1838</td></tr><tr><td>4</td><td>1749</td></tr><tr><td>3.7</td><td>1562</td></tr><tr><td>3.4</td><td>1506</td></tr><tr><td>4.1</td><td>1459</td></tr><tr><td>3.2</td><td>1430</td></tr><tr><td>4.5</td><td>1383</td></tr><tr><td>4.3</td><td>953</td></tr><tr><td>2.5</td><td>901</td></tr><tr><td>3.3</td><td>753</td></tr><tr><td>2.8</td><td>705</td></tr><tr><td>3</td><td>693</td></tr><tr><td>3.5</td><td>602</td></tr><tr><td>4.7</td><td>586</td></tr><tr><td>2.7</td><td>534</td></tr><tr><td>2.6</td><td>522</td></tr><tr><td>2.9</td><td>448</td></tr><tr><td>4.4</td><td>437</td></tr><tr><td>2.3</td><td>399</td></tr><tr><td>5</td><td>348</td></tr><tr><td>2.2</td><td>255</td></tr><tr><td>4.6</td><td>219</td></tr><tr><td>1.7</td><td>199</td></tr><tr><td>3.1</td><td>172</td></tr><tr><td>4.8</td><td>162</td></tr><tr><td>2.4</td><td>160</td></tr><tr><td>2.1</td><td>142</td></tr><tr><td>2</td><td>76</td></tr><tr><td>1</td><td>69</td></tr><tr><td>1.9</td><td>47</td></tr><tr><td>1.8</td><td>32</td></tr><tr><td>4.9</td><td>15</td></tr><tr><td>1.5</td><td>10</td></tr><tr><td>1.3</td><td>8</td></tr><tr><td>1.6</td><td>1</td></tr></table>"
                    },
                    "metadata": {}
                }
            ],
            "execution_count": 71
        },
        {
            "cell_type": "code",
            "source": [
                "-- CHECKING MEDIAN\n",
                "-- WE HAVE 27,554 NON BLANK RECORDS. THIS QUERY SHOWS THE NUMBER AT THE MIDDLE\n",
                "SELECT average_rating\n",
                "FROM Flipkart_data\n",
                "WHERE (average_rating IS NOT NULL) \n",
                "    AND (average_rating <> '' OR average_rating <> LTRIM(RTRIM(average_rating)))\n",
                "ORDER BY 1\n",
                "OFFSET 13770 rows\n",
                "FETCH NEXT 10 ROWS ONLY;"
            ],
            "metadata": {
                "azdata_cell_guid": "f3cff547-ed06-4fa0-8154-71f7e28e39b6",
                "language": "sql",
                "vscode": {
                    "languageId": "sql"
                }
            },
            "outputs": [
                {
                    "output_type": "display_data",
                    "data": {
                        "text/html": "(10 rows affected)"
                    },
                    "metadata": {}
                },
                {
                    "output_type": "display_data",
                    "data": {
                        "text/html": "Total execution time: 00:00:00.214"
                    },
                    "metadata": {}
                },
                {
                    "output_type": "execute_result",
                    "execution_count": 69,
                    "data": {
                        "application/vnd.dataresource+json": {
                            "data": [
                                {
                                    "average_rating": "3.8"
                                },
                                {
                                    "average_rating": "3.8"
                                },
                                {
                                    "average_rating": "3.8"
                                },
                                {
                                    "average_rating": "3.8"
                                },
                                {
                                    "average_rating": "3.8"
                                },
                                {
                                    "average_rating": "3.8"
                                },
                                {
                                    "average_rating": "3.8"
                                },
                                {
                                    "average_rating": "3.8"
                                },
                                {
                                    "average_rating": "3.8"
                                },
                                {
                                    "average_rating": "3.8"
                                }
                            ],
                            "schema": {
                                "fields": [
                                    {
                                        "name": "average_rating"
                                    }
                                ]
                            }
                        },
                        "text/html": "<table><tr><th>average_rating</th></tr><tr><td>3.8</td></tr><tr><td>3.8</td></tr><tr><td>3.8</td></tr><tr><td>3.8</td></tr><tr><td>3.8</td></tr><tr><td>3.8</td></tr><tr><td>3.8</td></tr><tr><td>3.8</td></tr><tr><td>3.8</td></tr><tr><td>3.8</td></tr></table>"
                    },
                    "metadata": {}
                }
            ],
            "execution_count": 69
        },
        {
            "cell_type": "code",
            "source": [
                "-- Updating the empty strings with 3.8. Which was the mode and median\n",
                "UPDATE Flipkart_data\n",
                "SET average_rating = 3.8\n",
                "WHERE average_rating IS NULL OR LTRIM(RTRIM(average_rating)) = '';\n",
                "\n",
                "\n"
            ],
            "metadata": {
                "azdata_cell_guid": "555b03f7-3b65-4db8-81e5-78d499129fdb",
                "language": "sql",
                "tags": [],
                "vscode": {
                    "languageId": "sql"
                }
            },
            "outputs": [
                {
                    "output_type": "display_data",
                    "data": {
                        "text/html": "(2446 rows affected)"
                    },
                    "metadata": {}
                },
                {
                    "output_type": "display_data",
                    "data": {
                        "text/html": "Total execution time: 00:00:00.152"
                    },
                    "metadata": {}
                }
            ],
            "execution_count": 34
        },
        {
            "cell_type": "code",
            "source": [
                "-- A look at the updated columns\n",
                "SELECT average_rating,COUNT(1) frequency\n",
                "FROM Flipkart_data\n",
                "WHERE (average_rating IS NOT NULL) \n",
                "    AND (average_rating <> '' OR average_rating <> LTRIM(RTRIM(average_rating)))\n",
                "GROUP BY average_rating\n",
                "ORDER BY 2 DESC"
            ],
            "metadata": {
                "azdata_cell_guid": "368e38b5-714e-4138-a36d-054b42b23a5c",
                "language": "sql",
                "tags": [],
                "vscode": {
                    "languageId": "sql"
                }
            },
            "outputs": [
                {
                    "output_type": "display_data",
                    "data": {
                        "text/html": "(38 rows affected)"
                    },
                    "metadata": {}
                },
                {
                    "output_type": "display_data",
                    "data": {
                        "text/html": "Total execution time: 00:00:00.105"
                    },
                    "metadata": {}
                },
                {
                    "output_type": "execute_result",
                    "execution_count": 86,
                    "data": {
                        "application/vnd.dataresource+json": {
                            "data": [
                                {
                                    "average_rating": "3.80",
                                    "frequency": "4978"
                                },
                                {
                                    "average_rating": "3.90",
                                    "frequency": "2690"
                                },
                                {
                                    "average_rating": "3.60",
                                    "frequency": "1957"
                                },
                                {
                                    "average_rating": "4.20",
                                    "frequency": "1838"
                                },
                                {
                                    "average_rating": "4.00",
                                    "frequency": "1749"
                                },
                                {
                                    "average_rating": "3.70",
                                    "frequency": "1562"
                                },
                                {
                                    "average_rating": "3.40",
                                    "frequency": "1506"
                                },
                                {
                                    "average_rating": "4.10",
                                    "frequency": "1459"
                                },
                                {
                                    "average_rating": "3.20",
                                    "frequency": "1430"
                                },
                                {
                                    "average_rating": "4.50",
                                    "frequency": "1383"
                                },
                                {
                                    "average_rating": "4.30",
                                    "frequency": "953"
                                },
                                {
                                    "average_rating": "2.50",
                                    "frequency": "901"
                                },
                                {
                                    "average_rating": "3.30",
                                    "frequency": "753"
                                },
                                {
                                    "average_rating": "2.80",
                                    "frequency": "705"
                                },
                                {
                                    "average_rating": "3.00",
                                    "frequency": "693"
                                },
                                {
                                    "average_rating": "3.50",
                                    "frequency": "602"
                                },
                                {
                                    "average_rating": "4.70",
                                    "frequency": "586"
                                },
                                {
                                    "average_rating": "2.70",
                                    "frequency": "534"
                                },
                                {
                                    "average_rating": "2.60",
                                    "frequency": "522"
                                },
                                {
                                    "average_rating": "2.90",
                                    "frequency": "448"
                                },
                                {
                                    "average_rating": "4.40",
                                    "frequency": "437"
                                },
                                {
                                    "average_rating": "2.30",
                                    "frequency": "399"
                                },
                                {
                                    "average_rating": "5.00",
                                    "frequency": "348"
                                },
                                {
                                    "average_rating": "2.20",
                                    "frequency": "255"
                                },
                                {
                                    "average_rating": "4.60",
                                    "frequency": "219"
                                },
                                {
                                    "average_rating": "1.70",
                                    "frequency": "199"
                                },
                                {
                                    "average_rating": "3.10",
                                    "frequency": "172"
                                },
                                {
                                    "average_rating": "4.80",
                                    "frequency": "162"
                                },
                                {
                                    "average_rating": "2.40",
                                    "frequency": "160"
                                },
                                {
                                    "average_rating": "2.10",
                                    "frequency": "142"
                                },
                                {
                                    "average_rating": "2.00",
                                    "frequency": "76"
                                },
                                {
                                    "average_rating": "1.00",
                                    "frequency": "69"
                                },
                                {
                                    "average_rating": "1.90",
                                    "frequency": "47"
                                },
                                {
                                    "average_rating": "1.80",
                                    "frequency": "32"
                                },
                                {
                                    "average_rating": "4.90",
                                    "frequency": "15"
                                },
                                {
                                    "average_rating": "1.50",
                                    "frequency": "10"
                                },
                                {
                                    "average_rating": "1.30",
                                    "frequency": "8"
                                },
                                {
                                    "average_rating": "1.60",
                                    "frequency": "1"
                                }
                            ],
                            "schema": {
                                "fields": [
                                    {
                                        "name": "average_rating"
                                    },
                                    {
                                        "name": "frequency"
                                    }
                                ]
                            }
                        },
                        "text/html": "<table><tr><th>average_rating</th><th>frequency</th></tr><tr><td>3.80</td><td>4978</td></tr><tr><td>3.90</td><td>2690</td></tr><tr><td>3.60</td><td>1957</td></tr><tr><td>4.20</td><td>1838</td></tr><tr><td>4.00</td><td>1749</td></tr><tr><td>3.70</td><td>1562</td></tr><tr><td>3.40</td><td>1506</td></tr><tr><td>4.10</td><td>1459</td></tr><tr><td>3.20</td><td>1430</td></tr><tr><td>4.50</td><td>1383</td></tr><tr><td>4.30</td><td>953</td></tr><tr><td>2.50</td><td>901</td></tr><tr><td>3.30</td><td>753</td></tr><tr><td>2.80</td><td>705</td></tr><tr><td>3.00</td><td>693</td></tr><tr><td>3.50</td><td>602</td></tr><tr><td>4.70</td><td>586</td></tr><tr><td>2.70</td><td>534</td></tr><tr><td>2.60</td><td>522</td></tr><tr><td>2.90</td><td>448</td></tr><tr><td>4.40</td><td>437</td></tr><tr><td>2.30</td><td>399</td></tr><tr><td>5.00</td><td>348</td></tr><tr><td>2.20</td><td>255</td></tr><tr><td>4.60</td><td>219</td></tr><tr><td>1.70</td><td>199</td></tr><tr><td>3.10</td><td>172</td></tr><tr><td>4.80</td><td>162</td></tr><tr><td>2.40</td><td>160</td></tr><tr><td>2.10</td><td>142</td></tr><tr><td>2.00</td><td>76</td></tr><tr><td>1.00</td><td>69</td></tr><tr><td>1.90</td><td>47</td></tr><tr><td>1.80</td><td>32</td></tr><tr><td>4.90</td><td>15</td></tr><tr><td>1.50</td><td>10</td></tr><tr><td>1.30</td><td>8</td></tr><tr><td>1.60</td><td>1</td></tr></table>"
                    },
                    "metadata": {}
                }
            ],
            "execution_count": 86
        },
        {
            "cell_type": "code",
            "source": [
                "-- Change data type from varchar to decimal\n",
                "ALTER TABLE flipkart_data\n",
                "ALTER COLUMN average_rating decimal;"
            ],
            "metadata": {
                "azdata_cell_guid": "5f1d6dcb-5c2d-4f42-88ba-4826065ead86",
                "language": "sql",
                "vscode": {
                    "languageId": "sql"
                }
            },
            "outputs": [
                {
                    "output_type": "display_data",
                    "data": {
                        "text/html": "Commands completed successfully."
                    },
                    "metadata": {}
                },
                {
                    "output_type": "display_data",
                    "data": {
                        "text/html": "Total execution time: 00:00:00.582"
                    },
                    "metadata": {}
                }
            ],
            "execution_count": 35
        },
        {
            "cell_type": "markdown",
            "source": [
                "### Cleaning empty strings in the **brand** column"
            ],
            "metadata": {
                "azdata_cell_guid": "38907d13-5db4-4967-bbb2-961e61f31f28",
                "language": ""
            },
            "attachments": {}
        },
        {
            "cell_type": "code",
            "source": [
                "-- Update rows in table to reflect change\n",
                "UPDATE Flipkart_data\n",
                "SET brand = 'Not Stated' -- All empty strings will be changed to Not Stated\n",
                "WHERE brand IS NULL OR LTRIM(RTRIM(brand)) = '';\n",
                "\n",
                "-- Removing any white spaces at the left and right of each string\n",
                "UPDATE Flipkart_data\n",
                "SET brand = LTRIM(RTRIM(brand))"
            ],
            "metadata": {
                "azdata_cell_guid": "b332bef9-5998-4fa6-87ec-650857d6d35f",
                "language": "sql",
                "tags": [],
                "vscode": {
                    "languageId": "sql"
                }
            },
            "outputs": [],
            "execution_count": null
        },
        {
            "cell_type": "markdown",
            "source": [
                "## Empty strings in the **discount** column"
            ],
            "metadata": {
                "azdata_cell_guid": "a87ce411-ef50-4336-83df-0a604426eb9f"
            },
            "attachments": {}
        },
        {
            "cell_type": "code",
            "source": [
                "/*\n",
                "I will assume that empty cells in the\n",
                "discount table means that no discount was offered \n",
                "*/\n",
                "\n",
                "UPDATE Flipkart_data\n",
                "SET discount = 'None' -- All empty strings will be changed to None\n",
                "WHERE discount IS NULL OR LTRIM(RTRIM(discount)) = '';"
            ],
            "metadata": {
                "azdata_cell_guid": "c9e7ffc4-e1e8-44b9-bffa-ae77e3b45b97",
                "language": "sql",
                "vscode": {
                    "languageId": "sql"
                }
            },
            "outputs": [
                {
                    "output_type": "display_data",
                    "data": {
                        "text/html": "(941 rows affected)"
                    },
                    "metadata": {}
                },
                {
                    "output_type": "display_data",
                    "data": {
                        "text/html": "Total execution time: 00:00:00.239"
                    },
                    "metadata": {}
                }
            ],
            "execution_count": 71
        },
        {
            "cell_type": "markdown",
            "source": [
                "## Empty strings in the **seller** column"
            ],
            "metadata": {
                "azdata_cell_guid": "7325f4d6-ba3b-47d5-b71a-64c36b7bcbcf"
            },
            "attachments": {}
        },
        {
            "cell_type": "code",
            "source": [
                "UPDATE Flipkart_data\n",
                "SET seller = 'Anonymous' -- All empty strings will be changed to Anonymous\n",
                "WHERE seller IS NULL OR LTRIM(RTRIM(seller)) = '';"
            ],
            "metadata": {
                "azdata_cell_guid": "d73764b0-8fbb-4b0f-b691-c78fdad38be0",
                "language": "sql",
                "vscode": {
                    "languageId": "sql"
                }
            },
            "outputs": [
                {
                    "output_type": "display_data",
                    "data": {
                        "text/html": "(1741 rows affected)"
                    },
                    "metadata": {}
                },
                {
                    "output_type": "display_data",
                    "data": {
                        "text/html": "Total execution time: 00:00:00.234"
                    },
                    "metadata": {}
                }
            ],
            "execution_count": 72
        },
        {
            "cell_type": "code",
            "source": [
                "-- Confirm the data type\n",
                "\n",
                "SELECT COLUMN_NAME, DATA_TYPE\n",
                "FROM INFORMATION_SCHEMA.COLUMNS\n",
                "WHERE TABLE_NAME = 'flipkart_data';\n"
            ],
            "metadata": {
                "azdata_cell_guid": "ba420551-1708-4c44-936f-14b20373bd2a",
                "language": "sql",
                "vscode": {
                    "languageId": "sql"
                }
            },
            "outputs": [
                {
                    "output_type": "display_data",
                    "data": {
                        "text/html": "(15 rows affected)"
                    },
                    "metadata": {}
                },
                {
                    "output_type": "display_data",
                    "data": {
                        "text/html": "Total execution time: 00:00:00.055"
                    },
                    "metadata": {}
                },
                {
                    "output_type": "execute_result",
                    "execution_count": 73,
                    "data": {
                        "application/vnd.dataresource+json": {
                            "data": [
                                {
                                    "COLUMN_NAME": "_id",
                                    "DATA_TYPE": "nvarchar"
                                },
                                {
                                    "COLUMN_NAME": "actual_price",
                                    "DATA_TYPE": "int"
                                },
                                {
                                    "COLUMN_NAME": "average_rating",
                                    "DATA_TYPE": "decimal"
                                },
                                {
                                    "COLUMN_NAME": "brand",
                                    "DATA_TYPE": "varchar"
                                },
                                {
                                    "COLUMN_NAME": "category",
                                    "DATA_TYPE": "varchar"
                                },
                                {
                                    "COLUMN_NAME": "crawled_at",
                                    "DATA_TYPE": "varchar"
                                },
                                {
                                    "COLUMN_NAME": "description",
                                    "DATA_TYPE": "varchar"
                                },
                                {
                                    "COLUMN_NAME": "discount",
                                    "DATA_TYPE": "varchar"
                                },
                                {
                                    "COLUMN_NAME": "out_of_stock",
                                    "DATA_TYPE": "varchar"
                                },
                                {
                                    "COLUMN_NAME": "pid",
                                    "DATA_TYPE": "varchar"
                                },
                                {
                                    "COLUMN_NAME": "product_details",
                                    "DATA_TYPE": "nvarchar"
                                },
                                {
                                    "COLUMN_NAME": "seller",
                                    "DATA_TYPE": "varchar"
                                },
                                {
                                    "COLUMN_NAME": "selling_price",
                                    "DATA_TYPE": "int"
                                },
                                {
                                    "COLUMN_NAME": "sub_category",
                                    "DATA_TYPE": "varchar"
                                },
                                {
                                    "COLUMN_NAME": "title",
                                    "DATA_TYPE": "varchar"
                                }
                            ],
                            "schema": {
                                "fields": [
                                    {
                                        "name": "COLUMN_NAME"
                                    },
                                    {
                                        "name": "DATA_TYPE"
                                    }
                                ]
                            }
                        },
                        "text/html": "<table><tr><th>COLUMN_NAME</th><th>DATA_TYPE</th></tr><tr><td>_id</td><td>nvarchar</td></tr><tr><td>actual_price</td><td>int</td></tr><tr><td>average_rating</td><td>decimal</td></tr><tr><td>brand</td><td>varchar</td></tr><tr><td>category</td><td>varchar</td></tr><tr><td>crawled_at</td><td>varchar</td></tr><tr><td>description</td><td>varchar</td></tr><tr><td>discount</td><td>varchar</td></tr><tr><td>out_of_stock</td><td>varchar</td></tr><tr><td>pid</td><td>varchar</td></tr><tr><td>product_details</td><td>nvarchar</td></tr><tr><td>seller</td><td>varchar</td></tr><tr><td>selling_price</td><td>int</td></tr><tr><td>sub_category</td><td>varchar</td></tr><tr><td>title</td><td>varchar</td></tr></table>"
                    },
                    "metadata": {}
                }
            ],
            "execution_count": 73
        },
        {
            "cell_type": "markdown",
            "source": [
                "CLEANING THE flipkart\\_products\\_details table"
            ],
            "metadata": {
                "azdata_cell_guid": "56aa6eb3-9da4-4f69-8a07-81716cb0de09"
            },
            "attachments": {}
        },
        {
            "cell_type": "markdown",
            "source": [
                "### There are a lot of empty records.\n",
                "\n",
                "### Since these are categorical fields - with \\[Pack Of\\] being an exception, the records will be filled with a categorical flag of 'Not Stated'"
            ],
            "metadata": {
                "azdata_cell_guid": "191e8e72-b47b-4b2a-9b10-83cb6b2910a2",
                "language": ""
            },
            "attachments": {}
        },
        {
            "cell_type": "code",
            "source": [
                "UPDATE flipkart_products\n",
                "SET StyleCode = ISNULL(RTRIM(LTRIM(StyleCode)), 'Not Stated');\n",
                "\n",
                "UPDATE flipkart_products\n",
                "SET Closure = ISNULL(RTRIM(LTRIM(Closure)), 'Not Stated');\n",
                "\n",
                "UPDATE flipkart_products\n",
                "SET Pockets = ISNULL(RTRIM(LTRIM(Pockets)), 'Not Stated');\n",
                "\n",
                "UPDATE flipkart_products\n",
                "SET Fabric = ISNULL(RTRIM(LTRIM(Fabric)), 'Not Stated');\n",
                "\n",
                "UPDATE flipkart_products\n",
                "SET Pattern = ISNULL(RTRIM(LTRIM(Pattern)), 'Not Stated');\n",
                "\n",
                "UPDATE flipkart_products\n",
                "SET Color = ISNULL(RTRIM(LTRIM(Color)), 'Not Stated');\n",
                "\n",
                "UPDATE flipkart_products\n",
                "SET [Type] = ISNULL(RTRIM(LTRIM([Type])), 'Not Stated');\n",
                "\n",
                "UPDATE flipkart_products\n",
                "SET [Fabric Care] = ISNULL(RTRIM(LTRIM([Fabric Care])), 'Not Stated');\n",
                "\n",
                "UPDATE flipkart_products\n",
                "SET [Size] = ISNULL(RTRIM(LTRIM([Size])), 'Not Stated');\n",
                "\n",
                "UPDATE flipkart_products\n",
                "SET [Sleeve] = ISNULL(RTRIM(LTRIM([Sleeve])), 'Not Stated');\n",
                "\n",
                "UPDATE flipkart_products\n",
                "SET [Brand Color] = ISNULL(RTRIM(LTRIM([Brand Color])), 'Not Stated');"
            ],
            "metadata": {
                "azdata_cell_guid": "3b16c386-6d2d-4dae-b460-7d28ca4f9db2",
                "language": "sql",
                "tags": [],
                "vscode": {
                    "languageId": "sql"
                }
            },
            "outputs": [
                {
                    "output_type": "display_data",
                    "data": {
                        "text/html": "(29985 rows affected)"
                    },
                    "metadata": {}
                },
                {
                    "output_type": "display_data",
                    "data": {
                        "text/html": "(29985 rows affected)"
                    },
                    "metadata": {}
                },
                {
                    "output_type": "display_data",
                    "data": {
                        "text/html": "(29985 rows affected)"
                    },
                    "metadata": {}
                },
                {
                    "output_type": "display_data",
                    "data": {
                        "text/html": "(29985 rows affected)"
                    },
                    "metadata": {}
                },
                {
                    "output_type": "display_data",
                    "data": {
                        "text/html": "(29985 rows affected)"
                    },
                    "metadata": {}
                },
                {
                    "output_type": "display_data",
                    "data": {
                        "text/html": "(29985 rows affected)"
                    },
                    "metadata": {}
                },
                {
                    "output_type": "display_data",
                    "data": {
                        "text/html": "(29985 rows affected)"
                    },
                    "metadata": {}
                },
                {
                    "output_type": "display_data",
                    "data": {
                        "text/html": "(29985 rows affected)"
                    },
                    "metadata": {}
                },
                {
                    "output_type": "display_data",
                    "data": {
                        "text/html": "(29985 rows affected)"
                    },
                    "metadata": {}
                },
                {
                    "output_type": "display_data",
                    "data": {
                        "text/html": "(29985 rows affected)"
                    },
                    "metadata": {}
                },
                {
                    "output_type": "display_data",
                    "data": {
                        "text/html": "(29985 rows affected)"
                    },
                    "metadata": {}
                },
                {
                    "output_type": "display_data",
                    "data": {
                        "text/html": "Total execution time: 00:00:03.107"
                    },
                    "metadata": {}
                }
            ],
            "execution_count": 20
        },
        {
            "cell_type": "code",
            "source": [
                "-- Take a look\n",
                "\n",
                "SELECT TOP 20 * \n",
                "FROM flipkart_products"
            ],
            "metadata": {
                "azdata_cell_guid": "07424da4-cced-4087-97a4-f85a607da55d",
                "language": "sql",
                "vscode": {
                    "languageId": "sql"
                }
            },
            "outputs": [
                {
                    "output_type": "display_data",
                    "data": {
                        "text/html": "(20 rows affected)"
                    },
                    "metadata": {}
                },
                {
                    "output_type": "display_data",
                    "data": {
                        "text/html": "Total execution time: 00:00:00.226"
                    },
                    "metadata": {}
                },
                {
                    "output_type": "execute_result",
                    "execution_count": 22,
                    "data": {
                        "application/vnd.dataresource+json": {
                            "data": [
                                {
                                    "Brand Color": "Silver Grey",
                                    "Closure": "Not Stated",
                                    "Color": "Not Stated",
                                    "Fabric": "Cotton Blend",
                                    "Fabric Care": "Regular Machine Wash, Do not Iron on print/embroidery/embellishment, Reverse and dry, Do not tumble dry, Dry in shade, Do not dry clean",
                                    "Id": "00005493-1875-5b43-8061-20c7d0cbe6b1",
                                    "Pack of": "1",
                                    "Pattern": "Solid",
                                    "Pockets": "Not Stated",
                                    "Sales Package": "1 T-Shirt",
                                    "Size": "M",
                                    "Sleeve": "Half Sleeve",
                                    "StyleCode": "AX-Basic-Silver Grey",
                                    "Type": "Polo Neck"
                                },
                                {
                                    "Brand Color": "Aqua",
                                    "Closure": "Not Stated",
                                    "Color": "Not Stated",
                                    "Fabric": "Cotton Lycra Blend",
                                    "Fabric Care": "Not Stated",
                                    "Id": "0003c6ae-73c1-5f18-a5e6-778e5f7b8804",
                                    "Pack of": "1",
                                    "Pattern": "Solid",
                                    "Pockets": "Not Stated",
                                    "Sales Package": "1 T-Shirt",
                                    "Size": "XL",
                                    "Sleeve": "Half Sleeve",
                                    "StyleCode": "T10000580",
                                    "Type": "Round Neck"
                                },
                                {
                                    "Brand Color": "Not Stated",
                                    "Closure": "Not Stated",
                                    "Color": "Khaki",
                                    "Fabric": "Cotton Blend",
                                    "Fabric Care": "Gentle Machine Wash",
                                    "Id": "000636e4-07c0-5d26-adfd-f6114389edb7",
                                    "Pack of": "1",
                                    "Pattern": "Checkered",
                                    "Pockets": "Not Stated",
                                    "Sales Package": "NULL",
                                    "Size": "Not Stated",
                                    "Sleeve": "Full Sleeve",
                                    "StyleCode": "EKSH001982",
                                    "Type": "Not Stated"
                                },
                                {
                                    "Brand Color": "Green;Light Green;Orange",
                                    "Closure": "Not Stated",
                                    "Color": "Not Stated",
                                    "Fabric": "Polycotton",
                                    "Fabric Care": "Regular Machine Wash",
                                    "Id": "000cb2a8-7ae7-5905-a828-9a9ebc9947b8",
                                    "Pack of": "3",
                                    "Pattern": "Solid",
                                    "Pockets": "Not Stated",
                                    "Sales Package": "3 T-Shirts",
                                    "Size": "XXL",
                                    "Sleeve": "Short Sleeve",
                                    "StyleCode": "(GRN-KWI-ORG)-3P",
                                    "Type": "Polo Neck"
                                },
                                {
                                    "Brand Color": "Black",
                                    "Closure": "Not Stated",
                                    "Color": "Not Stated",
                                    "Fabric": "Pure Cotton",
                                    "Fabric Care": "Regular Machine Wash",
                                    "Id": "000cb961-8d64-513b-896a-ab29d85fb97d",
                                    "Pack of": "1",
                                    "Pattern": "Graphic Print",
                                    "Pockets": "Not Stated",
                                    "Sales Package": "1",
                                    "Size": "S",
                                    "Sleeve": "Half Sleeve",
                                    "StyleCode": "META_TSHIRT_BL-6",
                                    "Type": "Round Neck"
                                },
                                {
                                    "Brand Color": "Not Stated",
                                    "Closure": "Not Stated",
                                    "Color": "Blue",
                                    "Fabric": "Cotton Blend",
                                    "Fabric Care": "Do Not Iron on Print/Embroidery/Embellishment",
                                    "Id": "000d890b-13a7-5fdd-b740-e7136806575c",
                                    "Pack of": "NULL",
                                    "Pattern": "Striped, Checkered",
                                    "Pockets": "Not Stated",
                                    "Sales Package": "1 Sweatshirt",
                                    "Size": "Not Stated",
                                    "Sleeve": "Full Sleeve",
                                    "StyleCode": "AX-531-Navy",
                                    "Type": "Not Stated"
                                },
                                {
                                    "Brand Color": "Not Stated",
                                    "Closure": "Not Stated",
                                    "Color": "Multicolor",
                                    "Fabric": "Cotton",
                                    "Fabric Care": "Cotton",
                                    "Id": "000f6224-fa1b-5771-b73d-a1f21773101c",
                                    "Pack of": "NULL",
                                    "Pattern": "Not Stated",
                                    "Pockets": "Not Stated",
                                    "Sales Package": "NULL",
                                    "Size": "Not Stated",
                                    "Sleeve": "Not Stated",
                                    "StyleCode": "Not Stated",
                                    "Type": "Not Stated"
                                },
                                {
                                    "Brand Color": "Red, Grey",
                                    "Closure": "Not Stated",
                                    "Color": "Not Stated",
                                    "Fabric": "Pure Cotton",
                                    "Fabric Care": "Gentle Machine Wash",
                                    "Id": "000fe678-23a2-595b-86bf-5c6ece756471",
                                    "Pack of": "2",
                                    "Pattern": "Self Design, Solid",
                                    "Pockets": "Not Stated",
                                    "Sales Package": "NULL",
                                    "Size": "L",
                                    "Sleeve": "Short Sleeve",
                                    "StyleCode": "S100-C2-Rd_Gry-",
                                    "Type": "Round Neck"
                                },
                                {
                                    "Brand Color": "Blue",
                                    "Closure": "Not Stated",
                                    "Color": "Not Stated",
                                    "Fabric": "Pure Cotton",
                                    "Fabric Care": "Gentle Machine Wash",
                                    "Id": "001153d6-f9aa-5759-b61f-1b4fb288c686",
                                    "Pack of": "1",
                                    "Pattern": "Printed",
                                    "Pockets": "Not Stated",
                                    "Sales Package": "1 t shirt",
                                    "Size": "L",
                                    "Sleeve": "Short Sleeve",
                                    "StyleCode": "Guruji-Blue",
                                    "Type": "Round Neck"
                                },
                                {
                                    "Brand Color": "Black",
                                    "Closure": "Not Stated",
                                    "Color": "Not Stated",
                                    "Fabric": "Pure Cotton",
                                    "Fabric Care": "Gentle Machine Wash",
                                    "Id": "0013bc06-90e6-5f5a-872a-2f4daa082ab1",
                                    "Pack of": "1",
                                    "Pattern": "Printed",
                                    "Pockets": "Not Stated",
                                    "Sales Package": "1",
                                    "Size": "XL",
                                    "Sleeve": "Sleeveless",
                                    "StyleCode": "GYM WORKOUT CUT SLEEVES HOODIE",
                                    "Type": "Hooded Neck"
                                },
                                {
                                    "Brand Color": "Not Stated",
                                    "Closure": "Zipper",
                                    "Color": "Blue",
                                    "Fabric": "Nylon",
                                    "Fabric Care": "Machine Wash as per Tag",
                                    "Id": "00172f7f-1223-57c0-87a4-c7db24218544",
                                    "Pack of": "1",
                                    "Pattern": "Solid",
                                    "Pockets": "Not Stated",
                                    "Sales Package": "NULL",
                                    "Size": "Not Stated",
                                    "Sleeve": "Full Sleeve",
                                    "StyleCode": "7968314",
                                    "Type": "Casual Jacket"
                                },
                                {
                                    "Brand Color": "Not Stated",
                                    "Closure": "Not Stated",
                                    "Color": "Multicolor",
                                    "Fabric": "Cotton Blend",
                                    "Fabric Care": "Gentle Machine Wash",
                                    "Id": "00182f84-0705-5b63-a54b-6b964425ffea",
                                    "Pack of": "NULL",
                                    "Pattern": "Printed",
                                    "Pockets": "Not Stated",
                                    "Sales Package": "1 sweatshirt",
                                    "Size": "Not Stated",
                                    "Sleeve": "Full Sleeve",
                                    "StyleCode": "EKSS000137",
                                    "Type": "Not Stated"
                                },
                                {
                                    "Brand Color": "Not Stated",
                                    "Closure": "Not Stated",
                                    "Color": "Black",
                                    "Fabric": "Cotton Blend",
                                    "Fabric Care": "Regular Machine Wash",
                                    "Id": "001af927-70f1-5534-88e3-38cf4277386c",
                                    "Pack of": "1",
                                    "Pattern": "Solid",
                                    "Pockets": "Not Stated",
                                    "Sales Package": "NULL",
                                    "Size": "Not Stated",
                                    "Sleeve": "Half Sleeve",
                                    "StyleCode": "KD240247",
                                    "Type": "Not Stated"
                                },
                                {
                                    "Brand Color": "Yellow3",
                                    "Closure": "Not Stated",
                                    "Color": "Not Stated",
                                    "Fabric": "Cotton Blend",
                                    "Fabric Care": "Regular Machine Wash",
                                    "Id": "002063a1-90ec-57b8-8783-65ea59fe616a",
                                    "Pack of": "1",
                                    "Pattern": "Solid",
                                    "Pockets": "Not Stated",
                                    "Sales Package": "1 t shirt",
                                    "Size": "3XL",
                                    "Sleeve": "Short Sleeve",
                                    "StyleCode": "AX-899-WP",
                                    "Type": "Polo Neck"
                                },
                                {
                                    "Brand Color": "Not Stated",
                                    "Closure": "Drawstring, Elastic",
                                    "Color": "Blue, Black, Grey",
                                    "Fabric": "Cotton Blend",
                                    "Fabric Care": "Not Stated",
                                    "Id": "002b976d-e1b3-5005-ad75-f8ac821380e9",
                                    "Pack of": "NULL",
                                    "Pattern": "Checkered",
                                    "Pockets": "Side Pockets",
                                    "Sales Package": "NULL",
                                    "Size": "Not Stated",
                                    "Sleeve": "Not Stated",
                                    "StyleCode": "1005COMBO13",
                                    "Type": "Not Stated"
                                },
                                {
                                    "Brand Color": "Not Stated",
                                    "Closure": "Not Stated",
                                    "Color": "Pink",
                                    "Fabric": "Nylon Blend",
                                    "Fabric Care": "Do not bleach",
                                    "Id": "002bd348-94c5-5438-8f7c-58da0918ff4f",
                                    "Pack of": "1",
                                    "Pattern": "Checkered",
                                    "Pockets": "Not Stated",
                                    "Sales Package": "NULL",
                                    "Size": "Not Stated",
                                    "Sleeve": "Full Sleeve",
                                    "StyleCode": "6031-Pink",
                                    "Type": "Not Stated"
                                },
                                {
                                    "Brand Color": "AQUA",
                                    "Closure": "Not Stated",
                                    "Color": "Not Stated",
                                    "Fabric": "Cotton Blend",
                                    "Fabric Care": "Gentle Machine Wash",
                                    "Id": "002c8c50-21a4-5e4d-b179-9003c45ab9a7",
                                    "Pack of": "1",
                                    "Pattern": "Printed",
                                    "Pockets": "Not Stated",
                                    "Sales Package": "1 t shirt",
                                    "Size": "L",
                                    "Sleeve": "Short Sleeve",
                                    "StyleCode": "DCMAY-119",
                                    "Type": "Round Neck"
                                },
                                {
                                    "Brand Color": "Not Stated",
                                    "Closure": "Lace-Ups",
                                    "Color": "Black",
                                    "Fabric": "Not Stated",
                                    "Fabric Care": "Not Stated",
                                    "Id": "002c913e-6414-56a5-9564-65eca80e5c24",
                                    "Pack of": "1",
                                    "Pattern": "Not Stated",
                                    "Pockets": "Not Stated",
                                    "Sales Package": "1",
                                    "Size": "Not Stated",
                                    "Sleeve": "Not Stated",
                                    "StyleCode": "Not Stated",
                                    "Type": "Not Stated"
                                },
                                {
                                    "Brand Color": "Feroza",
                                    "Closure": "Not Stated",
                                    "Color": "Light Blue",
                                    "Fabric": "Cotton Linen Blend, Pure Cotton",
                                    "Fabric Care": "Regular Machine Wash",
                                    "Id": "002d9a45-6746-57dd-924a-a5f17fc17477",
                                    "Pack of": "NULL",
                                    "Pattern": "Self Design",
                                    "Pockets": "Not Stated",
                                    "Sales Package": "NULL",
                                    "Size": "Not Stated",
                                    "Sleeve": "Full Sleeve",
                                    "StyleCode": "Linen Cotton",
                                    "Type": "Straight"
                                },
                                {
                                    "Brand Color": "Not Stated",
                                    "Closure": "Not Stated",
                                    "Color": "Green",
                                    "Fabric": "Cotton Blend",
                                    "Fabric Care": "Machine Wash as per Tag",
                                    "Id": "002eb895-9af3-526f-aeb0-7fa6535e3aad",
                                    "Pack of": "NULL",
                                    "Pattern": "Printed",
                                    "Pockets": "Not Stated",
                                    "Sales Package": "1 Sweatshirt",
                                    "Size": "Not Stated",
                                    "Sleeve": "Full Sleeve",
                                    "StyleCode": "59776670",
                                    "Type": "Not Stated"
                                }
                            ],
                            "schema": {
                                "fields": [
                                    {
                                        "name": "Id"
                                    },
                                    {
                                        "name": "StyleCode"
                                    },
                                    {
                                        "name": "Closure"
                                    },
                                    {
                                        "name": "Pockets"
                                    },
                                    {
                                        "name": "Fabric"
                                    },
                                    {
                                        "name": "Pattern"
                                    },
                                    {
                                        "name": "Color"
                                    },
                                    {
                                        "name": "Type"
                                    },
                                    {
                                        "name": "Sales Package"
                                    },
                                    {
                                        "name": "Fabric Care"
                                    },
                                    {
                                        "name": "Size"
                                    },
                                    {
                                        "name": "Sleeve"
                                    },
                                    {
                                        "name": "Brand Color"
                                    },
                                    {
                                        "name": "Pack of"
                                    }
                                ]
                            }
                        },
                        "text/html": "<table>\n<tr><th>Id</th><th>StyleCode</th><th>Closure</th><th>Pockets</th><th>Fabric</th><th>Pattern</th><th>Color</th><th>Type</th><th>Sales Package</th><th>Fabric Care</th><th>Size</th><th>Sleeve</th><th>Brand Color</th><th>Pack of</th></tr>\n<tr><td>00005493-1875-5b43-8061-20c7d0cbe6b1</td><td>AX-Basic-Silver Grey</td><td>Not Stated</td><td>Not Stated</td><td>Cotton Blend</td><td>Solid</td><td>Not Stated</td><td>Polo Neck</td><td>1 T-Shirt</td><td>Regular Machine Wash, Do not Iron on print/embroidery/embellishment, Reverse and dry, Do not tumble dry, Dry in shade, Do not dry clean</td><td>M</td><td>Half Sleeve</td><td>Silver Grey</td><td>1</td></tr>\n<tr><td>0003c6ae-73c1-5f18-a5e6-778e5f7b8804</td><td>T10000580</td><td>Not Stated</td><td>Not Stated</td><td>Cotton Lycra Blend</td><td>Solid</td><td>Not Stated</td><td>Round Neck</td><td>1 T-Shirt</td><td>Not Stated</td><td>XL</td><td>Half Sleeve</td><td>Aqua</td><td>1</td></tr>\n<tr><td>000636e4-07c0-5d26-adfd-f6114389edb7</td><td>EKSH001982</td><td>Not Stated</td><td>Not Stated</td><td>Cotton Blend</td><td>Checkered</td><td>Khaki</td><td>Not Stated</td><td>NULL</td><td>Gentle Machine Wash</td><td>Not Stated</td><td>Full Sleeve</td><td>Not Stated</td><td>1</td></tr>\n<tr><td>000cb2a8-7ae7-5905-a828-9a9ebc9947b8</td><td>(GRN-KWI-ORG)-3P</td><td>Not Stated</td><td>Not Stated</td><td>Polycotton</td><td>Solid</td><td>Not Stated</td><td>Polo Neck</td><td>3 T-Shirts</td><td>Regular Machine Wash</td><td>XXL</td><td>Short Sleeve</td><td>Green;Light Green;Orange</td><td>3</td></tr>\n<tr><td>000cb961-8d64-513b-896a-ab29d85fb97d</td><td>META_TSHIRT_BL-6</td><td>Not Stated</td><td>Not Stated</td><td>Pure Cotton</td><td>Graphic Print</td><td>Not Stated</td><td>Round Neck</td><td>1</td><td>Regular Machine Wash</td><td>S</td><td>Half Sleeve</td><td>Black</td><td>1</td></tr>\n<tr><td>000d890b-13a7-5fdd-b740-e7136806575c</td><td>AX-531-Navy</td><td>Not Stated</td><td>Not Stated</td><td>Cotton Blend</td><td>Striped, Checkered</td><td>Blue</td><td>Not Stated</td><td>1 Sweatshirt</td><td>Do Not Iron on Print/Embroidery/Embellishment</td><td>Not Stated</td><td>Full Sleeve</td><td>Not Stated</td><td>NULL</td></tr>\n<tr><td>000f6224-fa1b-5771-b73d-a1f21773101c</td><td>Not Stated</td><td>Not Stated</td><td>Not Stated</td><td>Cotton</td><td>Not Stated</td><td>Multicolor</td><td>Not Stated</td><td>NULL</td><td>Cotton</td><td>Not Stated</td><td>Not Stated</td><td>Not Stated</td><td>NULL</td></tr>\n<tr><td>000fe678-23a2-595b-86bf-5c6ece756471</td><td>S100-C2-Rd_Gry-</td><td>Not Stated</td><td>Not Stated</td><td>Pure Cotton</td><td>Self Design, Solid</td><td>Not Stated</td><td>Round Neck</td><td>NULL</td><td>Gentle Machine Wash</td><td>L</td><td>Short Sleeve</td><td>Red, Grey</td><td>2</td></tr>\n<tr><td>001153d6-f9aa-5759-b61f-1b4fb288c686</td><td>Guruji-Blue</td><td>Not Stated</td><td>Not Stated</td><td>Pure Cotton</td><td>Printed</td><td>Not Stated</td><td>Round Neck</td><td>1 t shirt</td><td>Gentle Machine Wash</td><td>L</td><td>Short Sleeve</td><td>Blue</td><td>1</td></tr>\n<tr><td>0013bc06-90e6-5f5a-872a-2f4daa082ab1</td><td>GYM WORKOUT CUT SLEEVES HOODIE</td><td>Not Stated</td><td>Not Stated</td><td>Pure Cotton</td><td>Printed</td><td>Not Stated</td><td>Hooded Neck</td><td>1</td><td>Gentle Machine Wash</td><td>XL</td><td>Sleeveless</td><td>Black</td><td>1</td></tr>\n<tr><td>00172f7f-1223-57c0-87a4-c7db24218544</td><td>7968314</td><td>Zipper</td><td>Not Stated</td><td>Nylon</td><td>Solid</td><td>Blue</td><td>Casual Jacket</td><td>NULL</td><td>Machine Wash as per Tag</td><td>Not Stated</td><td>Full Sleeve</td><td>Not Stated</td><td>1</td></tr>\n<tr><td>00182f84-0705-5b63-a54b-6b964425ffea</td><td>EKSS000137</td><td>Not Stated</td><td>Not Stated</td><td>Cotton Blend</td><td>Printed</td><td>Multicolor</td><td>Not Stated</td><td>1 sweatshirt</td><td>Gentle Machine Wash</td><td>Not Stated</td><td>Full Sleeve</td><td>Not Stated</td><td>NULL</td></tr>\n<tr><td>001af927-70f1-5534-88e3-38cf4277386c</td><td>KD240247</td><td>Not Stated</td><td>Not Stated</td><td>Cotton Blend</td><td>Solid</td><td>Black</td><td>Not Stated</td><td>NULL</td><td>Regular Machine Wash</td><td>Not Stated</td><td>Half Sleeve</td><td>Not Stated</td><td>1</td></tr>\n<tr><td>002063a1-90ec-57b8-8783-65ea59fe616a</td><td>AX-899-WP</td><td>Not Stated</td><td>Not Stated</td><td>Cotton Blend</td><td>Solid</td><td>Not Stated</td><td>Polo Neck</td><td>1 t shirt</td><td>Regular Machine Wash</td><td>3XL</td><td>Short Sleeve</td><td>Yellow3</td><td>1</td></tr>\n<tr><td>002b976d-e1b3-5005-ad75-f8ac821380e9</td><td>1005COMBO13</td><td>Drawstring, Elastic</td><td>Side Pockets</td><td>Cotton Blend</td><td>Checkered</td><td>Blue, Black, Grey</td><td>Not Stated</td><td>NULL</td><td>Not Stated</td><td>Not Stated</td><td>Not Stated</td><td>Not Stated</td><td>NULL</td></tr>\n<tr><td>002bd348-94c5-5438-8f7c-58da0918ff4f</td><td>6031-Pink</td><td>Not Stated</td><td>Not Stated</td><td>Nylon Blend</td><td>Checkered</td><td>Pink</td><td>Not Stated</td><td>NULL</td><td>Do not bleach</td><td>Not Stated</td><td>Full Sleeve</td><td>Not Stated</td><td>1</td></tr>\n<tr><td>002c8c50-21a4-5e4d-b179-9003c45ab9a7</td><td>DCMAY-119</td><td>Not Stated</td><td>Not Stated</td><td>Cotton Blend</td><td>Printed</td><td>Not Stated</td><td>Round Neck</td><td>1 t shirt</td><td>Gentle Machine Wash</td><td>L</td><td>Short Sleeve</td><td>AQUA</td><td>1</td></tr>\n<tr><td>002c913e-6414-56a5-9564-65eca80e5c24</td><td>Not Stated</td><td>Lace-Ups</td><td>Not Stated</td><td>Not Stated</td><td>Not Stated</td><td>Black</td><td>Not Stated</td><td>1</td><td>Not Stated</td><td>Not Stated</td><td>Not Stated</td><td>Not Stated</td><td>1</td></tr>\n<tr><td>002d9a45-6746-57dd-924a-a5f17fc17477</td><td>Linen Cotton</td><td>Not Stated</td><td>Not Stated</td><td>Cotton Linen Blend, Pure Cotton</td><td>Self Design</td><td>Light Blue</td><td>Straight</td><td>NULL</td><td>Regular Machine Wash</td><td>Not Stated</td><td>Full Sleeve</td><td>Feroza</td><td>NULL</td></tr>\n<tr><td>002eb895-9af3-526f-aeb0-7fa6535e3aad</td><td>59776670</td><td>Not Stated</td><td>Not Stated</td><td>Cotton Blend</td><td>Printed</td><td>Green</td><td>Not Stated</td><td>1 Sweatshirt</td><td>Machine Wash as per Tag</td><td>Not Stated</td><td>Full Sleeve</td><td>Not Stated</td><td>NULL</td></tr>\n</table>"
                    },
                    "metadata": {}
                }
            ],
            "execution_count": 22
        },
        {
            "cell_type": "markdown",
            "source": [
                "### Updating the last 2 columns - Sales Package and Pack of.\n",
                "\n",
                "When **Pack of field is null** **and Sales Package is not null ,** <span style=\"color: var(--vscode-foreground);\">I'd like to get the first numeric value from the Sales Package field and replace it.</span>"
            ],
            "metadata": {
                "azdata_cell_guid": "7f221f1a-e4d9-4004-a162-ca3ce1a5dbc6"
            },
            "attachments": {}
        },
        {
            "cell_type": "code",
            "source": [
                "UPDATE flipkart_products\n",
                "SET [Pack of] =  CASE \n",
                "        WHEN PATINDEX('%[0-9]%', [Sales Package]) > 0\n",
                "        THEN TRY_CAST(SUBSTRING([Sales Package], PATINDEX('%[0-9]%', [Sales Package]), \n",
                "                CHARINDEX(' ', [Sales Package] + ' ', PATINDEX('%[0-9]%', [Sales Package])) - PATINDEX('%[0-9]%', [Sales Package])) AS int)\n",
                "        ELSE NULL\n",
                "    END\n",
                "WHERE [Pack of] IS NULL AND [Sales Package] IS NOT NULL;\n"
            ],
            "metadata": {
                "azdata_cell_guid": "2b2fc9f5-01b7-4eb4-945d-c1ecc66d6900",
                "language": "sql",
                "vscode": {
                    "languageId": "sql"
                }
            },
            "outputs": [
                {
                    "output_type": "display_data",
                    "data": {
                        "text/html": "(4735 rows affected)"
                    },
                    "metadata": {}
                },
                {
                    "output_type": "display_data",
                    "data": {
                        "text/html": "Total execution time: 00:00:00.174"
                    },
                    "metadata": {}
                }
            ],
            "execution_count": 55
        },
        {
            "cell_type": "code",
            "source": [
                "-- Checking to see if it worked\n",
                "SELECT [Sales Package], [Pack of]\n",
                "FROM flipkart_products\n",
                "WHERE [Sales Package] IN ('VIP Frenchie-Plus-2', '6 Hunky Cotton Briefs')"
            ],
            "metadata": {
                "azdata_cell_guid": "331f9c23-b9c5-4a4a-a220-1a0710bcb256",
                "language": "sql",
                "vscode": {
                    "languageId": "sql"
                }
            },
            "outputs": [
                {
                    "output_type": "display_data",
                    "data": {
                        "text/html": "(9 rows affected)"
                    },
                    "metadata": {}
                },
                {
                    "output_type": "display_data",
                    "data": {
                        "text/html": "Total execution time: 00:00:00.094"
                    },
                    "metadata": {}
                },
                {
                    "output_type": "execute_result",
                    "execution_count": 61,
                    "data": {
                        "application/vnd.dataresource+json": {
                            "data": [
                                {
                                    "Pack of": "2",
                                    "Sales Package": "VIP Frenchie-Plus-2"
                                },
                                {
                                    "Pack of": "6",
                                    "Sales Package": "6 Hunky Cotton Briefs"
                                },
                                {
                                    "Pack of": "6",
                                    "Sales Package": "6 Hunky Cotton Briefs"
                                },
                                {
                                    "Pack of": "2",
                                    "Sales Package": "VIP Frenchie-Plus-2"
                                },
                                {
                                    "Pack of": "2",
                                    "Sales Package": "VIP Frenchie-Plus-2"
                                },
                                {
                                    "Pack of": "2",
                                    "Sales Package": "VIP Frenchie-Plus-2"
                                },
                                {
                                    "Pack of": "2",
                                    "Sales Package": "VIP Frenchie-Plus-2"
                                },
                                {
                                    "Pack of": "6",
                                    "Sales Package": "6 Hunky Cotton Briefs"
                                },
                                {
                                    "Pack of": "2",
                                    "Sales Package": "VIP Frenchie-Plus-2"
                                }
                            ],
                            "schema": {
                                "fields": [
                                    {
                                        "name": "Sales Package"
                                    },
                                    {
                                        "name": "Pack of"
                                    }
                                ]
                            }
                        },
                        "text/html": "<table>\n<tr><th>Sales Package</th><th>Pack of</th></tr>\n<tr><td>VIP Frenchie-Plus-2</td><td>2</td></tr>\n<tr><td>6 Hunky Cotton Briefs</td><td>6</td></tr>\n<tr><td>6 Hunky Cotton Briefs</td><td>6</td></tr>\n<tr><td>VIP Frenchie-Plus-2</td><td>2</td></tr>\n<tr><td>VIP Frenchie-Plus-2</td><td>2</td></tr>\n<tr><td>VIP Frenchie-Plus-2</td><td>2</td></tr>\n<tr><td>VIP Frenchie-Plus-2</td><td>2</td></tr>\n<tr><td>6 Hunky Cotton Briefs</td><td>6</td></tr>\n<tr><td>VIP Frenchie-Plus-2</td><td>2</td></tr>\n</table>"
                    },
                    "metadata": {}
                }
            ],
            "execution_count": 61
        },
        {
            "cell_type": "code",
            "source": [
                "-- Now Updating the null values in sales package\n",
                "\n",
                "UPDATE flipkart_products\n",
                "SET [Sales Package] = ISNULL(RTRIM(LTRIM([Sales Package])), 'Not Stated');"
            ],
            "metadata": {
                "azdata_cell_guid": "38fbcae5-b593-4e42-a59a-42b8e4bc1197",
                "language": "sql",
                "vscode": {
                    "languageId": "sql"
                }
            },
            "outputs": [
                {
                    "output_type": "display_data",
                    "data": {
                        "text/html": "(29985 rows affected)"
                    },
                    "metadata": {}
                },
                {
                    "output_type": "display_data",
                    "data": {
                        "text/html": "Total execution time: 00:00:00.196"
                    },
                    "metadata": {}
                }
            ],
            "execution_count": 63
        },
        {
            "cell_type": "code",
            "source": [
                "-- and the still Null values in Pack of\n",
                "UPDATE flipkart_products\n",
                "SET [Pack of] = ISNULL(RTRIM(LTRIM([Pack of])), 'Not Stated');"
            ],
            "metadata": {
                "azdata_cell_guid": "443dfbef-8e71-4f93-9102-bc2790bc5503",
                "language": "sql",
                "vscode": {
                    "languageId": "sql"
                }
            },
            "outputs": [
                {
                    "output_type": "display_data",
                    "data": {
                        "text/html": "(29985 rows affected)"
                    },
                    "metadata": {}
                },
                {
                    "output_type": "display_data",
                    "data": {
                        "text/html": "Total execution time: 00:00:00.220"
                    },
                    "metadata": {}
                }
            ],
            "execution_count": 66
        },
        {
            "cell_type": "markdown",
            "source": [
                "## Taking a Look at the cleaned tables"
            ],
            "metadata": {
                "azdata_cell_guid": "4460970d-8509-486c-b115-854112a1635f"
            },
            "attachments": {}
        },
        {
            "cell_type": "code",
            "source": [
                "SELECT TOP 10 *\n",
                "FROM Flipkart_data"
            ],
            "metadata": {
                "azdata_cell_guid": "cff62a7a-4be9-47ac-92df-79c836e46330",
                "language": "sql",
                "vscode": {
                    "languageId": "sql"
                }
            },
            "outputs": [
                {
                    "output_type": "display_data",
                    "data": {
                        "text/html": "(10 rows affected)"
                    },
                    "metadata": {}
                },
                {
                    "output_type": "display_data",
                    "data": {
                        "text/html": "Total execution time: 00:00:00.157"
                    },
                    "metadata": {}
                },
                {
                    "output_type": "execute_result",
                    "execution_count": 1,
                    "data": {
                        "application/vnd.dataresource+json": {
                            "schema": {
                                "fields": [
                                    {
                                        "name": "Id"
                                    },
                                    {
                                        "name": "actual_price"
                                    },
                                    {
                                        "name": "average_rating"
                                    },
                                    {
                                        "name": "brand"
                                    },
                                    {
                                        "name": "category"
                                    },
                                    {
                                        "name": "crawled_at"
                                    },
                                    {
                                        "name": "description"
                                    },
                                    {
                                        "name": "discount"
                                    },
                                    {
                                        "name": "out_of_stock"
                                    },
                                    {
                                        "name": "pid"
                                    },
                                    {
                                        "name": "product_details"
                                    },
                                    {
                                        "name": "seller"
                                    },
                                    {
                                        "name": "selling_price"
                                    },
                                    {
                                        "name": "sub_category"
                                    },
                                    {
                                        "name": "title"
                                    }
                                ]
                            },
                            "data": [
                                {
                                    "Id": "a549a2af-504f-59bd-ae23-7acb21ec5d11",
                                    "actual_price": "1539",
                                    "average_rating": "3",
                                    "brand": "Not Stated",
                                    "category": "Clothing and Accessories",
                                    "crawled_at": "02/10/2021, 20:12:40",
                                    "description": "We NextEdgeRetails are a professional tie manufacturer. We focus on ties for many years and In our store, we have many other styles (neckties,bow ties,tie sets,etc.) for sell which are bound to meet your needs, you can click our brand name nu-Lite to choose. Our products are famous for their comfort, durability and design because of the reliable quality, our products have been highly favored of the majority of customers. Besides they also would be perfect gifts or excellent additions to your wardrobe as well as for all fashion forward men, this tie is going to be a perfect pick. Make your Monday meetings more fun with this tie and show the world your style. Wearing an elegant man tie is an effective way to make you look charming and energetic. Be stylish and make a new style statement with nu-Lite that includes a great range of formal/casual slim neckties with pocket square for men. These ties looks good with most shirts, winning you compliments wherever you go and it. Comes with elegant primary packing of wooden box, it's a great choice for gifting purpose. Material: Wrinkle-resistant with ultra-fine POLYESTER microfiber, looks and feels like silk and even more durable OCCASIONS: nu-Lite ties collection are great choices for formal, casual and less formal occasions, such as office events, dinner dates, and simple day to day activities and also for Wedding, Engagement, Prom Ball Party, Business, Office, Meeting, Birthday Gifts, Holiday Presents, Thanks Giving, Christmas, Events Dressing. HOW TO CARE: Dry Cleaning Recommended and Before the first use please use Low Temperature Ironing to smooth the wrinkles. NOTE: In case you don't like the ties simply send them back, our team is here for any question.",
                                    "discount": "54% off",
                                    "out_of_stock": "false",
                                    "pid": "CTPFVZHVZVU4VQW9",
                                    "product_details": "[\n            {\n                \"Model Name\": \"Men's Micro Polyester Checkered Necktie Set with Pocket Square and Lapel Pin\"\n            }, \n            {\n                \"Style Code\": \"NL-Check-15\"\n            }, \n            {\n                \"Other Features\": \"AMAZING GIFT IDEA: Comes inside a wooden box, These nu-Lite stylish ties for men can make the perfect gift for every man and for every occasion, so get this stunning necktie for your husband for your anniversary, your dad for Father\\u2019s Day, your brother for his birthday, your son for Christmas, or your boyfriend for Valentine\\u2019s Day and on many more occasion like Daily Dress, Birthday, Wedding, Engagement, Party, Business, Office, Meeting etc. CARE: Dry clean only. Never place ties in washer or dryer as this will ruin the fabric and damage the sewing of the tie. High density fabric,No fade,wrinkle resistance and easy to take care of.\"\n            }, \n            {\n                \"Sales Package\": \"1 Tie with other accessories.\"\n            }\n        ]",
                                    "seller": "NextEdgeRetails",
                                    "selling_price": "699",
                                    "sub_category": "Clothing Accessories",
                                    "title": "nu-Lite Satin Tie & Cufflink  (Grey)"
                                },
                                {
                                    "Id": "8d92559c-6538-5f0c-bc6a-a880207b789d",
                                    "actual_price": "3299",
                                    "average_rating": "3",
                                    "brand": "Not Stated",
                                    "category": "Clothing and Accessories",
                                    "crawled_at": "02/10/2021, 20:12:40",
                                    "description": "Wearing an elegant man tie is an effective way to make you look charming and energetic. nu-Lite includes an amazing range of formal/casual slim neckties with pocket square for men. Further the classy & stylish appeal of these ties will certainly appeal to all & is bound to turn all heads. Adding complementing pocket square will enhance overall attire. It looks great with any dress or button up shirt. We have an enormous selection of ties to choose from, you can find the most elegant necktie designs and colors for each season of the year. These ties looks good with most shirts, winning you compliments wherever you go. Comes with elegant primary packing, great choice for gifting purpose. Each set comes with:",
                                    "discount": "81% off",
                                    "out_of_stock": "false",
                                    "pid": "CTPFVZT6GAFZ7BJX",
                                    "product_details": "[\n            {\n                \"Model Name\": \"Formal/Casual Printed Polyester Necktie Set with Pocket Square, Lapel Pin and Cufflinks for Men\"\n            }, \n            {\n                \"Style Code\": \"nu-Lite_Tie_09\"\n            }, \n            {\n                \"Other Features\": \"Slim tie having length 60 inches and width 3 inches. Made of polyester fabric, this men's tie is high on quality and light in weight too. It can be the best gift for yourself and friends. Care Instructions: Gentle Hand Wash. Great to wear for formal events, weddings bells, parties so you can stand out in the crowd\"\n            }, \n            {\n                \"Sales Package\": \"1 Tie with pocket square,Tie pin and cufflinks\"\n            }\n        ]",
                                    "seller": "NextEdgeRetails",
                                    "selling_price": "599",
                                    "sub_category": "Clothing Accessories",
                                    "title": "nu-Lite Satin Tie & Cufflink  (Blue)"
                                },
                                {
                                    "Id": "2c1d532e-7f8e-5b94-a629-b4c95fd9ddb7",
                                    "actual_price": "3299",
                                    "average_rating": "3",
                                    "brand": "Not Stated",
                                    "category": "Clothing and Accessories",
                                    "crawled_at": "02/10/2021, 20:12:41",
                                    "description": "Wearing an elegant man tie is an effective way to make you look charming and energetic. nu-Lite includes an amazing range of formal/casual slim neckties with pocket square for men. Further the classy & stylish appeal of these ties will certainly appeal to all & is bound to turn all heads. Adding complementing pocket square will enhance overall attire. It looks great with any dress or button up shirt. We have an enormous selection of ties to choose from, you can find the most elegant necktie designs and colors for each season of the year. These ties looks good with most shirts, winning you compliments wherever you go. Comes with elegant primary packing, great choice for gifting purpose. Each set comes with:",
                                    "discount": "72% off",
                                    "out_of_stock": "false",
                                    "pid": "CTPFVZT2F5UPM4YT",
                                    "product_details": "[\n            {\n                \"Model Name\": \"Formal/Casual Printed Polyester Necktie Set with Pocket Square, Lapel Pin and Cufflinks for Men\"\n            }, \n            {\n                \"Style Code\": \"nu-Lite_Tie_15\"\n            }, \n            {\n                \"Other Features\": \"Slim tie having length 60 inches and width 3 inches. Made of polyester fabric, this men's tie is high on quality and light in weight too. It can be the best gift for yourself and friends. Care Instructions: Gentle Hand Wash. Great to wear for formal events, weddings bells, parties so you can stand out in the crowd\"\n            }, \n            {\n                \"Sales Package\": \"1 Tie with pocket square,Tie pin and cufflinks\"\n            }\n        ]",
                                    "seller": "NextEdgeRetails",
                                    "selling_price": "899",
                                    "sub_category": "Clothing Accessories",
                                    "title": "nu-Lite Satin Tie & Cufflink  (Pink)"
                                },
                                {
                                    "Id": "3277ec81-728b-5dd0-9e11-6932305c79f6",
                                    "actual_price": "1539",
                                    "average_rating": "3",
                                    "brand": "Not Stated",
                                    "category": "Clothing and Accessories",
                                    "crawled_at": "02/10/2021, 20:12:41",
                                    "description": "",
                                    "discount": "77% off",
                                    "out_of_stock": "false",
                                    "pid": "CTPFVZGFGH6J9PUU",
                                    "product_details": "[\n            {\n                \"Model Name\": \"Men's Micro Polyester Checkered Necktie Set with Pocket Square and Lapel Pin\"\n            }, \n            {\n                \"Style Code\": \"NL-Check-3\"\n            }, \n            {\n                \"Sales Package\": \"1 Tie with other accessories.\"\n            }\n        ]",
                                    "seller": "NextEdgeRetails",
                                    "selling_price": "349",
                                    "sub_category": "Clothing Accessories",
                                    "title": "nu-Lite Satin Tie & Cufflink  (Multicolor)"
                                },
                                {
                                    "Id": "3c881c48-c6a0-54e8-bea5-728755ce6fd5",
                                    "actual_price": "1539",
                                    "average_rating": "3",
                                    "brand": "Not Stated",
                                    "category": "Clothing and Accessories",
                                    "crawled_at": "02/10/2021, 20:12:41",
                                    "description": "We NextEdgeRetails are a professional tie manufacturer. We focus on ties for many years and In our store, we have many other styles (neckties,bow ties,tie sets,etc.) for sell which are bound to meet your needs, you can click our brand name nu-Lite to choose. Our products are famous for their comfort, durability and design because of the reliable quality, our products have been highly favored of the majority of customers. Besides they also would be perfect gifts or excellent additions to your wardrobe as well as for all fashion forward men, this tie is going to be a perfect pick. Make your Monday meetings more fun with this tie and show the world your style. Wearing an elegant man tie is an effective way to make you look charming and energetic. Be stylish and make a new style statement with nu-Lite that includes a great range of formal/casual slim neckties with pocket square for men. These ties looks good with most shirts, winning you compliments wherever you go and it. Comes with elegant primary packing of wooden box, it's a great choice for gifting purpose. Material: Wrinkle-resistant with ultra-fine POLYESTER microfiber, looks and feels like silk and even more durable OCCASIONS: nu-Lite ties collection are great choices for formal, casual and less formal occasions, such as office events, dinner dates, and simple day to day activities and also for Wedding, Engagement, Prom Ball Party, Business, Office, Meeting, Birthday Gifts, Holiday Presents, Thanks Giving, Christmas, Events Dressing. HOW TO CARE: Dry Cleaning Recommended and Before the first use please use Low Temperature Ironing to smooth the wrinkles. NOTE: In case you don't like the ties simply send them back, our team is here for any question.",
                                    "discount": "77% off",
                                    "out_of_stock": "false",
                                    "pid": "CTPFVPFPUWYQC9M5",
                                    "product_details": "[\n            {\n                \"Model Name\": \"Men's Micro Polyester Floral Necktie Set with Pocket Square and Lapel Pin\"\n            }, \n            {\n                \"Style Code\": \"NL-Floral-39\"\n            }, \n            {\n                \"Sales Package\": \"1 Tie with other accessories.\"\n            }\n        ]",
                                    "seller": "NextEdgeRetails",
                                    "selling_price": "349",
                                    "sub_category": "Clothing Accessories",
                                    "title": "nu-Lite Satin Tie Pin Set  (Black)"
                                },
                                {
                                    "Id": "72a539d2-aa7e-5601-9c20-1c5ee697000f",
                                    "actual_price": "1539",
                                    "average_rating": "3",
                                    "brand": "Not Stated",
                                    "category": "Clothing and Accessories",
                                    "crawled_at": "02/10/2021, 20:12:42",
                                    "description": "",
                                    "discount": "77% off",
                                    "out_of_stock": "false",
                                    "pid": "CTPFVPEGPYEJ7VYR",
                                    "product_details": "[\n            {\n                \"Model Name\": \"Men's Micro Polyester Floral Necktie Set with Pocket Square and Lapel Pin\"\n            }, \n            {\n                \"Style Code\": \"NL-Floral-32\"\n            }, \n            {\n                \"Sales Package\": \"1 Tie with other accessories.\"\n            }\n        ]",
                                    "seller": "NextEdgeRetails",
                                    "selling_price": "349",
                                    "sub_category": "Clothing Accessories",
                                    "title": "nu-Lite Satin Tie Pin Set  (Purple)"
                                },
                                {
                                    "Id": "4c4434e6-4650-5e13-ac04-aa7ac1293f87",
                                    "actual_price": "2999",
                                    "average_rating": "3",
                                    "brand": "Not Stated",
                                    "category": "Clothing and Accessories",
                                    "crawled_at": "02/10/2021, 20:12:42",
                                    "description": "",
                                    "discount": "83% off",
                                    "out_of_stock": "false",
                                    "pid": "CTPFW63J86FZFHDS",
                                    "product_details": "[\n            {\n                \"Model Name\": \"Men's Micro Polyester Necktie Set with Pocket Square, Lapel Pin and Cufflinks\"\n            }, \n            {\n                \"Style Code\": \"NL-PinkTie\"\n            }, \n            {\n                \"Sales Package\": \"1 tie, 1 pocket square, 1 lapel Pin,2 cufflink\"\n            }\n        ]",
                                    "seller": "NextEdgeRetails",
                                    "selling_price": "499",
                                    "sub_category": "Clothing Accessories",
                                    "title": "nu-Lite Satin Tie Pin Set  (Pink)"
                                },
                                {
                                    "Id": "6b6227de-bb3e-59a8-adfa-0e29396c99d0",
                                    "actual_price": "1539",
                                    "average_rating": "3",
                                    "brand": "Not Stated",
                                    "category": "Clothing and Accessories",
                                    "crawled_at": "02/10/2021, 20:12:43",
                                    "description": "",
                                    "discount": "77% off",
                                    "out_of_stock": "false",
                                    "pid": "CTPFVPFBTAEGR5SZ",
                                    "product_details": "[\n            {\n                \"Model Name\": \"Men's Micro Polyester Floral Necktie Set with Pocket Square and Lapel Pin\"\n            }, \n            {\n                \"Style Code\": \"NL-Floral-34\"\n            }, \n            {\n                \"Sales Package\": \"2\"\n            }\n        ]",
                                    "seller": "NextEdgeRetails",
                                    "selling_price": "349",
                                    "sub_category": "Clothing Accessories",
                                    "title": "nu-Lite Satin Tie Pin Set  (Multicolor)"
                                },
                                {
                                    "Id": "3a1a94c5-b214-5b46-b093-d5986a4bb3eb",
                                    "actual_price": "1539",
                                    "average_rating": "3",
                                    "brand": "Not Stated",
                                    "category": "Clothing and Accessories",
                                    "crawled_at": "02/10/2021, 20:12:43",
                                    "description": "",
                                    "discount": "77% off",
                                    "out_of_stock": "false",
                                    "pid": "CTPFVPF3CXFJYKHC",
                                    "product_details": "[\n            {\n                \"Model Name\": \"Men's Micro Polyester Floral Necktie Set with Pocket Square and Lapel Pin\"\n            }, \n            {\n                \"Style Code\": \"NL-Floral-33\"\n            }, \n            {\n                \"Sales Package\": \"2\"\n            }\n        ]",
                                    "seller": "NextEdgeRetails",
                                    "selling_price": "349",
                                    "sub_category": "Clothing Accessories",
                                    "title": "nu-Lite Satin Tie Pin Set  (Multicolor)"
                                },
                                {
                                    "Id": "5cfdc742-c751-5f06-9fba-95d3fb4109c0",
                                    "actual_price": "1539",
                                    "average_rating": "3",
                                    "brand": "Not Stated",
                                    "category": "Clothing and Accessories",
                                    "crawled_at": "02/10/2021, 20:12:44",
                                    "description": "",
                                    "discount": "77% off",
                                    "out_of_stock": "false",
                                    "pid": "CTPFVPEGHDXH7YAF",
                                    "product_details": "[\n            {\n                \"Model Name\": \"Men's Micro Polyester Floral Necktie Set with Pocket Square and Lapel Pin\"\n            }, \n            {\n                \"Style Code\": \"NL-Floral-31\"\n            }, \n            {\n                \"Sales Package\": \"2\"\n            }\n        ]",
                                    "seller": "NextEdgeRetails",
                                    "selling_price": "349",
                                    "sub_category": "Clothing Accessories",
                                    "title": "nu-Lite Satin Tie Pin Set  (Multicolor)"
                                }
                            ]
                        },
                        "text/html": "<table><tr><th>Id</th><th>actual_price</th><th>average_rating</th><th>brand</th><th>category</th><th>crawled_at</th><th>description</th><th>discount</th><th>out_of_stock</th><th>pid</th><th>product_details</th><th>seller</th><th>selling_price</th><th>sub_category</th><th>title</th></tr><tr><td>a549a2af-504f-59bd-ae23-7acb21ec5d11</td><td>1539</td><td>3</td><td>Not Stated</td><td>Clothing and Accessories</td><td>02/10/2021, 20:12:40</td><td>We NextEdgeRetails are a professional tie manufacturer. We focus on ties for many years and In our store, we have many other styles (neckties,bow ties,tie sets,etc.) for sell which are bound to meet your needs, you can click our brand name nu-Lite to choose. Our products are famous for their comfort, durability and design because of the reliable quality, our products have been highly favored of the majority of customers. Besides they also would be perfect gifts or excellent additions to your wardrobe as well as for all fashion forward men, this tie is going to be a perfect pick. Make your Monday meetings more fun with this tie and show the world your style. Wearing an elegant man tie is an effective way to make you look charming and energetic. Be stylish and make a new style statement with nu-Lite that includes a great range of formal/casual slim neckties with pocket square for men. These ties looks good with most shirts, winning you compliments wherever you go and it. Comes with elegant primary packing of wooden box, it&#39;s a great choice for gifting purpose. Material: Wrinkle-resistant with ultra-fine POLYESTER microfiber, looks and feels like silk and even more durable OCCASIONS: nu-Lite ties collection are great choices for formal, casual and less formal occasions, such as office events, dinner dates, and simple day to day activities and also for Wedding, Engagement, Prom Ball Party, Business, Office, Meeting, Birthday Gifts, Holiday Presents, Thanks Giving, Christmas, Events Dressing. HOW TO CARE: Dry Cleaning Recommended and Before the first use please use Low Temperature Ironing to smooth the wrinkles. NOTE: In case you don&#39;t like the ties simply send them back, our team is here for any question.</td><td>54% off</td><td>false</td><td>CTPFVZHVZVU4VQW9</td><td>[\n            {\n                &quot;Model Name&quot;: &quot;Men&#39;s Micro Polyester Checkered Necktie Set with Pocket Square and Lapel Pin&quot;\n            }, \n            {\n                &quot;Style Code&quot;: &quot;NL-Check-15&quot;\n            }, \n            {\n                &quot;Other Features&quot;: &quot;AMAZING GIFT IDEA: Comes inside a wooden box, These nu-Lite stylish ties for men can make the perfect gift for every man and for every occasion, so get this stunning necktie for your husband for your anniversary, your dad for Father\\u2019s Day, your brother for his birthday, your son for Christmas, or your boyfriend for Valentine\\u2019s Day and on many more occasion like Daily Dress, Birthday, Wedding, Engagement, Party, Business, Office, Meeting etc. CARE: Dry clean only. Never place ties in washer or dryer as this will ruin the fabric and damage the sewing of the tie. High density fabric,No fade,wrinkle resistance and easy to take care of.&quot;\n            }, \n            {\n                &quot;Sales Package&quot;: &quot;1 Tie with other accessories.&quot;\n            }\n        ]</td><td>NextEdgeRetails</td><td>699</td><td>Clothing Accessories</td><td>nu-Lite Satin Tie &amp; Cufflink  (Grey)</td></tr><tr><td>8d92559c-6538-5f0c-bc6a-a880207b789d</td><td>3299</td><td>3</td><td>Not Stated</td><td>Clothing and Accessories</td><td>02/10/2021, 20:12:40</td><td>Wearing an elegant man tie is an effective way to make you look charming and energetic. nu-Lite includes an amazing range of formal/casual slim neckties with pocket square for men. Further the classy &amp; stylish appeal of these ties will certainly appeal to all &amp; is bound to turn all heads. Adding complementing pocket square will enhance overall attire. It looks great with any dress or button up shirt. We have an enormous selection of ties to choose from, you can find the most elegant necktie designs and colors for each season of the year. These ties looks good with most shirts, winning you compliments wherever you go. Comes with elegant primary packing, great choice for gifting purpose. Each set comes with:</td><td>81% off</td><td>false</td><td>CTPFVZT6GAFZ7BJX</td><td>[\n            {\n                &quot;Model Name&quot;: &quot;Formal/Casual Printed Polyester Necktie Set with Pocket Square, Lapel Pin and Cufflinks for Men&quot;\n            }, \n            {\n                &quot;Style Code&quot;: &quot;nu-Lite_Tie_09&quot;\n            }, \n            {\n                &quot;Other Features&quot;: &quot;Slim tie having length 60 inches and width 3 inches. Made of polyester fabric, this men&#39;s tie is high on quality and light in weight too. It can be the best gift for yourself and friends. Care Instructions: Gentle Hand Wash. Great to wear for formal events, weddings bells, parties so you can stand out in the crowd&quot;\n            }, \n            {\n                &quot;Sales Package&quot;: &quot;1 Tie with pocket square,Tie pin and cufflinks&quot;\n            }\n        ]</td><td>NextEdgeRetails</td><td>599</td><td>Clothing Accessories</td><td>nu-Lite Satin Tie &amp; Cufflink  (Blue)</td></tr><tr><td>2c1d532e-7f8e-5b94-a629-b4c95fd9ddb7</td><td>3299</td><td>3</td><td>Not Stated</td><td>Clothing and Accessories</td><td>02/10/2021, 20:12:41</td><td>Wearing an elegant man tie is an effective way to make you look charming and energetic. nu-Lite includes an amazing range of formal/casual slim neckties with pocket square for men. Further the classy &amp; stylish appeal of these ties will certainly appeal to all &amp; is bound to turn all heads. Adding complementing pocket square will enhance overall attire. It looks great with any dress or button up shirt. We have an enormous selection of ties to choose from, you can find the most elegant necktie designs and colors for each season of the year. These ties looks good with most shirts, winning you compliments wherever you go. Comes with elegant primary packing, great choice for gifting purpose. Each set comes with:</td><td>72% off</td><td>false</td><td>CTPFVZT2F5UPM4YT</td><td>[\n            {\n                &quot;Model Name&quot;: &quot;Formal/Casual Printed Polyester Necktie Set with Pocket Square, Lapel Pin and Cufflinks for Men&quot;\n            }, \n            {\n                &quot;Style Code&quot;: &quot;nu-Lite_Tie_15&quot;\n            }, \n            {\n                &quot;Other Features&quot;: &quot;Slim tie having length 60 inches and width 3 inches. Made of polyester fabric, this men&#39;s tie is high on quality and light in weight too. It can be the best gift for yourself and friends. Care Instructions: Gentle Hand Wash. Great to wear for formal events, weddings bells, parties so you can stand out in the crowd&quot;\n            }, \n            {\n                &quot;Sales Package&quot;: &quot;1 Tie with pocket square,Tie pin and cufflinks&quot;\n            }\n        ]</td><td>NextEdgeRetails</td><td>899</td><td>Clothing Accessories</td><td>nu-Lite Satin Tie &amp; Cufflink  (Pink)</td></tr><tr><td>3277ec81-728b-5dd0-9e11-6932305c79f6</td><td>1539</td><td>3</td><td>Not Stated</td><td>Clothing and Accessories</td><td>02/10/2021, 20:12:41</td><td></td><td>77% off</td><td>false</td><td>CTPFVZGFGH6J9PUU</td><td>[\n            {\n                &quot;Model Name&quot;: &quot;Men&#39;s Micro Polyester Checkered Necktie Set with Pocket Square and Lapel Pin&quot;\n            }, \n            {\n                &quot;Style Code&quot;: &quot;NL-Check-3&quot;\n            }, \n            {\n                &quot;Sales Package&quot;: &quot;1 Tie with other accessories.&quot;\n            }\n        ]</td><td>NextEdgeRetails</td><td>349</td><td>Clothing Accessories</td><td>nu-Lite Satin Tie &amp; Cufflink  (Multicolor)</td></tr><tr><td>3c881c48-c6a0-54e8-bea5-728755ce6fd5</td><td>1539</td><td>3</td><td>Not Stated</td><td>Clothing and Accessories</td><td>02/10/2021, 20:12:41</td><td>We NextEdgeRetails are a professional tie manufacturer. We focus on ties for many years and In our store, we have many other styles (neckties,bow ties,tie sets,etc.) for sell which are bound to meet your needs, you can click our brand name nu-Lite to choose. Our products are famous for their comfort, durability and design because of the reliable quality, our products have been highly favored of the majority of customers. Besides they also would be perfect gifts or excellent additions to your wardrobe as well as for all fashion forward men, this tie is going to be a perfect pick. Make your Monday meetings more fun with this tie and show the world your style. Wearing an elegant man tie is an effective way to make you look charming and energetic. Be stylish and make a new style statement with nu-Lite that includes a great range of formal/casual slim neckties with pocket square for men. These ties looks good with most shirts, winning you compliments wherever you go and it. Comes with elegant primary packing of wooden box, it&#39;s a great choice for gifting purpose. Material: Wrinkle-resistant with ultra-fine POLYESTER microfiber, looks and feels like silk and even more durable OCCASIONS: nu-Lite ties collection are great choices for formal, casual and less formal occasions, such as office events, dinner dates, and simple day to day activities and also for Wedding, Engagement, Prom Ball Party, Business, Office, Meeting, Birthday Gifts, Holiday Presents, Thanks Giving, Christmas, Events Dressing. HOW TO CARE: Dry Cleaning Recommended and Before the first use please use Low Temperature Ironing to smooth the wrinkles. NOTE: In case you don&#39;t like the ties simply send them back, our team is here for any question.</td><td>77% off</td><td>false</td><td>CTPFVPFPUWYQC9M5</td><td>[\n            {\n                &quot;Model Name&quot;: &quot;Men&#39;s Micro Polyester Floral Necktie Set with Pocket Square and Lapel Pin&quot;\n            }, \n            {\n                &quot;Style Code&quot;: &quot;NL-Floral-39&quot;\n            }, \n            {\n                &quot;Sales Package&quot;: &quot;1 Tie with other accessories.&quot;\n            }\n        ]</td><td>NextEdgeRetails</td><td>349</td><td>Clothing Accessories</td><td>nu-Lite Satin Tie Pin Set  (Black)</td></tr><tr><td>72a539d2-aa7e-5601-9c20-1c5ee697000f</td><td>1539</td><td>3</td><td>Not Stated</td><td>Clothing and Accessories</td><td>02/10/2021, 20:12:42</td><td></td><td>77% off</td><td>false</td><td>CTPFVPEGPYEJ7VYR</td><td>[\n            {\n                &quot;Model Name&quot;: &quot;Men&#39;s Micro Polyester Floral Necktie Set with Pocket Square and Lapel Pin&quot;\n            }, \n            {\n                &quot;Style Code&quot;: &quot;NL-Floral-32&quot;\n            }, \n            {\n                &quot;Sales Package&quot;: &quot;1 Tie with other accessories.&quot;\n            }\n        ]</td><td>NextEdgeRetails</td><td>349</td><td>Clothing Accessories</td><td>nu-Lite Satin Tie Pin Set  (Purple)</td></tr><tr><td>4c4434e6-4650-5e13-ac04-aa7ac1293f87</td><td>2999</td><td>3</td><td>Not Stated</td><td>Clothing and Accessories</td><td>02/10/2021, 20:12:42</td><td></td><td>83% off</td><td>false</td><td>CTPFW63J86FZFHDS</td><td>[\n            {\n                &quot;Model Name&quot;: &quot;Men&#39;s Micro Polyester Necktie Set with Pocket Square, Lapel Pin and Cufflinks&quot;\n            }, \n            {\n                &quot;Style Code&quot;: &quot;NL-PinkTie&quot;\n            }, \n            {\n                &quot;Sales Package&quot;: &quot;1 tie, 1 pocket square, 1 lapel Pin,2 cufflink&quot;\n            }\n        ]</td><td>NextEdgeRetails</td><td>499</td><td>Clothing Accessories</td><td>nu-Lite Satin Tie Pin Set  (Pink)</td></tr><tr><td>6b6227de-bb3e-59a8-adfa-0e29396c99d0</td><td>1539</td><td>3</td><td>Not Stated</td><td>Clothing and Accessories</td><td>02/10/2021, 20:12:43</td><td></td><td>77% off</td><td>false</td><td>CTPFVPFBTAEGR5SZ</td><td>[\n            {\n                &quot;Model Name&quot;: &quot;Men&#39;s Micro Polyester Floral Necktie Set with Pocket Square and Lapel Pin&quot;\n            }, \n            {\n                &quot;Style Code&quot;: &quot;NL-Floral-34&quot;\n            }, \n            {\n                &quot;Sales Package&quot;: &quot;2&quot;\n            }\n        ]</td><td>NextEdgeRetails</td><td>349</td><td>Clothing Accessories</td><td>nu-Lite Satin Tie Pin Set  (Multicolor)</td></tr><tr><td>3a1a94c5-b214-5b46-b093-d5986a4bb3eb</td><td>1539</td><td>3</td><td>Not Stated</td><td>Clothing and Accessories</td><td>02/10/2021, 20:12:43</td><td></td><td>77% off</td><td>false</td><td>CTPFVPF3CXFJYKHC</td><td>[\n            {\n                &quot;Model Name&quot;: &quot;Men&#39;s Micro Polyester Floral Necktie Set with Pocket Square and Lapel Pin&quot;\n            }, \n            {\n                &quot;Style Code&quot;: &quot;NL-Floral-33&quot;\n            }, \n            {\n                &quot;Sales Package&quot;: &quot;2&quot;\n            }\n        ]</td><td>NextEdgeRetails</td><td>349</td><td>Clothing Accessories</td><td>nu-Lite Satin Tie Pin Set  (Multicolor)</td></tr><tr><td>5cfdc742-c751-5f06-9fba-95d3fb4109c0</td><td>1539</td><td>3</td><td>Not Stated</td><td>Clothing and Accessories</td><td>02/10/2021, 20:12:44</td><td></td><td>77% off</td><td>false</td><td>CTPFVPEGHDXH7YAF</td><td>[\n            {\n                &quot;Model Name&quot;: &quot;Men&#39;s Micro Polyester Floral Necktie Set with Pocket Square and Lapel Pin&quot;\n            }, \n            {\n                &quot;Style Code&quot;: &quot;NL-Floral-31&quot;\n            }, \n            {\n                &quot;Sales Package&quot;: &quot;2&quot;\n            }\n        ]</td><td>NextEdgeRetails</td><td>349</td><td>Clothing Accessories</td><td>nu-Lite Satin Tie Pin Set  (Multicolor)</td></tr></table>"
                    },
                    "metadata": {}
                }
            ],
            "execution_count": 1
        },
        {
            "cell_type": "code",
            "source": [
                "SELECT TOP 10 *\n",
                "FROM flipkart_products"
            ],
            "metadata": {
                "azdata_cell_guid": "bc6b7240-d310-47b0-87fa-9b6d89d3b9bf",
                "language": "sql",
                "vscode": {
                    "languageId": "sql"
                }
            },
            "outputs": [
                {
                    "output_type": "display_data",
                    "data": {
                        "text/html": "(10 rows affected)"
                    },
                    "metadata": {}
                },
                {
                    "output_type": "display_data",
                    "data": {
                        "text/html": "Total execution time: 00:00:00.058"
                    },
                    "metadata": {}
                },
                {
                    "output_type": "execute_result",
                    "execution_count": 2,
                    "data": {
                        "application/vnd.dataresource+json": {
                            "schema": {
                                "fields": [
                                    {
                                        "name": "Id"
                                    },
                                    {
                                        "name": "StyleCode"
                                    },
                                    {
                                        "name": "Closure"
                                    },
                                    {
                                        "name": "Pockets"
                                    },
                                    {
                                        "name": "Fabric"
                                    },
                                    {
                                        "name": "Pattern"
                                    },
                                    {
                                        "name": "Color"
                                    },
                                    {
                                        "name": "Type"
                                    },
                                    {
                                        "name": "Sales Package"
                                    },
                                    {
                                        "name": "Fabric Care"
                                    },
                                    {
                                        "name": "Size"
                                    },
                                    {
                                        "name": "Sleeve"
                                    },
                                    {
                                        "name": "Brand Color"
                                    },
                                    {
                                        "name": "Pack of"
                                    }
                                ]
                            },
                            "data": [
                                {
                                    "Id": "00005493-1875-5b43-8061-20c7d0cbe6b1",
                                    "StyleCode": "AX-Basic-Silver Grey",
                                    "Closure": "Not Stated",
                                    "Pockets": "Not Stated",
                                    "Fabric": "Cotton Blend",
                                    "Pattern": "Solid",
                                    "Color": "Not Stated",
                                    "Type": "Polo Neck",
                                    "Sales Package": "1 T-Shirt",
                                    "Fabric Care": "Regular Machine Wash, Do not Iron on print/embroidery/embellishment, Reverse and dry, Do not tumble dry, Dry in shade, Do not dry clean",
                                    "Size": "M",
                                    "Sleeve": "Half Sleeve",
                                    "Brand Color": "Silver Grey",
                                    "Pack of": "1"
                                },
                                {
                                    "Id": "0003c6ae-73c1-5f18-a5e6-778e5f7b8804",
                                    "StyleCode": "T10000580",
                                    "Closure": "Not Stated",
                                    "Pockets": "Not Stated",
                                    "Fabric": "Cotton Lycra Blend",
                                    "Pattern": "Solid",
                                    "Color": "Not Stated",
                                    "Type": "Round Neck",
                                    "Sales Package": "1 T-Shirt",
                                    "Fabric Care": "Not Stated",
                                    "Size": "XL",
                                    "Sleeve": "Half Sleeve",
                                    "Brand Color": "Aqua",
                                    "Pack of": "1"
                                },
                                {
                                    "Id": "000636e4-07c0-5d26-adfd-f6114389edb7",
                                    "StyleCode": "EKSH001982",
                                    "Closure": "Not Stated",
                                    "Pockets": "Not Stated",
                                    "Fabric": "Cotton Blend",
                                    "Pattern": "Checkered",
                                    "Color": "Khaki",
                                    "Type": "Not Stated",
                                    "Sales Package": "Not Stated",
                                    "Fabric Care": "Gentle Machine Wash",
                                    "Size": "Not Stated",
                                    "Sleeve": "Full Sleeve",
                                    "Brand Color": "Not Stated",
                                    "Pack of": "1"
                                },
                                {
                                    "Id": "000cb2a8-7ae7-5905-a828-9a9ebc9947b8",
                                    "StyleCode": "(GRN-KWI-ORG)-3P",
                                    "Closure": "Not Stated",
                                    "Pockets": "Not Stated",
                                    "Fabric": "Polycotton",
                                    "Pattern": "Solid",
                                    "Color": "Not Stated",
                                    "Type": "Polo Neck",
                                    "Sales Package": "3 T-Shirts",
                                    "Fabric Care": "Regular Machine Wash",
                                    "Size": "XXL",
                                    "Sleeve": "Short Sleeve",
                                    "Brand Color": "Green;Light Green;Orange",
                                    "Pack of": "3"
                                },
                                {
                                    "Id": "000cb961-8d64-513b-896a-ab29d85fb97d",
                                    "StyleCode": "META_TSHIRT_BL-6",
                                    "Closure": "Not Stated",
                                    "Pockets": "Not Stated",
                                    "Fabric": "Pure Cotton",
                                    "Pattern": "Graphic Print",
                                    "Color": "Not Stated",
                                    "Type": "Round Neck",
                                    "Sales Package": "1",
                                    "Fabric Care": "Regular Machine Wash",
                                    "Size": "S",
                                    "Sleeve": "Half Sleeve",
                                    "Brand Color": "Black",
                                    "Pack of": "1"
                                },
                                {
                                    "Id": "000d890b-13a7-5fdd-b740-e7136806575c",
                                    "StyleCode": "AX-531-Navy",
                                    "Closure": "Not Stated",
                                    "Pockets": "Not Stated",
                                    "Fabric": "Cotton Blend",
                                    "Pattern": "Striped, Checkered",
                                    "Color": "Blue",
                                    "Type": "Not Stated",
                                    "Sales Package": "1 Sweatshirt",
                                    "Fabric Care": "Do Not Iron on Print/Embroidery/Embellishment",
                                    "Size": "Not Stated",
                                    "Sleeve": "Full Sleeve",
                                    "Brand Color": "Not Stated",
                                    "Pack of": "1"
                                },
                                {
                                    "Id": "000f6224-fa1b-5771-b73d-a1f21773101c",
                                    "StyleCode": "Not Stated",
                                    "Closure": "Not Stated",
                                    "Pockets": "Not Stated",
                                    "Fabric": "Cotton",
                                    "Pattern": "Not Stated",
                                    "Color": "Multicolor",
                                    "Type": "Not Stated",
                                    "Sales Package": "Not Stated",
                                    "Fabric Care": "Cotton",
                                    "Size": "Not Stated",
                                    "Sleeve": "Not Stated",
                                    "Brand Color": "Not Stated",
                                    "Pack of": "Not Stated"
                                },
                                {
                                    "Id": "000fe678-23a2-595b-86bf-5c6ece756471",
                                    "StyleCode": "S100-C2-Rd_Gry-",
                                    "Closure": "Not Stated",
                                    "Pockets": "Not Stated",
                                    "Fabric": "Pure Cotton",
                                    "Pattern": "Self Design, Solid",
                                    "Color": "Not Stated",
                                    "Type": "Round Neck",
                                    "Sales Package": "Not Stated",
                                    "Fabric Care": "Gentle Machine Wash",
                                    "Size": "L",
                                    "Sleeve": "Short Sleeve",
                                    "Brand Color": "Red, Grey",
                                    "Pack of": "2"
                                },
                                {
                                    "Id": "001153d6-f9aa-5759-b61f-1b4fb288c686",
                                    "StyleCode": "Guruji-Blue",
                                    "Closure": "Not Stated",
                                    "Pockets": "Not Stated",
                                    "Fabric": "Pure Cotton",
                                    "Pattern": "Printed",
                                    "Color": "Not Stated",
                                    "Type": "Round Neck",
                                    "Sales Package": "1 t shirt",
                                    "Fabric Care": "Gentle Machine Wash",
                                    "Size": "L",
                                    "Sleeve": "Short Sleeve",
                                    "Brand Color": "Blue",
                                    "Pack of": "1"
                                },
                                {
                                    "Id": "0013bc06-90e6-5f5a-872a-2f4daa082ab1",
                                    "StyleCode": "GYM WORKOUT CUT SLEEVES HOODIE",
                                    "Closure": "Not Stated",
                                    "Pockets": "Not Stated",
                                    "Fabric": "Pure Cotton",
                                    "Pattern": "Printed",
                                    "Color": "Not Stated",
                                    "Type": "Hooded Neck",
                                    "Sales Package": "1",
                                    "Fabric Care": "Gentle Machine Wash",
                                    "Size": "XL",
                                    "Sleeve": "Sleeveless",
                                    "Brand Color": "Black",
                                    "Pack of": "1"
                                }
                            ]
                        },
                        "text/html": "<table><tr><th>Id</th><th>StyleCode</th><th>Closure</th><th>Pockets</th><th>Fabric</th><th>Pattern</th><th>Color</th><th>Type</th><th>Sales Package</th><th>Fabric Care</th><th>Size</th><th>Sleeve</th><th>Brand Color</th><th>Pack of</th></tr><tr><td>00005493-1875-5b43-8061-20c7d0cbe6b1</td><td>AX-Basic-Silver Grey</td><td>Not Stated</td><td>Not Stated</td><td>Cotton Blend</td><td>Solid</td><td>Not Stated</td><td>Polo Neck</td><td>1 T-Shirt</td><td>Regular Machine Wash, Do not Iron on print/embroidery/embellishment, Reverse and dry, Do not tumble dry, Dry in shade, Do not dry clean</td><td>M</td><td>Half Sleeve</td><td>Silver Grey</td><td>1</td></tr><tr><td>0003c6ae-73c1-5f18-a5e6-778e5f7b8804</td><td>T10000580</td><td>Not Stated</td><td>Not Stated</td><td>Cotton Lycra Blend</td><td>Solid</td><td>Not Stated</td><td>Round Neck</td><td>1 T-Shirt</td><td>Not Stated</td><td>XL</td><td>Half Sleeve</td><td>Aqua</td><td>1</td></tr><tr><td>000636e4-07c0-5d26-adfd-f6114389edb7</td><td>EKSH001982</td><td>Not Stated</td><td>Not Stated</td><td>Cotton Blend</td><td>Checkered</td><td>Khaki</td><td>Not Stated</td><td>Not Stated</td><td>Gentle Machine Wash</td><td>Not Stated</td><td>Full Sleeve</td><td>Not Stated</td><td>1</td></tr><tr><td>000cb2a8-7ae7-5905-a828-9a9ebc9947b8</td><td>(GRN-KWI-ORG)-3P</td><td>Not Stated</td><td>Not Stated</td><td>Polycotton</td><td>Solid</td><td>Not Stated</td><td>Polo Neck</td><td>3 T-Shirts</td><td>Regular Machine Wash</td><td>XXL</td><td>Short Sleeve</td><td>Green;Light Green;Orange</td><td>3</td></tr><tr><td>000cb961-8d64-513b-896a-ab29d85fb97d</td><td>META_TSHIRT_BL-6</td><td>Not Stated</td><td>Not Stated</td><td>Pure Cotton</td><td>Graphic Print</td><td>Not Stated</td><td>Round Neck</td><td>1</td><td>Regular Machine Wash</td><td>S</td><td>Half Sleeve</td><td>Black</td><td>1</td></tr><tr><td>000d890b-13a7-5fdd-b740-e7136806575c</td><td>AX-531-Navy</td><td>Not Stated</td><td>Not Stated</td><td>Cotton Blend</td><td>Striped, Checkered</td><td>Blue</td><td>Not Stated</td><td>1 Sweatshirt</td><td>Do Not Iron on Print/Embroidery/Embellishment</td><td>Not Stated</td><td>Full Sleeve</td><td>Not Stated</td><td>1</td></tr><tr><td>000f6224-fa1b-5771-b73d-a1f21773101c</td><td>Not Stated</td><td>Not Stated</td><td>Not Stated</td><td>Cotton</td><td>Not Stated</td><td>Multicolor</td><td>Not Stated</td><td>Not Stated</td><td>Cotton</td><td>Not Stated</td><td>Not Stated</td><td>Not Stated</td><td>Not Stated</td></tr><tr><td>000fe678-23a2-595b-86bf-5c6ece756471</td><td>S100-C2-Rd_Gry-</td><td>Not Stated</td><td>Not Stated</td><td>Pure Cotton</td><td>Self Design, Solid</td><td>Not Stated</td><td>Round Neck</td><td>Not Stated</td><td>Gentle Machine Wash</td><td>L</td><td>Short Sleeve</td><td>Red, Grey</td><td>2</td></tr><tr><td>001153d6-f9aa-5759-b61f-1b4fb288c686</td><td>Guruji-Blue</td><td>Not Stated</td><td>Not Stated</td><td>Pure Cotton</td><td>Printed</td><td>Not Stated</td><td>Round Neck</td><td>1 t shirt</td><td>Gentle Machine Wash</td><td>L</td><td>Short Sleeve</td><td>Blue</td><td>1</td></tr><tr><td>0013bc06-90e6-5f5a-872a-2f4daa082ab1</td><td>GYM WORKOUT CUT SLEEVES HOODIE</td><td>Not Stated</td><td>Not Stated</td><td>Pure Cotton</td><td>Printed</td><td>Not Stated</td><td>Hooded Neck</td><td>1</td><td>Gentle Machine Wash</td><td>XL</td><td>Sleeveless</td><td>Black</td><td>1</td></tr></table>"
                    },
                    "metadata": {}
                }
            ],
            "execution_count": 2
        },
        {
            "cell_type": "markdown",
            "source": [
                "### NEXT UP ANALYZE PHASE"
            ],
            "metadata": {
                "azdata_cell_guid": "c1a752b7-d502-4f25-a206-7ff084cf9d16"
            },
            "attachments": {}
        }
    ]
}