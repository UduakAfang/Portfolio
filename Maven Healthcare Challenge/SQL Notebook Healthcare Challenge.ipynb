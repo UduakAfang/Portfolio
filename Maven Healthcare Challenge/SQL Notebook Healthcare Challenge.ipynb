{
    "metadata": {
        "kernelspec": {
            "name": "SQL",
            "display_name": "SQL",
            "language": "sql"
        },
        "language_info": {
            "name": "sql",
            "version": ""
        }
    },
    "nbformat_minor": 2,
    "nbformat": 4,
    "cells": [
        {
            "cell_type": "markdown",
            "source": [
                "<span style=\"background:white\" lang=\"en-GB\">Your task is to</span> <span style=\"font-weight:bold;\n",
                "background:white\" lang=\"en-GB\">evaluate whether the HCAHPS survey has been successful in accomplishing this goal</span> <span style=\"background:white\" lang=\"en-GB\">by answering questions like these:</span>\n",
                "\n",
                "- <span style=\"font-family:Lato;font-size:12.0pt;background:white\">Have hospitals' HCAHPS scores improved over the past 9 years?</span>\n",
                "- <span style=\"font-family:Lato;font-size:12.0pt;background:white\">Are there any specific areas where hospitals have made more progress than others?</span>\n",
                "- <span style=\"font-family:Lato;font-size:12.0pt;background:white\">Are there any major areas of opportunity remaining?</span>\n",
                "- <span style=\"font-family:Lato;font-size:12.0pt;background:white\">What recommendations can you make to hospitals to help them further improve the patient experience?</span>"
            ],
            "metadata": {
                "azdata_cell_guid": "a29b02b4-2117-4271-850e-3e6fb1505795"
            },
            "attachments": {}
        },
        {
            "cell_type": "code",
            "source": [
                "-- Info on all columns\r\n",
                "\r\n",
                "\r\n",
                "SELECT \r\n",
                "    COLUMN_NAME, \r\n",
                "    DATA_TYPE,\r\n",
                " CHARACTER_MAXIMUM_LENGTH AS MAX_LENGTH, \r\n",
                "    CHARACTER_OCTET_LENGTH AS OCTET_LENGTH \r\n",
                "FROM INFORMATION_SCHEMA.COLUMNS \r\n",
                ""
            ],
            "metadata": {
                "azdata_cell_guid": "2d1c2a08-f234-4803-8d92-91de8fd0b175",
                "language": "sql"
            },
            "outputs": [
                {
                    "output_type": "display_data",
                    "data": {
                        "text/html": "(36 rows affected)"
                    },
                    "metadata": {}
                },
                {
                    "output_type": "display_data",
                    "data": {
                        "text/html": "Total execution time: 00:00:42.029"
                    },
                    "metadata": {}
                },
                {
                    "output_type": "execute_result",
                    "execution_count": 21,
                    "data": {
                        "application/vnd.dataresource+json": {
                            "schema": {
                                "fields": [
                                    {
                                        "name": "COLUMN_NAME"
                                    },
                                    {
                                        "name": "DATA_TYPE"
                                    },
                                    {
                                        "name": "MAX_LENGTH"
                                    },
                                    {
                                        "name": "OCTET_LENGTH"
                                    }
                                ]
                            },
                            "data": [
                                {
                                    "COLUMN_NAME": "Measure_ID",
                                    "DATA_TYPE": "nvarchar",
                                    "MAX_LENGTH": "50",
                                    "OCTET_LENGTH": "100"
                                },
                                {
                                    "COLUMN_NAME": "Measure",
                                    "DATA_TYPE": "nvarchar",
                                    "MAX_LENGTH": "50",
                                    "OCTET_LENGTH": "100"
                                },
                                {
                                    "COLUMN_NAME": "Type",
                                    "DATA_TYPE": "nvarchar",
                                    "MAX_LENGTH": "50",
                                    "OCTET_LENGTH": "100"
                                },
                                {
                                    "COLUMN_NAME": "Release_Period",
                                    "DATA_TYPE": "nvarchar",
                                    "MAX_LENGTH": "50",
                                    "OCTET_LENGTH": "100"
                                },
                                {
                                    "COLUMN_NAME": "Measure_ID",
                                    "DATA_TYPE": "nvarchar",
                                    "MAX_LENGTH": "50",
                                    "OCTET_LENGTH": "100"
                                },
                                {
                                    "COLUMN_NAME": "Bottom_box_Percentage",
                                    "DATA_TYPE": "tinyint",
                                    "MAX_LENGTH": "NULL",
                                    "OCTET_LENGTH": "NULL"
                                },
                                {
                                    "COLUMN_NAME": "Middle_box_Percentage",
                                    "DATA_TYPE": "tinyint",
                                    "MAX_LENGTH": "NULL",
                                    "OCTET_LENGTH": "NULL"
                                },
                                {
                                    "COLUMN_NAME": "Top_box_Percentage",
                                    "DATA_TYPE": "tinyint",
                                    "MAX_LENGTH": "NULL",
                                    "OCTET_LENGTH": "NULL"
                                },
                                {
                                    "COLUMN_NAME": "Question_Num",
                                    "DATA_TYPE": "tinyint",
                                    "MAX_LENGTH": "NULL",
                                    "OCTET_LENGTH": "NULL"
                                },
                                {
                                    "COLUMN_NAME": "Measure_ID",
                                    "DATA_TYPE": "nvarchar",
                                    "MAX_LENGTH": "50",
                                    "OCTET_LENGTH": "100"
                                },
                                {
                                    "COLUMN_NAME": "Question",
                                    "DATA_TYPE": "nvarchar",
                                    "MAX_LENGTH": "200",
                                    "OCTET_LENGTH": "400"
                                },
                                {
                                    "COLUMN_NAME": "Bottom_box_Answer",
                                    "DATA_TYPE": "nvarchar",
                                    "MAX_LENGTH": "50",
                                    "OCTET_LENGTH": "100"
                                },
                                {
                                    "COLUMN_NAME": "Middle_box_Answer",
                                    "DATA_TYPE": "nvarchar",
                                    "MAX_LENGTH": "50",
                                    "OCTET_LENGTH": "100"
                                },
                                {
                                    "COLUMN_NAME": "Top_box_Answer",
                                    "DATA_TYPE": "nvarchar",
                                    "MAX_LENGTH": "50",
                                    "OCTET_LENGTH": "100"
                                },
                                {
                                    "COLUMN_NAME": "Release_Period",
                                    "DATA_TYPE": "nvarchar",
                                    "MAX_LENGTH": "50",
                                    "OCTET_LENGTH": "100"
                                },
                                {
                                    "COLUMN_NAME": "Start_Date",
                                    "DATA_TYPE": "date",
                                    "MAX_LENGTH": "NULL",
                                    "OCTET_LENGTH": "NULL"
                                },
                                {
                                    "COLUMN_NAME": "End_Date",
                                    "DATA_TYPE": "date",
                                    "MAX_LENGTH": "NULL",
                                    "OCTET_LENGTH": "NULL"
                                },
                                {
                                    "COLUMN_NAME": "Release_Period",
                                    "DATA_TYPE": "nvarchar",
                                    "MAX_LENGTH": "50",
                                    "OCTET_LENGTH": "100"
                                },
                                {
                                    "COLUMN_NAME": "State",
                                    "DATA_TYPE": "nvarchar",
                                    "MAX_LENGTH": "50",
                                    "OCTET_LENGTH": "100"
                                },
                                {
                                    "COLUMN_NAME": "Measure_ID",
                                    "DATA_TYPE": "nvarchar",
                                    "MAX_LENGTH": "50",
                                    "OCTET_LENGTH": "100"
                                },
                                {
                                    "COLUMN_NAME": "Bottom_box_Percentage",
                                    "DATA_TYPE": "tinyint",
                                    "MAX_LENGTH": "NULL",
                                    "OCTET_LENGTH": "NULL"
                                },
                                {
                                    "COLUMN_NAME": "Middle_box_Percentage",
                                    "DATA_TYPE": "tinyint",
                                    "MAX_LENGTH": "NULL",
                                    "OCTET_LENGTH": "NULL"
                                },
                                {
                                    "COLUMN_NAME": "Top_box_Percentage",
                                    "DATA_TYPE": "tinyint",
                                    "MAX_LENGTH": "NULL",
                                    "OCTET_LENGTH": "NULL"
                                },
                                {
                                    "COLUMN_NAME": "State",
                                    "DATA_TYPE": "nvarchar",
                                    "MAX_LENGTH": "50",
                                    "OCTET_LENGTH": "100"
                                },
                                {
                                    "COLUMN_NAME": "State_Name",
                                    "DATA_TYPE": "nvarchar",
                                    "MAX_LENGTH": "50",
                                    "OCTET_LENGTH": "100"
                                },
                                {
                                    "COLUMN_NAME": "Region",
                                    "DATA_TYPE": "nvarchar",
                                    "MAX_LENGTH": "50",
                                    "OCTET_LENGTH": "100"
                                },
                                {
                                    "COLUMN_NAME": "name",
                                    "DATA_TYPE": "nvarchar",
                                    "MAX_LENGTH": "128",
                                    "OCTET_LENGTH": "256"
                                },
                                {
                                    "COLUMN_NAME": "principal_id",
                                    "DATA_TYPE": "int",
                                    "MAX_LENGTH": "NULL",
                                    "OCTET_LENGTH": "NULL"
                                },
                                {
                                    "COLUMN_NAME": "diagram_id",
                                    "DATA_TYPE": "int",
                                    "MAX_LENGTH": "NULL",
                                    "OCTET_LENGTH": "NULL"
                                },
                                {
                                    "COLUMN_NAME": "version",
                                    "DATA_TYPE": "int",
                                    "MAX_LENGTH": "NULL",
                                    "OCTET_LENGTH": "NULL"
                                },
                                {
                                    "COLUMN_NAME": "definition",
                                    "DATA_TYPE": "varbinary",
                                    "MAX_LENGTH": "-1",
                                    "OCTET_LENGTH": "-1"
                                },
                                {
                                    "COLUMN_NAME": "Release_Period",
                                    "DATA_TYPE": "nvarchar",
                                    "MAX_LENGTH": "50",
                                    "OCTET_LENGTH": "100"
                                },
                                {
                                    "COLUMN_NAME": "State",
                                    "DATA_TYPE": "nvarchar",
                                    "MAX_LENGTH": "50",
                                    "OCTET_LENGTH": "100"
                                },
                                {
                                    "COLUMN_NAME": "Facility_ID",
                                    "DATA_TYPE": "nvarchar",
                                    "MAX_LENGTH": "50",
                                    "OCTET_LENGTH": "100"
                                },
                                {
                                    "COLUMN_NAME": "Completed_Surveys",
                                    "DATA_TYPE": "nvarchar",
                                    "MAX_LENGTH": "50",
                                    "OCTET_LENGTH": "100"
                                },
                                {
                                    "COLUMN_NAME": "Response_Rate",
                                    "DATA_TYPE": "nvarchar",
                                    "MAX_LENGTH": "50",
                                    "OCTET_LENGTH": "100"
                                }
                            ]
                        },
                        "text/html": "<table><tr><th>COLUMN_NAME</th><th>DATA_TYPE</th><th>MAX_LENGTH</th><th>OCTET_LENGTH</th></tr><tr><td>Measure_ID</td><td>nvarchar</td><td>50</td><td>100</td></tr><tr><td>Measure</td><td>nvarchar</td><td>50</td><td>100</td></tr><tr><td>Type</td><td>nvarchar</td><td>50</td><td>100</td></tr><tr><td>Release_Period</td><td>nvarchar</td><td>50</td><td>100</td></tr><tr><td>Measure_ID</td><td>nvarchar</td><td>50</td><td>100</td></tr><tr><td>Bottom_box_Percentage</td><td>tinyint</td><td>NULL</td><td>NULL</td></tr><tr><td>Middle_box_Percentage</td><td>tinyint</td><td>NULL</td><td>NULL</td></tr><tr><td>Top_box_Percentage</td><td>tinyint</td><td>NULL</td><td>NULL</td></tr><tr><td>Question_Num</td><td>tinyint</td><td>NULL</td><td>NULL</td></tr><tr><td>Measure_ID</td><td>nvarchar</td><td>50</td><td>100</td></tr><tr><td>Question</td><td>nvarchar</td><td>200</td><td>400</td></tr><tr><td>Bottom_box_Answer</td><td>nvarchar</td><td>50</td><td>100</td></tr><tr><td>Middle_box_Answer</td><td>nvarchar</td><td>50</td><td>100</td></tr><tr><td>Top_box_Answer</td><td>nvarchar</td><td>50</td><td>100</td></tr><tr><td>Release_Period</td><td>nvarchar</td><td>50</td><td>100</td></tr><tr><td>Start_Date</td><td>date</td><td>NULL</td><td>NULL</td></tr><tr><td>End_Date</td><td>date</td><td>NULL</td><td>NULL</td></tr><tr><td>Release_Period</td><td>nvarchar</td><td>50</td><td>100</td></tr><tr><td>State</td><td>nvarchar</td><td>50</td><td>100</td></tr><tr><td>Measure_ID</td><td>nvarchar</td><td>50</td><td>100</td></tr><tr><td>Bottom_box_Percentage</td><td>tinyint</td><td>NULL</td><td>NULL</td></tr><tr><td>Middle_box_Percentage</td><td>tinyint</td><td>NULL</td><td>NULL</td></tr><tr><td>Top_box_Percentage</td><td>tinyint</td><td>NULL</td><td>NULL</td></tr><tr><td>State</td><td>nvarchar</td><td>50</td><td>100</td></tr><tr><td>State_Name</td><td>nvarchar</td><td>50</td><td>100</td></tr><tr><td>Region</td><td>nvarchar</td><td>50</td><td>100</td></tr><tr><td>name</td><td>nvarchar</td><td>128</td><td>256</td></tr><tr><td>principal_id</td><td>int</td><td>NULL</td><td>NULL</td></tr><tr><td>diagram_id</td><td>int</td><td>NULL</td><td>NULL</td></tr><tr><td>version</td><td>int</td><td>NULL</td><td>NULL</td></tr><tr><td>definition</td><td>varbinary</td><td>-1</td><td>-1</td></tr><tr><td>Release_Period</td><td>nvarchar</td><td>50</td><td>100</td></tr><tr><td>State</td><td>nvarchar</td><td>50</td><td>100</td></tr><tr><td>Facility_ID</td><td>nvarchar</td><td>50</td><td>100</td></tr><tr><td>Completed_Surveys</td><td>nvarchar</td><td>50</td><td>100</td></tr><tr><td>Response_Rate</td><td>nvarchar</td><td>50</td><td>100</td></tr></table>"
                    },
                    "metadata": {}
                }
            ],
            "execution_count": 21
        },
        {
            "cell_type": "code",
            "source": [
                "SELECT TOP 20 *\r\n",
                "FROM responses"
            ],
            "metadata": {
                "azdata_cell_guid": "f29cb16b-4188-4d08-84c6-12ce60e34417",
                "language": "sql"
            },
            "outputs": [
                {
                    "output_type": "display_data",
                    "data": {
                        "text/html": "(20 rows affected)"
                    },
                    "metadata": {}
                },
                {
                    "output_type": "display_data",
                    "data": {
                        "text/html": "Total execution time: 00:00:00.136"
                    },
                    "metadata": {}
                },
                {
                    "output_type": "execute_result",
                    "metadata": {},
                    "execution_count": 2,
                    "data": {
                        "application/vnd.dataresource+json": {
                            "schema": {
                                "fields": [
                                    {
                                        "name": "Release_Period"
                                    },
                                    {
                                        "name": "State"
                                    },
                                    {
                                        "name": "Facility_ID"
                                    },
                                    {
                                        "name": "Completed_Surveys"
                                    },
                                    {
                                        "name": "Response_Rate"
                                    }
                                ]
                            },
                            "data": [
                                {
                                    "Release_Period": "07_2015",
                                    "State": "TX",
                                    "Facility_ID": "450087",
                                    "Completed_Surveys": "300 or more",
                                    "Response_Rate": "29"
                                },
                                {
                                    "Release_Period": "07_2015",
                                    "State": "TX",
                                    "Facility_ID": "450090",
                                    "Completed_Surveys": "Not Available",
                                    "Response_Rate": "Not Available"
                                },
                                {
                                    "Release_Period": "07_2015",
                                    "State": "TX",
                                    "Facility_ID": "450092",
                                    "Completed_Surveys": "300 or more",
                                    "Response_Rate": "13"
                                },
                                {
                                    "Release_Period": "07_2015",
                                    "State": "TX",
                                    "Facility_ID": "450097",
                                    "Completed_Surveys": "300 or more",
                                    "Response_Rate": "26"
                                },
                                {
                                    "Release_Period": "07_2015",
                                    "State": "TX",
                                    "Facility_ID": "450099",
                                    "Completed_Surveys": "300 or more",
                                    "Response_Rate": "26"
                                },
                                {
                                    "Release_Period": "07_2015",
                                    "State": "TX",
                                    "Facility_ID": "450101",
                                    "Completed_Surveys": "300 or more",
                                    "Response_Rate": "21"
                                },
                                {
                                    "Release_Period": "07_2015",
                                    "State": "TX",
                                    "Facility_ID": "450102",
                                    "Completed_Surveys": "300 or more",
                                    "Response_Rate": "31"
                                },
                                {
                                    "Release_Period": "07_2015",
                                    "State": "TX",
                                    "Facility_ID": "450104",
                                    "Completed_Surveys": "300 or more",
                                    "Response_Rate": "24"
                                },
                                {
                                    "Release_Period": "07_2015",
                                    "State": "TX",
                                    "Facility_ID": "450107",
                                    "Completed_Surveys": "300 or more",
                                    "Response_Rate": "27"
                                },
                                {
                                    "Release_Period": "07_2015",
                                    "State": "TX",
                                    "Facility_ID": "450108",
                                    "Completed_Surveys": "Between 100 and 299",
                                    "Response_Rate": "31"
                                },
                                {
                                    "Release_Period": "07_2015",
                                    "State": "TX",
                                    "Facility_ID": "450119",
                                    "Completed_Surveys": "300 or more",
                                    "Response_Rate": "18"
                                },
                                {
                                    "Release_Period": "07_2015",
                                    "State": "TX",
                                    "Facility_ID": "450124",
                                    "Completed_Surveys": "300 or more",
                                    "Response_Rate": "25"
                                },
                                {
                                    "Release_Period": "07_2015",
                                    "State": "TX",
                                    "Facility_ID": "450128",
                                    "Completed_Surveys": "300 or more",
                                    "Response_Rate": "18"
                                },
                                {
                                    "Release_Period": "07_2015",
                                    "State": "TX",
                                    "Facility_ID": "450130",
                                    "Completed_Surveys": "300 or more",
                                    "Response_Rate": "20"
                                },
                                {
                                    "Release_Period": "07_2015",
                                    "State": "TX",
                                    "Facility_ID": "450132",
                                    "Completed_Surveys": "300 or more",
                                    "Response_Rate": "26"
                                },
                                {
                                    "Release_Period": "07_2015",
                                    "State": "TX",
                                    "Facility_ID": "450133",
                                    "Completed_Surveys": "300 or more",
                                    "Response_Rate": "16"
                                },
                                {
                                    "Release_Period": "07_2015",
                                    "State": "TX",
                                    "Facility_ID": "450135",
                                    "Completed_Surveys": "300 or more",
                                    "Response_Rate": "25"
                                },
                                {
                                    "Release_Period": "07_2015",
                                    "State": "TX",
                                    "Facility_ID": "450137",
                                    "Completed_Surveys": "300 or more",
                                    "Response_Rate": "20"
                                },
                                {
                                    "Release_Period": "07_2015",
                                    "State": "TX",
                                    "Facility_ID": "450143",
                                    "Completed_Surveys": "Fewer than 100",
                                    "Response_Rate": "27"
                                },
                                {
                                    "Release_Period": "07_2015",
                                    "State": "TX",
                                    "Facility_ID": "450144",
                                    "Completed_Surveys": "Between 100 and 299",
                                    "Response_Rate": "18"
                                }
                            ]
                        },
                        "text/html": [
                            "<table>",
                            "<tr><th>Release_Period</th><th>State</th><th>Facility_ID</th><th>Completed_Surveys</th><th>Response_Rate</th></tr>",
                            "<tr><td>07_2015</td><td>TX</td><td>450087</td><td>300 or more</td><td>29</td></tr>",
                            "<tr><td>07_2015</td><td>TX</td><td>450090</td><td>Not Available</td><td>Not Available</td></tr>",
                            "<tr><td>07_2015</td><td>TX</td><td>450092</td><td>300 or more</td><td>13</td></tr>",
                            "<tr><td>07_2015</td><td>TX</td><td>450097</td><td>300 or more</td><td>26</td></tr>",
                            "<tr><td>07_2015</td><td>TX</td><td>450099</td><td>300 or more</td><td>26</td></tr>",
                            "<tr><td>07_2015</td><td>TX</td><td>450101</td><td>300 or more</td><td>21</td></tr>",
                            "<tr><td>07_2015</td><td>TX</td><td>450102</td><td>300 or more</td><td>31</td></tr>",
                            "<tr><td>07_2015</td><td>TX</td><td>450104</td><td>300 or more</td><td>24</td></tr>",
                            "<tr><td>07_2015</td><td>TX</td><td>450107</td><td>300 or more</td><td>27</td></tr>",
                            "<tr><td>07_2015</td><td>TX</td><td>450108</td><td>Between 100 and 299</td><td>31</td></tr>",
                            "<tr><td>07_2015</td><td>TX</td><td>450119</td><td>300 or more</td><td>18</td></tr>",
                            "<tr><td>07_2015</td><td>TX</td><td>450124</td><td>300 or more</td><td>25</td></tr>",
                            "<tr><td>07_2015</td><td>TX</td><td>450128</td><td>300 or more</td><td>18</td></tr>",
                            "<tr><td>07_2015</td><td>TX</td><td>450130</td><td>300 or more</td><td>20</td></tr>",
                            "<tr><td>07_2015</td><td>TX</td><td>450132</td><td>300 or more</td><td>26</td></tr>",
                            "<tr><td>07_2015</td><td>TX</td><td>450133</td><td>300 or more</td><td>16</td></tr>",
                            "<tr><td>07_2015</td><td>TX</td><td>450135</td><td>300 or more</td><td>25</td></tr>",
                            "<tr><td>07_2015</td><td>TX</td><td>450137</td><td>300 or more</td><td>20</td></tr>",
                            "<tr><td>07_2015</td><td>TX</td><td>450143</td><td>Fewer than 100</td><td>27</td></tr>",
                            "<tr><td>07_2015</td><td>TX</td><td>450144</td><td>Between 100 and 299</td><td>18</td></tr>",
                            "</table>"
                        ]
                    }
                }
            ],
            "execution_count": 2
        },
        {
            "cell_type": "code",
            "source": [
                " -- A look at what questions where asked\r\n",
                "\r\n",
                "SELECT  m.Measure, Question\r\n",
                "FROM questions q\r\n",
                "JOIN\r\n",
                "measures m ON Q.Measure_ID = M.Measure_ID\r\n",
                "-- WHERE Measure LIKE '%Responsiveness%'\r\n",
                ""
            ],
            "metadata": {
                "azdata_cell_guid": "a9f0b274-ce49-4314-b6ab-aab157db4325",
                "language": "sql"
            },
            "outputs": [
                {
                    "output_type": "display_data",
                    "data": {
                        "text/html": "(19 rows affected)"
                    },
                    "metadata": {}
                },
                {
                    "output_type": "display_data",
                    "data": {
                        "text/html": "Total execution time: 00:00:00.056"
                    },
                    "metadata": {}
                },
                {
                    "output_type": "execute_result",
                    "execution_count": 23,
                    "data": {
                        "application/vnd.dataresource+json": {
                            "schema": {
                                "fields": [
                                    {
                                        "name": "Measure"
                                    },
                                    {
                                        "name": "Question"
                                    }
                                ]
                            },
                            "data": [
                                {
                                    "Measure": "Communication with Nurses",
                                    "Question": "During this hospital stay, how often did nurses treat you with courtesy and respect? "
                                },
                                {
                                    "Measure": "Communication with Nurses",
                                    "Question": "During this hospital stay, how often did nurses listen carefully to you? "
                                },
                                {
                                    "Measure": "Communication with Nurses",
                                    "Question": "During this hospital stay, how often did nurses explain things in a way you could understand? "
                                },
                                {
                                    "Measure": "Responsiveness of Hospital Staff",
                                    "Question": "During this hospital stay, after you pressed the call button, how often did you get help as soon as you wanted it? "
                                },
                                {
                                    "Measure": "Communication with Doctors",
                                    "Question": "During this hospital stay, how often did doctors treat you with courtesy and respect? "
                                },
                                {
                                    "Measure": "Communication with Doctors",
                                    "Question": "During this hospital stay, how often did doctors listen carefully to you? "
                                },
                                {
                                    "Measure": "Communication with Doctors",
                                    "Question": "During this hospital stay, how often did doctors explain things in a way you could understand? "
                                },
                                {
                                    "Measure": "Cleanliness of Hospital Environment",
                                    "Question": "During this hospital stay, how often were your room and bathroom kept clean? "
                                },
                                {
                                    "Measure": "Quietness of Hospital Environment",
                                    "Question": "During this hospital stay, how often was the area around your room quiet at night? "
                                },
                                {
                                    "Measure": "Responsiveness of Hospital Staff",
                                    "Question": "How often did you get help in getting to the bathroom or in using a bedpan as soon as you wanted? "
                                },
                                {
                                    "Measure": "Communication about Medicines",
                                    "Question": "Before giving you any new medicine, how often did hospital staff tell you what the medicine was for? "
                                },
                                {
                                    "Measure": "Communication about Medicines",
                                    "Question": "Before giving you any new medicine, how often did hospital staff describe possible side effects in a way you could understand? "
                                },
                                {
                                    "Measure": "Discharge Information",
                                    "Question": "During this hospital stay, did doctors, nurses or other hospital staff talk with you about whether you would have the help you needed when you left the hospital? "
                                },
                                {
                                    "Measure": "Discharge Information",
                                    "Question": "During this hospital stay, did you get information in writing about what symptoms or health problems to look out for after you left the hospital? "
                                },
                                {
                                    "Measure": "Overall Hospital Rating",
                                    "Question": "Using any number from 0 to 10, where 0 is the worst hospital possible and 10 is the best hospital possible, what number would you use to rate this hospital during your stay? "
                                },
                                {
                                    "Measure": "Willingness to Recommend the Hospital",
                                    "Question": "Would you recommend this hospital to your friends and family?"
                                },
                                {
                                    "Measure": "Care Transition",
                                    "Question": "During this hospital stay, staff took my preferences and those of my family or caregiver into account in deciding what my health care needs would be when I left. "
                                },
                                {
                                    "Measure": "Care Transition",
                                    "Question": "When I left the hospital, I had a good understanding of the things I was responsible for in managing my health. "
                                },
                                {
                                    "Measure": "Care Transition",
                                    "Question": "When I left the hospital, I clearly understood the purpose for taking each of my medications. "
                                }
                            ]
                        },
                        "text/html": "<table><tr><th>Measure</th><th>Question</th></tr><tr><td>Communication with Nurses</td><td>During this hospital stay, how often did nurses treat you with courtesy and respect? </td></tr><tr><td>Communication with Nurses</td><td>During this hospital stay, how often did nurses listen carefully to you? </td></tr><tr><td>Communication with Nurses</td><td>During this hospital stay, how often did nurses explain things in a way you could understand? </td></tr><tr><td>Responsiveness of Hospital Staff</td><td>During this hospital stay, after you pressed the call button, how often did you get help as soon as you wanted it? </td></tr><tr><td>Communication with Doctors</td><td>During this hospital stay, how often did doctors treat you with courtesy and respect? </td></tr><tr><td>Communication with Doctors</td><td>During this hospital stay, how often did doctors listen carefully to you? </td></tr><tr><td>Communication with Doctors</td><td>During this hospital stay, how often did doctors explain things in a way you could understand? </td></tr><tr><td>Cleanliness of Hospital Environment</td><td>During this hospital stay, how often were your room and bathroom kept clean? </td></tr><tr><td>Quietness of Hospital Environment</td><td>During this hospital stay, how often was the area around your room quiet at night? </td></tr><tr><td>Responsiveness of Hospital Staff</td><td>How often did you get help in getting to the bathroom or in using a bedpan as soon as you wanted? </td></tr><tr><td>Communication about Medicines</td><td>Before giving you any new medicine, how often did hospital staff tell you what the medicine was for? </td></tr><tr><td>Communication about Medicines</td><td>Before giving you any new medicine, how often did hospital staff describe possible side effects in a way you could understand? </td></tr><tr><td>Discharge Information</td><td>During this hospital stay, did doctors, nurses or other hospital staff talk with you about whether you would have the help you needed when you left the hospital? </td></tr><tr><td>Discharge Information</td><td>During this hospital stay, did you get information in writing about what symptoms or health problems to look out for after you left the hospital? </td></tr><tr><td>Overall Hospital Rating</td><td>Using any number from 0 to 10, where 0 is the worst hospital possible and 10 is the best hospital possible, what number would you use to rate this hospital during your stay? </td></tr><tr><td>Willingness to Recommend the Hospital</td><td>Would you recommend this hospital to your friends and family?</td></tr><tr><td>Care Transition</td><td>During this hospital stay, staff took my preferences and those of my family or caregiver into account in deciding what my health care needs would be when I left. </td></tr><tr><td>Care Transition</td><td>When I left the hospital, I had a good understanding of the things I was responsible for in managing my health. </td></tr><tr><td>Care Transition</td><td>When I left the hospital, I clearly understood the purpose for taking each of my medications. </td></tr></table>"
                    },
                    "metadata": {}
                }
            ],
            "execution_count": 23
        },
        {
            "cell_type": "markdown",
            "source": [
                "###  <span style=\"color: #008000;\">--KPIs</span>"
            ],
            "metadata": {
                "azdata_cell_guid": "788401bf-f6b2-4f8e-8d0b-e5afc24645dc"
            },
            "attachments": {}
        },
        {
            "cell_type": "code",
            "source": [
                "-- How many measures were rated?\r\n",
                "\r\n",
                "SELECT count(*) num_measures\r\n",
                "  FROM measures;\r\n",
                ""
            ],
            "metadata": {
                "language": "sql",
                "azdata_cell_guid": "24fb6b29-053f-4b49-a105-557ed6908204"
            },
            "outputs": [
                {
                    "output_type": "display_data",
                    "data": {
                        "text/html": "(1 row affected)"
                    },
                    "metadata": {}
                },
                {
                    "output_type": "display_data",
                    "data": {
                        "text/html": "Total execution time: 00:00:00.291"
                    },
                    "metadata": {}
                },
                {
                    "output_type": "execute_result",
                    "execution_count": 24,
                    "data": {
                        "application/vnd.dataresource+json": {
                            "schema": {
                                "fields": [
                                    {
                                        "name": "num_measures"
                                    }
                                ]
                            },
                            "data": [
                                {
                                    "num_measures": "10"
                                }
                            ]
                        },
                        "text/html": "<table><tr><th>num_measures</th></tr><tr><td>10</td></tr></table>"
                    },
                    "metadata": {}
                }
            ],
            "execution_count": 24
        },
        {
            "cell_type": "code",
            "source": [
                " -- How many years\r\n",
                "SELECT COUNT(*) num_years\r\n",
                "  FROM reports;"
            ],
            "metadata": {
                "language": "sql",
                "azdata_cell_guid": "6a61ac7e-2b20-48c1-b0ed-4f17b7ccc542"
            },
            "outputs": [
                {
                    "output_type": "display_data",
                    "data": {
                        "text/html": "(1 row affected)"
                    },
                    "metadata": {}
                },
                {
                    "output_type": "display_data",
                    "data": {
                        "text/html": "Total execution time: 00:00:00.079"
                    },
                    "metadata": {}
                },
                {
                    "output_type": "execute_result",
                    "execution_count": 25,
                    "data": {
                        "application/vnd.dataresource+json": {
                            "schema": {
                                "fields": [
                                    {
                                        "name": "num_years"
                                    }
                                ]
                            },
                            "data": [
                                {
                                    "num_years": "9"
                                }
                            ]
                        },
                        "text/html": "<table><tr><th>num_years</th></tr><tr><td>9</td></tr></table>"
                    },
                    "metadata": {}
                }
            ],
            "execution_count": 25
        },
        {
            "cell_type": "code",
            "source": [
                " -- First and Last year of reports\r\n",
                "\r\n",
                " SELECT MIN(YEAR(End_Date)) as FirstYear \r\n",
                "        , MAX(YEAR(End_Date)) as LastYear\r\n",
                " FROM reports"
            ],
            "metadata": {
                "azdata_cell_guid": "bae8db83-1237-4b28-aeb9-3c9ed2501d91",
                "language": "sql"
            },
            "outputs": [
                {
                    "output_type": "display_data",
                    "data": {
                        "text/html": "(1 row affected)"
                    },
                    "metadata": {}
                },
                {
                    "output_type": "display_data",
                    "data": {
                        "text/html": "Total execution time: 00:00:00.030"
                    },
                    "metadata": {}
                },
                {
                    "output_type": "execute_result",
                    "execution_count": 26,
                    "data": {
                        "application/vnd.dataresource+json": {
                            "schema": {
                                "fields": [
                                    {
                                        "name": "FirstYear"
                                    },
                                    {
                                        "name": "LastYear"
                                    }
                                ]
                            },
                            "data": [
                                {
                                    "FirstYear": "2014",
                                    "LastYear": "2022"
                                }
                            ]
                        },
                        "text/html": "<table><tr><th>FirstYear</th><th>LastYear</th></tr><tr><td>2014</td><td>2022</td></tr></table>"
                    },
                    "metadata": {}
                }
            ],
            "execution_count": 26
        },
        {
            "cell_type": "code",
            "source": [
                "    -- How many States?\r\n",
                "\r\n",
                "    SELECT COUNT(DISTINCT state) Num_states\r\n",
                "    FROM states"
            ],
            "metadata": {
                "azdata_cell_guid": "4b9734b8-ec1e-46e9-8b56-cea4c4d2b68a",
                "language": "sql"
            },
            "outputs": [
                {
                    "output_type": "display_data",
                    "data": {
                        "text/html": "(1 row affected)"
                    },
                    "metadata": {}
                },
                {
                    "output_type": "display_data",
                    "data": {
                        "text/html": "Total execution time: 00:00:00.025"
                    },
                    "metadata": {}
                },
                {
                    "output_type": "execute_result",
                    "execution_count": 27,
                    "data": {
                        "application/vnd.dataresource+json": {
                            "schema": {
                                "fields": [
                                    {
                                        "name": "Num_states"
                                    }
                                ]
                            },
                            "data": [
                                {
                                    "Num_states": "51"
                                }
                            ]
                        },
                        "text/html": "<table><tr><th>Num_states</th></tr><tr><td>51</td></tr></table>"
                    },
                    "metadata": {}
                }
            ],
            "execution_count": 27
        },
        {
            "cell_type": "code",
            "source": [
                "--- How many Facilities\r\n",
                "\r\n",
                "SELECT COUNT(DISTINCT Facility_ID) Num_of_Facilities\r\n",
                "FROM responses\r\n",
                "WHERE Facility_ID IS NOT NULL\r\n",
                ""
            ],
            "metadata": {
                "azdata_cell_guid": "1d210784-aac9-4b48-b8fc-84ef81ccfbec",
                "language": "sql"
            },
            "outputs": [
                {
                    "output_type": "display_data",
                    "data": {
                        "text/html": "(1 row affected)"
                    },
                    "metadata": {}
                },
                {
                    "output_type": "display_data",
                    "data": {
                        "text/html": "Total execution time: 00:00:00.109"
                    },
                    "metadata": {}
                },
                {
                    "output_type": "execute_result",
                    "execution_count": 28,
                    "data": {
                        "application/vnd.dataresource+json": {
                            "schema": {
                                "fields": [
                                    {
                                        "name": "Num_of_Facilities"
                                    }
                                ]
                            },
                            "data": [
                                {
                                    "Num_of_Facilities": "5251"
                                }
                            ]
                        },
                        "text/html": "<table><tr><th>Num_of_Facilities</th></tr><tr><td>5251</td></tr></table>"
                    },
                    "metadata": {}
                }
            ],
            "execution_count": 28
        },
        {
            "cell_type": "code",
            "source": [
                "SELECT Measure_ID, COUNT(Question_Num) as Num_Questions\r\n",
                "FROM questions\r\n",
                "GROUP BY Measure_ID"
            ],
            "metadata": {
                "azdata_cell_guid": "23de0720-ab10-46bf-8a84-ac237408c204",
                "language": "sql"
            },
            "outputs": [
                {
                    "output_type": "display_data",
                    "data": {
                        "text/html": "(10 rows affected)"
                    },
                    "metadata": {}
                },
                {
                    "output_type": "display_data",
                    "data": {
                        "text/html": "Total execution time: 00:00:00.938"
                    },
                    "metadata": {}
                },
                {
                    "output_type": "execute_result",
                    "execution_count": 29,
                    "data": {
                        "application/vnd.dataresource+json": {
                            "schema": {
                                "fields": [
                                    {
                                        "name": "Measure_ID"
                                    },
                                    {
                                        "name": "Num_Questions"
                                    }
                                ]
                            },
                            "data": [
                                {
                                    "Measure_ID": "H_CLEAN_HSP",
                                    "Num_Questions": "1"
                                },
                                {
                                    "Measure_ID": "H_COMP_1",
                                    "Num_Questions": "3"
                                },
                                {
                                    "Measure_ID": "H_COMP_2",
                                    "Num_Questions": "3"
                                },
                                {
                                    "Measure_ID": "H_COMP_3",
                                    "Num_Questions": "2"
                                },
                                {
                                    "Measure_ID": "H_COMP_5",
                                    "Num_Questions": "2"
                                },
                                {
                                    "Measure_ID": "H_COMP_6",
                                    "Num_Questions": "2"
                                },
                                {
                                    "Measure_ID": "H_COMP_7",
                                    "Num_Questions": "3"
                                },
                                {
                                    "Measure_ID": "H_HSP_RATING",
                                    "Num_Questions": "1"
                                },
                                {
                                    "Measure_ID": "H_QUIET_HSP",
                                    "Num_Questions": "1"
                                },
                                {
                                    "Measure_ID": "H_RECMND",
                                    "Num_Questions": "1"
                                }
                            ]
                        },
                        "text/html": "<table><tr><th>Measure_ID</th><th>Num_Questions</th></tr><tr><td>H_CLEAN_HSP</td><td>1</td></tr><tr><td>H_COMP_1</td><td>3</td></tr><tr><td>H_COMP_2</td><td>3</td></tr><tr><td>H_COMP_3</td><td>2</td></tr><tr><td>H_COMP_5</td><td>2</td></tr><tr><td>H_COMP_6</td><td>2</td></tr><tr><td>H_COMP_7</td><td>3</td></tr><tr><td>H_HSP_RATING</td><td>1</td></tr><tr><td>H_QUIET_HSP</td><td>1</td></tr><tr><td>H_RECMND</td><td>1</td></tr></table>"
                    },
                    "metadata": {}
                }
            ],
            "execution_count": 29
        },
        {
            "cell_type": "code",
            "source": [
                "-- Response rates per Survey Year\r\n",
                "SELECT YEAR(End_Date) as YEAR, ROUND(AVG(CAST (Response_Rate as decimal(5,2))),1) AvgResponseRate\r\n",
                "FROM responses re\r\n",
                "JOIN reports r\r\n",
                "    ON r.Release_Period = re.Release_Period\r\n",
                "WHERE Response_Rate != 'Not Available'\r\n",
                "GROUP BY YEAR(End_Date)"
            ],
            "metadata": {
                "azdata_cell_guid": "ba83c55a-d546-491f-a5cc-52f668801f61",
                "language": "sql",
                "tags": []
            },
            "outputs": [
                {
                    "output_type": "display_data",
                    "data": {
                        "text/html": "(9 rows affected)"
                    },
                    "metadata": {}
                },
                {
                    "output_type": "display_data",
                    "data": {
                        "text/html": "Total execution time: 00:00:00.496"
                    },
                    "metadata": {}
                },
                {
                    "output_type": "execute_result",
                    "execution_count": 30,
                    "data": {
                        "application/vnd.dataresource+json": {
                            "schema": {
                                "fields": [
                                    {
                                        "name": "YEAR"
                                    },
                                    {
                                        "name": "AvgResponseRate"
                                    }
                                ]
                            },
                            "data": [
                                {
                                    "YEAR": "2014",
                                    "AvgResponseRate": "30.800000"
                                },
                                {
                                    "YEAR": "2015",
                                    "AvgResponseRate": "29.500000"
                                },
                                {
                                    "YEAR": "2016",
                                    "AvgResponseRate": "28.400000"
                                },
                                {
                                    "YEAR": "2017",
                                    "AvgResponseRate": "27.000000"
                                },
                                {
                                    "YEAR": "2018",
                                    "AvgResponseRate": "26.000000"
                                },
                                {
                                    "YEAR": "2019",
                                    "AvgResponseRate": "25.800000"
                                },
                                {
                                    "YEAR": "2020",
                                    "AvgResponseRate": "25.400000"
                                },
                                {
                                    "YEAR": "2021",
                                    "AvgResponseRate": "23.800000"
                                },
                                {
                                    "YEAR": "2022",
                                    "AvgResponseRate": "22.700000"
                                }
                            ]
                        },
                        "text/html": "<table><tr><th>YEAR</th><th>AvgResponseRate</th></tr><tr><td>2014</td><td>30.800000</td></tr><tr><td>2015</td><td>29.500000</td></tr><tr><td>2016</td><td>28.400000</td></tr><tr><td>2017</td><td>27.000000</td></tr><tr><td>2018</td><td>26.000000</td></tr><tr><td>2019</td><td>25.800000</td></tr><tr><td>2020</td><td>25.400000</td></tr><tr><td>2021</td><td>23.800000</td></tr><tr><td>2022</td><td>22.700000</td></tr></table>"
                    },
                    "metadata": {}
                }
            ],
            "execution_count": 30
        },
        {
            "cell_type": "markdown",
            "source": [
                "Exploring National Results"
            ],
            "metadata": {
                "azdata_cell_guid": "5304f368-c3b3-41a3-8508-43db7ea36257"
            },
            "attachments": {}
        },
        {
            "cell_type": "code",
            "source": [
                "-- First a look at the data but seeing the actual years and not Release Period\n",
                "\n",
                "SELECT  YEAR(End_Date) as Year\n",
                "        , Measure_ID\n",
                "        , Bottom_box_Percentage\n",
                "        , Middle_box_Percentage\n",
                "        , Top_box_Percentage\n",
                "FROM national_results nr\n",
                "JOIN reports r\n",
                "    ON nr.Release_Period = r.Release_Period"
            ],
            "metadata": {
                "azdata_cell_guid": "e6df9771-1559-4c1f-889b-140471d2b854",
                "language": "sql"
            },
            "outputs": [
                {
                    "output_type": "display_data",
                    "data": {
                        "text/html": "(90 rows affected)"
                    },
                    "metadata": {}
                },
                {
                    "output_type": "display_data",
                    "data": {
                        "text/html": "Total execution time: 00:00:00.066"
                    },
                    "metadata": {}
                },
                {
                    "output_type": "execute_result",
                    "execution_count": 31,
                    "data": {
                        "application/vnd.dataresource+json": {
                            "schema": {
                                "fields": [
                                    {
                                        "name": "Year"
                                    },
                                    {
                                        "name": "Measure_ID"
                                    },
                                    {
                                        "name": "Bottom_box_Percentage"
                                    },
                                    {
                                        "name": "Middle_box_Percentage"
                                    },
                                    {
                                        "name": "Top_box_Percentage"
                                    }
                                ]
                            },
                            "data": [
                                {
                                    "Year": "2014",
                                    "Measure_ID": "H_CLEAN_HSP",
                                    "Bottom_box_Percentage": "8",
                                    "Middle_box_Percentage": "18",
                                    "Top_box_Percentage": "74"
                                },
                                {
                                    "Year": "2014",
                                    "Measure_ID": "H_COMP_1",
                                    "Bottom_box_Percentage": "4",
                                    "Middle_box_Percentage": "17",
                                    "Top_box_Percentage": "79"
                                },
                                {
                                    "Year": "2014",
                                    "Measure_ID": "H_COMP_2",
                                    "Bottom_box_Percentage": "4",
                                    "Middle_box_Percentage": "14",
                                    "Top_box_Percentage": "82"
                                },
                                {
                                    "Year": "2014",
                                    "Measure_ID": "H_COMP_3",
                                    "Bottom_box_Percentage": "9",
                                    "Middle_box_Percentage": "23",
                                    "Top_box_Percentage": "68"
                                },
                                {
                                    "Year": "2014",
                                    "Measure_ID": "H_COMP_5",
                                    "Bottom_box_Percentage": "18",
                                    "Middle_box_Percentage": "17",
                                    "Top_box_Percentage": "65"
                                },
                                {
                                    "Year": "2014",
                                    "Measure_ID": "H_COMP_6",
                                    "Bottom_box_Percentage": "14",
                                    "Middle_box_Percentage": "0",
                                    "Top_box_Percentage": "86"
                                },
                                {
                                    "Year": "2014",
                                    "Measure_ID": "H_COMP_7",
                                    "Bottom_box_Percentage": "5",
                                    "Middle_box_Percentage": "43",
                                    "Top_box_Percentage": "52"
                                },
                                {
                                    "Year": "2014",
                                    "Measure_ID": "H_HSP_RATING",
                                    "Bottom_box_Percentage": "8",
                                    "Middle_box_Percentage": "21",
                                    "Top_box_Percentage": "71"
                                },
                                {
                                    "Year": "2014",
                                    "Measure_ID": "H_QUIET_HSP",
                                    "Bottom_box_Percentage": "9",
                                    "Middle_box_Percentage": "29",
                                    "Top_box_Percentage": "62"
                                },
                                {
                                    "Year": "2014",
                                    "Measure_ID": "H_RECMND",
                                    "Bottom_box_Percentage": "5",
                                    "Middle_box_Percentage": "24",
                                    "Top_box_Percentage": "71"
                                },
                                {
                                    "Year": "2015",
                                    "Measure_ID": "H_CLEAN_HSP",
                                    "Bottom_box_Percentage": "8",
                                    "Middle_box_Percentage": "18",
                                    "Top_box_Percentage": "74"
                                },
                                {
                                    "Year": "2015",
                                    "Measure_ID": "H_COMP_1",
                                    "Bottom_box_Percentage": "4",
                                    "Middle_box_Percentage": "16",
                                    "Top_box_Percentage": "80"
                                },
                                {
                                    "Year": "2015",
                                    "Measure_ID": "H_COMP_2",
                                    "Bottom_box_Percentage": "4",
                                    "Middle_box_Percentage": "14",
                                    "Top_box_Percentage": "82"
                                },
                                {
                                    "Year": "2015",
                                    "Measure_ID": "H_COMP_3",
                                    "Bottom_box_Percentage": "9",
                                    "Middle_box_Percentage": "23",
                                    "Top_box_Percentage": "68"
                                },
                                {
                                    "Year": "2015",
                                    "Measure_ID": "H_COMP_5",
                                    "Bottom_box_Percentage": "18",
                                    "Middle_box_Percentage": "17",
                                    "Top_box_Percentage": "65"
                                },
                                {
                                    "Year": "2015",
                                    "Measure_ID": "H_COMP_6",
                                    "Bottom_box_Percentage": "13",
                                    "Middle_box_Percentage": "0",
                                    "Top_box_Percentage": "87"
                                },
                                {
                                    "Year": "2015",
                                    "Measure_ID": "H_COMP_7",
                                    "Bottom_box_Percentage": "5",
                                    "Middle_box_Percentage": "43",
                                    "Top_box_Percentage": "52"
                                },
                                {
                                    "Year": "2015",
                                    "Measure_ID": "H_HSP_RATING",
                                    "Bottom_box_Percentage": "8",
                                    "Middle_box_Percentage": "20",
                                    "Top_box_Percentage": "72"
                                },
                                {
                                    "Year": "2015",
                                    "Measure_ID": "H_QUIET_HSP",
                                    "Bottom_box_Percentage": "9",
                                    "Middle_box_Percentage": "29",
                                    "Top_box_Percentage": "62"
                                },
                                {
                                    "Year": "2015",
                                    "Measure_ID": "H_RECMND",
                                    "Bottom_box_Percentage": "5",
                                    "Middle_box_Percentage": "24",
                                    "Top_box_Percentage": "71"
                                },
                                {
                                    "Year": "2016",
                                    "Measure_ID": "H_CLEAN_HSP",
                                    "Bottom_box_Percentage": "8",
                                    "Middle_box_Percentage": "18",
                                    "Top_box_Percentage": "74"
                                },
                                {
                                    "Year": "2016",
                                    "Measure_ID": "H_COMP_1",
                                    "Bottom_box_Percentage": "4",
                                    "Middle_box_Percentage": "16",
                                    "Top_box_Percentage": "80"
                                },
                                {
                                    "Year": "2016",
                                    "Measure_ID": "H_COMP_2",
                                    "Bottom_box_Percentage": "4",
                                    "Middle_box_Percentage": "14",
                                    "Top_box_Percentage": "82"
                                },
                                {
                                    "Year": "2016",
                                    "Measure_ID": "H_COMP_3",
                                    "Bottom_box_Percentage": "8",
                                    "Middle_box_Percentage": "23",
                                    "Top_box_Percentage": "69"
                                },
                                {
                                    "Year": "2016",
                                    "Measure_ID": "H_COMP_5",
                                    "Bottom_box_Percentage": "17",
                                    "Middle_box_Percentage": "18",
                                    "Top_box_Percentage": "65"
                                },
                                {
                                    "Year": "2016",
                                    "Measure_ID": "H_COMP_6",
                                    "Bottom_box_Percentage": "13",
                                    "Middle_box_Percentage": "0",
                                    "Top_box_Percentage": "87"
                                },
                                {
                                    "Year": "2016",
                                    "Measure_ID": "H_COMP_7",
                                    "Bottom_box_Percentage": "5",
                                    "Middle_box_Percentage": "43",
                                    "Top_box_Percentage": "52"
                                },
                                {
                                    "Year": "2016",
                                    "Measure_ID": "H_HSP_RATING",
                                    "Bottom_box_Percentage": "7",
                                    "Middle_box_Percentage": "20",
                                    "Top_box_Percentage": "73"
                                },
                                {
                                    "Year": "2016",
                                    "Measure_ID": "H_QUIET_HSP",
                                    "Bottom_box_Percentage": "9",
                                    "Middle_box_Percentage": "28",
                                    "Top_box_Percentage": "63"
                                },
                                {
                                    "Year": "2016",
                                    "Measure_ID": "H_RECMND",
                                    "Bottom_box_Percentage": "5",
                                    "Middle_box_Percentage": "23",
                                    "Top_box_Percentage": "72"
                                },
                                {
                                    "Year": "2017",
                                    "Measure_ID": "H_CLEAN_HSP",
                                    "Bottom_box_Percentage": "8",
                                    "Middle_box_Percentage": "17",
                                    "Top_box_Percentage": "75"
                                },
                                {
                                    "Year": "2017",
                                    "Measure_ID": "H_COMP_1",
                                    "Bottom_box_Percentage": "4",
                                    "Middle_box_Percentage": "16",
                                    "Top_box_Percentage": "80"
                                },
                                {
                                    "Year": "2017",
                                    "Measure_ID": "H_COMP_2",
                                    "Bottom_box_Percentage": "4",
                                    "Middle_box_Percentage": "14",
                                    "Top_box_Percentage": "82"
                                },
                                {
                                    "Year": "2017",
                                    "Measure_ID": "H_COMP_3",
                                    "Bottom_box_Percentage": "8",
                                    "Middle_box_Percentage": "22",
                                    "Top_box_Percentage": "70"
                                },
                                {
                                    "Year": "2017",
                                    "Measure_ID": "H_COMP_5",
                                    "Bottom_box_Percentage": "17",
                                    "Middle_box_Percentage": "17",
                                    "Top_box_Percentage": "66"
                                },
                                {
                                    "Year": "2017",
                                    "Measure_ID": "H_COMP_6",
                                    "Bottom_box_Percentage": "13",
                                    "Middle_box_Percentage": "0",
                                    "Top_box_Percentage": "87"
                                },
                                {
                                    "Year": "2017",
                                    "Measure_ID": "H_COMP_7",
                                    "Bottom_box_Percentage": "5",
                                    "Middle_box_Percentage": "42",
                                    "Top_box_Percentage": "53"
                                },
                                {
                                    "Year": "2017",
                                    "Measure_ID": "H_HSP_RATING",
                                    "Bottom_box_Percentage": "7",
                                    "Middle_box_Percentage": "20",
                                    "Top_box_Percentage": "73"
                                },
                                {
                                    "Year": "2017",
                                    "Measure_ID": "H_QUIET_HSP",
                                    "Bottom_box_Percentage": "9",
                                    "Middle_box_Percentage": "29",
                                    "Top_box_Percentage": "62"
                                },
                                {
                                    "Year": "2017",
                                    "Measure_ID": "H_RECMND",
                                    "Bottom_box_Percentage": "5",
                                    "Middle_box_Percentage": "23",
                                    "Top_box_Percentage": "72"
                                },
                                {
                                    "Year": "2018",
                                    "Measure_ID": "H_CLEAN_HSP",
                                    "Bottom_box_Percentage": "7",
                                    "Middle_box_Percentage": "18",
                                    "Top_box_Percentage": "75"
                                },
                                {
                                    "Year": "2018",
                                    "Measure_ID": "H_COMP_1",
                                    "Bottom_box_Percentage": "4",
                                    "Middle_box_Percentage": "15",
                                    "Top_box_Percentage": "81"
                                },
                                {
                                    "Year": "2018",
                                    "Measure_ID": "H_COMP_2",
                                    "Bottom_box_Percentage": "5",
                                    "Middle_box_Percentage": "14",
                                    "Top_box_Percentage": "81"
                                },
                                {
                                    "Year": "2018",
                                    "Measure_ID": "H_COMP_3",
                                    "Bottom_box_Percentage": "8",
                                    "Middle_box_Percentage": "22",
                                    "Top_box_Percentage": "70"
                                },
                                {
                                    "Year": "2018",
                                    "Measure_ID": "H_COMP_5",
                                    "Bottom_box_Percentage": "17",
                                    "Middle_box_Percentage": "17",
                                    "Top_box_Percentage": "66"
                                },
                                {
                                    "Year": "2018",
                                    "Measure_ID": "H_COMP_6",
                                    "Bottom_box_Percentage": "13",
                                    "Middle_box_Percentage": "0",
                                    "Top_box_Percentage": "87"
                                },
                                {
                                    "Year": "2018",
                                    "Measure_ID": "H_COMP_7",
                                    "Bottom_box_Percentage": "5",
                                    "Middle_box_Percentage": "42",
                                    "Top_box_Percentage": "53"
                                },
                                {
                                    "Year": "2018",
                                    "Measure_ID": "H_HSP_RATING",
                                    "Bottom_box_Percentage": "8",
                                    "Middle_box_Percentage": "19",
                                    "Top_box_Percentage": "73"
                                },
                                {
                                    "Year": "2018",
                                    "Measure_ID": "H_QUIET_HSP",
                                    "Bottom_box_Percentage": "10",
                                    "Middle_box_Percentage": "28",
                                    "Top_box_Percentage": "62"
                                },
                                {
                                    "Year": "2018",
                                    "Measure_ID": "H_RECMND",
                                    "Bottom_box_Percentage": "5",
                                    "Middle_box_Percentage": "23",
                                    "Top_box_Percentage": "72"
                                },
                                {
                                    "Year": "2019",
                                    "Measure_ID": "H_CLEAN_HSP",
                                    "Bottom_box_Percentage": "7",
                                    "Middle_box_Percentage": "17",
                                    "Top_box_Percentage": "76"
                                },
                                {
                                    "Year": "2019",
                                    "Measure_ID": "H_COMP_1",
                                    "Bottom_box_Percentage": "4",
                                    "Middle_box_Percentage": "15",
                                    "Top_box_Percentage": "81"
                                },
                                {
                                    "Year": "2019",
                                    "Measure_ID": "H_COMP_2",
                                    "Bottom_box_Percentage": "5",
                                    "Middle_box_Percentage": "13",
                                    "Top_box_Percentage": "82"
                                },
                                {
                                    "Year": "2019",
                                    "Measure_ID": "H_COMP_3",
                                    "Bottom_box_Percentage": "8",
                                    "Middle_box_Percentage": "22",
                                    "Top_box_Percentage": "70"
                                },
                                {
                                    "Year": "2019",
                                    "Measure_ID": "H_COMP_5",
                                    "Bottom_box_Percentage": "17",
                                    "Middle_box_Percentage": "17",
                                    "Top_box_Percentage": "66"
                                },
                                {
                                    "Year": "2019",
                                    "Measure_ID": "H_COMP_6",
                                    "Bottom_box_Percentage": "13",
                                    "Middle_box_Percentage": "0",
                                    "Top_box_Percentage": "87"
                                },
                                {
                                    "Year": "2019",
                                    "Measure_ID": "H_COMP_7",
                                    "Bottom_box_Percentage": "5",
                                    "Middle_box_Percentage": "41",
                                    "Top_box_Percentage": "54"
                                },
                                {
                                    "Year": "2019",
                                    "Measure_ID": "H_HSP_RATING",
                                    "Bottom_box_Percentage": "8",
                                    "Middle_box_Percentage": "19",
                                    "Top_box_Percentage": "73"
                                },
                                {
                                    "Year": "2019",
                                    "Measure_ID": "H_QUIET_HSP",
                                    "Bottom_box_Percentage": "9",
                                    "Middle_box_Percentage": "29",
                                    "Top_box_Percentage": "62"
                                },
                                {
                                    "Year": "2019",
                                    "Measure_ID": "H_RECMND",
                                    "Bottom_box_Percentage": "5",
                                    "Middle_box_Percentage": "23",
                                    "Top_box_Percentage": "72"
                                },
                                {
                                    "Year": "2020",
                                    "Measure_ID": "H_CLEAN_HSP",
                                    "Bottom_box_Percentage": "7",
                                    "Middle_box_Percentage": "17",
                                    "Top_box_Percentage": "76"
                                },
                                {
                                    "Year": "2020",
                                    "Measure_ID": "H_COMP_1",
                                    "Bottom_box_Percentage": "4",
                                    "Middle_box_Percentage": "15",
                                    "Top_box_Percentage": "81"
                                },
                                {
                                    "Year": "2020",
                                    "Measure_ID": "H_COMP_2",
                                    "Bottom_box_Percentage": "4",
                                    "Middle_box_Percentage": "14",
                                    "Top_box_Percentage": "82"
                                },
                                {
                                    "Year": "2020",
                                    "Measure_ID": "H_COMP_3",
                                    "Bottom_box_Percentage": "8",
                                    "Middle_box_Percentage": "22",
                                    "Top_box_Percentage": "70"
                                },
                                {
                                    "Year": "2020",
                                    "Measure_ID": "H_COMP_5",
                                    "Bottom_box_Percentage": "17",
                                    "Middle_box_Percentage": "17",
                                    "Top_box_Percentage": "66"
                                },
                                {
                                    "Year": "2020",
                                    "Measure_ID": "H_COMP_6",
                                    "Bottom_box_Percentage": "13",
                                    "Middle_box_Percentage": "0",
                                    "Top_box_Percentage": "87"
                                },
                                {
                                    "Year": "2020",
                                    "Measure_ID": "H_COMP_7",
                                    "Bottom_box_Percentage": "5",
                                    "Middle_box_Percentage": "41",
                                    "Top_box_Percentage": "54"
                                },
                                {
                                    "Year": "2020",
                                    "Measure_ID": "H_HSP_RATING",
                                    "Bottom_box_Percentage": "7",
                                    "Middle_box_Percentage": "20",
                                    "Top_box_Percentage": "73"
                                },
                                {
                                    "Year": "2020",
                                    "Measure_ID": "H_QUIET_HSP",
                                    "Bottom_box_Percentage": "9",
                                    "Middle_box_Percentage": "29",
                                    "Top_box_Percentage": "62"
                                },
                                {
                                    "Year": "2020",
                                    "Measure_ID": "H_RECMND",
                                    "Bottom_box_Percentage": "5",
                                    "Middle_box_Percentage": "23",
                                    "Top_box_Percentage": "72"
                                },
                                {
                                    "Year": "2021",
                                    "Measure_ID": "H_CLEAN_HSP",
                                    "Bottom_box_Percentage": "9",
                                    "Middle_box_Percentage": "18",
                                    "Top_box_Percentage": "73"
                                },
                                {
                                    "Year": "2021",
                                    "Measure_ID": "H_COMP_1",
                                    "Bottom_box_Percentage": "5",
                                    "Middle_box_Percentage": "15",
                                    "Top_box_Percentage": "80"
                                },
                                {
                                    "Year": "2021",
                                    "Measure_ID": "H_COMP_2",
                                    "Bottom_box_Percentage": "5",
                                    "Middle_box_Percentage": "15",
                                    "Top_box_Percentage": "80"
                                },
                                {
                                    "Year": "2021",
                                    "Measure_ID": "H_COMP_3",
                                    "Bottom_box_Percentage": "10",
                                    "Middle_box_Percentage": "23",
                                    "Top_box_Percentage": "67"
                                },
                                {
                                    "Year": "2021",
                                    "Measure_ID": "H_COMP_5",
                                    "Bottom_box_Percentage": "19",
                                    "Middle_box_Percentage": "18",
                                    "Top_box_Percentage": "63"
                                },
                                {
                                    "Year": "2021",
                                    "Measure_ID": "H_COMP_6",
                                    "Bottom_box_Percentage": "14",
                                    "Middle_box_Percentage": "0",
                                    "Top_box_Percentage": "86"
                                },
                                {
                                    "Year": "2021",
                                    "Measure_ID": "H_COMP_7",
                                    "Bottom_box_Percentage": "6",
                                    "Middle_box_Percentage": "42",
                                    "Top_box_Percentage": "52"
                                },
                                {
                                    "Year": "2021",
                                    "Measure_ID": "H_HSP_RATING",
                                    "Bottom_box_Percentage": "8",
                                    "Middle_box_Percentage": "20",
                                    "Top_box_Percentage": "72"
                                },
                                {
                                    "Year": "2021",
                                    "Measure_ID": "H_QUIET_HSP",
                                    "Bottom_box_Percentage": "10",
                                    "Middle_box_Percentage": "27",
                                    "Top_box_Percentage": "63"
                                },
                                {
                                    "Year": "2021",
                                    "Measure_ID": "H_RECMND",
                                    "Bottom_box_Percentage": "6",
                                    "Middle_box_Percentage": "23",
                                    "Top_box_Percentage": "71"
                                },
                                {
                                    "Year": "2022",
                                    "Measure_ID": "H_CLEAN_HSP",
                                    "Bottom_box_Percentage": "10",
                                    "Middle_box_Percentage": "18",
                                    "Top_box_Percentage": "72"
                                },
                                {
                                    "Year": "2022",
                                    "Measure_ID": "H_COMP_1",
                                    "Bottom_box_Percentage": "5",
                                    "Middle_box_Percentage": "16",
                                    "Top_box_Percentage": "79"
                                },
                                {
                                    "Year": "2022",
                                    "Measure_ID": "H_COMP_2",
                                    "Bottom_box_Percentage": "5",
                                    "Middle_box_Percentage": "16",
                                    "Top_box_Percentage": "79"
                                },
                                {
                                    "Year": "2022",
                                    "Measure_ID": "H_COMP_3",
                                    "Bottom_box_Percentage": "11",
                                    "Middle_box_Percentage": "24",
                                    "Top_box_Percentage": "65"
                                },
                                {
                                    "Year": "2022",
                                    "Measure_ID": "H_COMP_5",
                                    "Bottom_box_Percentage": "20",
                                    "Middle_box_Percentage": "19",
                                    "Top_box_Percentage": "61"
                                },
                                {
                                    "Year": "2022",
                                    "Measure_ID": "H_COMP_6",
                                    "Bottom_box_Percentage": "14",
                                    "Middle_box_Percentage": "0",
                                    "Top_box_Percentage": "86"
                                },
                                {
                                    "Year": "2022",
                                    "Measure_ID": "H_COMP_7",
                                    "Bottom_box_Percentage": "6",
                                    "Middle_box_Percentage": "43",
                                    "Top_box_Percentage": "51"
                                },
                                {
                                    "Year": "2022",
                                    "Measure_ID": "H_HSP_RATING",
                                    "Bottom_box_Percentage": "9",
                                    "Middle_box_Percentage": "21",
                                    "Top_box_Percentage": "70"
                                },
                                {
                                    "Year": "2022",
                                    "Measure_ID": "H_QUIET_HSP",
                                    "Bottom_box_Percentage": "10",
                                    "Middle_box_Percentage": "28",
                                    "Top_box_Percentage": "62"
                                },
                                {
                                    "Year": "2022",
                                    "Measure_ID": "H_RECMND",
                                    "Bottom_box_Percentage": "6",
                                    "Middle_box_Percentage": "25",
                                    "Top_box_Percentage": "69"
                                }
                            ]
                        },
                        "text/html": "<table><tr><th>Year</th><th>Measure_ID</th><th>Bottom_box_Percentage</th><th>Middle_box_Percentage</th><th>Top_box_Percentage</th></tr><tr><td>2014</td><td>H_CLEAN_HSP</td><td>8</td><td>18</td><td>74</td></tr><tr><td>2014</td><td>H_COMP_1</td><td>4</td><td>17</td><td>79</td></tr><tr><td>2014</td><td>H_COMP_2</td><td>4</td><td>14</td><td>82</td></tr><tr><td>2014</td><td>H_COMP_3</td><td>9</td><td>23</td><td>68</td></tr><tr><td>2014</td><td>H_COMP_5</td><td>18</td><td>17</td><td>65</td></tr><tr><td>2014</td><td>H_COMP_6</td><td>14</td><td>0</td><td>86</td></tr><tr><td>2014</td><td>H_COMP_7</td><td>5</td><td>43</td><td>52</td></tr><tr><td>2014</td><td>H_HSP_RATING</td><td>8</td><td>21</td><td>71</td></tr><tr><td>2014</td><td>H_QUIET_HSP</td><td>9</td><td>29</td><td>62</td></tr><tr><td>2014</td><td>H_RECMND</td><td>5</td><td>24</td><td>71</td></tr><tr><td>2015</td><td>H_CLEAN_HSP</td><td>8</td><td>18</td><td>74</td></tr><tr><td>2015</td><td>H_COMP_1</td><td>4</td><td>16</td><td>80</td></tr><tr><td>2015</td><td>H_COMP_2</td><td>4</td><td>14</td><td>82</td></tr><tr><td>2015</td><td>H_COMP_3</td><td>9</td><td>23</td><td>68</td></tr><tr><td>2015</td><td>H_COMP_5</td><td>18</td><td>17</td><td>65</td></tr><tr><td>2015</td><td>H_COMP_6</td><td>13</td><td>0</td><td>87</td></tr><tr><td>2015</td><td>H_COMP_7</td><td>5</td><td>43</td><td>52</td></tr><tr><td>2015</td><td>H_HSP_RATING</td><td>8</td><td>20</td><td>72</td></tr><tr><td>2015</td><td>H_QUIET_HSP</td><td>9</td><td>29</td><td>62</td></tr><tr><td>2015</td><td>H_RECMND</td><td>5</td><td>24</td><td>71</td></tr><tr><td>2016</td><td>H_CLEAN_HSP</td><td>8</td><td>18</td><td>74</td></tr><tr><td>2016</td><td>H_COMP_1</td><td>4</td><td>16</td><td>80</td></tr><tr><td>2016</td><td>H_COMP_2</td><td>4</td><td>14</td><td>82</td></tr><tr><td>2016</td><td>H_COMP_3</td><td>8</td><td>23</td><td>69</td></tr><tr><td>2016</td><td>H_COMP_5</td><td>17</td><td>18</td><td>65</td></tr><tr><td>2016</td><td>H_COMP_6</td><td>13</td><td>0</td><td>87</td></tr><tr><td>2016</td><td>H_COMP_7</td><td>5</td><td>43</td><td>52</td></tr><tr><td>2016</td><td>H_HSP_RATING</td><td>7</td><td>20</td><td>73</td></tr><tr><td>2016</td><td>H_QUIET_HSP</td><td>9</td><td>28</td><td>63</td></tr><tr><td>2016</td><td>H_RECMND</td><td>5</td><td>23</td><td>72</td></tr><tr><td>2017</td><td>H_CLEAN_HSP</td><td>8</td><td>17</td><td>75</td></tr><tr><td>2017</td><td>H_COMP_1</td><td>4</td><td>16</td><td>80</td></tr><tr><td>2017</td><td>H_COMP_2</td><td>4</td><td>14</td><td>82</td></tr><tr><td>2017</td><td>H_COMP_3</td><td>8</td><td>22</td><td>70</td></tr><tr><td>2017</td><td>H_COMP_5</td><td>17</td><td>17</td><td>66</td></tr><tr><td>2017</td><td>H_COMP_6</td><td>13</td><td>0</td><td>87</td></tr><tr><td>2017</td><td>H_COMP_7</td><td>5</td><td>42</td><td>53</td></tr><tr><td>2017</td><td>H_HSP_RATING</td><td>7</td><td>20</td><td>73</td></tr><tr><td>2017</td><td>H_QUIET_HSP</td><td>9</td><td>29</td><td>62</td></tr><tr><td>2017</td><td>H_RECMND</td><td>5</td><td>23</td><td>72</td></tr><tr><td>2018</td><td>H_CLEAN_HSP</td><td>7</td><td>18</td><td>75</td></tr><tr><td>2018</td><td>H_COMP_1</td><td>4</td><td>15</td><td>81</td></tr><tr><td>2018</td><td>H_COMP_2</td><td>5</td><td>14</td><td>81</td></tr><tr><td>2018</td><td>H_COMP_3</td><td>8</td><td>22</td><td>70</td></tr><tr><td>2018</td><td>H_COMP_5</td><td>17</td><td>17</td><td>66</td></tr><tr><td>2018</td><td>H_COMP_6</td><td>13</td><td>0</td><td>87</td></tr><tr><td>2018</td><td>H_COMP_7</td><td>5</td><td>42</td><td>53</td></tr><tr><td>2018</td><td>H_HSP_RATING</td><td>8</td><td>19</td><td>73</td></tr><tr><td>2018</td><td>H_QUIET_HSP</td><td>10</td><td>28</td><td>62</td></tr><tr><td>2018</td><td>H_RECMND</td><td>5</td><td>23</td><td>72</td></tr><tr><td>2019</td><td>H_CLEAN_HSP</td><td>7</td><td>17</td><td>76</td></tr><tr><td>2019</td><td>H_COMP_1</td><td>4</td><td>15</td><td>81</td></tr><tr><td>2019</td><td>H_COMP_2</td><td>5</td><td>13</td><td>82</td></tr><tr><td>2019</td><td>H_COMP_3</td><td>8</td><td>22</td><td>70</td></tr><tr><td>2019</td><td>H_COMP_5</td><td>17</td><td>17</td><td>66</td></tr><tr><td>2019</td><td>H_COMP_6</td><td>13</td><td>0</td><td>87</td></tr><tr><td>2019</td><td>H_COMP_7</td><td>5</td><td>41</td><td>54</td></tr><tr><td>2019</td><td>H_HSP_RATING</td><td>8</td><td>19</td><td>73</td></tr><tr><td>2019</td><td>H_QUIET_HSP</td><td>9</td><td>29</td><td>62</td></tr><tr><td>2019</td><td>H_RECMND</td><td>5</td><td>23</td><td>72</td></tr><tr><td>2020</td><td>H_CLEAN_HSP</td><td>7</td><td>17</td><td>76</td></tr><tr><td>2020</td><td>H_COMP_1</td><td>4</td><td>15</td><td>81</td></tr><tr><td>2020</td><td>H_COMP_2</td><td>4</td><td>14</td><td>82</td></tr><tr><td>2020</td><td>H_COMP_3</td><td>8</td><td>22</td><td>70</td></tr><tr><td>2020</td><td>H_COMP_5</td><td>17</td><td>17</td><td>66</td></tr><tr><td>2020</td><td>H_COMP_6</td><td>13</td><td>0</td><td>87</td></tr><tr><td>2020</td><td>H_COMP_7</td><td>5</td><td>41</td><td>54</td></tr><tr><td>2020</td><td>H_HSP_RATING</td><td>7</td><td>20</td><td>73</td></tr><tr><td>2020</td><td>H_QUIET_HSP</td><td>9</td><td>29</td><td>62</td></tr><tr><td>2020</td><td>H_RECMND</td><td>5</td><td>23</td><td>72</td></tr><tr><td>2021</td><td>H_CLEAN_HSP</td><td>9</td><td>18</td><td>73</td></tr><tr><td>2021</td><td>H_COMP_1</td><td>5</td><td>15</td><td>80</td></tr><tr><td>2021</td><td>H_COMP_2</td><td>5</td><td>15</td><td>80</td></tr><tr><td>2021</td><td>H_COMP_3</td><td>10</td><td>23</td><td>67</td></tr><tr><td>2021</td><td>H_COMP_5</td><td>19</td><td>18</td><td>63</td></tr><tr><td>2021</td><td>H_COMP_6</td><td>14</td><td>0</td><td>86</td></tr><tr><td>2021</td><td>H_COMP_7</td><td>6</td><td>42</td><td>52</td></tr><tr><td>2021</td><td>H_HSP_RATING</td><td>8</td><td>20</td><td>72</td></tr><tr><td>2021</td><td>H_QUIET_HSP</td><td>10</td><td>27</td><td>63</td></tr><tr><td>2021</td><td>H_RECMND</td><td>6</td><td>23</td><td>71</td></tr><tr><td>2022</td><td>H_CLEAN_HSP</td><td>10</td><td>18</td><td>72</td></tr><tr><td>2022</td><td>H_COMP_1</td><td>5</td><td>16</td><td>79</td></tr><tr><td>2022</td><td>H_COMP_2</td><td>5</td><td>16</td><td>79</td></tr><tr><td>2022</td><td>H_COMP_3</td><td>11</td><td>24</td><td>65</td></tr><tr><td>2022</td><td>H_COMP_5</td><td>20</td><td>19</td><td>61</td></tr><tr><td>2022</td><td>H_COMP_6</td><td>14</td><td>0</td><td>86</td></tr><tr><td>2022</td><td>H_COMP_7</td><td>6</td><td>43</td><td>51</td></tr><tr><td>2022</td><td>H_HSP_RATING</td><td>9</td><td>21</td><td>70</td></tr><tr><td>2022</td><td>H_QUIET_HSP</td><td>10</td><td>28</td><td>62</td></tr><tr><td>2022</td><td>H_RECMND</td><td>6</td><td>25</td><td>69</td></tr></table>"
                    },
                    "metadata": {}
                }
            ],
            "execution_count": 31
        },
        {
            "cell_type": "markdown",
            "source": [
                "Have hospitals' HCAHPS scores improved over the past 9 years?"
            ],
            "metadata": {
                "azdata_cell_guid": "f5d54445-2e2a-4f77-bb66-ac8ecbd39f41"
            },
            "attachments": {}
        },
        {
            "cell_type": "code",
            "source": [
                "    -- Average Positive Rating each Year for all measures\r\n",
                "\r\n",
                "SELECT YEAR(End_Date) as YearofReport\r\n",
                "        , AVG(Top_box_Percentage) AvgPositiveRating\r\n",
                "FROM national_results nr\r\n",
                "JOIN reports r\r\n",
                "    ON nr.Release_Period = r.Release_Period\r\n",
                "GROUP BY YEAR(End_Date) "
            ],
            "metadata": {
                "azdata_cell_guid": "8261d7b0-b402-434c-8fc7-e788a75932b2",
                "language": "sql"
            },
            "outputs": [
                {
                    "output_type": "display_data",
                    "data": {
                        "text/html": "(9 rows affected)"
                    },
                    "metadata": {}
                },
                {
                    "output_type": "display_data",
                    "data": {
                        "text/html": "Total execution time: 00:00:00.073"
                    },
                    "metadata": {}
                },
                {
                    "output_type": "execute_result",
                    "execution_count": 32,
                    "data": {
                        "application/vnd.dataresource+json": {
                            "schema": {
                                "fields": [
                                    {
                                        "name": "YearofReport"
                                    },
                                    {
                                        "name": "AvgPositiveRating"
                                    }
                                ]
                            },
                            "data": [
                                {
                                    "YearofReport": "2014",
                                    "AvgPositiveRating": "71"
                                },
                                {
                                    "YearofReport": "2015",
                                    "AvgPositiveRating": "71"
                                },
                                {
                                    "YearofReport": "2016",
                                    "AvgPositiveRating": "71"
                                },
                                {
                                    "YearofReport": "2017",
                                    "AvgPositiveRating": "72"
                                },
                                {
                                    "YearofReport": "2018",
                                    "AvgPositiveRating": "72"
                                },
                                {
                                    "YearofReport": "2019",
                                    "AvgPositiveRating": "72"
                                },
                                {
                                    "YearofReport": "2020",
                                    "AvgPositiveRating": "72"
                                },
                                {
                                    "YearofReport": "2021",
                                    "AvgPositiveRating": "70"
                                },
                                {
                                    "YearofReport": "2022",
                                    "AvgPositiveRating": "69"
                                }
                            ]
                        },
                        "text/html": "<table><tr><th>YearofReport</th><th>AvgPositiveRating</th></tr><tr><td>2014</td><td>71</td></tr><tr><td>2015</td><td>71</td></tr><tr><td>2016</td><td>71</td></tr><tr><td>2017</td><td>72</td></tr><tr><td>2018</td><td>72</td></tr><tr><td>2019</td><td>72</td></tr><tr><td>2020</td><td>72</td></tr><tr><td>2021</td><td>70</td></tr><tr><td>2022</td><td>69</td></tr></table>"
                    },
                    "metadata": {}
                }
            ],
            "execution_count": 32
        },
        {
            "cell_type": "code",
            "source": [
                "\t\t\t-- National HOSPITAL RATING OVER THE YEARS\r\n",
                "\r\n",
                "\t\r\n",
                "\tSELECT Release_Period\r\n",
                "\t\t\t,Measure_ID \r\n",
                "\t\t\t,Bottom_box_Percentage\r\n",
                "\t\t\t,Middle_box_Percentage\r\n",
                "\t\t\t,Top_box_Percentage\r\n",
                "\t\t\t--,(Bottom_box_Percentage + Middle_box_Percentage + Top_box_Percentage) total (Must add up to 100)\r\n",
                "\tFROM national_results\r\n",
                "\tWHERE Measure_ID = 'H_HSP_RATING'\r\n",
                "\tGROUP BY Release_Period, Measure_ID, Bottom_box_Percentage ,Middle_box_Percentage, Top_box_Percentage;"
            ],
            "metadata": {
                "language": "sql",
                "azdata_cell_guid": "0687d2ca-ccec-461b-b64d-eaf21aca5f59"
            },
            "outputs": [
                {
                    "output_type": "display_data",
                    "data": {
                        "text/html": "(9 rows affected)"
                    },
                    "metadata": {}
                },
                {
                    "output_type": "display_data",
                    "data": {
                        "text/html": "Total execution time: 00:00:00.037"
                    },
                    "metadata": {}
                },
                {
                    "output_type": "execute_result",
                    "execution_count": 33,
                    "data": {
                        "application/vnd.dataresource+json": {
                            "schema": {
                                "fields": [
                                    {
                                        "name": "Release_Period"
                                    },
                                    {
                                        "name": "Measure_ID"
                                    },
                                    {
                                        "name": "Bottom_box_Percentage"
                                    },
                                    {
                                        "name": "Middle_box_Percentage"
                                    },
                                    {
                                        "name": "Top_box_Percentage"
                                    }
                                ]
                            },
                            "data": [
                                {
                                    "Release_Period": "07_2015",
                                    "Measure_ID": "H_HSP_RATING",
                                    "Bottom_box_Percentage": "8",
                                    "Middle_box_Percentage": "21",
                                    "Top_box_Percentage": "71"
                                },
                                {
                                    "Release_Period": "07_2016",
                                    "Measure_ID": "H_HSP_RATING",
                                    "Bottom_box_Percentage": "8",
                                    "Middle_box_Percentage": "20",
                                    "Top_box_Percentage": "72"
                                },
                                {
                                    "Release_Period": "07_2017",
                                    "Measure_ID": "H_HSP_RATING",
                                    "Bottom_box_Percentage": "7",
                                    "Middle_box_Percentage": "20",
                                    "Top_box_Percentage": "73"
                                },
                                {
                                    "Release_Period": "07_2018",
                                    "Measure_ID": "H_HSP_RATING",
                                    "Bottom_box_Percentage": "7",
                                    "Middle_box_Percentage": "20",
                                    "Top_box_Percentage": "73"
                                },
                                {
                                    "Release_Period": "07_2019",
                                    "Measure_ID": "H_HSP_RATING",
                                    "Bottom_box_Percentage": "8",
                                    "Middle_box_Percentage": "19",
                                    "Top_box_Percentage": "73"
                                },
                                {
                                    "Release_Period": "07_2020",
                                    "Measure_ID": "H_HSP_RATING",
                                    "Bottom_box_Percentage": "8",
                                    "Middle_box_Percentage": "19",
                                    "Top_box_Percentage": "73"
                                },
                                {
                                    "Release_Period": "07_2021",
                                    "Measure_ID": "H_HSP_RATING",
                                    "Bottom_box_Percentage": "7",
                                    "Middle_box_Percentage": "20",
                                    "Top_box_Percentage": "73"
                                },
                                {
                                    "Release_Period": "07_2022",
                                    "Measure_ID": "H_HSP_RATING",
                                    "Bottom_box_Percentage": "8",
                                    "Middle_box_Percentage": "20",
                                    "Top_box_Percentage": "72"
                                },
                                {
                                    "Release_Period": "07_2023",
                                    "Measure_ID": "H_HSP_RATING",
                                    "Bottom_box_Percentage": "9",
                                    "Middle_box_Percentage": "21",
                                    "Top_box_Percentage": "70"
                                }
                            ]
                        },
                        "text/html": "<table><tr><th>Release_Period</th><th>Measure_ID</th><th>Bottom_box_Percentage</th><th>Middle_box_Percentage</th><th>Top_box_Percentage</th></tr><tr><td>07_2015</td><td>H_HSP_RATING</td><td>8</td><td>21</td><td>71</td></tr><tr><td>07_2016</td><td>H_HSP_RATING</td><td>8</td><td>20</td><td>72</td></tr><tr><td>07_2017</td><td>H_HSP_RATING</td><td>7</td><td>20</td><td>73</td></tr><tr><td>07_2018</td><td>H_HSP_RATING</td><td>7</td><td>20</td><td>73</td></tr><tr><td>07_2019</td><td>H_HSP_RATING</td><td>8</td><td>19</td><td>73</td></tr><tr><td>07_2020</td><td>H_HSP_RATING</td><td>8</td><td>19</td><td>73</td></tr><tr><td>07_2021</td><td>H_HSP_RATING</td><td>7</td><td>20</td><td>73</td></tr><tr><td>07_2022</td><td>H_HSP_RATING</td><td>8</td><td>20</td><td>72</td></tr><tr><td>07_2023</td><td>H_HSP_RATING</td><td>9</td><td>21</td><td>70</td></tr></table>"
                    },
                    "metadata": {}
                }
            ],
            "execution_count": 33
        },
        {
            "cell_type": "code",
            "source": [
                "        --Average Positive Rating for each Measure across all the years\r\n",
                "        -- From Low to High\r\n",
                "\r\n",
                "SELECT \r\n",
                "         m.Measure\r\n",
                "        ,AVG(Top_box_Percentage) AS AvgTopPercent\r\n",
                "FROM national_results nr\r\n",
                "JOIN measures m\r\n",
                "    ON nr.Measure_ID = m.Measure_ID\r\n",
                "GROUP BY m.Measure\r\n",
                "ORDER BY 2;\r\n",
                ""
            ],
            "metadata": {
                "azdata_cell_guid": "c94cdd42-87d2-4b2c-a081-606194ccdbe0",
                "language": "sql"
            },
            "outputs": [
                {
                    "output_type": "display_data",
                    "data": {
                        "text/html": "(10 rows affected)"
                    },
                    "metadata": {}
                },
                {
                    "output_type": "display_data",
                    "data": {
                        "text/html": "Total execution time: 00:00:00.028"
                    },
                    "metadata": {}
                },
                {
                    "output_type": "execute_result",
                    "execution_count": 34,
                    "data": {
                        "application/vnd.dataresource+json": {
                            "schema": {
                                "fields": [
                                    {
                                        "name": "Measure"
                                    },
                                    {
                                        "name": "AvgTopPercent"
                                    }
                                ]
                            },
                            "data": [
                                {
                                    "Measure": "Care Transition",
                                    "AvgTopPercent": "52"
                                },
                                {
                                    "Measure": "Quietness of Hospital Environment",
                                    "AvgTopPercent": "62"
                                },
                                {
                                    "Measure": "Communication about Medicines",
                                    "AvgTopPercent": "64"
                                },
                                {
                                    "Measure": "Responsiveness of Hospital Staff",
                                    "AvgTopPercent": "68"
                                },
                                {
                                    "Measure": "Willingness to Recommend the Hospital",
                                    "AvgTopPercent": "71"
                                },
                                {
                                    "Measure": "Overall Hospital Rating",
                                    "AvgTopPercent": "72"
                                },
                                {
                                    "Measure": "Cleanliness of Hospital Environment",
                                    "AvgTopPercent": "74"
                                },
                                {
                                    "Measure": "Communication with Nurses",
                                    "AvgTopPercent": "80"
                                },
                                {
                                    "Measure": "Communication with Doctors",
                                    "AvgTopPercent": "81"
                                },
                                {
                                    "Measure": "Discharge Information",
                                    "AvgTopPercent": "86"
                                }
                            ]
                        },
                        "text/html": "<table><tr><th>Measure</th><th>AvgTopPercent</th></tr><tr><td>Care Transition</td><td>52</td></tr><tr><td>Quietness of Hospital Environment</td><td>62</td></tr><tr><td>Communication about Medicines</td><td>64</td></tr><tr><td>Responsiveness of Hospital Staff</td><td>68</td></tr><tr><td>Willingness to Recommend the Hospital</td><td>71</td></tr><tr><td>Overall Hospital Rating</td><td>72</td></tr><tr><td>Cleanliness of Hospital Environment</td><td>74</td></tr><tr><td>Communication with Nurses</td><td>80</td></tr><tr><td>Communication with Doctors</td><td>81</td></tr><tr><td>Discharge Information</td><td>86</td></tr></table>"
                    },
                    "metadata": {}
                }
            ],
            "execution_count": 34
        },
        {
            "cell_type": "markdown",
            "source": [
                "<span style=\"color: var(--vscode-foreground);\"><i>As seen in the code above, there are low positive hospital ratings for Care Transition, Communication and Hospital Quietness over the years.</i></span>"
            ],
            "metadata": {
                "azdata_cell_guid": "260259c7-623b-4426-ae89-b2cb0044962b"
            },
            "attachments": {}
        },
        {
            "cell_type": "code",
            "source": [
                "\t\t\t-- Compare all Postive ratings for each MEASURE each Year to check for increase or decrease\r\n",
                "\t\t\t-- Show no comp for Release Period 07_2015 as it as no previous year to be compared to\r\n",
                "\t\r\n",
                "\tSELECT [Year], Measure_ID, Top_box_Percentage, Flag\r\n",
                "    FROM\r\n",
                "        (\r\n",
                "        SELECT nr.Release_Period, YEAR(End_Date) as Year, Measure_ID, Top_box_Percentage\r\n",
                "\t\t\t,\r\n",
                "\t\t\t(\r\n",
                "\t\t\t\tCASE WHEN LAG(Top_box_Percentage,1)\r\n",
                "\t\t\tOVER (PARTITION BY Measure_ID ORDER BY nr.RELEASE_PERIOD) IS NULL \r\n",
                "\t\t\t\t\tTHEN 'No Comp'  \r\n",
                "\t\t\t\tWHEN Top_box_Percentage >\r\n",
                "\t\t\t\tLAG(Top_box_Percentage,1)\r\n",
                "\t\t\tOVER (PARTITION BY Measure_ID ORDER BY nr.RELEASE_PERIOD)\r\n",
                "\t\t\t\tTHEN 'Improve'\r\n",
                "\t\t\tELSE 'No Improvement' \r\n",
                "\t\t\t\tEND\r\n",
                "\t\t\t\t) AS Flag\r\n",
                "\t\t\t\t\r\n",
                "\t\tFROM national_results nr\r\n",
                "\t\tJOIN reports r\r\n",
                "\t\tON nr.Release_Period = r.Release_Period\r\n",
                "        ) sub \r\n",
                "\t\tWHERE sub.Release_Period != '07_2015'\r\n",
                ""
            ],
            "metadata": {
                "azdata_cell_guid": "705fedaf-0cfb-4fca-b44a-06b53816016a",
                "language": "sql"
            },
            "outputs": [
                {
                    "output_type": "display_data",
                    "data": {
                        "text/html": "(80 rows affected)"
                    },
                    "metadata": {}
                },
                {
                    "output_type": "display_data",
                    "data": {
                        "text/html": "Total execution time: 00:00:00.174"
                    },
                    "metadata": {}
                },
                {
                    "output_type": "execute_result",
                    "execution_count": 35,
                    "data": {
                        "application/vnd.dataresource+json": {
                            "schema": {
                                "fields": [
                                    {
                                        "name": "Year"
                                    },
                                    {
                                        "name": "Measure_ID"
                                    },
                                    {
                                        "name": "Top_box_Percentage"
                                    },
                                    {
                                        "name": "Flag"
                                    }
                                ]
                            },
                            "data": [
                                {
                                    "Year": "2015",
                                    "Measure_ID": "H_CLEAN_HSP",
                                    "Top_box_Percentage": "74",
                                    "Flag": "No Improvement"
                                },
                                {
                                    "Year": "2016",
                                    "Measure_ID": "H_CLEAN_HSP",
                                    "Top_box_Percentage": "74",
                                    "Flag": "No Improvement"
                                },
                                {
                                    "Year": "2017",
                                    "Measure_ID": "H_CLEAN_HSP",
                                    "Top_box_Percentage": "75",
                                    "Flag": "Improve"
                                },
                                {
                                    "Year": "2018",
                                    "Measure_ID": "H_CLEAN_HSP",
                                    "Top_box_Percentage": "75",
                                    "Flag": "No Improvement"
                                },
                                {
                                    "Year": "2019",
                                    "Measure_ID": "H_CLEAN_HSP",
                                    "Top_box_Percentage": "76",
                                    "Flag": "Improve"
                                },
                                {
                                    "Year": "2020",
                                    "Measure_ID": "H_CLEAN_HSP",
                                    "Top_box_Percentage": "76",
                                    "Flag": "No Improvement"
                                },
                                {
                                    "Year": "2021",
                                    "Measure_ID": "H_CLEAN_HSP",
                                    "Top_box_Percentage": "73",
                                    "Flag": "No Improvement"
                                },
                                {
                                    "Year": "2022",
                                    "Measure_ID": "H_CLEAN_HSP",
                                    "Top_box_Percentage": "72",
                                    "Flag": "No Improvement"
                                },
                                {
                                    "Year": "2015",
                                    "Measure_ID": "H_COMP_1",
                                    "Top_box_Percentage": "80",
                                    "Flag": "Improve"
                                },
                                {
                                    "Year": "2016",
                                    "Measure_ID": "H_COMP_1",
                                    "Top_box_Percentage": "80",
                                    "Flag": "No Improvement"
                                },
                                {
                                    "Year": "2017",
                                    "Measure_ID": "H_COMP_1",
                                    "Top_box_Percentage": "80",
                                    "Flag": "No Improvement"
                                },
                                {
                                    "Year": "2018",
                                    "Measure_ID": "H_COMP_1",
                                    "Top_box_Percentage": "81",
                                    "Flag": "Improve"
                                },
                                {
                                    "Year": "2019",
                                    "Measure_ID": "H_COMP_1",
                                    "Top_box_Percentage": "81",
                                    "Flag": "No Improvement"
                                },
                                {
                                    "Year": "2020",
                                    "Measure_ID": "H_COMP_1",
                                    "Top_box_Percentage": "81",
                                    "Flag": "No Improvement"
                                },
                                {
                                    "Year": "2021",
                                    "Measure_ID": "H_COMP_1",
                                    "Top_box_Percentage": "80",
                                    "Flag": "No Improvement"
                                },
                                {
                                    "Year": "2022",
                                    "Measure_ID": "H_COMP_1",
                                    "Top_box_Percentage": "79",
                                    "Flag": "No Improvement"
                                },
                                {
                                    "Year": "2015",
                                    "Measure_ID": "H_COMP_2",
                                    "Top_box_Percentage": "82",
                                    "Flag": "No Improvement"
                                },
                                {
                                    "Year": "2016",
                                    "Measure_ID": "H_COMP_2",
                                    "Top_box_Percentage": "82",
                                    "Flag": "No Improvement"
                                },
                                {
                                    "Year": "2017",
                                    "Measure_ID": "H_COMP_2",
                                    "Top_box_Percentage": "82",
                                    "Flag": "No Improvement"
                                },
                                {
                                    "Year": "2018",
                                    "Measure_ID": "H_COMP_2",
                                    "Top_box_Percentage": "81",
                                    "Flag": "No Improvement"
                                },
                                {
                                    "Year": "2019",
                                    "Measure_ID": "H_COMP_2",
                                    "Top_box_Percentage": "82",
                                    "Flag": "Improve"
                                },
                                {
                                    "Year": "2020",
                                    "Measure_ID": "H_COMP_2",
                                    "Top_box_Percentage": "82",
                                    "Flag": "No Improvement"
                                },
                                {
                                    "Year": "2021",
                                    "Measure_ID": "H_COMP_2",
                                    "Top_box_Percentage": "80",
                                    "Flag": "No Improvement"
                                },
                                {
                                    "Year": "2022",
                                    "Measure_ID": "H_COMP_2",
                                    "Top_box_Percentage": "79",
                                    "Flag": "No Improvement"
                                },
                                {
                                    "Year": "2015",
                                    "Measure_ID": "H_COMP_3",
                                    "Top_box_Percentage": "68",
                                    "Flag": "No Improvement"
                                },
                                {
                                    "Year": "2016",
                                    "Measure_ID": "H_COMP_3",
                                    "Top_box_Percentage": "69",
                                    "Flag": "Improve"
                                },
                                {
                                    "Year": "2017",
                                    "Measure_ID": "H_COMP_3",
                                    "Top_box_Percentage": "70",
                                    "Flag": "Improve"
                                },
                                {
                                    "Year": "2018",
                                    "Measure_ID": "H_COMP_3",
                                    "Top_box_Percentage": "70",
                                    "Flag": "No Improvement"
                                },
                                {
                                    "Year": "2019",
                                    "Measure_ID": "H_COMP_3",
                                    "Top_box_Percentage": "70",
                                    "Flag": "No Improvement"
                                },
                                {
                                    "Year": "2020",
                                    "Measure_ID": "H_COMP_3",
                                    "Top_box_Percentage": "70",
                                    "Flag": "No Improvement"
                                },
                                {
                                    "Year": "2021",
                                    "Measure_ID": "H_COMP_3",
                                    "Top_box_Percentage": "67",
                                    "Flag": "No Improvement"
                                },
                                {
                                    "Year": "2022",
                                    "Measure_ID": "H_COMP_3",
                                    "Top_box_Percentage": "65",
                                    "Flag": "No Improvement"
                                },
                                {
                                    "Year": "2015",
                                    "Measure_ID": "H_COMP_5",
                                    "Top_box_Percentage": "65",
                                    "Flag": "No Improvement"
                                },
                                {
                                    "Year": "2016",
                                    "Measure_ID": "H_COMP_5",
                                    "Top_box_Percentage": "65",
                                    "Flag": "No Improvement"
                                },
                                {
                                    "Year": "2017",
                                    "Measure_ID": "H_COMP_5",
                                    "Top_box_Percentage": "66",
                                    "Flag": "Improve"
                                },
                                {
                                    "Year": "2018",
                                    "Measure_ID": "H_COMP_5",
                                    "Top_box_Percentage": "66",
                                    "Flag": "No Improvement"
                                },
                                {
                                    "Year": "2019",
                                    "Measure_ID": "H_COMP_5",
                                    "Top_box_Percentage": "66",
                                    "Flag": "No Improvement"
                                },
                                {
                                    "Year": "2020",
                                    "Measure_ID": "H_COMP_5",
                                    "Top_box_Percentage": "66",
                                    "Flag": "No Improvement"
                                },
                                {
                                    "Year": "2021",
                                    "Measure_ID": "H_COMP_5",
                                    "Top_box_Percentage": "63",
                                    "Flag": "No Improvement"
                                },
                                {
                                    "Year": "2022",
                                    "Measure_ID": "H_COMP_5",
                                    "Top_box_Percentage": "61",
                                    "Flag": "No Improvement"
                                },
                                {
                                    "Year": "2015",
                                    "Measure_ID": "H_COMP_6",
                                    "Top_box_Percentage": "87",
                                    "Flag": "Improve"
                                },
                                {
                                    "Year": "2016",
                                    "Measure_ID": "H_COMP_6",
                                    "Top_box_Percentage": "87",
                                    "Flag": "No Improvement"
                                },
                                {
                                    "Year": "2017",
                                    "Measure_ID": "H_COMP_6",
                                    "Top_box_Percentage": "87",
                                    "Flag": "No Improvement"
                                },
                                {
                                    "Year": "2018",
                                    "Measure_ID": "H_COMP_6",
                                    "Top_box_Percentage": "87",
                                    "Flag": "No Improvement"
                                },
                                {
                                    "Year": "2019",
                                    "Measure_ID": "H_COMP_6",
                                    "Top_box_Percentage": "87",
                                    "Flag": "No Improvement"
                                },
                                {
                                    "Year": "2020",
                                    "Measure_ID": "H_COMP_6",
                                    "Top_box_Percentage": "87",
                                    "Flag": "No Improvement"
                                },
                                {
                                    "Year": "2021",
                                    "Measure_ID": "H_COMP_6",
                                    "Top_box_Percentage": "86",
                                    "Flag": "No Improvement"
                                },
                                {
                                    "Year": "2022",
                                    "Measure_ID": "H_COMP_6",
                                    "Top_box_Percentage": "86",
                                    "Flag": "No Improvement"
                                },
                                {
                                    "Year": "2015",
                                    "Measure_ID": "H_COMP_7",
                                    "Top_box_Percentage": "52",
                                    "Flag": "No Improvement"
                                },
                                {
                                    "Year": "2016",
                                    "Measure_ID": "H_COMP_7",
                                    "Top_box_Percentage": "52",
                                    "Flag": "No Improvement"
                                },
                                {
                                    "Year": "2017",
                                    "Measure_ID": "H_COMP_7",
                                    "Top_box_Percentage": "53",
                                    "Flag": "Improve"
                                },
                                {
                                    "Year": "2018",
                                    "Measure_ID": "H_COMP_7",
                                    "Top_box_Percentage": "53",
                                    "Flag": "No Improvement"
                                },
                                {
                                    "Year": "2019",
                                    "Measure_ID": "H_COMP_7",
                                    "Top_box_Percentage": "54",
                                    "Flag": "Improve"
                                },
                                {
                                    "Year": "2020",
                                    "Measure_ID": "H_COMP_7",
                                    "Top_box_Percentage": "54",
                                    "Flag": "No Improvement"
                                },
                                {
                                    "Year": "2021",
                                    "Measure_ID": "H_COMP_7",
                                    "Top_box_Percentage": "52",
                                    "Flag": "No Improvement"
                                },
                                {
                                    "Year": "2022",
                                    "Measure_ID": "H_COMP_7",
                                    "Top_box_Percentage": "51",
                                    "Flag": "No Improvement"
                                },
                                {
                                    "Year": "2015",
                                    "Measure_ID": "H_HSP_RATING",
                                    "Top_box_Percentage": "72",
                                    "Flag": "Improve"
                                },
                                {
                                    "Year": "2016",
                                    "Measure_ID": "H_HSP_RATING",
                                    "Top_box_Percentage": "73",
                                    "Flag": "Improve"
                                },
                                {
                                    "Year": "2017",
                                    "Measure_ID": "H_HSP_RATING",
                                    "Top_box_Percentage": "73",
                                    "Flag": "No Improvement"
                                },
                                {
                                    "Year": "2018",
                                    "Measure_ID": "H_HSP_RATING",
                                    "Top_box_Percentage": "73",
                                    "Flag": "No Improvement"
                                },
                                {
                                    "Year": "2019",
                                    "Measure_ID": "H_HSP_RATING",
                                    "Top_box_Percentage": "73",
                                    "Flag": "No Improvement"
                                },
                                {
                                    "Year": "2020",
                                    "Measure_ID": "H_HSP_RATING",
                                    "Top_box_Percentage": "73",
                                    "Flag": "No Improvement"
                                },
                                {
                                    "Year": "2021",
                                    "Measure_ID": "H_HSP_RATING",
                                    "Top_box_Percentage": "72",
                                    "Flag": "No Improvement"
                                },
                                {
                                    "Year": "2022",
                                    "Measure_ID": "H_HSP_RATING",
                                    "Top_box_Percentage": "70",
                                    "Flag": "No Improvement"
                                },
                                {
                                    "Year": "2015",
                                    "Measure_ID": "H_QUIET_HSP",
                                    "Top_box_Percentage": "62",
                                    "Flag": "No Improvement"
                                },
                                {
                                    "Year": "2016",
                                    "Measure_ID": "H_QUIET_HSP",
                                    "Top_box_Percentage": "63",
                                    "Flag": "Improve"
                                },
                                {
                                    "Year": "2017",
                                    "Measure_ID": "H_QUIET_HSP",
                                    "Top_box_Percentage": "62",
                                    "Flag": "No Improvement"
                                },
                                {
                                    "Year": "2018",
                                    "Measure_ID": "H_QUIET_HSP",
                                    "Top_box_Percentage": "62",
                                    "Flag": "No Improvement"
                                },
                                {
                                    "Year": "2019",
                                    "Measure_ID": "H_QUIET_HSP",
                                    "Top_box_Percentage": "62",
                                    "Flag": "No Improvement"
                                },
                                {
                                    "Year": "2020",
                                    "Measure_ID": "H_QUIET_HSP",
                                    "Top_box_Percentage": "62",
                                    "Flag": "No Improvement"
                                },
                                {
                                    "Year": "2021",
                                    "Measure_ID": "H_QUIET_HSP",
                                    "Top_box_Percentage": "63",
                                    "Flag": "Improve"
                                },
                                {
                                    "Year": "2022",
                                    "Measure_ID": "H_QUIET_HSP",
                                    "Top_box_Percentage": "62",
                                    "Flag": "No Improvement"
                                },
                                {
                                    "Year": "2015",
                                    "Measure_ID": "H_RECMND",
                                    "Top_box_Percentage": "71",
                                    "Flag": "No Improvement"
                                },
                                {
                                    "Year": "2016",
                                    "Measure_ID": "H_RECMND",
                                    "Top_box_Percentage": "72",
                                    "Flag": "Improve"
                                },
                                {
                                    "Year": "2017",
                                    "Measure_ID": "H_RECMND",
                                    "Top_box_Percentage": "72",
                                    "Flag": "No Improvement"
                                },
                                {
                                    "Year": "2018",
                                    "Measure_ID": "H_RECMND",
                                    "Top_box_Percentage": "72",
                                    "Flag": "No Improvement"
                                },
                                {
                                    "Year": "2019",
                                    "Measure_ID": "H_RECMND",
                                    "Top_box_Percentage": "72",
                                    "Flag": "No Improvement"
                                },
                                {
                                    "Year": "2020",
                                    "Measure_ID": "H_RECMND",
                                    "Top_box_Percentage": "72",
                                    "Flag": "No Improvement"
                                },
                                {
                                    "Year": "2021",
                                    "Measure_ID": "H_RECMND",
                                    "Top_box_Percentage": "71",
                                    "Flag": "No Improvement"
                                },
                                {
                                    "Year": "2022",
                                    "Measure_ID": "H_RECMND",
                                    "Top_box_Percentage": "69",
                                    "Flag": "No Improvement"
                                }
                            ]
                        },
                        "text/html": "<table><tr><th>Year</th><th>Measure_ID</th><th>Top_box_Percentage</th><th>Flag</th></tr><tr><td>2015</td><td>H_CLEAN_HSP</td><td>74</td><td>No Improvement</td></tr><tr><td>2016</td><td>H_CLEAN_HSP</td><td>74</td><td>No Improvement</td></tr><tr><td>2017</td><td>H_CLEAN_HSP</td><td>75</td><td>Improve</td></tr><tr><td>2018</td><td>H_CLEAN_HSP</td><td>75</td><td>No Improvement</td></tr><tr><td>2019</td><td>H_CLEAN_HSP</td><td>76</td><td>Improve</td></tr><tr><td>2020</td><td>H_CLEAN_HSP</td><td>76</td><td>No Improvement</td></tr><tr><td>2021</td><td>H_CLEAN_HSP</td><td>73</td><td>No Improvement</td></tr><tr><td>2022</td><td>H_CLEAN_HSP</td><td>72</td><td>No Improvement</td></tr><tr><td>2015</td><td>H_COMP_1</td><td>80</td><td>Improve</td></tr><tr><td>2016</td><td>H_COMP_1</td><td>80</td><td>No Improvement</td></tr><tr><td>2017</td><td>H_COMP_1</td><td>80</td><td>No Improvement</td></tr><tr><td>2018</td><td>H_COMP_1</td><td>81</td><td>Improve</td></tr><tr><td>2019</td><td>H_COMP_1</td><td>81</td><td>No Improvement</td></tr><tr><td>2020</td><td>H_COMP_1</td><td>81</td><td>No Improvement</td></tr><tr><td>2021</td><td>H_COMP_1</td><td>80</td><td>No Improvement</td></tr><tr><td>2022</td><td>H_COMP_1</td><td>79</td><td>No Improvement</td></tr><tr><td>2015</td><td>H_COMP_2</td><td>82</td><td>No Improvement</td></tr><tr><td>2016</td><td>H_COMP_2</td><td>82</td><td>No Improvement</td></tr><tr><td>2017</td><td>H_COMP_2</td><td>82</td><td>No Improvement</td></tr><tr><td>2018</td><td>H_COMP_2</td><td>81</td><td>No Improvement</td></tr><tr><td>2019</td><td>H_COMP_2</td><td>82</td><td>Improve</td></tr><tr><td>2020</td><td>H_COMP_2</td><td>82</td><td>No Improvement</td></tr><tr><td>2021</td><td>H_COMP_2</td><td>80</td><td>No Improvement</td></tr><tr><td>2022</td><td>H_COMP_2</td><td>79</td><td>No Improvement</td></tr><tr><td>2015</td><td>H_COMP_3</td><td>68</td><td>No Improvement</td></tr><tr><td>2016</td><td>H_COMP_3</td><td>69</td><td>Improve</td></tr><tr><td>2017</td><td>H_COMP_3</td><td>70</td><td>Improve</td></tr><tr><td>2018</td><td>H_COMP_3</td><td>70</td><td>No Improvement</td></tr><tr><td>2019</td><td>H_COMP_3</td><td>70</td><td>No Improvement</td></tr><tr><td>2020</td><td>H_COMP_3</td><td>70</td><td>No Improvement</td></tr><tr><td>2021</td><td>H_COMP_3</td><td>67</td><td>No Improvement</td></tr><tr><td>2022</td><td>H_COMP_3</td><td>65</td><td>No Improvement</td></tr><tr><td>2015</td><td>H_COMP_5</td><td>65</td><td>No Improvement</td></tr><tr><td>2016</td><td>H_COMP_5</td><td>65</td><td>No Improvement</td></tr><tr><td>2017</td><td>H_COMP_5</td><td>66</td><td>Improve</td></tr><tr><td>2018</td><td>H_COMP_5</td><td>66</td><td>No Improvement</td></tr><tr><td>2019</td><td>H_COMP_5</td><td>66</td><td>No Improvement</td></tr><tr><td>2020</td><td>H_COMP_5</td><td>66</td><td>No Improvement</td></tr><tr><td>2021</td><td>H_COMP_5</td><td>63</td><td>No Improvement</td></tr><tr><td>2022</td><td>H_COMP_5</td><td>61</td><td>No Improvement</td></tr><tr><td>2015</td><td>H_COMP_6</td><td>87</td><td>Improve</td></tr><tr><td>2016</td><td>H_COMP_6</td><td>87</td><td>No Improvement</td></tr><tr><td>2017</td><td>H_COMP_6</td><td>87</td><td>No Improvement</td></tr><tr><td>2018</td><td>H_COMP_6</td><td>87</td><td>No Improvement</td></tr><tr><td>2019</td><td>H_COMP_6</td><td>87</td><td>No Improvement</td></tr><tr><td>2020</td><td>H_COMP_6</td><td>87</td><td>No Improvement</td></tr><tr><td>2021</td><td>H_COMP_6</td><td>86</td><td>No Improvement</td></tr><tr><td>2022</td><td>H_COMP_6</td><td>86</td><td>No Improvement</td></tr><tr><td>2015</td><td>H_COMP_7</td><td>52</td><td>No Improvement</td></tr><tr><td>2016</td><td>H_COMP_7</td><td>52</td><td>No Improvement</td></tr><tr><td>2017</td><td>H_COMP_7</td><td>53</td><td>Improve</td></tr><tr><td>2018</td><td>H_COMP_7</td><td>53</td><td>No Improvement</td></tr><tr><td>2019</td><td>H_COMP_7</td><td>54</td><td>Improve</td></tr><tr><td>2020</td><td>H_COMP_7</td><td>54</td><td>No Improvement</td></tr><tr><td>2021</td><td>H_COMP_7</td><td>52</td><td>No Improvement</td></tr><tr><td>2022</td><td>H_COMP_7</td><td>51</td><td>No Improvement</td></tr><tr><td>2015</td><td>H_HSP_RATING</td><td>72</td><td>Improve</td></tr><tr><td>2016</td><td>H_HSP_RATING</td><td>73</td><td>Improve</td></tr><tr><td>2017</td><td>H_HSP_RATING</td><td>73</td><td>No Improvement</td></tr><tr><td>2018</td><td>H_HSP_RATING</td><td>73</td><td>No Improvement</td></tr><tr><td>2019</td><td>H_HSP_RATING</td><td>73</td><td>No Improvement</td></tr><tr><td>2020</td><td>H_HSP_RATING</td><td>73</td><td>No Improvement</td></tr><tr><td>2021</td><td>H_HSP_RATING</td><td>72</td><td>No Improvement</td></tr><tr><td>2022</td><td>H_HSP_RATING</td><td>70</td><td>No Improvement</td></tr><tr><td>2015</td><td>H_QUIET_HSP</td><td>62</td><td>No Improvement</td></tr><tr><td>2016</td><td>H_QUIET_HSP</td><td>63</td><td>Improve</td></tr><tr><td>2017</td><td>H_QUIET_HSP</td><td>62</td><td>No Improvement</td></tr><tr><td>2018</td><td>H_QUIET_HSP</td><td>62</td><td>No Improvement</td></tr><tr><td>2019</td><td>H_QUIET_HSP</td><td>62</td><td>No Improvement</td></tr><tr><td>2020</td><td>H_QUIET_HSP</td><td>62</td><td>No Improvement</td></tr><tr><td>2021</td><td>H_QUIET_HSP</td><td>63</td><td>Improve</td></tr><tr><td>2022</td><td>H_QUIET_HSP</td><td>62</td><td>No Improvement</td></tr><tr><td>2015</td><td>H_RECMND</td><td>71</td><td>No Improvement</td></tr><tr><td>2016</td><td>H_RECMND</td><td>72</td><td>Improve</td></tr><tr><td>2017</td><td>H_RECMND</td><td>72</td><td>No Improvement</td></tr><tr><td>2018</td><td>H_RECMND</td><td>72</td><td>No Improvement</td></tr><tr><td>2019</td><td>H_RECMND</td><td>72</td><td>No Improvement</td></tr><tr><td>2020</td><td>H_RECMND</td><td>72</td><td>No Improvement</td></tr><tr><td>2021</td><td>H_RECMND</td><td>71</td><td>No Improvement</td></tr><tr><td>2022</td><td>H_RECMND</td><td>69</td><td>No Improvement</td></tr></table>"
                    },
                    "metadata": {}
                }
            ],
            "execution_count": 35
        },
        {
            "cell_type": "markdown",
            "source": [
                "<span style=\"color: #008000;\">-- Years where there have been No Increase in rating across ALL MEASURES</span>\n",
                "\n",
                "<span style=\"color: #008000;\">-- It either decreased or stayed the same as the previous year</span>"
            ],
            "metadata": {
                "azdata_cell_guid": "65e88cbf-293f-44f8-8e15-815014954cf0"
            },
            "attachments": {}
        },
        {
            "cell_type": "code",
            "source": [
                "\t--To filter lets put the code above in a CTE\r\n",
                "\r\n",
                "with check_improve as \r\n",
                "\t(\r\n",
                "\t\tSELECT nr.Release_Period, YEAR(End_Date) as Year, Measure_ID, Top_box_Percentage\r\n",
                "\t\t--Show No comp for 2015 as there are no previous year records to compare it to\r\n",
                "\t\t\t,(CASE WHEN LAG(Top_box_Percentage,1)\r\n",
                "\t\t\tOVER (PARTITION BY Measure_ID ORDER BY nr.RELEASE_PERIOD) IS NULL \r\n",
                "\t\t\t\t\tTHEN 'No Comp'  \r\n",
                "\t\t\t\tWHEN Top_box_Percentage >\r\n",
                "\t\t\t\tLAG(Top_box_Percentage,1)\r\n",
                "\t\t\tOVER (PARTITION BY Measure_ID ORDER BY nr.RELEASE_PERIOD)\r\n",
                "\t\t\t\tTHEN 'Improve'\r\n",
                "\t\t\tELSE 'No Improvement' \r\n",
                "\t\t\t\tEND) AS Flag\r\n",
                "\t\tFROM national_results nr\r\n",
                "\t\tJOIN reports r\r\n",
                "\t\tON nr.Release_Period = r.Release_Period\r\n",
                "\t)\r\n",
                "\t\t\r\n",
                "\t\tSELECT DISTINCT YEAR(r.End_Date)\r\n",
                "\t\tFROM national_results nr\r\n",
                "\t\tJOIN reports r\r\n",
                "\t\tON nr.Release_Period = r.Release_Period\r\n",
                "\t\tWHERE YEAR(r.End_Date)\r\n",
                "\t\t\tnot in \r\n",
                "\t\t\t(Select YEAR \r\n",
                "\t\t\t\tfrom check_improve \r\n",
                "\t\t\t\twhere flag in ('No comp','Improve')\r\n",
                "\t\t\t) --This will filter out No Comp, Improvement and leave Years of No Improvement across all measures\r\n",
                "\t\t"
            ],
            "metadata": {
                "azdata_cell_guid": "2e613ec5-f452-4dd4-aa4f-ebac9d2b1654",
                "language": "sql"
            },
            "outputs": [
                {
                    "output_type": "display_data",
                    "data": {
                        "text/html": "(2 rows affected)"
                    },
                    "metadata": {}
                },
                {
                    "output_type": "display_data",
                    "data": {
                        "text/html": "Total execution time: 00:00:00.168"
                    },
                    "metadata": {}
                },
                {
                    "output_type": "execute_result",
                    "execution_count": 36,
                    "data": {
                        "application/vnd.dataresource+json": {
                            "schema": {
                                "fields": [
                                    {
                                        "name": "(No column name)"
                                    }
                                ]
                            },
                            "data": [
                                {
                                    "(No column name)": "2020"
                                },
                                {
                                    "(No column name)": "2022"
                                }
                            ]
                        },
                        "text/html": "<table><tr><th>(No column name)</th></tr><tr><td>2020</td></tr><tr><td>2022</td></tr></table>"
                    },
                    "metadata": {}
                }
            ],
            "execution_count": 36
        },
        {
            "cell_type": "code",
            "source": [
                "        -- Show Measures that improved their Positive Rating from previous survey year\r\n",
                "        -- Exclude 07_2015 has there is no PY available\r\n",
                "\r\n",
                "with check_improve as \r\n",
                "\t(\r\n",
                "\t\tSELECT  Release_Period, m.Measure, Top_box_Percentage\r\n",
                "\t\t--Show No comp for 2015 as there are no previous year records to compare it to\r\n",
                "\t\t\t,(CASE WHEN LAG(Top_box_Percentage,1)\r\n",
                "\t\t\tOVER (PARTITION BY nr.Measure_ID ORDER BY RELEASE_PERIOD) IS NULL \r\n",
                "\t\t\t\t\tTHEN 'No Comp'  \r\n",
                "\t\t\t\tWHEN Top_box_Percentage >\r\n",
                "\t\t\t\tLAG(Top_box_Percentage,1)\r\n",
                "\t\t\tOVER (PARTITION BY nr.Measure_ID ORDER BY RELEASE_PERIOD)\r\n",
                "\t\t\t\tTHEN 'Improve'\r\n",
                "\t\t\tELSE 'No Improvement' \r\n",
                "\t\t\t\tEND) AS Flag\r\n",
                "\t\tFROM national_results nr\r\n",
                "        JOIN measures m \r\n",
                "            ON m.Measure_ID = nr.Measure_ID\r\n",
                "\r\n",
                "\t)\r\n",
                "\t\tSelect Release_Period, Measure, Top_box_Percentage,  Flag\r\n",
                "\t\t\t\tfrom check_improve \r\n",
                "\t\t\t\twhere flag in ('Improve')\r\n",
                "        ORDER BY 1, 2, 3"
            ],
            "metadata": {
                "azdata_cell_guid": "4e877d0c-b638-4c61-887d-70ece1492946",
                "language": "sql"
            },
            "outputs": [
                {
                    "output_type": "display_data",
                    "data": {
                        "text/html": "(16 rows affected)"
                    },
                    "metadata": {}
                },
                {
                    "output_type": "display_data",
                    "data": {
                        "text/html": "Total execution time: 00:00:00.027"
                    },
                    "metadata": {}
                },
                {
                    "output_type": "execute_result",
                    "execution_count": 37,
                    "data": {
                        "application/vnd.dataresource+json": {
                            "schema": {
                                "fields": [
                                    {
                                        "name": "Release_Period"
                                    },
                                    {
                                        "name": "Measure"
                                    },
                                    {
                                        "name": "Top_box_Percentage"
                                    },
                                    {
                                        "name": "Flag"
                                    }
                                ]
                            },
                            "data": [
                                {
                                    "Release_Period": "07_2016",
                                    "Measure": "Communication with Nurses",
                                    "Top_box_Percentage": "80",
                                    "Flag": "Improve"
                                },
                                {
                                    "Release_Period": "07_2016",
                                    "Measure": "Discharge Information",
                                    "Top_box_Percentage": "87",
                                    "Flag": "Improve"
                                },
                                {
                                    "Release_Period": "07_2016",
                                    "Measure": "Overall Hospital Rating",
                                    "Top_box_Percentage": "72",
                                    "Flag": "Improve"
                                },
                                {
                                    "Release_Period": "07_2017",
                                    "Measure": "Overall Hospital Rating",
                                    "Top_box_Percentage": "73",
                                    "Flag": "Improve"
                                },
                                {
                                    "Release_Period": "07_2017",
                                    "Measure": "Quietness of Hospital Environment",
                                    "Top_box_Percentage": "63",
                                    "Flag": "Improve"
                                },
                                {
                                    "Release_Period": "07_2017",
                                    "Measure": "Responsiveness of Hospital Staff",
                                    "Top_box_Percentage": "69",
                                    "Flag": "Improve"
                                },
                                {
                                    "Release_Period": "07_2017",
                                    "Measure": "Willingness to Recommend the Hospital",
                                    "Top_box_Percentage": "72",
                                    "Flag": "Improve"
                                },
                                {
                                    "Release_Period": "07_2018",
                                    "Measure": "Care Transition",
                                    "Top_box_Percentage": "53",
                                    "Flag": "Improve"
                                },
                                {
                                    "Release_Period": "07_2018",
                                    "Measure": "Cleanliness of Hospital Environment",
                                    "Top_box_Percentage": "75",
                                    "Flag": "Improve"
                                },
                                {
                                    "Release_Period": "07_2018",
                                    "Measure": "Communication about Medicines",
                                    "Top_box_Percentage": "66",
                                    "Flag": "Improve"
                                },
                                {
                                    "Release_Period": "07_2018",
                                    "Measure": "Responsiveness of Hospital Staff",
                                    "Top_box_Percentage": "70",
                                    "Flag": "Improve"
                                },
                                {
                                    "Release_Period": "07_2019",
                                    "Measure": "Communication with Nurses",
                                    "Top_box_Percentage": "81",
                                    "Flag": "Improve"
                                },
                                {
                                    "Release_Period": "07_2020",
                                    "Measure": "Care Transition",
                                    "Top_box_Percentage": "54",
                                    "Flag": "Improve"
                                },
                                {
                                    "Release_Period": "07_2020",
                                    "Measure": "Cleanliness of Hospital Environment",
                                    "Top_box_Percentage": "76",
                                    "Flag": "Improve"
                                },
                                {
                                    "Release_Period": "07_2020",
                                    "Measure": "Communication with Doctors",
                                    "Top_box_Percentage": "82",
                                    "Flag": "Improve"
                                },
                                {
                                    "Release_Period": "07_2022",
                                    "Measure": "Quietness of Hospital Environment",
                                    "Top_box_Percentage": "63",
                                    "Flag": "Improve"
                                }
                            ]
                        },
                        "text/html": "<table><tr><th>Release_Period</th><th>Measure</th><th>Top_box_Percentage</th><th>Flag</th></tr><tr><td>07_2016</td><td>Communication with Nurses</td><td>80</td><td>Improve</td></tr><tr><td>07_2016</td><td>Discharge Information</td><td>87</td><td>Improve</td></tr><tr><td>07_2016</td><td>Overall Hospital Rating</td><td>72</td><td>Improve</td></tr><tr><td>07_2017</td><td>Overall Hospital Rating</td><td>73</td><td>Improve</td></tr><tr><td>07_2017</td><td>Quietness of Hospital Environment</td><td>63</td><td>Improve</td></tr><tr><td>07_2017</td><td>Responsiveness of Hospital Staff</td><td>69</td><td>Improve</td></tr><tr><td>07_2017</td><td>Willingness to Recommend the Hospital</td><td>72</td><td>Improve</td></tr><tr><td>07_2018</td><td>Care Transition</td><td>53</td><td>Improve</td></tr><tr><td>07_2018</td><td>Cleanliness of Hospital Environment</td><td>75</td><td>Improve</td></tr><tr><td>07_2018</td><td>Communication about Medicines</td><td>66</td><td>Improve</td></tr><tr><td>07_2018</td><td>Responsiveness of Hospital Staff</td><td>70</td><td>Improve</td></tr><tr><td>07_2019</td><td>Communication with Nurses</td><td>81</td><td>Improve</td></tr><tr><td>07_2020</td><td>Care Transition</td><td>54</td><td>Improve</td></tr><tr><td>07_2020</td><td>Cleanliness of Hospital Environment</td><td>76</td><td>Improve</td></tr><tr><td>07_2020</td><td>Communication with Doctors</td><td>82</td><td>Improve</td></tr><tr><td>07_2022</td><td>Quietness of Hospital Environment</td><td>63</td><td>Improve</td></tr></table>"
                    },
                    "metadata": {}
                }
            ],
            "execution_count": 37
        },
        {
            "cell_type": "code",
            "source": [
                " -- FOR VISUAL PURPOSES LETS COMPARE LAST SURVEY YEAR (2022) TO THE PREVIOUS ONE (2021)\r\n",
                "\r\n",
                "SELECT Measure \r\n",
                "        ,PY AS '2021'\r\n",
                "        ,Top_box_Percentage as '2022'\r\n",
                " FROM\r\n",
                "    (\r\n",
                "        SELECT YEAR(r.End_Date) Year, Measure, Top_box_Percentage\r\n",
                "        ,LAG(Top_box_Percentage) OVER (PARTITION BY MEASURE ORDER BY Measure, YEAR(r.End_Date)) PY\r\n",
                "        FROM measures m \r\n",
                "        JOIN \r\n",
                "            national_results nr\r\n",
                "                ON m.Measure_ID = nr.Measure_ID\r\n",
                "        JOIN reports r \r\n",
                "            ON nr.Release_Period = r.Release_Period\r\n",
                "        WHERE YEAR(r.End_Date) = (SELECT MAX(YEAR(End_Date)) FROM reports) --2022\r\n",
                "                OR \r\n",
                "            YEAR(r.End_Date) = (SELECT MAX(YEAR(End_Date)) - 1 FROM reports) --2021\r\n",
                "     ) sub\r\n",
                "WHERE sub.PY IS NOT NULL\r\n",
                "-- ORDER BY 2, 1"
            ],
            "metadata": {
                "azdata_cell_guid": "e80d6ae1-84ef-47be-a820-742acf13b834",
                "language": "sql",
                "tags": []
            },
            "outputs": [
                {
                    "output_type": "display_data",
                    "data": {
                        "text/html": "(10 rows affected)"
                    },
                    "metadata": {}
                },
                {
                    "output_type": "display_data",
                    "data": {
                        "text/html": "Total execution time: 00:00:00.101"
                    },
                    "metadata": {}
                },
                {
                    "output_type": "execute_result",
                    "execution_count": 38,
                    "data": {
                        "application/vnd.dataresource+json": {
                            "schema": {
                                "fields": [
                                    {
                                        "name": "Measure"
                                    },
                                    {
                                        "name": "2021"
                                    },
                                    {
                                        "name": "2022"
                                    }
                                ]
                            },
                            "data": [
                                {
                                    "2021": "52",
                                    "2022": "51",
                                    "Measure": "Care Transition"
                                },
                                {
                                    "2021": "73",
                                    "2022": "72",
                                    "Measure": "Cleanliness of Hospital Environment"
                                },
                                {
                                    "2021": "63",
                                    "2022": "61",
                                    "Measure": "Communication about Medicines"
                                },
                                {
                                    "2021": "80",
                                    "2022": "79",
                                    "Measure": "Communication with Doctors"
                                },
                                {
                                    "2021": "80",
                                    "2022": "79",
                                    "Measure": "Communication with Nurses"
                                },
                                {
                                    "2021": "86",
                                    "2022": "86",
                                    "Measure": "Discharge Information"
                                },
                                {
                                    "2021": "72",
                                    "2022": "70",
                                    "Measure": "Overall Hospital Rating"
                                },
                                {
                                    "2021": "63",
                                    "2022": "62",
                                    "Measure": "Quietness of Hospital Environment"
                                },
                                {
                                    "2021": "67",
                                    "2022": "65",
                                    "Measure": "Responsiveness of Hospital Staff"
                                },
                                {
                                    "2021": "71",
                                    "2022": "69",
                                    "Measure": "Willingness to Recommend the Hospital"
                                }
                            ]
                        },
                        "text/html": "<table><tr><th>Measure</th><th>2021</th><th>2022</th></tr><tr><td>Care Transition</td><td>52</td><td>51</td></tr><tr><td>Cleanliness of Hospital Environment</td><td>73</td><td>72</td></tr><tr><td>Communication about Medicines</td><td>63</td><td>61</td></tr><tr><td>Communication with Doctors</td><td>80</td><td>79</td></tr><tr><td>Communication with Nurses</td><td>80</td><td>79</td></tr><tr><td>Discharge Information</td><td>86</td><td>86</td></tr><tr><td>Overall Hospital Rating</td><td>72</td><td>70</td></tr><tr><td>Quietness of Hospital Environment</td><td>63</td><td>62</td></tr><tr><td>Responsiveness of Hospital Staff</td><td>67</td><td>65</td></tr><tr><td>Willingness to Recommend the Hospital</td><td>71</td><td>69</td></tr></table>"
                    },
                    "metadata": {}
                }
            ],
            "execution_count": 38
        },
        {
            "cell_type": "markdown",
            "source": [
                "<span style=\"color: #008000;\">STATE HOSPITAL RATING OVER THE YEARS</span>"
            ],
            "metadata": {
                "azdata_cell_guid": "88d16298-d4bb-4170-b653-2f01a3ba520e"
            },
            "attachments": {}
        },
        {
            "cell_type": "code",
            "source": [
                "  --AVERAGE RATING PER STATE\r\n",
                "    -- 5 Highest and 5 lowest States\r\n",
                "  \r\n",
                "\tSELECT TOP 5 State_Name, AVG(Top_box_Percentage) 'AvgPositiveRating (%)'\r\n",
                "\tFROM state_results sr\r\n",
                "\t\tJOIN states s\r\n",
                "\t\t\tON sr.State = s.State\r\n",
                "    GROUP BY State_Name\r\n",
                "\tORDER BY 2 desc;\r\n",
                "\r\n",
                "\r\n",
                "        --BOTTOM 3\r\n",
                "    \tSELECT TOP 5 State_Name, AVG(Top_box_Percentage) 'AvgPositiveRating (%)'\r\n",
                "\tFROM state_results sr\r\n",
                "\t\tJOIN states s\r\n",
                "\t\t\tON sr.State = s.State\r\n",
                "    GROUP BY State_Name\r\n",
                "\tORDER BY 2 ASC;"
            ],
            "metadata": {
                "azdata_cell_guid": "91679b68-3825-42c6-a31e-5eefef123474",
                "language": "sql"
            },
            "outputs": [
                {
                    "output_type": "display_data",
                    "data": {
                        "text/html": "(5 rows affected)"
                    },
                    "metadata": {}
                },
                {
                    "output_type": "display_data",
                    "data": {
                        "text/html": "(5 rows affected)"
                    },
                    "metadata": {}
                },
                {
                    "output_type": "display_data",
                    "data": {
                        "text/html": "Total execution time: 00:00:00.045"
                    },
                    "metadata": {}
                },
                {
                    "output_type": "execute_result",
                    "execution_count": 39,
                    "data": {
                        "application/vnd.dataresource+json": {
                            "schema": {
                                "fields": [
                                    {
                                        "name": "State_Name"
                                    },
                                    {
                                        "name": "AvgPositiveRating (%)"
                                    }
                                ]
                            },
                            "data": [
                                {
                                    "State_Name": "Louisiana",
                                    "AvgPositiveRating (%)": "76"
                                },
                                {
                                    "State_Name": "Nebraska",
                                    "AvgPositiveRating (%)": "76"
                                },
                                {
                                    "State_Name": "South Dakota",
                                    "AvgPositiveRating (%)": "76"
                                },
                                {
                                    "State_Name": "Iowa",
                                    "AvgPositiveRating (%)": "75"
                                },
                                {
                                    "State_Name": "Kansas",
                                    "AvgPositiveRating (%)": "75"
                                }
                            ]
                        },
                        "text/html": "<table><tr><th>State_Name</th><th>AvgPositiveRating (%)</th></tr><tr><td>Louisiana</td><td>76</td></tr><tr><td>Nebraska</td><td>76</td></tr><tr><td>South Dakota</td><td>76</td></tr><tr><td>Iowa</td><td>75</td></tr><tr><td>Kansas</td><td>75</td></tr></table>"
                    },
                    "metadata": {}
                },
                {
                    "output_type": "execute_result",
                    "execution_count": 39,
                    "data": {
                        "application/vnd.dataresource+json": {
                            "schema": {
                                "fields": [
                                    {
                                        "name": "State_Name"
                                    },
                                    {
                                        "name": "AvgPositiveRating (%)"
                                    }
                                ]
                            },
                            "data": [
                                {
                                    "State_Name": "District of Columbia",
                                    "AvgPositiveRating (%)": "62"
                                },
                                {
                                    "State_Name": "New Jersey",
                                    "AvgPositiveRating (%)": "65"
                                },
                                {
                                    "State_Name": "Maryland",
                                    "AvgPositiveRating (%)": "66"
                                },
                                {
                                    "State_Name": "Nevada",
                                    "AvgPositiveRating (%)": "66"
                                },
                                {
                                    "State_Name": "New York",
                                    "AvgPositiveRating (%)": "66"
                                }
                            ]
                        },
                        "text/html": "<table><tr><th>State_Name</th><th>AvgPositiveRating (%)</th></tr><tr><td>District of Columbia</td><td>62</td></tr><tr><td>New Jersey</td><td>65</td></tr><tr><td>Maryland</td><td>66</td></tr><tr><td>Nevada</td><td>66</td></tr><tr><td>New York</td><td>66</td></tr></table>"
                    },
                    "metadata": {}
                }
            ],
            "execution_count": 39
        },
        {
            "cell_type": "code",
            "source": [
                "SELECT Measure\r\n",
                "        -- ,State\r\n",
                "        ,MAX(Top_box_Percentage) HighestRating\r\n",
                "        ,MIN(Top_box_Percentage)    LowestRating\r\n",
                "FROM state_results sr \r\n",
                "JOIN measures m \r\n",
                "    ON m.Measure_ID = sr.Measure_ID\r\n",
                "GROUP BY Measure"
            ],
            "metadata": {
                "azdata_cell_guid": "340ddd46-c11f-42ee-bf51-68d35ee4b118",
                "language": "sql"
            },
            "outputs": [
                {
                    "output_type": "display_data",
                    "data": {
                        "text/html": "(10 rows affected)"
                    },
                    "metadata": {}
                },
                {
                    "output_type": "display_data",
                    "data": {
                        "text/html": "Total execution time: 00:00:00.019"
                    },
                    "metadata": {}
                },
                {
                    "output_type": "execute_result",
                    "execution_count": 40,
                    "data": {
                        "application/vnd.dataresource+json": {
                            "schema": {
                                "fields": [
                                    {
                                        "name": "Measure"
                                    },
                                    {
                                        "name": "HighestRating"
                                    },
                                    {
                                        "name": "LowestRating"
                                    }
                                ]
                            },
                            "data": [
                                {
                                    "Measure": "Care Transition",
                                    "HighestRating": "59",
                                    "LowestRating": "42"
                                },
                                {
                                    "Measure": "Cleanliness of Hospital Environment",
                                    "HighestRating": "84",
                                    "LowestRating": "61"
                                },
                                {
                                    "Measure": "Communication about Medicines",
                                    "HighestRating": "72",
                                    "LowestRating": "53"
                                },
                                {
                                    "Measure": "Communication with Doctors",
                                    "HighestRating": "88",
                                    "LowestRating": "72"
                                },
                                {
                                    "Measure": "Communication with Nurses",
                                    "HighestRating": "85",
                                    "LowestRating": "70"
                                },
                                {
                                    "Measure": "Discharge Information",
                                    "HighestRating": "91",
                                    "LowestRating": "79"
                                },
                                {
                                    "Measure": "Overall Hospital Rating",
                                    "HighestRating": "81",
                                    "LowestRating": "58"
                                },
                                {
                                    "Measure": "Quietness of Hospital Environment",
                                    "HighestRating": "74",
                                    "LowestRating": "50"
                                },
                                {
                                    "Measure": "Responsiveness of Hospital Staff",
                                    "HighestRating": "80",
                                    "LowestRating": "48"
                                },
                                {
                                    "Measure": "Willingness to Recommend the Hospital",
                                    "HighestRating": "82",
                                    "LowestRating": "59"
                                }
                            ]
                        },
                        "text/html": "<table><tr><th>Measure</th><th>HighestRating</th><th>LowestRating</th></tr><tr><td>Care Transition</td><td>59</td><td>42</td></tr><tr><td>Cleanliness of Hospital Environment</td><td>84</td><td>61</td></tr><tr><td>Communication about Medicines</td><td>72</td><td>53</td></tr><tr><td>Communication with Doctors</td><td>88</td><td>72</td></tr><tr><td>Communication with Nurses</td><td>85</td><td>70</td></tr><tr><td>Discharge Information</td><td>91</td><td>79</td></tr><tr><td>Overall Hospital Rating</td><td>81</td><td>58</td></tr><tr><td>Quietness of Hospital Environment</td><td>74</td><td>50</td></tr><tr><td>Responsiveness of Hospital Staff</td><td>80</td><td>48</td></tr><tr><td>Willingness to Recommend the Hospital</td><td>82</td><td>59</td></tr></table>"
                    },
                    "metadata": {}
                }
            ],
            "execution_count": 40
        },
        {
            "cell_type": "code",
            "source": [
                "        -- Something is off with the state of Wisconsin. Investigate\r\n",
                "        -- Their Numbers are all over the plce. Very Inconsistent\r\n",
                "\r\n",
                "\r\n",
                "\tSELECT Release_Period\r\n",
                "            ,Measure_ID\r\n",
                "            -- ,State_Name\r\n",
                "                ,Top_box_Percentage\r\n",
                "            -- , AVG(Top_box_Percentage) 'AvgPositiveRating (%)'\r\n",
                "\tFROM state_results sr\r\n",
                "\t\tJOIN states s\r\n",
                "\t\t\tON sr.State = s.State\r\n",
                "    WHERE State_Name = 'Wisconsin' \r\n",
                "    -- GROUP BY State_Name\r\n",
                "\tORDER BY 1,2, 3 desc;"
            ],
            "metadata": {
                "azdata_cell_guid": "9c9b249c-e3dc-4b8b-acc0-a45e849593a4",
                "language": "sql"
            },
            "outputs": [
                {
                    "output_type": "display_data",
                    "data": {
                        "text/html": "(90 rows affected)"
                    },
                    "metadata": {}
                },
                {
                    "output_type": "display_data",
                    "data": {
                        "text/html": "Total execution time: 00:00:00.037"
                    },
                    "metadata": {}
                },
                {
                    "output_type": "execute_result",
                    "execution_count": 41,
                    "data": {
                        "application/vnd.dataresource+json": {
                            "schema": {
                                "fields": [
                                    {
                                        "name": "Release_Period"
                                    },
                                    {
                                        "name": "Measure_ID"
                                    },
                                    {
                                        "name": "Top_box_Percentage"
                                    }
                                ]
                            },
                            "data": [
                                {
                                    "Release_Period": "07_2015",
                                    "Measure_ID": "H_CLEAN_HSP",
                                    "Top_box_Percentage": "80"
                                },
                                {
                                    "Release_Period": "07_2015",
                                    "Measure_ID": "H_COMP_1",
                                    "Top_box_Percentage": "83"
                                },
                                {
                                    "Release_Period": "07_2015",
                                    "Measure_ID": "H_COMP_2",
                                    "Top_box_Percentage": "84"
                                },
                                {
                                    "Release_Period": "07_2015",
                                    "Measure_ID": "H_COMP_3",
                                    "Top_box_Percentage": "73"
                                },
                                {
                                    "Release_Period": "07_2015",
                                    "Measure_ID": "H_COMP_5",
                                    "Top_box_Percentage": "69"
                                },
                                {
                                    "Release_Period": "07_2015",
                                    "Measure_ID": "H_COMP_6",
                                    "Top_box_Percentage": "90"
                                },
                                {
                                    "Release_Period": "07_2015",
                                    "Measure_ID": "H_COMP_7",
                                    "Top_box_Percentage": "56"
                                },
                                {
                                    "Release_Period": "07_2015",
                                    "Measure_ID": "H_HSP_RATING",
                                    "Top_box_Percentage": "76"
                                },
                                {
                                    "Release_Period": "07_2015",
                                    "Measure_ID": "H_QUIET_HSP",
                                    "Top_box_Percentage": "65"
                                },
                                {
                                    "Release_Period": "07_2015",
                                    "Measure_ID": "H_RECMND",
                                    "Top_box_Percentage": "75"
                                },
                                {
                                    "Release_Period": "07_2016",
                                    "Measure_ID": "H_CLEAN_HSP",
                                    "Top_box_Percentage": "79"
                                },
                                {
                                    "Release_Period": "07_2016",
                                    "Measure_ID": "H_COMP_1",
                                    "Top_box_Percentage": "82"
                                },
                                {
                                    "Release_Period": "07_2016",
                                    "Measure_ID": "H_COMP_2",
                                    "Top_box_Percentage": "83"
                                },
                                {
                                    "Release_Period": "07_2016",
                                    "Measure_ID": "H_COMP_3",
                                    "Top_box_Percentage": "73"
                                },
                                {
                                    "Release_Period": "07_2016",
                                    "Measure_ID": "H_COMP_5",
                                    "Top_box_Percentage": "68"
                                },
                                {
                                    "Release_Period": "07_2016",
                                    "Measure_ID": "H_COMP_6",
                                    "Top_box_Percentage": "90"
                                },
                                {
                                    "Release_Period": "07_2016",
                                    "Measure_ID": "H_COMP_7",
                                    "Top_box_Percentage": "56"
                                },
                                {
                                    "Release_Period": "07_2016",
                                    "Measure_ID": "H_HSP_RATING",
                                    "Top_box_Percentage": "76"
                                },
                                {
                                    "Release_Period": "07_2016",
                                    "Measure_ID": "H_QUIET_HSP",
                                    "Top_box_Percentage": "65"
                                },
                                {
                                    "Release_Period": "07_2016",
                                    "Measure_ID": "H_RECMND",
                                    "Top_box_Percentage": "75"
                                },
                                {
                                    "Release_Period": "07_2017",
                                    "Measure_ID": "H_CLEAN_HSP",
                                    "Top_box_Percentage": "80"
                                },
                                {
                                    "Release_Period": "07_2017",
                                    "Measure_ID": "H_COMP_1",
                                    "Top_box_Percentage": "83"
                                },
                                {
                                    "Release_Period": "07_2017",
                                    "Measure_ID": "H_COMP_2",
                                    "Top_box_Percentage": "84"
                                },
                                {
                                    "Release_Period": "07_2017",
                                    "Measure_ID": "H_COMP_3",
                                    "Top_box_Percentage": "74"
                                },
                                {
                                    "Release_Period": "07_2017",
                                    "Measure_ID": "H_COMP_5",
                                    "Top_box_Percentage": "69"
                                },
                                {
                                    "Release_Period": "07_2017",
                                    "Measure_ID": "H_COMP_6",
                                    "Top_box_Percentage": "90"
                                },
                                {
                                    "Release_Period": "07_2017",
                                    "Measure_ID": "H_COMP_7",
                                    "Top_box_Percentage": "57"
                                },
                                {
                                    "Release_Period": "07_2017",
                                    "Measure_ID": "H_HSP_RATING",
                                    "Top_box_Percentage": "78"
                                },
                                {
                                    "Release_Period": "07_2017",
                                    "Measure_ID": "H_QUIET_HSP",
                                    "Top_box_Percentage": "65"
                                },
                                {
                                    "Release_Period": "07_2017",
                                    "Measure_ID": "H_RECMND",
                                    "Top_box_Percentage": "76"
                                },
                                {
                                    "Release_Period": "07_2018",
                                    "Measure_ID": "H_CLEAN_HSP",
                                    "Top_box_Percentage": "80"
                                },
                                {
                                    "Release_Period": "07_2018",
                                    "Measure_ID": "H_COMP_1",
                                    "Top_box_Percentage": "84"
                                },
                                {
                                    "Release_Period": "07_2018",
                                    "Measure_ID": "H_COMP_2",
                                    "Top_box_Percentage": "84"
                                },
                                {
                                    "Release_Period": "07_2018",
                                    "Measure_ID": "H_COMP_3",
                                    "Top_box_Percentage": "74"
                                },
                                {
                                    "Release_Period": "07_2018",
                                    "Measure_ID": "H_COMP_5",
                                    "Top_box_Percentage": "69"
                                },
                                {
                                    "Release_Period": "07_2018",
                                    "Measure_ID": "H_COMP_6",
                                    "Top_box_Percentage": "90"
                                },
                                {
                                    "Release_Period": "07_2018",
                                    "Measure_ID": "H_COMP_7",
                                    "Top_box_Percentage": "57"
                                },
                                {
                                    "Release_Period": "07_2018",
                                    "Measure_ID": "H_HSP_RATING",
                                    "Top_box_Percentage": "78"
                                },
                                {
                                    "Release_Period": "07_2018",
                                    "Measure_ID": "H_QUIET_HSP",
                                    "Top_box_Percentage": "66"
                                },
                                {
                                    "Release_Period": "07_2018",
                                    "Measure_ID": "H_RECMND",
                                    "Top_box_Percentage": "76"
                                },
                                {
                                    "Release_Period": "07_2019",
                                    "Measure_ID": "H_CLEAN_HSP",
                                    "Top_box_Percentage": "80"
                                },
                                {
                                    "Release_Period": "07_2019",
                                    "Measure_ID": "H_COMP_1",
                                    "Top_box_Percentage": "83"
                                },
                                {
                                    "Release_Period": "07_2019",
                                    "Measure_ID": "H_COMP_2",
                                    "Top_box_Percentage": "84"
                                },
                                {
                                    "Release_Period": "07_2019",
                                    "Measure_ID": "H_COMP_3",
                                    "Top_box_Percentage": "74"
                                },
                                {
                                    "Release_Period": "07_2019",
                                    "Measure_ID": "H_COMP_5",
                                    "Top_box_Percentage": "69"
                                },
                                {
                                    "Release_Period": "07_2019",
                                    "Measure_ID": "H_COMP_6",
                                    "Top_box_Percentage": "90"
                                },
                                {
                                    "Release_Period": "07_2019",
                                    "Measure_ID": "H_COMP_7",
                                    "Top_box_Percentage": "57"
                                },
                                {
                                    "Release_Period": "07_2019",
                                    "Measure_ID": "H_HSP_RATING",
                                    "Top_box_Percentage": "78"
                                },
                                {
                                    "Release_Period": "07_2019",
                                    "Measure_ID": "H_QUIET_HSP",
                                    "Top_box_Percentage": "66"
                                },
                                {
                                    "Release_Period": "07_2019",
                                    "Measure_ID": "H_RECMND",
                                    "Top_box_Percentage": "76"
                                },
                                {
                                    "Release_Period": "07_2020",
                                    "Measure_ID": "H_CLEAN_HSP",
                                    "Top_box_Percentage": "80"
                                },
                                {
                                    "Release_Period": "07_2020",
                                    "Measure_ID": "H_COMP_1",
                                    "Top_box_Percentage": "84"
                                },
                                {
                                    "Release_Period": "07_2020",
                                    "Measure_ID": "H_COMP_2",
                                    "Top_box_Percentage": "83"
                                },
                                {
                                    "Release_Period": "07_2020",
                                    "Measure_ID": "H_COMP_3",
                                    "Top_box_Percentage": "74"
                                },
                                {
                                    "Release_Period": "07_2020",
                                    "Measure_ID": "H_COMP_5",
                                    "Top_box_Percentage": "70"
                                },
                                {
                                    "Release_Period": "07_2020",
                                    "Measure_ID": "H_COMP_6",
                                    "Top_box_Percentage": "90"
                                },
                                {
                                    "Release_Period": "07_2020",
                                    "Measure_ID": "H_COMP_7",
                                    "Top_box_Percentage": "58"
                                },
                                {
                                    "Release_Period": "07_2020",
                                    "Measure_ID": "H_HSP_RATING",
                                    "Top_box_Percentage": "78"
                                },
                                {
                                    "Release_Period": "07_2020",
                                    "Measure_ID": "H_QUIET_HSP",
                                    "Top_box_Percentage": "65"
                                },
                                {
                                    "Release_Period": "07_2020",
                                    "Measure_ID": "H_RECMND",
                                    "Top_box_Percentage": "76"
                                },
                                {
                                    "Release_Period": "07_2021",
                                    "Measure_ID": "H_CLEAN_HSP",
                                    "Top_box_Percentage": "80"
                                },
                                {
                                    "Release_Period": "07_2021",
                                    "Measure_ID": "H_COMP_1",
                                    "Top_box_Percentage": "84"
                                },
                                {
                                    "Release_Period": "07_2021",
                                    "Measure_ID": "H_COMP_2",
                                    "Top_box_Percentage": "83"
                                },
                                {
                                    "Release_Period": "07_2021",
                                    "Measure_ID": "H_COMP_3",
                                    "Top_box_Percentage": "74"
                                },
                                {
                                    "Release_Period": "07_2021",
                                    "Measure_ID": "H_COMP_5",
                                    "Top_box_Percentage": "70"
                                },
                                {
                                    "Release_Period": "07_2021",
                                    "Measure_ID": "H_COMP_6",
                                    "Top_box_Percentage": "90"
                                },
                                {
                                    "Release_Period": "07_2021",
                                    "Measure_ID": "H_COMP_7",
                                    "Top_box_Percentage": "58"
                                },
                                {
                                    "Release_Period": "07_2021",
                                    "Measure_ID": "H_HSP_RATING",
                                    "Top_box_Percentage": "78"
                                },
                                {
                                    "Release_Period": "07_2021",
                                    "Measure_ID": "H_QUIET_HSP",
                                    "Top_box_Percentage": "65"
                                },
                                {
                                    "Release_Period": "07_2021",
                                    "Measure_ID": "H_RECMND",
                                    "Top_box_Percentage": "76"
                                },
                                {
                                    "Release_Period": "07_2022",
                                    "Measure_ID": "H_CLEAN_HSP",
                                    "Top_box_Percentage": "77"
                                },
                                {
                                    "Release_Period": "07_2022",
                                    "Measure_ID": "H_COMP_1",
                                    "Top_box_Percentage": "83"
                                },
                                {
                                    "Release_Period": "07_2022",
                                    "Measure_ID": "H_COMP_2",
                                    "Top_box_Percentage": "82"
                                },
                                {
                                    "Release_Period": "07_2022",
                                    "Measure_ID": "H_COMP_3",
                                    "Top_box_Percentage": "71"
                                },
                                {
                                    "Release_Period": "07_2022",
                                    "Measure_ID": "H_COMP_5",
                                    "Top_box_Percentage": "66"
                                },
                                {
                                    "Release_Period": "07_2022",
                                    "Measure_ID": "H_COMP_6",
                                    "Top_box_Percentage": "90"
                                },
                                {
                                    "Release_Period": "07_2022",
                                    "Measure_ID": "H_COMP_7",
                                    "Top_box_Percentage": "56"
                                },
                                {
                                    "Release_Period": "07_2022",
                                    "Measure_ID": "H_HSP_RATING",
                                    "Top_box_Percentage": "76"
                                },
                                {
                                    "Release_Period": "07_2022",
                                    "Measure_ID": "H_QUIET_HSP",
                                    "Top_box_Percentage": "67"
                                },
                                {
                                    "Release_Period": "07_2022",
                                    "Measure_ID": "H_RECMND",
                                    "Top_box_Percentage": "74"
                                },
                                {
                                    "Release_Period": "07_2023",
                                    "Measure_ID": "H_CLEAN_HSP",
                                    "Top_box_Percentage": "76"
                                },
                                {
                                    "Release_Period": "07_2023",
                                    "Measure_ID": "H_COMP_1",
                                    "Top_box_Percentage": "82"
                                },
                                {
                                    "Release_Period": "07_2023",
                                    "Measure_ID": "H_COMP_2",
                                    "Top_box_Percentage": "81"
                                },
                                {
                                    "Release_Period": "07_2023",
                                    "Measure_ID": "H_COMP_3",
                                    "Top_box_Percentage": "69"
                                },
                                {
                                    "Release_Period": "07_2023",
                                    "Measure_ID": "H_COMP_5",
                                    "Top_box_Percentage": "65"
                                },
                                {
                                    "Release_Period": "07_2023",
                                    "Measure_ID": "H_COMP_6",
                                    "Top_box_Percentage": "89"
                                },
                                {
                                    "Release_Period": "07_2023",
                                    "Measure_ID": "H_COMP_7",
                                    "Top_box_Percentage": "55"
                                },
                                {
                                    "Release_Period": "07_2023",
                                    "Measure_ID": "H_HSP_RATING",
                                    "Top_box_Percentage": "75"
                                },
                                {
                                    "Release_Period": "07_2023",
                                    "Measure_ID": "H_QUIET_HSP",
                                    "Top_box_Percentage": "65"
                                },
                                {
                                    "Release_Period": "07_2023",
                                    "Measure_ID": "H_RECMND",
                                    "Top_box_Percentage": "72"
                                }
                            ]
                        },
                        "text/html": "<table><tr><th>Release_Period</th><th>Measure_ID</th><th>Top_box_Percentage</th></tr><tr><td>07_2015</td><td>H_CLEAN_HSP</td><td>80</td></tr><tr><td>07_2015</td><td>H_COMP_1</td><td>83</td></tr><tr><td>07_2015</td><td>H_COMP_2</td><td>84</td></tr><tr><td>07_2015</td><td>H_COMP_3</td><td>73</td></tr><tr><td>07_2015</td><td>H_COMP_5</td><td>69</td></tr><tr><td>07_2015</td><td>H_COMP_6</td><td>90</td></tr><tr><td>07_2015</td><td>H_COMP_7</td><td>56</td></tr><tr><td>07_2015</td><td>H_HSP_RATING</td><td>76</td></tr><tr><td>07_2015</td><td>H_QUIET_HSP</td><td>65</td></tr><tr><td>07_2015</td><td>H_RECMND</td><td>75</td></tr><tr><td>07_2016</td><td>H_CLEAN_HSP</td><td>79</td></tr><tr><td>07_2016</td><td>H_COMP_1</td><td>82</td></tr><tr><td>07_2016</td><td>H_COMP_2</td><td>83</td></tr><tr><td>07_2016</td><td>H_COMP_3</td><td>73</td></tr><tr><td>07_2016</td><td>H_COMP_5</td><td>68</td></tr><tr><td>07_2016</td><td>H_COMP_6</td><td>90</td></tr><tr><td>07_2016</td><td>H_COMP_7</td><td>56</td></tr><tr><td>07_2016</td><td>H_HSP_RATING</td><td>76</td></tr><tr><td>07_2016</td><td>H_QUIET_HSP</td><td>65</td></tr><tr><td>07_2016</td><td>H_RECMND</td><td>75</td></tr><tr><td>07_2017</td><td>H_CLEAN_HSP</td><td>80</td></tr><tr><td>07_2017</td><td>H_COMP_1</td><td>83</td></tr><tr><td>07_2017</td><td>H_COMP_2</td><td>84</td></tr><tr><td>07_2017</td><td>H_COMP_3</td><td>74</td></tr><tr><td>07_2017</td><td>H_COMP_5</td><td>69</td></tr><tr><td>07_2017</td><td>H_COMP_6</td><td>90</td></tr><tr><td>07_2017</td><td>H_COMP_7</td><td>57</td></tr><tr><td>07_2017</td><td>H_HSP_RATING</td><td>78</td></tr><tr><td>07_2017</td><td>H_QUIET_HSP</td><td>65</td></tr><tr><td>07_2017</td><td>H_RECMND</td><td>76</td></tr><tr><td>07_2018</td><td>H_CLEAN_HSP</td><td>80</td></tr><tr><td>07_2018</td><td>H_COMP_1</td><td>84</td></tr><tr><td>07_2018</td><td>H_COMP_2</td><td>84</td></tr><tr><td>07_2018</td><td>H_COMP_3</td><td>74</td></tr><tr><td>07_2018</td><td>H_COMP_5</td><td>69</td></tr><tr><td>07_2018</td><td>H_COMP_6</td><td>90</td></tr><tr><td>07_2018</td><td>H_COMP_7</td><td>57</td></tr><tr><td>07_2018</td><td>H_HSP_RATING</td><td>78</td></tr><tr><td>07_2018</td><td>H_QUIET_HSP</td><td>66</td></tr><tr><td>07_2018</td><td>H_RECMND</td><td>76</td></tr><tr><td>07_2019</td><td>H_CLEAN_HSP</td><td>80</td></tr><tr><td>07_2019</td><td>H_COMP_1</td><td>83</td></tr><tr><td>07_2019</td><td>H_COMP_2</td><td>84</td></tr><tr><td>07_2019</td><td>H_COMP_3</td><td>74</td></tr><tr><td>07_2019</td><td>H_COMP_5</td><td>69</td></tr><tr><td>07_2019</td><td>H_COMP_6</td><td>90</td></tr><tr><td>07_2019</td><td>H_COMP_7</td><td>57</td></tr><tr><td>07_2019</td><td>H_HSP_RATING</td><td>78</td></tr><tr><td>07_2019</td><td>H_QUIET_HSP</td><td>66</td></tr><tr><td>07_2019</td><td>H_RECMND</td><td>76</td></tr><tr><td>07_2020</td><td>H_CLEAN_HSP</td><td>80</td></tr><tr><td>07_2020</td><td>H_COMP_1</td><td>84</td></tr><tr><td>07_2020</td><td>H_COMP_2</td><td>83</td></tr><tr><td>07_2020</td><td>H_COMP_3</td><td>74</td></tr><tr><td>07_2020</td><td>H_COMP_5</td><td>70</td></tr><tr><td>07_2020</td><td>H_COMP_6</td><td>90</td></tr><tr><td>07_2020</td><td>H_COMP_7</td><td>58</td></tr><tr><td>07_2020</td><td>H_HSP_RATING</td><td>78</td></tr><tr><td>07_2020</td><td>H_QUIET_HSP</td><td>65</td></tr><tr><td>07_2020</td><td>H_RECMND</td><td>76</td></tr><tr><td>07_2021</td><td>H_CLEAN_HSP</td><td>80</td></tr><tr><td>07_2021</td><td>H_COMP_1</td><td>84</td></tr><tr><td>07_2021</td><td>H_COMP_2</td><td>83</td></tr><tr><td>07_2021</td><td>H_COMP_3</td><td>74</td></tr><tr><td>07_2021</td><td>H_COMP_5</td><td>70</td></tr><tr><td>07_2021</td><td>H_COMP_6</td><td>90</td></tr><tr><td>07_2021</td><td>H_COMP_7</td><td>58</td></tr><tr><td>07_2021</td><td>H_HSP_RATING</td><td>78</td></tr><tr><td>07_2021</td><td>H_QUIET_HSP</td><td>65</td></tr><tr><td>07_2021</td><td>H_RECMND</td><td>76</td></tr><tr><td>07_2022</td><td>H_CLEAN_HSP</td><td>77</td></tr><tr><td>07_2022</td><td>H_COMP_1</td><td>83</td></tr><tr><td>07_2022</td><td>H_COMP_2</td><td>82</td></tr><tr><td>07_2022</td><td>H_COMP_3</td><td>71</td></tr><tr><td>07_2022</td><td>H_COMP_5</td><td>66</td></tr><tr><td>07_2022</td><td>H_COMP_6</td><td>90</td></tr><tr><td>07_2022</td><td>H_COMP_7</td><td>56</td></tr><tr><td>07_2022</td><td>H_HSP_RATING</td><td>76</td></tr><tr><td>07_2022</td><td>H_QUIET_HSP</td><td>67</td></tr><tr><td>07_2022</td><td>H_RECMND</td><td>74</td></tr><tr><td>07_2023</td><td>H_CLEAN_HSP</td><td>76</td></tr><tr><td>07_2023</td><td>H_COMP_1</td><td>82</td></tr><tr><td>07_2023</td><td>H_COMP_2</td><td>81</td></tr><tr><td>07_2023</td><td>H_COMP_3</td><td>69</td></tr><tr><td>07_2023</td><td>H_COMP_5</td><td>65</td></tr><tr><td>07_2023</td><td>H_COMP_6</td><td>89</td></tr><tr><td>07_2023</td><td>H_COMP_7</td><td>55</td></tr><tr><td>07_2023</td><td>H_HSP_RATING</td><td>75</td></tr><tr><td>07_2023</td><td>H_QUIET_HSP</td><td>65</td></tr><tr><td>07_2023</td><td>H_RECMND</td><td>72</td></tr></table>"
                    },
                    "metadata": {}
                }
            ],
            "execution_count": 41
        },
        {
            "cell_type": "code",
            "source": [
                "\r\n",
                "\t\t\t-- TOP 3 states with the best hospital ratings each year\r\n",
                "\t        -- See the state names and not Abbreviations so lets join the states table\r\n",
                "\r\n",
                "\tSELECT [Year], State_Name, Top_box_Percentage\r\n",
                "\tFROM\r\n",
                "\t\t(\r\n",
                "\t\tSELECT YEAR(End_Date) as Year\r\n",
                "\t\t\t\t,State_Name\r\n",
                "\t\t\t\t,Bottom_box_Percentage\r\n",
                "\t\t\t\t,Middle_box_Percentage\r\n",
                "\t\t\t\t,Top_box_Percentage\r\n",
                "\t\t\t\t,ROW_NUMBER() OVER (PARTITION BY YEAR(End_Date) ORDER BY Top_box_Percentage desc) rownum\r\n",
                "\t\tFROM reports r\r\n",
                "        JOIN state_results sr\r\n",
                "            ON sr.Release_Period = r.Release_Period\r\n",
                "\t\tJOIN states s\r\n",
                "\t\t\tON sr.State = s.State\r\n",
                "\t\t) sub\r\n",
                "\tWHERE rownum <= 3\r\n",
                "\tORDER BY 1"
            ],
            "metadata": {
                "azdata_cell_guid": "74e24450-a665-40cb-a060-226af0cddd41",
                "language": "sql"
            },
            "outputs": [
                {
                    "output_type": "display_data",
                    "data": {
                        "text/html": "(27 rows affected)"
                    },
                    "metadata": {}
                },
                {
                    "output_type": "display_data",
                    "data": {
                        "text/html": "Total execution time: 00:00:00.207"
                    },
                    "metadata": {}
                },
                {
                    "output_type": "execute_result",
                    "execution_count": 42,
                    "data": {
                        "application/vnd.dataresource+json": {
                            "schema": {
                                "fields": [
                                    {
                                        "name": "Year"
                                    },
                                    {
                                        "name": "State_Name"
                                    },
                                    {
                                        "name": "Top_box_Percentage"
                                    }
                                ]
                            },
                            "data": [
                                {
                                    "Year": "2014",
                                    "State_Name": "Wisconsin",
                                    "Top_box_Percentage": "90"
                                },
                                {
                                    "Year": "2014",
                                    "State_Name": "Vermont",
                                    "Top_box_Percentage": "89"
                                },
                                {
                                    "Year": "2014",
                                    "State_Name": "Utah",
                                    "Top_box_Percentage": "89"
                                },
                                {
                                    "Year": "2015",
                                    "State_Name": "Alaska",
                                    "Top_box_Percentage": "91"
                                },
                                {
                                    "Year": "2015",
                                    "State_Name": "New Hampshire",
                                    "Top_box_Percentage": "90"
                                },
                                {
                                    "Year": "2015",
                                    "State_Name": "Utah",
                                    "Top_box_Percentage": "90"
                                },
                                {
                                    "Year": "2016",
                                    "State_Name": "Vermont",
                                    "Top_box_Percentage": "91"
                                },
                                {
                                    "Year": "2016",
                                    "State_Name": "Wisconsin",
                                    "Top_box_Percentage": "90"
                                },
                                {
                                    "Year": "2016",
                                    "State_Name": "South Dakota",
                                    "Top_box_Percentage": "90"
                                },
                                {
                                    "Year": "2017",
                                    "State_Name": "Idaho",
                                    "Top_box_Percentage": "91"
                                },
                                {
                                    "Year": "2017",
                                    "State_Name": "Vermont",
                                    "Top_box_Percentage": "91"
                                },
                                {
                                    "Year": "2017",
                                    "State_Name": "Wisconsin",
                                    "Top_box_Percentage": "90"
                                },
                                {
                                    "Year": "2018",
                                    "State_Name": "Vermont",
                                    "Top_box_Percentage": "90"
                                },
                                {
                                    "Year": "2018",
                                    "State_Name": "Wisconsin",
                                    "Top_box_Percentage": "90"
                                },
                                {
                                    "Year": "2018",
                                    "State_Name": "Massachusetts",
                                    "Top_box_Percentage": "89"
                                },
                                {
                                    "Year": "2019",
                                    "State_Name": "New Hampshire",
                                    "Top_box_Percentage": "90"
                                },
                                {
                                    "Year": "2019",
                                    "State_Name": "Vermont",
                                    "Top_box_Percentage": "90"
                                },
                                {
                                    "Year": "2019",
                                    "State_Name": "Wisconsin",
                                    "Top_box_Percentage": "90"
                                },
                                {
                                    "Year": "2020",
                                    "State_Name": "Vermont",
                                    "Top_box_Percentage": "91"
                                },
                                {
                                    "Year": "2020",
                                    "State_Name": "Wisconsin",
                                    "Top_box_Percentage": "90"
                                },
                                {
                                    "Year": "2020",
                                    "State_Name": "Idaho",
                                    "Top_box_Percentage": "90"
                                },
                                {
                                    "Year": "2021",
                                    "State_Name": "Vermont",
                                    "Top_box_Percentage": "90"
                                },
                                {
                                    "Year": "2021",
                                    "State_Name": "Wisconsin",
                                    "Top_box_Percentage": "90"
                                },
                                {
                                    "Year": "2021",
                                    "State_Name": "Utah",
                                    "Top_box_Percentage": "89"
                                },
                                {
                                    "Year": "2022",
                                    "State_Name": "Utah",
                                    "Top_box_Percentage": "89"
                                },
                                {
                                    "Year": "2022",
                                    "State_Name": "Wisconsin",
                                    "Top_box_Percentage": "89"
                                },
                                {
                                    "Year": "2022",
                                    "State_Name": "Vermont",
                                    "Top_box_Percentage": "88"
                                }
                            ]
                        },
                        "text/html": "<table><tr><th>Year</th><th>State_Name</th><th>Top_box_Percentage</th></tr><tr><td>2014</td><td>Wisconsin</td><td>90</td></tr><tr><td>2014</td><td>Vermont</td><td>89</td></tr><tr><td>2014</td><td>Utah</td><td>89</td></tr><tr><td>2015</td><td>Alaska</td><td>91</td></tr><tr><td>2015</td><td>New Hampshire</td><td>90</td></tr><tr><td>2015</td><td>Utah</td><td>90</td></tr><tr><td>2016</td><td>Vermont</td><td>91</td></tr><tr><td>2016</td><td>Wisconsin</td><td>90</td></tr><tr><td>2016</td><td>South Dakota</td><td>90</td></tr><tr><td>2017</td><td>Idaho</td><td>91</td></tr><tr><td>2017</td><td>Vermont</td><td>91</td></tr><tr><td>2017</td><td>Wisconsin</td><td>90</td></tr><tr><td>2018</td><td>Vermont</td><td>90</td></tr><tr><td>2018</td><td>Wisconsin</td><td>90</td></tr><tr><td>2018</td><td>Massachusetts</td><td>89</td></tr><tr><td>2019</td><td>New Hampshire</td><td>90</td></tr><tr><td>2019</td><td>Vermont</td><td>90</td></tr><tr><td>2019</td><td>Wisconsin</td><td>90</td></tr><tr><td>2020</td><td>Vermont</td><td>91</td></tr><tr><td>2020</td><td>Wisconsin</td><td>90</td></tr><tr><td>2020</td><td>Idaho</td><td>90</td></tr><tr><td>2021</td><td>Vermont</td><td>90</td></tr><tr><td>2021</td><td>Wisconsin</td><td>90</td></tr><tr><td>2021</td><td>Utah</td><td>89</td></tr><tr><td>2022</td><td>Utah</td><td>89</td></tr><tr><td>2022</td><td>Wisconsin</td><td>89</td></tr><tr><td>2022</td><td>Vermont</td><td>88</td></tr></table>"
                    },
                    "metadata": {}
                }
            ],
            "execution_count": 42
        },
        {
            "cell_type": "code",
            "source": [
                "\r\n",
                "\t\t\t--- Bottom 3 states with positive hospital ratings each year\r\n",
                "\t        -- See the state names and not Abbreviations so lets join the states table\r\n",
                "\r\n",
                "\tSELECT [YEAR], State_Name, Top_box_Percentage\r\n",
                "\tFROM\r\n",
                "\t\t(\r\n",
                "\t\tSELECT YEAR(End_Date) as YEAR\r\n",
                "\t\t\t\t,State_Name\r\n",
                "\t\t\t\t,Bottom_box_Percentage\r\n",
                "\t\t\t\t,Middle_box_Percentage\r\n",
                "\t\t\t\t,Top_box_Percentage,\r\n",
                "\t\t\t\tROW_NUMBER() OVER (PARTITION BY YEAR(End_Date) ORDER BY Top_box_Percentage asc) rownum\r\n",
                "\t\tFROM reports r\r\n",
                "        JOIN state_results sr\r\n",
                "            ON sr.Release_Period = r.Release_Period\r\n",
                "\t\tJOIN states s\r\n",
                "\t\t\tON sr.State = s.State\r\n",
                "\t\tWHERE Measure_ID = 'H_HSP_RATING'\r\n",
                "\t\t) sub\r\n",
                "\tWHERE rownum <= 3\r\n",
                "\tORDER BY 1"
            ],
            "metadata": {
                "azdata_cell_guid": "1d83aaa7-3e6c-49e9-a991-dfb89378c26a",
                "language": "sql",
                "tags": []
            },
            "outputs": [
                {
                    "output_type": "display_data",
                    "data": {
                        "text/html": "(27 rows affected)"
                    },
                    "metadata": {}
                },
                {
                    "output_type": "display_data",
                    "data": {
                        "text/html": "Total execution time: 00:00:00.254"
                    },
                    "metadata": {}
                },
                {
                    "output_type": "execute_result",
                    "execution_count": 43,
                    "data": {
                        "application/vnd.dataresource+json": {
                            "schema": {
                                "fields": [
                                    {
                                        "name": "YEAR"
                                    },
                                    {
                                        "name": "State_Name"
                                    },
                                    {
                                        "name": "Top_box_Percentage"
                                    }
                                ]
                            },
                            "data": [
                                {
                                    "YEAR": "2014",
                                    "State_Name": "District of Columbia",
                                    "Top_box_Percentage": "58"
                                },
                                {
                                    "YEAR": "2014",
                                    "State_Name": "New York",
                                    "Top_box_Percentage": "64"
                                },
                                {
                                    "YEAR": "2014",
                                    "State_Name": "New Jersey",
                                    "Top_box_Percentage": "65"
                                },
                                {
                                    "YEAR": "2015",
                                    "State_Name": "District of Columbia",
                                    "Top_box_Percentage": "58"
                                },
                                {
                                    "YEAR": "2015",
                                    "State_Name": "New Jersey",
                                    "Top_box_Percentage": "64"
                                },
                                {
                                    "YEAR": "2015",
                                    "State_Name": "New York",
                                    "Top_box_Percentage": "64"
                                },
                                {
                                    "YEAR": "2016",
                                    "State_Name": "District of Columbia",
                                    "Top_box_Percentage": "58"
                                },
                                {
                                    "YEAR": "2016",
                                    "State_Name": "Nevada",
                                    "Top_box_Percentage": "64"
                                },
                                {
                                    "YEAR": "2016",
                                    "State_Name": "New York",
                                    "Top_box_Percentage": "65"
                                },
                                {
                                    "YEAR": "2017",
                                    "State_Name": "District of Columbia",
                                    "Top_box_Percentage": "62"
                                },
                                {
                                    "YEAR": "2017",
                                    "State_Name": "New York",
                                    "Top_box_Percentage": "65"
                                },
                                {
                                    "YEAR": "2017",
                                    "State_Name": "Nevada",
                                    "Top_box_Percentage": "67"
                                },
                                {
                                    "YEAR": "2018",
                                    "State_Name": "District of Columbia",
                                    "Top_box_Percentage": "61"
                                },
                                {
                                    "YEAR": "2018",
                                    "State_Name": "Alaska",
                                    "Top_box_Percentage": "64"
                                },
                                {
                                    "YEAR": "2018",
                                    "State_Name": "Maryland",
                                    "Top_box_Percentage": "65"
                                },
                                {
                                    "YEAR": "2019",
                                    "State_Name": "District of Columbia",
                                    "Top_box_Percentage": "61"
                                },
                                {
                                    "YEAR": "2019",
                                    "State_Name": "New Jersey",
                                    "Top_box_Percentage": "65"
                                },
                                {
                                    "YEAR": "2019",
                                    "State_Name": "New York",
                                    "Top_box_Percentage": "66"
                                },
                                {
                                    "YEAR": "2020",
                                    "State_Name": "District of Columbia",
                                    "Top_box_Percentage": "62"
                                },
                                {
                                    "YEAR": "2020",
                                    "State_Name": "Maryland",
                                    "Top_box_Percentage": "66"
                                },
                                {
                                    "YEAR": "2020",
                                    "State_Name": "New Jersey",
                                    "Top_box_Percentage": "66"
                                },
                                {
                                    "YEAR": "2021",
                                    "State_Name": "District of Columbia",
                                    "Top_box_Percentage": "63"
                                },
                                {
                                    "YEAR": "2021",
                                    "State_Name": "Maryland",
                                    "Top_box_Percentage": "65"
                                },
                                {
                                    "YEAR": "2021",
                                    "State_Name": "New Jersey",
                                    "Top_box_Percentage": "65"
                                },
                                {
                                    "YEAR": "2022",
                                    "State_Name": "District of Columbia",
                                    "Top_box_Percentage": "59"
                                },
                                {
                                    "YEAR": "2022",
                                    "State_Name": "New York",
                                    "Top_box_Percentage": "62"
                                },
                                {
                                    "YEAR": "2022",
                                    "State_Name": "New Jersey",
                                    "Top_box_Percentage": "63"
                                }
                            ]
                        },
                        "text/html": "<table><tr><th>YEAR</th><th>State_Name</th><th>Top_box_Percentage</th></tr><tr><td>2014</td><td>District of Columbia</td><td>58</td></tr><tr><td>2014</td><td>New York</td><td>64</td></tr><tr><td>2014</td><td>New Jersey</td><td>65</td></tr><tr><td>2015</td><td>District of Columbia</td><td>58</td></tr><tr><td>2015</td><td>New Jersey</td><td>64</td></tr><tr><td>2015</td><td>New York</td><td>64</td></tr><tr><td>2016</td><td>District of Columbia</td><td>58</td></tr><tr><td>2016</td><td>Nevada</td><td>64</td></tr><tr><td>2016</td><td>New York</td><td>65</td></tr><tr><td>2017</td><td>District of Columbia</td><td>62</td></tr><tr><td>2017</td><td>New York</td><td>65</td></tr><tr><td>2017</td><td>Nevada</td><td>67</td></tr><tr><td>2018</td><td>District of Columbia</td><td>61</td></tr><tr><td>2018</td><td>Alaska</td><td>64</td></tr><tr><td>2018</td><td>Maryland</td><td>65</td></tr><tr><td>2019</td><td>District of Columbia</td><td>61</td></tr><tr><td>2019</td><td>New Jersey</td><td>65</td></tr><tr><td>2019</td><td>New York</td><td>66</td></tr><tr><td>2020</td><td>District of Columbia</td><td>62</td></tr><tr><td>2020</td><td>Maryland</td><td>66</td></tr><tr><td>2020</td><td>New Jersey</td><td>66</td></tr><tr><td>2021</td><td>District of Columbia</td><td>63</td></tr><tr><td>2021</td><td>Maryland</td><td>65</td></tr><tr><td>2021</td><td>New Jersey</td><td>65</td></tr><tr><td>2022</td><td>District of Columbia</td><td>59</td></tr><tr><td>2022</td><td>New York</td><td>62</td></tr><tr><td>2022</td><td>New Jersey</td><td>63</td></tr></table>"
                    },
                    "metadata": {}
                }
            ],
            "execution_count": 43
        }
    ]
}